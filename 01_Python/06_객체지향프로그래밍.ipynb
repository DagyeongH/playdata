{
 "cells": [
  {
   "cell_type": "markdown",
   "metadata": {
    "slideshow": {
     "slide_type": "slide"
    }
   },
   "source": [
    "# 객체지향 프로그래밍 (Object Oriented Programming)\n",
    "\n",
    "프로그램을 구성하는 변수와 함수들에서 서로 연관성있는 것 끼리 묶어서 모듈화하는 개발하는 언어들을 객체지향프로그래밍 언어라고 한다."
   ]
  },
  {
   "cell_type": "markdown",
   "metadata": {
    "slideshow": {
     "slide_type": "fragment"
    }
   },
   "source": [
    "# Instance(객체)\n",
    "- 연관성 있는 값들과 그 값들을 처리하는 함수(메소드)들을 묶어서 가지고 있는 것(값).\n",
    "- 객체의 구성요소\n",
    "    - 속성(Attribute)\n",
    "        - 객체의 데이터/상태로 객체를 구성하는 값들.\n",
    "    - 메소드(method)\n",
    "        - 객체가 제공하는 기능으로 주로 Attribute들을 처리한다.\n",
    "        "
   ]
  },
  {
   "cell_type": "markdown",
   "metadata": {
    "slideshow": {
     "slide_type": "subslide"
    }
   },
   "source": [
    "## Class(클래스) 정의\n",
    "\n",
    "- class란: 객체의 설계도\n",
    "    - 동일한 형태의 객체들이 가져야 하는 Attribute와 Method들을 정의 한 것\n",
    "        - 클래스를 정의할 때 어떤 속성과 메소드를 가지는지 먼저 설계해야 한다.\n",
    "    - 클래스로 부터 객체(instance)를 생성한 뒤 사용한다.\n",
    "```python\n",
    "class 클래스이름:  #선언부\n",
    "    #클래스 구현\n",
    "    #메소드들을 정의\n",
    "```\n",
    "- 클래스 이름의 관례: 파스칼 표기법-각 단어의 첫글자는 대문자 나머진 소문자로 정의한다.\n",
    "    - ex) Person, Student, HighSchoolStudent\n",
    "    "
   ]
  },
  {
   "cell_type": "markdown",
   "metadata": {
    "slideshow": {
     "slide_type": "fragment"
    }
   },
   "source": [
    "## 클래스로부터 객체(Instance) 생성\n",
    "- 클래스는 데이터 타입 instance는 값이다.\n",
    "\n",
    "```python\n",
    "변수 = 클래스이름()\n",
    "```"
   ]
  },
  {
   "cell_type": "code",
   "execution_count": 1,
   "metadata": {},
   "outputs": [],
   "source": [
    "class Person:\n",
    "    pass"
   ]
  },
  {
   "cell_type": "code",
   "execution_count": 2,
   "metadata": {},
   "outputs": [],
   "source": [
    "# instance: 값, class: Data Type\n",
    "p = Person()  # instance 생성"
   ]
  },
  {
   "cell_type": "code",
   "execution_count": 4,
   "metadata": {},
   "outputs": [
    {
     "name": "stdout",
     "output_type": "stream",
     "text": [
      "<class '__main__.Person'>\n"
     ]
    },
    {
     "data": {
      "text/plain": [
       "__main__.Person"
      ]
     },
     "execution_count": 4,
     "metadata": {},
     "output_type": "execute_result"
    }
   ],
   "source": [
    "print(type(p))\n",
    "type(p)"
   ]
  },
  {
   "cell_type": "code",
   "execution_count": 5,
   "metadata": {},
   "outputs": [
    {
     "name": "stdout",
     "output_type": "stream",
     "text": [
      "<class 'int'> <class 'float'> <class 'str'> <class 'type'> <class 'list'>\n"
     ]
    }
   ],
   "source": [
    "print(type(30), type(3.2), type('aaa'), type(bool), type([1, 2]))"
   ]
  },
  {
   "cell_type": "markdown",
   "metadata": {
    "slideshow": {
     "slide_type": "subslide"
    }
   },
   "source": [
    "## Attribute(속성) \n",
    "- attribute는 객체의 데이터, 객체가 가지는 값, 객체의 상태\n",
    "\n",
    "### 객체에 속성을 추가, 조회\n",
    "- 객체의 속성 추가(값 변경)\n",
    "    1. Initializer(생성자)를 통한 추가\n",
    "    2. 객체.속성명 = 값 (추가/변경)\n",
    "    3. 메소드를 통한 추가/변경\n",
    "    - 1(Initializer)은 초기화할 때. 2, 3은 속성값을 변경할 때 적용.\n",
    "- 속성 값 조회\n",
    "    - 객체.속성명\n",
    "- **객체.\\_\\_dict\\_\\_**\n",
    "    - 객체가 가지고 있는 Attribute들을 dictionary로 반환한다."
   ]
  },
  {
   "cell_type": "code",
   "execution_count": 8,
   "metadata": {},
   "outputs": [
    {
     "name": "stdout",
     "output_type": "stream",
     "text": [
      "{}\n",
      "{'name': '홍길동', 'age': 30, 'address': '서울', 'tall': 182.3}\n"
     ]
    }
   ],
   "source": [
    "p = Person()  # 객체 생성 및 변수에 할당\n",
    "print(p.__dict__)  # 객체가 가진 속성들을 조회 \n",
    "# 속성값들을 추가\n",
    "p.name = '홍길동'\n",
    "p.age = 30\n",
    "p.address = '서울'\n",
    "p.tall = 182.3\n",
    "\n",
    "print(p.__dict__)"
   ]
  },
  {
   "cell_type": "code",
   "execution_count": 10,
   "metadata": {},
   "outputs": [
    {
     "name": "stdout",
     "output_type": "stream",
     "text": [
      "홍길동\n",
      "30 80\n",
      "서울\n",
      "182.3\n"
     ]
    },
    {
     "data": {
      "text/plain": [
       "'홍길동은 30세이고, 서울에 살고 있습니다.'"
      ]
     },
     "execution_count": 10,
     "metadata": {},
     "output_type": "execute_result"
    }
   ],
   "source": [
    "# 속성값들을 조회\n",
    "print(p.name)\n",
    "print(p.age, p.age+50)\n",
    "print(p.address)\n",
    "print(p.tall)\n",
    "f'{p.name}은 {p.age}세이고, {p.address}에 살고 있습니다.'"
   ]
  },
  {
   "cell_type": "code",
   "execution_count": 17,
   "metadata": {},
   "outputs": [
    {
     "name": "stdout",
     "output_type": "stream",
     "text": [
      "{}\n",
      "{'name': '유재석', 'age': 40, 'address': '인천', 'email': 'a@A.com'}\n"
     ]
    }
   ],
   "source": [
    "p2 = Person()  # Person instance를 생성해서 p2에 대입\n",
    "print(p2.__dict__)\n",
    "\n",
    "p2.name = '유재석'\n",
    "p2.age = 40\n",
    "p2.address = '인천'\n",
    "p2.email = 'a@A.com'\n",
    "\n",
    "print(p2.__dict__)"
   ]
  },
  {
   "cell_type": "code",
   "execution_count": 19,
   "metadata": {},
   "outputs": [
    {
     "name": "stdout",
     "output_type": "stream",
     "text": [
      "40 유재석 인천 a@A.com\n"
     ]
    }
   ],
   "source": [
    "print(p2.age, p2.name, p2.address, p2.email)\n",
    "# print(p2.tall)"
   ]
  },
  {
   "cell_type": "code",
   "execution_count": 22,
   "metadata": {},
   "outputs": [
    {
     "name": "stdout",
     "output_type": "stream",
     "text": [
      "{'name': '홍길동', 'age': 30, 'address': '서울', 'tall': 182.3}\n",
      "{'name': '유재석', 'age': 40, 'address': '인천', 'email': 'a@A.com'}\n"
     ]
    }
   ],
   "source": [
    "p.name, p2.name\n",
    "print(p.__dict__)\n",
    "print(p2.__dict__)"
   ]
  },
  {
   "cell_type": "markdown",
   "metadata": {
    "slideshow": {
     "slide_type": "subslide"
    }
   },
   "source": [
    "### 생성자(Initializer)\n",
    "- 객체를 생성할 때 호출되는 특수메소드로 attribute들 초기화에 하는 코드를 구현한다.\n",
    "    - Inializer를 이용해 초기화하는 Attribute들이 그 클래스의 객체들이 가져야 하는 공통 Attribute가 된다.\n",
    "- 구문\n",
    "```python\n",
    "def __init__(self [,매개변수들 선언]):  #[ ] 옵션.\n",
    "    # 구현 -> attribute(instance변수) 초기화\n",
    "    self.속성명 = 값\n",
    "```\n",
    "> 변수 초기화: 처음 변수 만들어서 처음 값 대입.    "
   ]
  },
  {
   "cell_type": "markdown",
   "metadata": {
    "slideshow": {
     "slide_type": "fragment"
    }
   },
   "source": [
    "### self  parameter\n",
    "- 메소드는 반드시 한개 이상의 parameter를 선언해야 하고 그 첫번째 parameter를 말한다.\n",
    "- 메소드 호출시 그 메소드를 소유한 instance가 self parameter에 할당된다.\n",
    "- Initializer의 self\n",
    "    - 현재 만들어 지고 있는 객체를 받는다.\n",
    "- 메소드의 self\n",
    "    - 메소드를 소유한 객체를 받는다.\n",
    "- Caller에서 생성자/메소드에 전달된 argument들을 받을 parameter는 두번째 변수부터 선언한다.    "
   ]
  },
  {
   "cell_type": "code",
   "execution_count": 23,
   "metadata": {
    "slideshow": {
     "slide_type": "fragment"
    }
   },
   "outputs": [],
   "source": [
    "# initializer를 이용해서 attribute(객체 변수)를 초기화\n",
    "\n",
    "class Person:\n",
    "    \n",
    "    # initializer\n",
    "    def __init__(self, name, age, address=None):   # , *args, **kwargs\n",
    "        '''\n",
    "        파라미터로 name, age, address를 받아서 (객체가 생성되는 시점)\n",
    "        그 값들을 attribute로 저장\n",
    "        '''\n",
    "        # 메소드에서 attribute\n",
    "        self.name = name\n",
    "        self.age = age  # self.age -> age 속성, age: parameter 변수\n",
    "        self.address = address  \n",
    "        self.email = None"
   ]
  },
  {
   "cell_type": "code",
   "execution_count": 33,
   "metadata": {},
   "outputs": [],
   "source": [
    "# 객체 생성: class이름(변수1대입할 값, 변수2대입할 값) ==> __init__(self, 변수1, 변수2) 호출\n",
    "p = Person('박명수', 33, '부산')  # '박명수' -> name, 33 -> age, '부산' -> address"
   ]
  },
  {
   "cell_type": "code",
   "execution_count": 34,
   "metadata": {},
   "outputs": [
    {
     "name": "stdout",
     "output_type": "stream",
     "text": [
      "{'name': '박명수', 'age': 33, 'address': '부산', 'email': None}\n"
     ]
    }
   ],
   "source": [
    "print(p.__dict__)\n",
    "p.tall = 190  # 가능함 but, 좋은 방식은 아님. attribute 초기화는 init을 이용!\n",
    "              # 객체 생성 후 '객체 .변수 = 값'은 기존 attribute의 값을 변경할 때 이용\n",
    "print(p.__dict__)"
   ]
  },
  {
   "cell_type": "code",
   "execution_count": 36,
   "metadata": {},
   "outputs": [],
   "source": [
    "p2 = Person('유재석', 22, '서울')"
   ]
  },
  {
   "cell_type": "markdown",
   "metadata": {
    "slideshow": {
     "slide_type": "subslide"
    }
   },
   "source": [
    "### Instance 메소드(method)\n",
    "- 객체가 제공하는 기능\n",
    "- 객체의 attribute 값을 처리하는 기능을 구현한다.\n",
    "- 구문\n",
    "```python\n",
    "def 이름(self [, 매개변수들 선언]):\n",
    "    # 구현\n",
    "    # attribute 사용(조회/대입)\n",
    "    self.attribute \n",
    "```\n",
    "- self (첫번째 매개변수)\n",
    "    - 메소드를 소유한 객체를 받는 변수\n",
    "    - 호출할 때 전달하는 argument를 받는 매개변수는 두번째 부터 선언한다.\n",
    "![self](images/ch06_01.png)\n",
    "    \n",
    "- **메소드 호출**\n",
    "    - `객체.메소드이름([argument, ...])`"
   ]
  },
  {
   "cell_type": "code",
   "execution_count": 44,
   "metadata": {},
   "outputs": [],
   "source": [
    "class Person:\n",
    "    \n",
    "    def __init__(self, name, age, address=None):\n",
    "        self.name = name\n",
    "        self.age = age\n",
    "        self.address = address\n",
    "        self.email = None\n",
    "    \n",
    "    # 메소드: instance 기능\n",
    "    def print_info(self):  # argument를 안받는 메소드\n",
    "        # person의 attribute값들을 출력\n",
    "        print(f'이름: {self.name}, 나이: {self.age}, 주소: {self.address}, email: {self.email}')\n",
    "              \n",
    "    def add_age(self, age):  # argument가 한 개인 메소드\n",
    "        # 나이를 받아서 attribute age에 더한다\n",
    "        # self.age = self.age + age\n",
    "        self.age += age"
   ]
  },
  {
   "cell_type": "code",
   "execution_count": 57,
   "metadata": {},
   "outputs": [
    {
     "name": "stdout",
     "output_type": "stream",
     "text": [
      "이름: 유재석, 나이: 20, 주소: 서울, email: None\n"
     ]
    }
   ],
   "source": [
    "p1 = Person('유재석', 20, '서울')\n",
    "p1.print_info()"
   ]
  },
  {
   "cell_type": "code",
   "execution_count": 58,
   "metadata": {},
   "outputs": [
    {
     "name": "stdout",
     "output_type": "stream",
     "text": [
      "이름: 유재석, 나이: 20, 주소: 서울, email: None\n",
      "이름: 유재석, 나이: 20, 주소: 서울, email: None\n",
      "이름: 유재석, 나이: 20, 주소: 서울, email: None\n",
      "이름: 유재석, 나이: 20, 주소: 서울, email: 12@saf.com\n"
     ]
    }
   ],
   "source": [
    "p1.print_info()\n",
    "p1.print_info()\n",
    "p1.print_info()\n",
    "p1.email  ='12@saf.com'\n",
    "p1.print_info()"
   ]
  },
  {
   "cell_type": "code",
   "execution_count": 59,
   "metadata": {},
   "outputs": [
    {
     "name": "stdout",
     "output_type": "stream",
     "text": [
      "이름: 유재석, 나이: 20, 주소: 서울, email: 12@saf.com\n"
     ]
    }
   ],
   "source": [
    "p1.print_info()"
   ]
  },
  {
   "cell_type": "code",
   "execution_count": 60,
   "metadata": {},
   "outputs": [],
   "source": [
    "p1.add_age(3)"
   ]
  },
  {
   "cell_type": "code",
   "execution_count": 61,
   "metadata": {},
   "outputs": [
    {
     "name": "stdout",
     "output_type": "stream",
     "text": [
      "이름: 유재석, 나이: 23, 주소: 서울, email: 12@saf.com\n"
     ]
    }
   ],
   "source": [
    "p1.print_info()"
   ]
  },
  {
   "cell_type": "code",
   "execution_count": null,
   "metadata": {},
   "outputs": [],
   "source": []
  },
  {
   "cell_type": "code",
   "execution_count": 62,
   "metadata": {},
   "outputs": [
    {
     "data": {
      "text/plain": [
       "'A B C'"
      ]
     },
     "execution_count": 62,
     "metadata": {},
     "output_type": "execute_result"
    }
   ],
   "source": [
    "'a b c d'.split()\n",
    "'a b c'.upper()"
   ]
  },
  {
   "cell_type": "code",
   "execution_count": 65,
   "metadata": {},
   "outputs": [],
   "source": [
    "class String:\n",
    "    \n",
    "    def __init__(self, value):\n",
    "        self.value = value\n",
    "    \n",
    "    def split(self):\n",
    "        print(f'{self.value}를 분리합니다.')\n",
    "    \n",
    "    def upper(self):\n",
    "        print(f'{self.value}를 대문자로 변경합니다.')\n",
    "        return self.value.upper()"
   ]
  },
  {
   "cell_type": "code",
   "execution_count": 68,
   "metadata": {},
   "outputs": [
    {
     "name": "stdout",
     "output_type": "stream",
     "text": [
      "a b c를 분리합니다.\n"
     ]
    }
   ],
   "source": [
    "s = String('a b c')\n",
    "s.split()"
   ]
  },
  {
   "cell_type": "code",
   "execution_count": 69,
   "metadata": {},
   "outputs": [
    {
     "name": "stdout",
     "output_type": "stream",
     "text": [
      "a b c를 대문자로 변경합니다.\n",
      "A B C\n"
     ]
    }
   ],
   "source": [
    "v = s.upper()\n",
    "print(v)"
   ]
  },
  {
   "cell_type": "markdown",
   "metadata": {
    "slideshow": {
     "slide_type": "slide"
    }
   },
   "source": [
    "## 정보 은닉 (Information Hiding)\n",
    "- Attribute의 값을 caller(객체 외부)가 마음대로 바꾸지 못하게 하기 위해 직접 호출을 막고 setter/getter 메소드를 통해 값을 변경/조회 하도록 한다.\n",
    "    - 데이터 보호가 주목적이다.\n",
    "    - 변경 메소드에 Attribube 변경 조건을 넣어 업무 규칙에 맞는 값들만 변경되도록 처리한다.\n",
    "    - **setter**\n",
    "        - Attribute의 값을 변경하는 메소드. 관례상 set 으로 시작\n",
    "    - **getter**\n",
    "        - Attribute의 값을 조회하는 메소드. 관례상 get 으로 시작\n",
    "- Attribute 직접 호출 막기\n",
    "    - Attribute의 이름을 \\_\\_(double underscore)로 시작한다. (\\_\\_로 끝나면 안된다.)\n",
    "    - 같은 클래스에서는 선언한 이름으로 사용가능하지만 외부에서는 그 이름으로 호출할 수 없게 된다.\n",
    "    "
   ]
  },
  {
   "cell_type": "code",
   "execution_count": 71,
   "metadata": {},
   "outputs": [
    {
     "name": "stdout",
     "output_type": "stream",
     "text": [
      "홍길동 20 서울\n",
      "이름: 홍길동, 나이: 20, 주소: 서울, email: None\n"
     ]
    }
   ],
   "source": [
    "p = Person('홍길동', 20, '서울')\n",
    "print(p.name, p.age, p.address)\n",
    "p.print_info()"
   ]
  },
  {
   "cell_type": "code",
   "execution_count": 72,
   "metadata": {},
   "outputs": [
    {
     "name": "stdout",
     "output_type": "stream",
     "text": [
      "이름: 홍길동, 나이: 30, 주소: 서울, email: None\n"
     ]
    }
   ],
   "source": [
    "p.age = 30\n",
    "p.print_info()"
   ]
  },
  {
   "cell_type": "code",
   "execution_count": 73,
   "metadata": {},
   "outputs": [],
   "source": [
    "p.age = '오십세'"
   ]
  },
  {
   "cell_type": "code",
   "execution_count": 74,
   "metadata": {},
   "outputs": [
    {
     "name": "stdout",
     "output_type": "stream",
     "text": [
      "이름: 홍길동, 나이: 오십세, 주소: 서울, email: None\n"
     ]
    }
   ],
   "source": [
    "p.print_info()"
   ]
  },
  {
   "cell_type": "code",
   "execution_count": 75,
   "metadata": {
    "collapsed": true
   },
   "outputs": [
    {
     "ename": "TypeError",
     "evalue": "can only concatenate str (not \"int\") to str",
     "output_type": "error",
     "traceback": [
      "\u001b[0;31m---------------------------------------------------------------------------\u001b[0m",
      "\u001b[0;31mTypeError\u001b[0m                                 Traceback (most recent call last)",
      "Input \u001b[0;32mIn [75]\u001b[0m, in \u001b[0;36m<cell line: 1>\u001b[0;34m()\u001b[0m\n\u001b[0;32m----> 1\u001b[0m \u001b[43mp\u001b[49m\u001b[38;5;241;43m.\u001b[39;49m\u001b[43madd_age\u001b[49m\u001b[43m(\u001b[49m\u001b[38;5;241;43m2\u001b[39;49m\u001b[43m)\u001b[49m\n",
      "Input \u001b[0;32mIn [44]\u001b[0m, in \u001b[0;36mPerson.add_age\u001b[0;34m(self, age)\u001b[0m\n\u001b[1;32m     14\u001b[0m \u001b[38;5;28;01mdef\u001b[39;00m \u001b[38;5;21madd_age\u001b[39m(\u001b[38;5;28mself\u001b[39m, age):  \u001b[38;5;66;03m# argument가 한 개인 메소드\u001b[39;00m\n\u001b[1;32m     15\u001b[0m     \u001b[38;5;66;03m# 나이를 받아서 attribute age에 더한다\u001b[39;00m\n\u001b[1;32m     16\u001b[0m     \u001b[38;5;66;03m# self.age = self.age + age\u001b[39;00m\n\u001b[0;32m---> 17\u001b[0m     \u001b[38;5;28mself\u001b[39m\u001b[38;5;241m.\u001b[39mage \u001b[38;5;241m+\u001b[39m\u001b[38;5;241m=\u001b[39m age\n",
      "\u001b[0;31mTypeError\u001b[0m: can only concatenate str (not \"int\") to str"
     ]
    }
   ],
   "source": [
    "p.add_age(2)"
   ]
  },
  {
   "cell_type": "code",
   "execution_count": 76,
   "metadata": {},
   "outputs": [
    {
     "name": "stdout",
     "output_type": "stream",
     "text": [
      "이름: 홍길동, 나이: 3000005, 주소: 서울, email: None\n"
     ]
    }
   ],
   "source": [
    "p.age = 3_000_000\n",
    "p.add_age(5)\n",
    "p.print_info()"
   ]
  },
  {
   "cell_type": "code",
   "execution_count": 77,
   "metadata": {},
   "outputs": [
    {
     "name": "stdout",
     "output_type": "stream",
     "text": [
      "이름: 홍길동, 나이: -20, 주소: 서울, email: None\n"
     ]
    }
   ],
   "source": [
    "p.age = -20\n",
    "p.print_info()"
   ]
  },
  {
   "cell_type": "code",
   "execution_count": null,
   "metadata": {},
   "outputs": [],
   "source": [
    "# Person class에 정보 은닉 적용\n",
    "# 1. attribute 변수들을 외부에서 호출 할 수 없도록 만들어준다.\n",
    "#       - self.__변수명 = 초기값\n",
    "# 2. attribute 변수들을 조회(getter), 변경(setter)하는 메소드를 정의"
   ]
  },
  {
   "cell_type": "code",
   "execution_count": 95,
   "metadata": {},
   "outputs": [],
   "source": [
    "class Person:\n",
    "    \n",
    "    def __init__(self, name, age, address):\n",
    "        self.name = name\n",
    "        self.__age = age\n",
    "        self.address = address\n",
    "        self.email = None\n",
    "       \n",
    "    # age값을 조회하는 메소드 \n",
    "    def get_age(self):\n",
    "        return self.__age  # 같은 class에서는 __age로 호출 가능\n",
    "    \n",
    "    # age값을 변경하는 메소드\n",
    "    def set_age(self, age):\n",
    "        if 0 <= age <=100:\n",
    "            self.__age = age\n",
    "        else:\n",
    "            print(f'{age}는 나이에 넣을 수 없습니다. 0 ~ 100 사이 정수를 넣어주세요.')"
   ]
  },
  {
   "cell_type": "code",
   "execution_count": 96,
   "metadata": {},
   "outputs": [
    {
     "name": "stdout",
     "output_type": "stream",
     "text": [
      "홍길동\n",
      "서울 None\n",
      "20\n"
     ]
    }
   ],
   "source": [
    "p = Person('홍길동', 20, '서울')\n",
    "print(p.name)\n",
    "print(p.address, p.email)\n",
    "print(p.get_age())"
   ]
  },
  {
   "cell_type": "code",
   "execution_count": 97,
   "metadata": {},
   "outputs": [
    {
     "name": "stdout",
     "output_type": "stream",
     "text": [
      "530는 나이에 넣을 수 없습니다. 0 ~ 100 사이 정수를 넣어주세요.\n"
     ]
    }
   ],
   "source": [
    "p.set_age(530)"
   ]
  },
  {
   "cell_type": "code",
   "execution_count": 98,
   "metadata": {},
   "outputs": [
    {
     "data": {
      "text/plain": [
       "{'name': '홍길동', '_Person__age': 20, 'address': '서울', 'email': None}"
      ]
     },
     "execution_count": 98,
     "metadata": {},
     "output_type": "execute_result"
    }
   ],
   "source": [
    "p.__dict__"
   ]
  },
  {
   "cell_type": "code",
   "execution_count": 84,
   "metadata": {},
   "outputs": [
    {
     "name": "stdout",
     "output_type": "stream",
     "text": [
      "20\n"
     ]
    }
   ],
   "source": [
    "# print(p.__age)\n",
    "print(p._Person__age)"
   ]
  },
  {
   "cell_type": "code",
   "execution_count": 86,
   "metadata": {},
   "outputs": [
    {
     "data": {
      "text/plain": [
       "{'name': '홍길동2',\n",
       " '_Person__age': 40,\n",
       " 'address': '서울',\n",
       " 'email': None,\n",
       " '__age': 30}"
      ]
     },
     "execution_count": 86,
     "metadata": {},
     "output_type": "execute_result"
    }
   ],
   "source": [
    "p.name = '홍길동2'\n",
    "p.__age = 30\n",
    "p._Person__age = 40\n",
    "p.__dict__"
   ]
  },
  {
   "cell_type": "markdown",
   "metadata": {
    "slideshow": {
     "slide_type": "subslide"
    }
   },
   "source": [
    "### property함수를 사용\n",
    "- 은닉된 instance 변수의 값을 사용할 때 getter/setter대신 변수를 사용하는 방식으로 호출할 수 있도록 한다.\n",
    "- 구현\n",
    "    1. getter/setter 메소드를 만든다.\n",
    "    2. 변수 = property(getter, setter) 를 등록한다.\n",
    "    3. 호출\n",
    "        - 값조회: 변수를 사용 => getter가 호출 된다.\n",
    "        - 값변경: 변수 = 변경할 값 => setter가 호출 된다."
   ]
  },
  {
   "cell_type": "code",
   "execution_count": 104,
   "metadata": {
    "slideshow": {
     "slide_type": "fragment"
    }
   },
   "outputs": [],
   "source": [
    "class Person2:\n",
    "    \n",
    "    def __init__(self, name, age, address):\n",
    "        self.__name = name\n",
    "        self.__age = age\n",
    "        self.address = address\n",
    "        self.email = None\n",
    "       \n",
    "    # age값을 조회하는 메소드 \n",
    "    # getter 메소드에 @property, 메소드 이름은 변수처럼\n",
    "    def get_age(self):\n",
    "        return self.__age  # 같은 class에서는 __age로 호출 가능\n",
    "    \n",
    "    # age값을 변경하는 메소드\n",
    "    def set_age(self, age):\n",
    "        if 0 <= age <=100:\n",
    "            self.__age = age\n",
    "        else:\n",
    "            print(f'{age}는 나이에 넣을 수 없습니다. 0 ~ 100 사이 정수를 넣어주세요.')\n",
    "            \n",
    "    def get_name(self):\n",
    "        return self.__name\n",
    "            \n",
    "    def set_name(self, name):\n",
    "        # 이름은 두 글자 이상인 경우만 변경가능\n",
    "        if len(name) >= 2:\n",
    "            self.__name = name\n",
    "        else:\n",
    "            print('이름은 두 글자 이상만 가능합니다.')\n",
    "            \n",
    "    name = property(get_name, set_name)\n",
    "    age = property(get_age, set_age)"
   ]
  },
  {
   "cell_type": "code",
   "execution_count": 106,
   "metadata": {},
   "outputs": [
    {
     "name": "stdout",
     "output_type": "stream",
     "text": [
      "새이름 70 새주소 새이메일\n"
     ]
    }
   ],
   "source": [
    "p3 = Person2('유재석', 40, '인천')\n",
    "p3.address = '새주소'\n",
    "p3.email = '새이메일'\n",
    "p3.name = '새이름'\n",
    "p3.age = 70\n",
    "\n",
    "print(p3.name, p3.age, p3.address, p3.email)"
   ]
  },
  {
   "cell_type": "code",
   "execution_count": 107,
   "metadata": {},
   "outputs": [
    {
     "name": "stdout",
     "output_type": "stream",
     "text": [
      "이름은 두 글자 이상만 가능합니다.\n"
     ]
    }
   ],
   "source": [
    "p3.name = '강'"
   ]
  },
  {
   "cell_type": "code",
   "execution_count": 108,
   "metadata": {},
   "outputs": [
    {
     "name": "stdout",
     "output_type": "stream",
     "text": [
      "50000는 나이에 넣을 수 없습니다. 0 ~ 100 사이 정수를 넣어주세요.\n"
     ]
    }
   ],
   "source": [
    "p3.age = 50000"
   ]
  },
  {
   "cell_type": "code",
   "execution_count": 103,
   "metadata": {},
   "outputs": [
    {
     "name": "stdout",
     "output_type": "stream",
     "text": [
      "40\n",
      "인천\n"
     ]
    }
   ],
   "source": [
    "p2 = Person2('유재석', 40, '인천')\n",
    "# name, age 사용 -> 메소드\n",
    "p2.set_name('류재석')\n",
    "print(p2.get_age())\n",
    "# address, email 사용 -> 변수를 호출\n",
    "print(p2.address)\n",
    "p2.email = 'em@a.com'"
   ]
  },
  {
   "cell_type": "markdown",
   "metadata": {
    "slideshow": {
     "slide_type": "subslide"
    },
    "tags": []
   },
   "source": [
    "### 데코레이터(decorator)를 이용해 property 지정.\n",
    "- setter/getter 구현 + property()를 이용해 변수 등록 하는 것을 더 간단하게 구현하는 방식\n",
    "- setter/getter 메소드이름을 변수처럼 지정. (보통은 같은 이름으로 지정)\n",
    "- getter메소드: @property 데코레이터를 선언  \n",
    "- setter메소드: @getter메소드이름.setter  데코레이터를 선언.\n",
    "    - 반드시 getter 메소드를 먼저 정의한다.\n",
    "    - setter메소드 이름은 getter와 동일해야 한다.\n",
    "- getter/setter의 이름을 Attribute 변수처럼 사용한다.\n",
    "- 주의: getter/setter 메소드를 직접 호출 할 수 없다. 변수형식으로만 호출가능하다."
   ]
  },
  {
   "cell_type": "code",
   "execution_count": 110,
   "metadata": {
    "slideshow": {
     "slide_type": "fragment"
    }
   },
   "outputs": [],
   "source": [
    "class Person3:\n",
    "    \n",
    "    def __init__(self, name, age, address):\n",
    "        self.__name = name\n",
    "        self.__age = age\n",
    "        self.address = address\n",
    "        self.email = None\n",
    "       \n",
    "    # age값을 조회하는 메소드 \n",
    "    # getter 메소드에 @property, 메소드 이름은 변수처럼 지정\n",
    "    @property\n",
    "    def age(self):\n",
    "        return self.__age  \n",
    "    \n",
    "    # setter 메소드에 @getter이름.setter\n",
    "    @age.setter\n",
    "    def age(self, age):\n",
    "        if 0 <= age <=100:\n",
    "            self.__age = age\n",
    "        else:\n",
    "            print(f'{age}는 나이에 넣을 수 없습니다. 0 ~ 100 사이 정수를 넣어주세요.')\n",
    "    \n",
    "    @property\n",
    "    def name(self):\n",
    "        return self.__name\n",
    "    \n",
    "    @name.setter\n",
    "    def name(self, name):\n",
    "        # 이름은 두 글자 이상인 경우만 변경가능\n",
    "        if len(name) >= 2:\n",
    "            self.__name = name\n",
    "        else:\n",
    "            print('이름은 두 글자 이상만 가능합니다.')\n"
   ]
  },
  {
   "cell_type": "code",
   "execution_count": 111,
   "metadata": {},
   "outputs": [
    {
     "name": "stdout",
     "output_type": "stream",
     "text": [
      "박명수 23 부산 None\n"
     ]
    }
   ],
   "source": [
    "p4 = Person3('박명수', 23, '부산')\n",
    "print(p4.name, p4.age, p4.address, p4.email)"
   ]
  },
  {
   "cell_type": "code",
   "execution_count": 112,
   "metadata": {},
   "outputs": [],
   "source": [
    "p4.name = '이순신'\n",
    "p4.age = 10\n",
    "p4.address = '서울'\n",
    "p4.email = 'asd@sdf.com'"
   ]
  },
  {
   "cell_type": "code",
   "execution_count": 113,
   "metadata": {},
   "outputs": [
    {
     "name": "stdout",
     "output_type": "stream",
     "text": [
      "이순신 10 서울 asd@sdf.com\n"
     ]
    }
   ],
   "source": [
    "print(p4.name, p4.age, p4.address, p4.email)"
   ]
  },
  {
   "cell_type": "markdown",
   "metadata": {
    "slideshow": {
     "slide_type": "subslide"
    }
   },
   "source": [
    "## TODO\n",
    "- 제품 클래스 구현\n",
    "- 속성 : 제품ID:str 제품이름: str, 제품가격:int, 제조사이름:str\n",
    "-       정보은닉에 맞춰서 작성. 값을 대입/조회 하는 것은 변수처리 방식을 할 수 있도록 구현.\n",
    "- 메소드: 전체 정보를 출력하는 메소드\n",
    "\n",
    "메소드 : setter-4개, getter-4개. 전체정보 출력하는 메소드-1개\n",
    "\n",
    "- 가족, 등등 여러가지 클래스 구현해보기"
   ]
  },
  {
   "cell_type": "code",
   "execution_count": 49,
   "metadata": {
    "slideshow": {
     "slide_type": "fragment"
    }
   },
   "outputs": [],
   "source": [
    "# 제품 클래스 구현\n",
    "# decorator를 이용\n",
    "class Product:\n",
    "    \n",
    "    # attribute 초기화는 initializer에서 한다\n",
    "    def __init__(self, id:str, name:str, price:int, company:str):\n",
    "        # attribute를 외부에서 접근하지 못하게 막는다 => self.__변수명\n",
    "        self.__id = id\n",
    "        self.__name = name\n",
    "        self.__price = price\n",
    "        self.__company = company\n",
    "    \n",
    "    \n",
    "    # id의 getter/setter\n",
    "    ## 메소드의 이름을 호출할 때 사용할 변수형태로 지정\n",
    "    ## getter: @property 데코레이터를 선언\n",
    "    @property\n",
    "    def id(self):\n",
    "        return self.__id\n",
    "    @id.setter\n",
    "    def id(self, id):\n",
    "        if id:\n",
    "            self.__id = id\n",
    "        else:\n",
    "            print('id가 너무 짧습니다.')\n",
    "            \n",
    "    @property\n",
    "    def name(self):\n",
    "        return self.__name\n",
    "    @name.setter\n",
    "    def name(self, name):\n",
    "        if name:\n",
    "            self.__name = name\n",
    "        else:\n",
    "            print('이름을 다시 입력해주세요.')\n",
    "    \n",
    "    @property\n",
    "    def price(self):\n",
    "        return self.__price\n",
    "    @price.setter\n",
    "    def price(self, price):\n",
    "        if price > 0:\n",
    "            self.__price = price\n",
    "        else:\n",
    "            print('가격은 음수가 될 수 없습니다.')\n",
    "            \n",
    "    @property\n",
    "    def company(self):\n",
    "        return self.__company\n",
    "    @company.setter\n",
    "    def company(self, company):\n",
    "        if company:\n",
    "            self.__company = company\n",
    "        else:\n",
    "            print('회사명을 입력해주세요.')\n",
    "    \n",
    "#     @property\n",
    "#     def category(self):\n",
    "#         return self.__category\n",
    "#     @category.setter\n",
    "#     def category(self, category):\n",
    "#         if category:\n",
    "#             self.__category = category\n",
    "            \n",
    "    def show_info(self):\n",
    "        print(f'{self.id}: {self.name}은 가격이 {self.price}이고, {self.company}의 제품입니다.')"
   ]
  },
  {
   "cell_type": "code",
   "execution_count": 55,
   "metadata": {},
   "outputs": [],
   "source": [
    "pd = Product('chi001', '칫솔', 1000000, '비싼칫솔컴퍼니')"
   ]
  },
  {
   "cell_type": "code",
   "execution_count": 56,
   "metadata": {},
   "outputs": [
    {
     "name": "stdout",
     "output_type": "stream",
     "text": [
      "chi001: 칫솔은 가격이 1000000이고, 비싼칫솔컴퍼니의 제품입니다.\n"
     ]
    }
   ],
   "source": [
    "pd.show_info()"
   ]
  },
  {
   "cell_type": "code",
   "execution_count": 57,
   "metadata": {},
   "outputs": [
    {
     "name": "stdout",
     "output_type": "stream",
     "text": [
      "c203030: 삼성 노트북은 가격이 120000이고, 삼성의 제품입니다.\n"
     ]
    }
   ],
   "source": [
    "pd2 = Product('c203030', '삼성 노트북', 120_000, '삼성')\n",
    "pd2.show_info()"
   ]
  },
  {
   "cell_type": "code",
   "execution_count": 58,
   "metadata": {},
   "outputs": [
    {
     "name": "stdout",
     "output_type": "stream",
     "text": [
      "id가 너무 짧습니다.\n",
      "이름을 다시 입력해주세요.\n",
      "가격은 음수가 될 수 없습니다.\n",
      "c203030: 삼성 노트북은 가격이 120000이고, 삼성의 제품입니다.\n"
     ]
    }
   ],
   "source": [
    "pd2.id = None\n",
    "pd2.name = None\n",
    "pd2.price = -2000\n",
    "pd2.comapny = None\n",
    "pd2.show_info()"
   ]
  },
  {
   "cell_type": "code",
   "execution_count": 54,
   "metadata": {},
   "outputs": [
    {
     "name": "stdout",
     "output_type": "stream",
     "text": [
      "s1231980: 맥북은 가격이 1500000이고, 삼성의 제품입니다.\n"
     ]
    }
   ],
   "source": [
    "pd2.id = 's1231980'\n",
    "pd2.name = '맥북'\n",
    "pd2.price = 1_500_000\n",
    "pd2.comapny = '애플'\n",
    "pd2.show_info()"
   ]
  },
  {
   "cell_type": "code",
   "execution_count": 26,
   "metadata": {},
   "outputs": [],
   "source": [
    "# 제품 클래스 구현\n",
    "class Product2:\n",
    "    \n",
    "    # attribute 초기화는 initializer에서 한다\n",
    "    def __init__(self, id:str, name:str, price:int, company:str):\n",
    "        # attribute를 외부에서 접근하지 못하게 막는다 => self.__변수명\n",
    "        self.__id = id\n",
    "        self.__name = name\n",
    "        self.__price = price\n",
    "        self.__company = company\n",
    "    \n",
    "    def get_id(self):\n",
    "        return self.__id\n",
    "    def set_id(self, id):\n",
    "        if len(id) >= 6:\n",
    "            self.__id = id\n",
    "        else:\n",
    "            print('id가 너무 짧습니다.')\n",
    "            \n",
    "    def get_name(self):\n",
    "        return self.__name\n",
    "    def set_name(self, name):\n",
    "        if name:\n",
    "            self.__name = name\n",
    "    \n",
    "    def get_price(self):\n",
    "        return self.__price\n",
    "    def set_price(self, price):\n",
    "        if price >= 0:\n",
    "            self.__price = price\n",
    "        else:\n",
    "            print('가격은 음수가 될 수 없습니다.')\n",
    "            \n",
    "    def get_company(self):\n",
    "        return self.__company\n",
    "    def set_company(self, company):\n",
    "        if len(company) > 0:\n",
    "            self.__company = company\n",
    "        else:\n",
    "            print('회사명을 입력해주세요.')\n",
    "            \n",
    "    def show_info(self):\n",
    "        print(f'{self.id}: {self.name}은 가격이 {self.price}이고, {self.company}의 제품입니다.')\n",
    "        \n",
    "    # property 함수를 이용해서 getter/setter들을 변수처럼 호출 할 수 있도록 처리\n",
    "    #### 호출할때 사용할 변수명 = property(getter명, setter명)\n",
    "    id = property(get_id, set_id)\n",
    "    name = property(get_name, set_name)\n",
    "    price = property(get_price, set_price)\n",
    "    company = property(get_company, set_company)"
   ]
  },
  {
   "cell_type": "code",
   "execution_count": 27,
   "metadata": {},
   "outputs": [],
   "source": [
    "p2 = Product2('chi001', '칫솔', 1000000, '비싼칫솔컴퍼니')"
   ]
  },
  {
   "cell_type": "code",
   "execution_count": 28,
   "metadata": {},
   "outputs": [
    {
     "name": "stdout",
     "output_type": "stream",
     "text": [
      "칫솔\n",
      "치약\n"
     ]
    }
   ],
   "source": [
    "p2.name = None\n",
    "print(p2.name)\n",
    "p2.name = '치약'\n",
    "print(p2.name)"
   ]
  },
  {
   "cell_type": "markdown",
   "metadata": {
    "slideshow": {
     "slide_type": "slide"
    }
   },
   "source": [
    "## 상속 (Inheritance)\n",
    "\n",
    "- 기존 클래스를 확장하여 새로운 클래스를 구현한다.\n",
    "    - 생성된 객체(instance)가 기존 클래스에 정의된 Attribute나 method를 사용할 수있고 그 외의 추가적인 member들을 가질 수 있는 클래스를 구현하는 방법.\n",
    "- **기반(Base) 클래스, 상위(Super) 클래스, 부모(Parent) 클래스**\n",
    "    - 물려 주는 클래스.\n",
    "    - 상속하는 클래스에 비해 더 추상적인 클래스가 된다. \n",
    "    - 상속하는 클래스의 데이터 타입이 된다.\n",
    "- **파생(Derived) 클래스, 하위(Sub) 클래스, 자식(Child) 클래스**\n",
    "    - 상속하는 클래스.\n",
    "    - 상속을 해준 클래스 보다 좀더 구체적인 클래스가 된다.\n",
    "- 상위 클래스와 하위 클래스는 계층관계를 이룬다.\n",
    "    - 상위 클래스는 하위 클래스 객체의 타입이 된다."
   ]
  },
  {
   "cell_type": "code",
   "execution_count": 59,
   "metadata": {},
   "outputs": [],
   "source": [
    "class Person():\n",
    "    \n",
    "    def go(self):\n",
    "        print('간다.')\n",
    "    \n",
    "    def eat(self):\n",
    "        print('먹는다.')"
   ]
  },
  {
   "cell_type": "code",
   "execution_count": 60,
   "metadata": {},
   "outputs": [],
   "source": [
    "# Person을 상속해서 Student를 정의\n",
    "## class 클래스이름(상속할 클래스이름 [, 상속할 클래스이름2, ...])\n",
    "class Student(Person):\n",
    "    def study(self):\n",
    "        print('학생은 공부한다.')"
   ]
  },
  {
   "cell_type": "code",
   "execution_count": 61,
   "metadata": {},
   "outputs": [],
   "source": [
    "class Teacher(Person):\n",
    "    def teach(self):\n",
    "        print('수업을 가르친다.')"
   ]
  },
  {
   "cell_type": "code",
   "execution_count": 63,
   "metadata": {},
   "outputs": [
    {
     "name": "stdout",
     "output_type": "stream",
     "text": [
      "학생은 공부한다.\n",
      "먹는다.\n",
      "간다.\n"
     ]
    }
   ],
   "source": [
    "# 객체 생성\n",
    "s = Student()\n",
    "s.study()\n",
    "s.eat()\n",
    "s.go()"
   ]
  },
  {
   "cell_type": "code",
   "execution_count": 66,
   "metadata": {},
   "outputs": [
    {
     "name": "stdout",
     "output_type": "stream",
     "text": [
      "수업을 가르친다.\n",
      "먹는다.\n",
      "간다.\n"
     ]
    }
   ],
   "source": [
    "t = Teacher()\n",
    "t.teach()\n",
    "t.eat()\n",
    "t.go()"
   ]
  },
  {
   "cell_type": "code",
   "execution_count": 67,
   "metadata": {},
   "outputs": [
    {
     "ename": "AttributeError",
     "evalue": "'Teacher' object has no attribute 'study'",
     "output_type": "error",
     "traceback": [
      "\u001b[0;31m---------------------------------------------------------------------------\u001b[0m",
      "\u001b[0;31mAttributeError\u001b[0m                            Traceback (most recent call last)",
      "Input \u001b[0;32mIn [67]\u001b[0m, in \u001b[0;36m<cell line: 1>\u001b[0;34m()\u001b[0m\n\u001b[0;32m----> 1\u001b[0m \u001b[43mt\u001b[49m\u001b[38;5;241;43m.\u001b[39;49m\u001b[43mstudy\u001b[49m()\n",
      "\u001b[0;31mAttributeError\u001b[0m: 'Teacher' object has no attribute 'study'"
     ]
    }
   ],
   "source": [
    "t.study()"
   ]
  },
  {
   "cell_type": "markdown",
   "metadata": {
    "slideshow": {
     "slide_type": "subslide"
    }
   },
   "source": [
    "### 다중상속과 단일 상속\n",
    "- 다중상속\n",
    "    - 여러 클래스로부터 상속할 수 있다\n",
    "- 단일상속\n",
    "    - 하나의 클래스로 부터만 상속할 수 있다.\n",
    "- 파이썬은 다중상속을 지원한다.\n",
    "- MRO (Method Resolution Order)\n",
    "    - 다중상속시 메소드 호출할 때 그 메소드를 찾는 순서. \n",
    "    1. 자기자신\n",
    "    2. 상위클래스(하위에서 상위로 올라간다)\n",
    "        - 다중상속의 경우 먼저 선언한 클래스 부터 찾는다. (왼쪽->오른쪽)\n",
    "- MRO 순서 조회 \n",
    "    - Class이름.mro()"
   ]
  },
  {
   "cell_type": "code",
   "execution_count": 71,
   "metadata": {},
   "outputs": [
    {
     "data": {
      "text/plain": [
       "[__main__.Student, __main__.Person, object]"
      ]
     },
     "execution_count": 71,
     "metadata": {},
     "output_type": "execute_result"
    }
   ],
   "source": [
    "Student.mro()"
   ]
  },
  {
   "cell_type": "code",
   "execution_count": 72,
   "metadata": {},
   "outputs": [],
   "source": [
    "class E(object):\n",
    "    pass\n",
    "\n",
    "class F:\n",
    "    pass\n",
    "\n",
    "class G:\n",
    "    pass"
   ]
  },
  {
   "cell_type": "code",
   "execution_count": 73,
   "metadata": {},
   "outputs": [],
   "source": [
    "class C(E, F):\n",
    "    pass\n",
    "\n",
    "class D(G):\n",
    "    pass"
   ]
  },
  {
   "cell_type": "code",
   "execution_count": 74,
   "metadata": {},
   "outputs": [],
   "source": [
    "class A(C, D):\n",
    "    pass"
   ]
  },
  {
   "cell_type": "code",
   "execution_count": 75,
   "metadata": {
    "slideshow": {
     "slide_type": "fragment"
    }
   },
   "outputs": [
    {
     "data": {
      "text/plain": [
       "[__main__.A,\n",
       " __main__.C,\n",
       " __main__.E,\n",
       " __main__.F,\n",
       " __main__.D,\n",
       " __main__.G,\n",
       " object]"
      ]
     },
     "execution_count": 75,
     "metadata": {},
     "output_type": "execute_result"
    }
   ],
   "source": [
    "A.mro()"
   ]
  },
  {
   "cell_type": "markdown",
   "metadata": {
    "slideshow": {
     "slide_type": "subslide"
    }
   },
   "source": [
    "### Method Overriding (메소드 재정의)\n",
    "상위 클래스의 메소드의 구현부를 하위 클래스에서 다시 구현하는 것을 말한다.  \n",
    "상위 클래스는 모든 하위 클래스들에 적용할 수 있는 추상적인 구현밖에는 못한다.  \n",
    "이 경우 하위 클래스에서 그 내용을 자신에 맞게 좀더 구체적으로 재구현할 수 있게 해주는 것을 Method Overriding이라고 한다.  \n",
    "방법은 하위 클래스에서 overriding할 메소드의 선언문은 그래로 사용하고 그 구현부는 재구현하면 된다.  \n",
    "\n",
    "### super() 내장함수\n",
    "- 하위 클래스에서 상위 클래스의 instance를 반환(return) 해주는 함수\n",
    "- 구문\n",
    "```python\n",
    "super().메소드명() \n",
    "```\n",
    "- 상위 클래스의 Instance 메소드를 호출할 때 – super().메소드()\n",
    "    - 특히 method overriding을 한 클래스에서 상위 클래스의 overriding한 메소드를 호출 할 경우 반드시 `super().메소드() `형식으로 호출해야 한다.\n",
    "- 같은 클래스의 Instance 메소드를 호출할 때 – self.메소드()"
   ]
  },
  {
   "cell_type": "markdown",
   "metadata": {},
   "source": [
    "메소드에서\n",
    "- self.xxxx: 같은 클래스에 정의된 메소드나 attribute(instance 변수) 호출\n",
    "- super().xxxx: 부모클래스에 정의된 메소드나 attribute(부모객체의 attribute) 호출"
   ]
  },
  {
   "cell_type": "code",
   "execution_count": 99,
   "metadata": {
    "slideshow": {
     "slide_type": "fragment"
    }
   },
   "outputs": [],
   "source": [
    "class Person2():\n",
    "    \n",
    "    def go(self):\n",
    "        self.eat()\n",
    "        print('간다.')\n",
    "#         print('스쿨버스를 타고 간다.')  => Student방식\n",
    "    \n",
    "    def eat(self):\n",
    "        print('먹는다.')\n",
    "#         print('급식을 먹는다.')  => Student방식"
   ]
  },
  {
   "cell_type": "code",
   "execution_count": 100,
   "metadata": {},
   "outputs": [],
   "source": [
    "class Student2(Person2):\n",
    "    # go() 메소드를 Student 클래스에 맞게 좀 더 구체화된 내용으로 재정의(overriding)\n",
    "    # 상위클래스에 정의된 메소드와 동일한 선언(이름)으로 메소드를 구현\n",
    "    def go(self):\n",
    "        print('스쿨버스를 타고 등교한다.')\n",
    "        \n",
    "    def eat(self):\n",
    "        print('학교식당에 간다.')\n",
    "        print('급식을 받는다.')\n",
    "#         print('먹는다.')  # 부모클래스에 정의한 eat()을 실행\n",
    "        super().eat()  # super(): 부모클래스를 가르킨다\n",
    "    \n",
    "    def study(self):\n",
    "        print('학생이 공부한다. 2')"
   ]
  },
  {
   "cell_type": "code",
   "execution_count": 101,
   "metadata": {},
   "outputs": [],
   "source": [
    "class Teacher2(Person2):\n",
    "    def teach(self):\n",
    "        print('교사가 가르친다. 2')"
   ]
  },
  {
   "cell_type": "code",
   "execution_count": 102,
   "metadata": {},
   "outputs": [
    {
     "name": "stdout",
     "output_type": "stream",
     "text": [
      "스쿨버스를 타고 등교한다.\n",
      "------------------------------\n",
      "학교식당에 간다.\n",
      "급식을 받는다.\n",
      "먹는다.\n"
     ]
    }
   ],
   "source": [
    "s = Student2()\n",
    "s.go()\n",
    "print('-'*30)\n",
    "s.eat()"
   ]
  },
  {
   "cell_type": "code",
   "execution_count": 103,
   "metadata": {},
   "outputs": [
    {
     "data": {
      "text/plain": [
       "[__main__.Student2, __main__.Person2, object]"
      ]
     },
     "execution_count": 103,
     "metadata": {},
     "output_type": "execute_result"
    }
   ],
   "source": [
    "Student2.mro()"
   ]
  },
  {
   "cell_type": "code",
   "execution_count": 104,
   "metadata": {},
   "outputs": [
    {
     "name": "stdout",
     "output_type": "stream",
     "text": [
      "먹는다.\n",
      "간다.\n",
      "먹는다.\n"
     ]
    }
   ],
   "source": [
    "t = Teacher2()\n",
    "t.go()\n",
    "t.eat()"
   ]
  },
  {
   "cell_type": "code",
   "execution_count": 105,
   "metadata": {},
   "outputs": [
    {
     "data": {
      "text/plain": [
       "[__main__.Teacher2, __main__.Person2, object]"
      ]
     },
     "execution_count": 105,
     "metadata": {},
     "output_type": "execute_result"
    }
   ],
   "source": [
    "Teacher2.mro()"
   ]
  },
  {
   "cell_type": "code",
   "execution_count": 137,
   "metadata": {},
   "outputs": [],
   "source": [
    "# 상속과 Attribute\n",
    "class Person3:\n",
    "    \n",
    "    def __init__(self, name, age, address=None):\n",
    "        self.__name = name\n",
    "        self.__age = age\n",
    "        self.__address = address\n",
    "        \n",
    "    @property\n",
    "    def name(self):\n",
    "        return self.__name\n",
    "    @name.setter\n",
    "    def name(self, name):\n",
    "        if name:\n",
    "            self.__name = name\n",
    "        else:\n",
    "            print('이름을 변경 X')\n",
    "            \n",
    "    @property\n",
    "    def age(self):\n",
    "        return self.__age\n",
    "    @age.setter\n",
    "    def age(self, age):\n",
    "        if 8 <= age <= 19:\n",
    "            self.__age = age\n",
    "        else:\n",
    "            print('나이를 변경 X')\n",
    "            \n",
    "    @property\n",
    "    def address(self):\n",
    "        return self.__name\n",
    "    @address.setter\n",
    "    def address(self, address):\n",
    "        if address:\n",
    "            self.__address = address\n",
    "        else:\n",
    "            print('주소를 변경 X')\n",
    "        \n",
    "    # 나이를 더하는 메소드\n",
    "    def add_age(self, age):\n",
    "        self.age += age\n",
    "#         @age.setter: age = @property: age + 파라미터 age\n",
    "        \n",
    "    # Person객체이 속성값들을 하나의 문자열로 묶어서 반환\n",
    "    def get_info(self):  # getter 메소드 호출\n",
    "        return f'이름: {self.name}, 나이: {self.age}, 주소: {self.address}'"
   ]
  },
  {
   "cell_type": "code",
   "execution_count": 138,
   "metadata": {},
   "outputs": [],
   "source": [
    "# Student의 속성: name, age, address => 공통속성, grade(성적 - 학생의 속성)\n",
    "class Student3(Person3):\n",
    "    \n",
    "    def __init__(self, name, age, address, grade):\n",
    "        # name, age, address => 부모클래스인 Person의 속성\n",
    "        super().__init__(name, age, address)\n",
    "        self.__grade = grade\n",
    "        \n",
    "    @property\n",
    "    def grade(self):\n",
    "        return self.__grade\n",
    "    @grade.setter\n",
    "    def grade(self, grade):\n",
    "        if grade > 0:\n",
    "            self.__grade = grade\n",
    "        else:\n",
    "            print('grade 변경 X')\n",
    "    \n",
    "    # method overriding => Person3에 정의된 get_info()에 grade까지 return하도록 재정의\n",
    "    def get_info(self):\n",
    "        i = super().get_info()  # 이름, 나이, 주소는 Persone3(부모클래스)에 정의된 메소드 호출\n",
    "        return f'{i}, 성적: {self.grade}'  # getter: grade 호출"
   ]
  },
  {
   "cell_type": "code",
   "execution_count": 139,
   "metadata": {},
   "outputs": [
    {
     "data": {
      "text/plain": [
       "('김학생', 17, '김학생', 3)"
      ]
     },
     "execution_count": 139,
     "metadata": {},
     "output_type": "execute_result"
    }
   ],
   "source": [
    "s = Student3('김학생', 17, '서울', 3)\n",
    "s.name, s.age, s.address, s.grade"
   ]
  },
  {
   "cell_type": "code",
   "execution_count": 140,
   "metadata": {},
   "outputs": [
    {
     "name": "stdout",
     "output_type": "stream",
     "text": [
      "14\n"
     ]
    }
   ],
   "source": [
    "s.add_age(-3)\n",
    "print(s.age)"
   ]
  },
  {
   "cell_type": "code",
   "execution_count": 141,
   "metadata": {},
   "outputs": [
    {
     "name": "stdout",
     "output_type": "stream",
     "text": [
      "이름: 김학생, 나이: 14, 주소: 김학생, 성적: 3\n"
     ]
    }
   ],
   "source": [
    "info = s.get_info()  # s: Student\n",
    "print(info)"
   ]
  },
  {
   "cell_type": "code",
   "execution_count": 142,
   "metadata": {},
   "outputs": [
    {
     "name": "stdout",
     "output_type": "stream",
     "text": [
      "나이를 변경 X\n",
      "이름: 김학생, 나이: 14, 주소: 김학생, 성적: 3\n"
     ]
    }
   ],
   "source": [
    "s.age = 120\n",
    "print(s.get_info())"
   ]
  },
  {
   "cell_type": "code",
   "execution_count": 147,
   "metadata": {},
   "outputs": [],
   "source": [
    "# Teacher의 속성: name, age, address => 공통속성,subject(과목 - Teacher의 속성), job:직책 => 특별한 대입조건이 없다\n",
    "# 상속: 속성 - name, age, address\n",
    "#    메소드 - add_age(), get_info() 메소드\n",
    "class Teacher3(Person3):\n",
    "    \n",
    "    def __init__(self, name, age, address, subject, job=None):  # job: 직책\n",
    "        # name, age, address => 부모클래스의 __init__을 이용해서 초기화\n",
    "        super().__init__(name, age, address)\n",
    "        self.__subject = subject\n",
    "        self.job = job  # setter가 필요 없는 변수\n",
    "        \n",
    "    # subject의 getter/setter 구현\n",
    "    @property\n",
    "    def subject(self):\n",
    "        return self.__subject\n",
    "    @subject.setter\n",
    "    def subject(self, subject):\n",
    "        if subject:\n",
    "            self.__subject = subject\n",
    "        else:\n",
    "            print('과목 수정 X')\n",
    "    \n",
    "    # Teacher객체의 attribute들을 반환 => get_info()를 method overriding\n",
    "    def get_info(self):\n",
    "        # 이름, 나이, 주소 -> Person3의 get_info()를 사용\n",
    "        i = super().get_info()\n",
    "        return f\"{i}, 담당과목: {self.subject}, 담당직책: {self.job if self.job else 'X'}\""
   ]
  },
  {
   "cell_type": "code",
   "execution_count": 148,
   "metadata": {},
   "outputs": [
    {
     "name": "stdout",
     "output_type": "stream",
     "text": [
      "이름: 박선생, 나이: 30, 주소: 박선생, 담당과목: 수학, 담당직책: 학생주임\n"
     ]
    }
   ],
   "source": [
    "t = Teacher3('박선생', 30, '부산', '수학', '학생주임')\n",
    "info = t.get_info()\n",
    "print(info)"
   ]
  },
  {
   "cell_type": "code",
   "execution_count": 152,
   "metadata": {},
   "outputs": [
    {
     "name": "stdout",
     "output_type": "stream",
     "text": [
      "과목 수정 X\n",
      "이름: 박선생, 나이: 30, 주소: 박선생, 담당과목: 수학, 담당직책: X\n"
     ]
    }
   ],
   "source": [
    "t.subject = None\n",
    "t.job = None\n",
    "info = t.get_info()\n",
    "print(info)"
   ]
  },
  {
   "cell_type": "markdown",
   "metadata": {
    "slideshow": {
     "slide_type": "slide"
    }
   },
   "source": [
    "## 객체 관련 유용한 내장 함수, 특수 변수\n",
    "-  **`isinstance(객체, 클래스이름-datatype)`** : bool\n",
    "    - 객체가 두번째 매개변수로 지정한 클래스의 타입이면 True, 아니면 False 반환\n",
    "    - 여러개의 타입여부를 확인할 경우 class이름(type)들을 리스트로 묶어 준다.\n",
    "    - 상위 클래스는 하위 클래스객체의 타입이 되므로 객체와 그 객체의 상위 클래스 비교시 True가 나온다.\n",
    "- **`객체.__dict__`**\n",
    "     - 객체가 가지고 있는 Attribute 변수들과 대입된 값을 dictionary에 넣어 반환\n",
    "- **`객체.__class__`**\n",
    "    - 객체의 타입을 반환"
   ]
  },
  {
   "cell_type": "code",
   "execution_count": 176,
   "metadata": {},
   "outputs": [],
   "source": [
    "p = Person3('이름', 30, '주소')\n",
    "t = Teacher3('이선생', 40, '부산', '영어', '교감')\n",
    "s = Student3('장학생', 14, '서울', 1)"
   ]
  },
  {
   "cell_type": "code",
   "execution_count": 177,
   "metadata": {},
   "outputs": [
    {
     "data": {
      "text/plain": [
       "(False, False)"
      ]
     },
     "execution_count": 177,
     "metadata": {},
     "output_type": "execute_result"
    }
   ],
   "source": [
    "# 변수 p의 타입이 XXXX인지?\n",
    "# type(p) == Person3\n",
    "isinstance(p, Person3)\n",
    "isinstance(p, Person), isinstance(p, str)"
   ]
  },
  {
   "cell_type": "code",
   "execution_count": 172,
   "metadata": {},
   "outputs": [
    {
     "data": {
      "text/plain": [
       "True"
      ]
     },
     "execution_count": 172,
     "metadata": {},
     "output_type": "execute_result"
    }
   ],
   "source": [
    "s = 30\n",
    "type(s) == int\n",
    "isinstance(s, int)\n",
    "isinstance(s, float)\n",
    "isinstance(s, (int, float))  # s가 int 또는 float타입인가?"
   ]
  },
  {
   "cell_type": "code",
   "execution_count": 173,
   "metadata": {},
   "outputs": [],
   "source": [
    "def function(value):\n",
    "    if isinstance(value, (int, float)):\n",
    "        print(value ** 2)\n",
    "    else: \n",
    "        print('계산 X 타입', type(value))"
   ]
  },
  {
   "cell_type": "code",
   "execution_count": 174,
   "metadata": {},
   "outputs": [
    {
     "name": "stdout",
     "output_type": "stream",
     "text": [
      "100\n",
      "5.76\n",
      "계산 X 타입 <class 'str'>\n"
     ]
    }
   ],
   "source": [
    "function(10)\n",
    "function(2.4)\n",
    "function('20')"
   ]
  },
  {
   "cell_type": "code",
   "execution_count": 178,
   "metadata": {},
   "outputs": [
    {
     "data": {
      "text/plain": [
       "(True, True)"
      ]
     },
     "execution_count": 178,
     "metadata": {},
     "output_type": "execute_result"
    }
   ],
   "source": [
    "isinstance(t, Teacher3), isinstance(s, Student3)"
   ]
  },
  {
   "cell_type": "code",
   "execution_count": 179,
   "metadata": {},
   "outputs": [
    {
     "data": {
      "text/plain": [
       "(True, True)"
      ]
     },
     "execution_count": 179,
     "metadata": {},
     "output_type": "execute_result"
    }
   ],
   "source": [
    "# 상위클래스가 자식클래스 객체의 타입이 된다\n",
    "isinstance(t, Person3), isinstance(s, Person3)"
   ]
  },
  {
   "cell_type": "code",
   "execution_count": 186,
   "metadata": {},
   "outputs": [],
   "source": [
    "def func(value):\n",
    "    # Student, Teacher 객체를 받아서 add_age() 이용해서 나이를 변경하고 attribute들을 출력\n",
    "    if isinstance(value, Person3):  # Person3, Person3의 모든 하위 객체 ==> True\n",
    "        value.add_age(1)\n",
    "        i = value.get_info()\n",
    "        print(i)\n",
    "    else:\n",
    "        print('해당 타입은 적용 불가')"
   ]
  },
  {
   "cell_type": "code",
   "execution_count": 187,
   "metadata": {},
   "outputs": [
    {
     "name": "stdout",
     "output_type": "stream",
     "text": [
      "이름: 장학생, 나이: 16, 주소: 장학생, 성적: 1\n"
     ]
    }
   ],
   "source": [
    "func(s)"
   ]
  },
  {
   "cell_type": "code",
   "execution_count": 188,
   "metadata": {
    "scrolled": true
   },
   "outputs": [
    {
     "name": "stdout",
     "output_type": "stream",
     "text": [
      "해당 타입은 적용 불가\n"
     ]
    }
   ],
   "source": [
    "func('abc')"
   ]
  },
  {
   "cell_type": "code",
   "execution_count": 189,
   "metadata": {},
   "outputs": [
    {
     "name": "stdout",
     "output_type": "stream",
     "text": [
      "나이를 변경 X\n",
      "이름: 이선생, 나이: 40, 주소: 이선생, 담당과목: 영어, 담당직책: 교감\n"
     ]
    }
   ],
   "source": [
    "func(t)"
   ]
  },
  {
   "cell_type": "code",
   "execution_count": 190,
   "metadata": {},
   "outputs": [
    {
     "data": {
      "text/plain": [
       "{'_Person3__name': '이름', '_Person3__age': 30, '_Person3__address': '주소'}"
      ]
     },
     "execution_count": 190,
     "metadata": {},
     "output_type": "execute_result"
    }
   ],
   "source": [
    "p.__dict__"
   ]
  },
  {
   "cell_type": "code",
   "execution_count": 191,
   "metadata": {},
   "outputs": [
    {
     "data": {
      "text/plain": [
       "{'_Person3__name': '이선생',\n",
       " '_Person3__age': 40,\n",
       " '_Person3__address': '부산',\n",
       " '_Teacher3__subject': '영어',\n",
       " 'job': '교감'}"
      ]
     },
     "execution_count": 191,
     "metadata": {},
     "output_type": "execute_result"
    }
   ],
   "source": [
    "t.__dict__"
   ]
  },
  {
   "cell_type": "code",
   "execution_count": 192,
   "metadata": {},
   "outputs": [
    {
     "data": {
      "text/plain": [
       "{'_Person3__name': '장학생',\n",
       " '_Person3__age': 16,\n",
       " '_Person3__address': '서울',\n",
       " '_Student3__grade': 1}"
      ]
     },
     "execution_count": 192,
     "metadata": {},
     "output_type": "execute_result"
    }
   ],
   "source": [
    "s.__dict__"
   ]
  },
  {
   "cell_type": "code",
   "execution_count": 194,
   "metadata": {},
   "outputs": [
    {
     "data": {
      "text/plain": [
       "__main__.Teacher3"
      ]
     },
     "execution_count": 194,
     "metadata": {},
     "output_type": "execute_result"
    }
   ],
   "source": [
    "t.__class__ "
   ]
  },
  {
   "cell_type": "code",
   "execution_count": 196,
   "metadata": {},
   "outputs": [
    {
     "data": {
      "text/plain": [
       "type"
      ]
     },
     "execution_count": 196,
     "metadata": {},
     "output_type": "execute_result"
    }
   ],
   "source": [
    "type(t.__class__ )"
   ]
  },
  {
   "cell_type": "code",
   "execution_count": 197,
   "metadata": {},
   "outputs": [
    {
     "data": {
      "text/plain": [
       "'Teacher3'"
      ]
     },
     "execution_count": 197,
     "metadata": {},
     "output_type": "execute_result"
    }
   ],
   "source": [
    "t.__class__.__name__  # class이름을 문자열로 반환"
   ]
  },
  {
   "cell_type": "code",
   "execution_count": 198,
   "metadata": {},
   "outputs": [
    {
     "data": {
      "text/plain": [
       "'Student3'"
      ]
     },
     "execution_count": 198,
     "metadata": {},
     "output_type": "execute_result"
    }
   ],
   "source": [
    "s.__class__.__name__"
   ]
  },
  {
   "cell_type": "markdown",
   "metadata": {
    "slideshow": {
     "slide_type": "slide"
    }
   },
   "source": [
    "## 특수 메소드\n",
    "\n",
    "\n",
    "### 특수 메소드란\n",
    "- 특정한 상황에서 사용될 때 자동으로 호출되도록 파이썬 실행환경에 정의된 약속된 메소드들이다. 객체에 특정 기능들을 추가할 때 사용한다.\n",
    "    - 정의한 메소드와 그것을 호출하는 함수가 다르다.\n",
    "         - ex) `__init__()` => 객체 생성할 때 호출 된다.\n",
    "- 메소드 명이 더블 언더스코어로 시작하고 끝난다. \n",
    "    - ex) `__init__(), __str__()`\n",
    "- 매직 메소드(Magic Method), 던더(DUNDER) 메소드라고도 한다.\n",
    "- 특수메소드 종류\n",
    "    - https://docs.python.org/ko/3/reference/datamodel.html#special-method-names"
   ]
  },
  {
   "cell_type": "markdown",
   "metadata": {
    "slideshow": {
     "slide_type": "subslide"
    }
   },
   "source": [
    "### 주요 특수메소드\n",
    "- **`__init__(self [, …])`**\n",
    "    - Initializer\n",
    "    - 객체 생성시 호출 된다.\n",
    "    - 객체 생성시 Attribute의 값들을 초기화하는 것을 구현한다.\n",
    "    - self 변수로 받은 instance에 Attribute를 설정한다.\n",
    "- **`__call__(self [, …])`**\n",
    "- 객체를 함수처럼 호출 하면 실행되는 메소드\n",
    "    - Argument를 받을 Parameter 변수는 self 변수 다음에 필요한대로 선언한다.\n",
    "    - 처리결과를 반환하도록 구현할 경우 `return value` 구문을 넣는다. (필수는 아니다.)\n",
    "\n"
   ]
  },
  {
   "cell_type": "code",
   "execution_count": 1,
   "metadata": {},
   "outputs": [],
   "source": [
    "class Plus:\n",
    "    def __init__(self, num1, num2):\n",
    "        self.num1 = num1\n",
    "        self.num2 = num2\n",
    "        \n",
    "#     def calculate(self):\n",
    "#         return self.num1 + self.num2\n",
    "\n",
    "    def __call__(self):\n",
    "        # 객체를 함수처럼 호출할 때 호출될 메소드\n",
    "        # 객체가 하나의 메소드를 제공하거나 메인 메소드(기능)가 하나 있을 때 정의\n",
    "        return self.num1 + self.num2"
   ]
  },
  {
   "cell_type": "code",
   "execution_count": 2,
   "metadata": {},
   "outputs": [],
   "source": [
    "plus = Plus(10, 20)\n",
    "# p.calculate()"
   ]
  },
  {
   "cell_type": "code",
   "execution_count": 3,
   "metadata": {},
   "outputs": [
    {
     "data": {
      "text/plain": [
       "30"
      ]
     },
     "execution_count": 3,
     "metadata": {},
     "output_type": "execute_result"
    }
   ],
   "source": [
    "plus()  # 객체() -> 객체를 함수처럼 호출(실행) ==> __call__() 가 호출"
   ]
  },
  {
   "cell_type": "code",
   "execution_count": 10,
   "metadata": {},
   "outputs": [],
   "source": [
    "class Square:\n",
    "    def __init__(self, num):\n",
    "        self.num = num\n",
    "        \n",
    "    # n 제곱하는 메소드\n",
    "    def calculate(self, n):\n",
    "        return self.num ** n\n",
    "    \n",
    "    def __call__(self, n):  # parameter는 1개 이상 원하는 대로 정의\n",
    "        return self.num ** n"
   ]
  },
  {
   "cell_type": "code",
   "execution_count": 11,
   "metadata": {},
   "outputs": [
    {
     "data": {
      "text/plain": [
       "243"
      ]
     },
     "execution_count": 11,
     "metadata": {},
     "output_type": "execute_result"
    }
   ],
   "source": [
    "square = Square(3)\n",
    "square.calculate(5)"
   ]
  },
  {
   "cell_type": "code",
   "execution_count": 12,
   "metadata": {},
   "outputs": [
    {
     "data": {
      "text/plain": [
       "2187"
      ]
     },
     "execution_count": 12,
     "metadata": {},
     "output_type": "execute_result"
    }
   ],
   "source": [
    "square(7)"
   ]
  },
  {
   "cell_type": "markdown",
   "metadata": {
    "slideshow": {
     "slide_type": "subslide"
    }
   },
   "source": [
    "- **`__repr__(self)`**\n",
    "    - Instance(객체) 자체를 표현할 수 있는 문자열을 반환한다.\n",
    "        - 보통 객체 생성하는 구문을 문자열로 반환한다.\n",
    "        - 반환된 문자열을 eval() 에 넣으면 동일한 attribute값들을 가진 객체를 생성할 수 있도록 정의한다.\n",
    "    - 내장함수 **repr(객체)** 호출할 때 이 메소드가 호출 된다.\n",
    "    - 대화형 IDE(REPL) 에서 객체를 참조하는 변수 출력할 때도 호출된다.\n",
    "> - eval(문자열)\n",
    ">     - 실행 가능한 구문의 문자열을 받아서 실행한다.\n",
    "\n",
    "- **`__str__(self)`**\n",
    "    - Instance(객체)의 Attribute들을 묶어서 문자열로 반환한다.\n",
    "    - 내장 함수 **str(객체)**  호출할 때 이 메소드가 호출 된다.\n",
    "        - str() 호출할 때 객체에 `__str__()`의 정의 안되 있으면 `__repr__()` 을 호출한다. `__repr__()`도 없으면 상위클래스에 정의된 `__str__()`을 호출한다.\n",
    "        - print() 함수는 값을 문자열로 변환해서 출력한다. 이때 그 값을 str() 에 넣어 문자열로 변환한다."
   ]
  },
  {
   "cell_type": "code",
   "execution_count": 16,
   "metadata": {
    "slideshow": {
     "slide_type": "fragment"
    }
   },
   "outputs": [],
   "source": [
    "# __repr__: 객체 값 => 값의 표현식을 문자열로 반환. 30 -> '30', True -> 'True'\n",
    "# Square 객체(값) - Square(30) -> 'Square(30)'\n",
    "# Person('홍길동', 20, '서울') -> \"Person('홍길동', 20, '서울')\"\n",
    "# Person('이순신', 20, '인천') -> \"Person('이순신', 20, '인천')\""
   ]
  },
  {
   "cell_type": "code",
   "execution_count": 31,
   "metadata": {},
   "outputs": [],
   "source": [
    "class Person:\n",
    "    \n",
    "    def __init__(self, name, age, address):\n",
    "        self.name = name\n",
    "        self.age = age\n",
    "        self.address = address\n",
    "        \n",
    "    def __repr__(self):\n",
    "        return f'Person(\"{self.name}\", {self.age}, \"{self.address}\")'\n",
    "    \n",
    "    def __str__(self):\n",
    "        return f'이름: {self.name}, 나이: {self.age}, 주소: {self.address}'"
   ]
  },
  {
   "cell_type": "code",
   "execution_count": 21,
   "metadata": {},
   "outputs": [],
   "source": [
    "p = Person('홍길동', 30, '서울')"
   ]
  },
  {
   "cell_type": "code",
   "execution_count": 33,
   "metadata": {},
   "outputs": [
    {
     "name": "stdout",
     "output_type": "stream",
     "text": [
      "Person(\"홍길동\", 30, \"서울\")\n"
     ]
    }
   ],
   "source": [
    "v2 = str(p)  # str(값) -> 값.__str__()의 반환값을 반환\n",
    "print(v2)"
   ]
  },
  {
   "cell_type": "code",
   "execution_count": 25,
   "metadata": {},
   "outputs": [
    {
     "data": {
      "text/plain": [
       "'Person(\"홍길동\", 30, \"서울\")'"
      ]
     },
     "execution_count": 25,
     "metadata": {},
     "output_type": "execute_result"
    }
   ],
   "source": [
    "v = repr(p)  # p.__repr__() 호출한 결과(str)를 반환 => p 값을 만드는(생성하는) 구문을 반환\n",
    "v"
   ]
  },
  {
   "cell_type": "code",
   "execution_count": 26,
   "metadata": {},
   "outputs": [
    {
     "data": {
      "text/plain": [
       "('홍길동', 30, '서울')"
      ]
     },
     "execution_count": 26,
     "metadata": {},
     "output_type": "execute_result"
    }
   ],
   "source": [
    "eval('1 + 1')\n",
    "p2 = eval(v)\n",
    "p2.name, p2.age, p2.address"
   ]
  },
  {
   "cell_type": "code",
   "execution_count": 27,
   "metadata": {},
   "outputs": [
    {
     "name": "stdout",
     "output_type": "stream",
     "text": [
      "hello world\n"
     ]
    }
   ],
   "source": [
    "print('hello world')"
   ]
  },
  {
   "cell_type": "code",
   "execution_count": 28,
   "metadata": {},
   "outputs": [
    {
     "data": {
      "text/plain": [
       "'hello world'"
      ]
     },
     "execution_count": 28,
     "metadata": {},
     "output_type": "execute_result"
    }
   ],
   "source": [
    "'hello world'  # 값의 표현식을 출력 -> __repr__() 반환값을 출력"
   ]
  },
  {
   "cell_type": "code",
   "execution_count": 29,
   "metadata": {},
   "outputs": [
    {
     "name": "stdout",
     "output_type": "stream",
     "text": [
      "'hello world'\n"
     ]
    }
   ],
   "source": [
    "print(\"'hello world'\")"
   ]
  },
  {
   "cell_type": "code",
   "execution_count": 30,
   "metadata": {},
   "outputs": [
    {
     "name": "stdout",
     "output_type": "stream",
     "text": [
      "'h'\n"
     ]
    },
    {
     "data": {
      "text/plain": [
       "3"
      ]
     },
     "execution_count": 30,
     "metadata": {},
     "output_type": "execute_result"
    }
   ],
   "source": [
    "ss = repr('h')\n",
    "print(ss)\n",
    "len(ss)  # 'h'"
   ]
  },
  {
   "cell_type": "markdown",
   "metadata": {
    "slideshow": {
     "slide_type": "subslide"
    }
   },
   "source": [
    "#### 연산자 재정의(Operator overriding) 관련 특수 메소드\n",
    "- 연산자의 피연산자로 객체를 사용하면 호출되는 메소드들\n",
    "- 다항연산자일 경우 가장 왼쪽의 객체에 정의된 메소드가 호출된다.\n",
    "    - `a + b` 일경우 a의 `__add__()` 가 호출된다.\n",
    "- **비교 연산자**\n",
    "    - **`__eq__(self, other)`** : self == other\n",
    "        - == 로 객체의 내용을 비교할 때 정의 한다.\n",
    "    - **`__lt__(self, other)`** : self < other, \n",
    "    - **`__gt__(self, other)`**: self > other\n",
    "        - min()이나 max()에서 인수로 사용할 경우 정의해야 한다.\n",
    "    - **`__le__(self, other)`**: self <= other\n",
    "    - **`__ge__(self, other)`**: self >= other\n",
    "    - **`__ne__(self, other)`**: self != other"
   ]
  },
  {
   "cell_type": "markdown",
   "metadata": {
    "slideshow": {
     "slide_type": "fragment"
    }
   },
   "source": [
    "- **산술 연산자**\n",
    "    - **`__add__(self, other)`**: self + other\n",
    "    - **`__sub__(self, other)`**: self - other\n",
    "    - **`__mul__(self, other)`**: self * other\n",
    "    - **`__truediv__(self, other)`**: self / other\n",
    "    - **`__floordiv__(self, other)`**: self // other\n",
    "    - **`__mod__(self, other)`**: self % other"
   ]
  },
  {
   "cell_type": "code",
   "execution_count": 60,
   "metadata": {},
   "outputs": [],
   "source": [
    "class Person:\n",
    "    \n",
    "    def __init__(self, name, age, address):\n",
    "        self.name = name\n",
    "        self.age = age\n",
    "        self.address = address\n",
    "        \n",
    "    def __repr__(self):\n",
    "        return f'Person(\"{self.name}\", {self.age}, \"{self.address}\")'\n",
    "    \n",
    "    def __str__(self):\n",
    "        return f'이름: {self.name}, 나이: {self.age}, 주소: {self.address}'\n",
    "    \n",
    "    def __eq__(self, other):\n",
    "        # self == other 연산시 호출 - 속성값이 같으면 True가 나오도록 처리\n",
    "        if isinstance(other, Person):\n",
    "            return self.name == other.name and self.age == other.age and self.address == other.address\n",
    "        else:\n",
    "            return False\n",
    "        \n",
    "    def __gt__(self, other):\n",
    "        # self > other 연산시 호출 - 나이 비교\n",
    "        if isinstance(other, Person):\n",
    "            return self.age > other.age\n",
    "        elif isinstance(other, (int, float)):\n",
    "            # self > 30, self > 25.4\n",
    "            return self.age > other\n",
    "        else:\n",
    "#             return False\n",
    "            # 에러(Exception)를 발생\n",
    "            raise TypeError(f\"Preson 타입과 {type(other)}는 '>' 연산을 할 수 없습니다.\")"
   ]
  },
  {
   "cell_type": "code",
   "execution_count": 61,
   "metadata": {},
   "outputs": [
    {
     "data": {
      "text/plain": [
       "True"
      ]
     },
     "execution_count": 61,
     "metadata": {},
     "output_type": "execute_result"
    }
   ],
   "source": [
    "p1 = Person('홍길동', 20, '서울')\n",
    "p2 = Person('이순신', 30, '인천')\n",
    "p3 = p1\n",
    "p4 = Person('홍길동', 20, '서울')\n",
    "p5 = Person('홍길동', 20, '부산')\n",
    "\n",
    "p1 == p5\n",
    "p1 == p4\n",
    "# p1 == p2  # 기본: p1과 p2가 같은 객체인지\n",
    "# p1 == p3\n",
    "# p1 == p4"
   ]
  },
  {
   "cell_type": "code",
   "execution_count": 62,
   "metadata": {},
   "outputs": [
    {
     "data": {
      "text/plain": [
       "True"
      ]
     },
     "execution_count": 62,
     "metadata": {},
     "output_type": "execute_result"
    }
   ],
   "source": [
    "p1 > p2\n",
    "p2 > p1"
   ]
  },
  {
   "cell_type": "code",
   "execution_count": 63,
   "metadata": {},
   "outputs": [
    {
     "data": {
      "text/plain": [
       "False"
      ]
     },
     "execution_count": 63,
     "metadata": {},
     "output_type": "execute_result"
    }
   ],
   "source": [
    "p1 > 10  # p1의 나이가 10보다 큰가?\n",
    "p1 > 25.3\n",
    "p1 > 190.8"
   ]
  },
  {
   "cell_type": "code",
   "execution_count": 64,
   "metadata": {},
   "outputs": [
    {
     "ename": "TypeError",
     "evalue": "Preson 타입과 <class 'str'>는 '>' 연산을 할 수 없습니다.",
     "output_type": "error",
     "traceback": [
      "\u001b[0;31m---------------------------------------------------------------------------\u001b[0m",
      "\u001b[0;31mTypeError\u001b[0m                                 Traceback (most recent call last)",
      "Input \u001b[0;32mIn [64]\u001b[0m, in \u001b[0;36m<cell line: 1>\u001b[0;34m()\u001b[0m\n\u001b[0;32m----> 1\u001b[0m \u001b[43mp1\u001b[49m\u001b[43m \u001b[49m\u001b[38;5;241;43m>\u001b[39;49m\u001b[43m \u001b[49m\u001b[38;5;124;43m'\u001b[39;49m\u001b[38;5;124;43m스무살\u001b[39;49m\u001b[38;5;124;43m'\u001b[39;49m\n",
      "Input \u001b[0;32mIn [60]\u001b[0m, in \u001b[0;36mPerson.__gt__\u001b[0;34m(self, other)\u001b[0m\n\u001b[1;32m     27\u001b[0m             \u001b[38;5;28;01mreturn\u001b[39;00m \u001b[38;5;28mself\u001b[39m\u001b[38;5;241m.\u001b[39mage \u001b[38;5;241m>\u001b[39m other\n\u001b[1;32m     28\u001b[0m         \u001b[38;5;28;01melse\u001b[39;00m:\n\u001b[1;32m     29\u001b[0m \u001b[38;5;66;03m#             return False\u001b[39;00m\n\u001b[1;32m     30\u001b[0m             \u001b[38;5;66;03m# 에러(Exception)를 발생\u001b[39;00m\n\u001b[0;32m---> 31\u001b[0m             \u001b[38;5;28;01mraise\u001b[39;00m \u001b[38;5;167;01mTypeError\u001b[39;00m(\u001b[38;5;124mf\u001b[39m\u001b[38;5;124m\"\u001b[39m\u001b[38;5;124mPreson 타입과 \u001b[39m\u001b[38;5;132;01m{\u001b[39;00m\u001b[38;5;28mtype\u001b[39m(other)\u001b[38;5;132;01m}\u001b[39;00m\u001b[38;5;124m는 \u001b[39m\u001b[38;5;124m'\u001b[39m\u001b[38;5;124m>\u001b[39m\u001b[38;5;124m'\u001b[39m\u001b[38;5;124m 연산을 할 수 없습니다.\u001b[39m\u001b[38;5;124m\"\u001b[39m)\n",
      "\u001b[0;31mTypeError\u001b[0m: Preson 타입과 <class 'str'>는 '>' 연산을 할 수 없습니다."
     ]
    }
   ],
   "source": [
    "p1 > '스무살'"
   ]
  },
  {
   "cell_type": "markdown",
   "metadata": {
    "slideshow": {
     "slide_type": "slide"
    }
   },
   "source": [
    "# class변수, class 메소드\n",
    "- **class변수**\n",
    "    - (Intance가 아닌) 클래스 자체의 데이터\n",
    "    - Attribute가 객체별로 생성된다면, class변수는 클래스당 하나가 생성된다.\n",
    "    - 구현\n",
    "        - class 블럭에 변수 선언.\n",
    "- **class 메소드**\n",
    "    - 클래스 변수를 처리하는 메소드\n",
    "    - 구현\n",
    "        - @classmethod 데코레이터를 붙인다.\n",
    "        - 첫번째 매개변수로 클래스를 받는 변수를 선언한다. 이 변수를 이용해 클래스 변수나 다른 클래스 메소드를 호출 한다."
   ]
  },
  {
   "cell_type": "markdown",
   "metadata": {
    "slideshow": {
     "slide_type": "subslide"
    }
   },
   "source": [
    "# static 메소드\n",
    "- 클래스의 메소드로 클래스 변수와 상관없는 단순기능을 정의한다.\n",
    "    - Caller 에서 받은 argument만 가지고 일하는 메소드를 구현한다.\n",
    "- 구현\n",
    "    - @staticmethod 데코레이터를 붙인다.\n",
    "    - Parameter에 대한 규칙은 없이 필요한 변수들만 선언한다.\n",
    "    "
   ]
  },
  {
   "cell_type": "markdown",
   "metadata": {
    "slideshow": {
     "slide_type": "fragment"
    }
   },
   "source": [
    "## class 메소드/변수, static 메소드 호출\n",
    "- 클래스이름.변수\n",
    "- 클래스이름.메소드() "
   ]
  },
  {
   "cell_type": "code",
   "execution_count": 98,
   "metadata": {
    "slideshow": {
     "slide_type": "fragment"
    }
   },
   "outputs": [],
   "source": [
    "class Circle:\n",
    "    __version__ = '1.0'\n",
    "    __PI = 3.14  # class의 변수 - class variable (class block 정의)\n",
    "    \n",
    "    # PI의 값을 변경(setter), 조회(getter)\n",
    "    \n",
    "    @classmethod\n",
    "    def set_PI(clazz, new_PI):  # 첫번째 파라미터 - class 자체를 받음 Circle.set_PI(3.14)\n",
    "        # clazz -> class 변수, 다른 class 메소드 호출할 때 사용\n",
    "        if new_PI in [3.14, 3.14159]:\n",
    "            clazz.__PI = new_PI\n",
    "        else:\n",
    "            print('변경못함 현재 PI값: ', clazz.__PI)\n",
    "    @classmethod\n",
    "    def get_PI(clazz):\n",
    "        return clazz.__PI\n",
    "            \n",
    "    def __init__(self, radius):\n",
    "        # self -> aattribute(instance 변수), 다른 instance method\n",
    "        self.radius = radius\n",
    "        \n",
    "    def calc_area(self):  # 원의 너비\n",
    "        return self.radius * self.radius * Circle.__PI  # method에서 class 변수 사용\n",
    "    \n",
    "    @staticmethod\n",
    "    def class_version():\n",
    "        # class변수나 instance변수를 사용하지 않는 메소드\n",
    "        # 함수처럼 사용하는 메소드(클래스 소속)\n",
    "        return '1.0'"
   ]
  },
  {
   "cell_type": "code",
   "execution_count": 99,
   "metadata": {},
   "outputs": [
    {
     "data": {
      "text/plain": [
       "'1.0'"
      ]
     },
     "execution_count": 99,
     "metadata": {},
     "output_type": "execute_result"
    }
   ],
   "source": [
    "Circle.__version__"
   ]
  },
  {
   "cell_type": "code",
   "execution_count": 97,
   "metadata": {},
   "outputs": [
    {
     "data": {
      "text/plain": [
       "'1.0'"
      ]
     },
     "execution_count": 97,
     "metadata": {},
     "output_type": "execute_result"
    }
   ],
   "source": [
    "Circle.class_version()"
   ]
  },
  {
   "cell_type": "code",
   "execution_count": 88,
   "metadata": {},
   "outputs": [
    {
     "name": "stdout",
     "output_type": "stream",
     "text": [
      "변경못함 현재 PI값:  3.14\n"
     ]
    }
   ],
   "source": [
    "Circle.set_PI(3)\n",
    "Circle.set_PI(3.14159)"
   ]
  },
  {
   "cell_type": "code",
   "execution_count": 90,
   "metadata": {},
   "outputs": [
    {
     "data": {
      "text/plain": [
       "3.14159"
      ]
     },
     "execution_count": 90,
     "metadata": {},
     "output_type": "execute_result"
    }
   ],
   "source": [
    "# Circle._Circle__PI\n",
    "Circle.get_PI()"
   ]
  },
  {
   "cell_type": "code",
   "execution_count": 91,
   "metadata": {},
   "outputs": [
    {
     "name": "stdout",
     "output_type": "stream",
     "text": [
      "78.53975\n"
     ]
    }
   ],
   "source": [
    "c = Circle(5)\n",
    "print(c.calc_area())"
   ]
  },
  {
   "cell_type": "code",
   "execution_count": 94,
   "metadata": {},
   "outputs": [
    {
     "name": "stdout",
     "output_type": "stream",
     "text": [
      "3.14159\n"
     ]
    }
   ],
   "source": [
    "# class 변수 조회\n",
    "print(Circle._Circle__PI)"
   ]
  },
  {
   "cell_type": "code",
   "execution_count": 93,
   "metadata": {},
   "outputs": [
    {
     "name": "stdout",
     "output_type": "stream",
     "text": [
      "3.14159\n"
     ]
    }
   ],
   "source": [
    "# class 변수 변경\n",
    "Circle.PI = 3.14159\n",
    "print(Circle.PI)"
   ]
  },
  {
   "cell_type": "code",
   "execution_count": 76,
   "metadata": {},
   "outputs": [
    {
     "name": "stdout",
     "output_type": "stream",
     "text": [
      "78.53975\n"
     ]
    }
   ],
   "source": [
    "print(c.calc_area())"
   ]
  },
  {
   "cell_type": "code",
   "execution_count": 77,
   "metadata": {},
   "outputs": [
    {
     "data": {
      "text/plain": [
       "78.53975"
      ]
     },
     "execution_count": 77,
     "metadata": {},
     "output_type": "execute_result"
    }
   ],
   "source": [
    "5 * 5 * 3.14159"
   ]
  },
  {
   "cell_type": "code",
   "execution_count": null,
   "metadata": {},
   "outputs": [],
   "source": []
  }
 ],
 "metadata": {
  "kernelspec": {
   "display_name": "Python 3 (ipykernel)",
   "language": "python",
   "name": "python3"
  },
  "language_info": {
   "codemirror_mode": {
    "name": "ipython",
    "version": 3
   },
   "file_extension": ".py",
   "mimetype": "text/x-python",
   "name": "python",
   "nbconvert_exporter": "python",
   "pygments_lexer": "ipython3",
   "version": "3.9.12"
  },
  "toc": {
   "base_numbering": 1,
   "nav_menu": {},
   "number_sections": true,
   "sideBar": true,
   "skip_h1_title": false,
   "title_cell": "Table of Contents",
   "title_sidebar": "Contents",
   "toc_cell": false,
   "toc_position": {},
   "toc_section_display": true,
   "toc_window_display": false
  },
  "varInspector": {
   "cols": {
    "lenName": 16,
    "lenType": 16,
    "lenVar": 40
   },
   "kernels_config": {
    "python": {
     "delete_cmd_postfix": "",
     "delete_cmd_prefix": "del ",
     "library": "var_list.py",
     "varRefreshCmd": "print(var_dic_list())"
    },
    "r": {
     "delete_cmd_postfix": ") ",
     "delete_cmd_prefix": "rm(",
     "library": "var_list.r",
     "varRefreshCmd": "cat(var_dic_list()) "
    }
   },
   "types_to_exclude": [
    "module",
    "function",
    "builtin_function_or_method",
    "instance",
    "_Feature"
   ],
   "window_display": false
  }
 },
 "nbformat": 4,
 "nbformat_minor": 4
}
