{
 "cells": [
  {
   "cell_type": "markdown",
   "id": "4bee0327",
   "metadata": {},
   "source": [
    "### 파이썬 리스트 (051 ~ 070)"
   ]
  },
  {
   "cell_type": "code",
   "execution_count": null,
   "id": "280f4257",
   "metadata": {},
   "outputs": [],
   "source": [
    "# 051 리스트 생성\n",
    "# 2016년 11월 영화 예매 순위 기준 top3는 다음과 같습니다.\n",
    "# 영화 제목을 movie_rank 이름의 리스트에 저장해보세요.\n",
    "# (순위 정보는 저장하지 않습니다.)\n",
    "# 순위\t영화\n",
    "# 1 닥터 스트레인지\n",
    "# 2 스플릿\n",
    "# 3 럭키"
   ]
  },
  {
   "cell_type": "code",
   "execution_count": null,
   "id": "016af668",
   "metadata": {},
   "outputs": [],
   "source": [
    "# 052 리스트에 원소 추가\n",
    "# 051의 movie_rank 리스트에 \"배트맨\"을 추가하라."
   ]
  },
  {
   "cell_type": "code",
   "execution_count": null,
   "id": "90776a30",
   "metadata": {},
   "outputs": [],
   "source": [
    "# 053\n",
    "# movie_rank 리스트에는 아래와 같이 네 개의 영화 제목이 바인딩되어 있다.\n",
    "# \"슈퍼맨\"을 \"닥터 스트레인지\"와 \"스플릿\" 사이에 추가하라.\n",
    "movie_rank = ['닥터 스트레인지', '스플릿', '럭키', '배트맨']"
   ]
  },
  {
   "cell_type": "code",
   "execution_count": null,
   "id": "51e9b433",
   "metadata": {},
   "outputs": [],
   "source": [
    "# 054\n",
    "# movie_rank 리스트에서 '럭키'를 삭제하라.\n",
    "movie_rank = ['닥터 스트레인지', '슈퍼맨', '스플릿', '럭키', '배트맨']."
   ]
  },
  {
   "cell_type": "code",
   "execution_count": null,
   "id": "87a0dd56",
   "metadata": {},
   "outputs": [],
   "source": [
    "# 055\n",
    "# movie_rank 리스트에서 '스플릿' 과 '배트맨'을 를 삭제하라.\n",
    "movie_rank = ['닥터 스트레인지', '슈퍼맨', '스플릿', '배트맨']."
   ]
  },
  {
   "cell_type": "code",
   "execution_count": null,
   "id": "6e28ac45",
   "metadata": {},
   "outputs": [],
   "source": [
    "# 056\n",
    "# lang1과 lang2 리스트가 있을 때 lang1과 lang2의 원소를 모두 갖고 있는 langs 리스트를 만들어라.\n",
    "lang1 = [\"C\", \"C++\", \"JAVA\"]\n",
    "lang2 = [\"Python\", \"Go\", \"C#\"]\n",
    "# 실행 예:>> langs['C', 'C++', 'JAVA', 'Python', 'Go', 'C#']."
   ]
  },
  {
   "cell_type": "code",
   "execution_count": null,
   "id": "f1b31e84",
   "metadata": {},
   "outputs": [],
   "source": [
    "# 057\n",
    "# 다음 리스트에서 최댓값과 최솟값을 출력하라.\n",
    "# (힌트: min(), max() 함수 사용)\n",
    "nums = [1, 2, 3, 4, 5, 6, 7]\n",
    "# 실행 예:max:  7min:  1."
   ]
  },
  {
   "cell_type": "code",
   "execution_count": null,
   "id": "151f173d",
   "metadata": {},
   "outputs": [],
   "source": [
    "# 058다음 리스트의 합을 출력하라.\n",
    "nums = [1, 2, 3, 4, 5]\n",
    "# 실행 예:15."
   ]
  },
  {
   "cell_type": "code",
   "execution_count": null,
   "id": "2154fb70",
   "metadata": {},
   "outputs": [],
   "source": [
    "# 059\n",
    "# 다음 리스트에 저장된 데이터의 개수를 화면에 구하하라.\n",
    "cook = [\"피자\", \"김밥\", \"만두\", \"양념치킨\", \"족발\", \"피자\", \"김치만두\", \"쫄면\", \"소시지\", \"라면\", \"팥빙수\", \"김치전\"]."
   ]
  },
  {
   "cell_type": "code",
   "execution_count": null,
   "id": "2300251b",
   "metadata": {},
   "outputs": [],
   "source": [
    "# 060다음 리스트의 평균을 출력하라.\n",
    "nums = [1, 2, 3, 4, 5]\n",
    "# 실행 예:3.0"
   ]
  },
  {
   "cell_type": "code",
   "execution_count": null,
   "id": "a5565c70",
   "metadata": {},
   "outputs": [],
   "source": [
    "# 061\n",
    "# price 변수에는 날짜와 종가 정보가 저장돼 있다. 날짜 정보를 제외하고 가격 정보만을 출력하라. (힌트 : 슬라이싱)\n",
    "price = ['20180728', 100, 130, 140, 150, 160, 170]\n",
    "# 출력 예시:\n",
    "# [100, 130, 140, 150, 160, 170]"
   ]
  },
  {
   "cell_type": "code",
   "execution_count": null,
   "id": "8495de85",
   "metadata": {},
   "outputs": [],
   "source": [
    "# 062\n",
    "# 슬라이싱을 사용해서 홀수만 출력하라.\n",
    "nums = [1, 2, 3, 4, 5, 6, 7, 8, 9, 10]\n",
    "# 실행 예:\n",
    "# [1, 3, 5, 7, 9]"
   ]
  },
  {
   "cell_type": "code",
   "execution_count": null,
   "id": "c395dc43",
   "metadata": {},
   "outputs": [],
   "source": [
    "# 063\n",
    "# 슬라이싱을 사용해서 짝수만 출력하라.\n",
    "nums = [1, 2, 3, 4, 5, 6, 7, 8, 9, 10]\n",
    "# 실행 예:\n",
    "# [2, 4, 6, 8, 10]"
   ]
  },
  {
   "cell_type": "code",
   "execution_count": null,
   "id": "01d8d1ce",
   "metadata": {},
   "outputs": [],
   "source": [
    "# 064\n",
    "# 슬라이싱을 사용해서 리스트의 숫자를 역 방향으로 출력하라.\n",
    "nums = [1, 2, 3, 4, 5]\n",
    "# 실행 예:\n",
    "# [5, 4, 3, 2, 1]"
   ]
  },
  {
   "cell_type": "code",
   "execution_count": null,
   "id": "bd6d78f2",
   "metadata": {},
   "outputs": [],
   "source": [
    "# 065\n",
    "# interest 리스트에는 아래의 데이터가 바인딩되어 있다.\n",
    "interest = ['삼성전자', 'LG전자', 'Naver']\n",
    "# interest 리스트를 사용하여 아래와 같이 화면에 출력하라.\n",
    "# 출력 예시:\n",
    "# 삼성전자 Naver"
   ]
  },
  {
   "cell_type": "code",
   "execution_count": null,
   "id": "1e05d913",
   "metadata": {},
   "outputs": [],
   "source": [
    "# 066 join 메서드\n",
    "# interest 리스트에는 아래의 데이터가 바인딩되어 있다.\n",
    "interest = ['삼성전자', 'LG전자', 'Naver', 'SK하이닉스', '미래에셋대우']\n",
    "# interest 리스트를 사용하여 아래와 같이 화면에 출력하라.\n",
    "# 출력 예시:\n",
    "# 삼성전자 LG전자 Naver SK하이닉스 미래에셋대우"
   ]
  },
  {
   "cell_type": "code",
   "execution_count": null,
   "id": "d75ee780",
   "metadata": {},
   "outputs": [],
   "source": [
    "# 067 join 메서드\n",
    "# interest 리스트에는 아래의 데이터가 바인딩되어 있다.\n",
    "interest = ['삼성전자', 'LG전자', 'Naver', 'SK하이닉스', '미래에셋대우']\n",
    "# interest 리스트를 사용하여 아래와 같이 화면에 출력하라.\n",
    "# 출력 예시:\n",
    "# 삼성전자/LG전자/Naver/SK하이닉스/미래에셋대우"
   ]
  },
  {
   "cell_type": "code",
   "execution_count": null,
   "id": "091b776f",
   "metadata": {},
   "outputs": [],
   "source": [
    "# 068 join 메서드\n",
    "# interest 리스트에는 아래의 데이터가 바인딩되어 있다.\n",
    "interest = ['삼성전자', 'LG전자', 'Naver', 'SK하이닉스', '미래에셋대우']\n",
    "# join() 메서드를 사용해서 interest 리스트를 아래와 같이 화면에 출력하라.\n",
    "# 출력 예시:\n",
    "# 삼성전자\n",
    "# LG전자\n",
    "# Naver\n",
    "# SK하이닉스\n",
    "# 미래에셋대우"
   ]
  },
  {
   "cell_type": "code",
   "execution_count": null,
   "id": "9b6f9871",
   "metadata": {},
   "outputs": [],
   "source": [
    "# 069 문자열 split 메서드\n",
    "# 회사 이름이 슬래시 ('/')로 구분되어 하나의 문자열로 저장되어 있다.\n",
    "string = \"삼성전자/LG전자/Naver\"\n",
    "# 이를 interest 이름의 리스트로 분리 저장하라.\n",
    "# 실행 예시\n",
    "# >> print(interest)\n",
    "# ['삼성전자', 'LG전자', 'Naver']"
   ]
  },
  {
   "cell_type": "code",
   "execution_count": null,
   "id": "a3ea091d",
   "metadata": {},
   "outputs": [],
   "source": [
    "# 070 리스트 정렬\n",
    "# 리스트에 있는 값을 오름차순으로 정렬하세요.\n",
    "data = [2, 4, 3, 1, 5, 10, 9]"
   ]
  },
  {
   "cell_type": "markdown",
   "id": "0c8c17ad",
   "metadata": {},
   "source": [
    "### 파이썬 튜플 (071 ~ 080)"
   ]
  },
  {
   "cell_type": "code",
   "execution_count": null,
   "id": "3a42a745",
   "metadata": {},
   "outputs": [],
   "source": [
    "# 071\n",
    "# my_variable 이름의 비어있는 튜플을 만들라."
   ]
  },
  {
   "cell_type": "code",
   "execution_count": null,
   "id": "afa3aeb6",
   "metadata": {},
   "outputs": [],
   "source": [
    "# 072\n",
    "# 2016년 11월 영화 예매 순위 기준 top3는 다음과 같다. 영화 제목을 movie_rank 이름의 튜플에 저장하라. (순위 정보는 저장하지 않는다.)\n",
    "# 순위\t영화\n",
    "# 1\t닥터 스트레인지\n",
    "# 2\t스플릿\n",
    "# 3\t럭키"
   ]
  },
  {
   "cell_type": "code",
   "execution_count": null,
   "id": "71707d37",
   "metadata": {},
   "outputs": [],
   "source": [
    "# 073\n",
    "# 숫자 1 이 저장된 튜플을 생성하라."
   ]
  },
  {
   "cell_type": "code",
   "execution_count": null,
   "id": "3dc00df4",
   "metadata": {},
   "outputs": [],
   "source": [
    "# 074\n",
    "# 다음 코드를 실행해보고 오류가 발생하는 원인을 설명하라.\n",
    "# >> t = (1, 2, 3)\n",
    "# >> t[0] = 'a'\n",
    "# Traceback (most recent call last):\n",
    "#   File \"<pyshell#46>\", line 1, in <module>\n",
    "#     t[0] = 'a'\n",
    "# TypeError: 'tuple' object does not support item assignment"
   ]
  },
  {
   "cell_type": "code",
   "execution_count": null,
   "id": "f41f9592",
   "metadata": {},
   "outputs": [],
   "source": [
    "# 075\n",
    "# 아래와 같이 t에는 1, 2, 3, 4 데이터가 바인딩되어 있다. t가 바인딩하는 데이터 타입은 무엇인가?\n",
    "t = 1, 2, 3, 4"
   ]
  },
  {
   "cell_type": "code",
   "execution_count": null,
   "id": "0cbba63d",
   "metadata": {},
   "outputs": [],
   "source": [
    "# 076\n",
    "# 변수 t에는 아래와 같은 값이 저장되어 있다. 변수 t가 ('A', 'b', 'c') 튜플을 가리키도록 수정 하라.\n",
    "t = ('a', 'b', 'c')"
   ]
  },
  {
   "cell_type": "code",
   "execution_count": null,
   "id": "0d94606f",
   "metadata": {},
   "outputs": [],
   "source": [
    "# 077\n",
    "# 다음 튜플을 리스트로 변환하라.\n",
    "\n",
    "interest = ('삼성전자', 'LG전자', 'SK Hynix')"
   ]
  },
  {
   "cell_type": "code",
   "execution_count": null,
   "id": "28aede05",
   "metadata": {},
   "outputs": [],
   "source": [
    "# 078\n",
    "# 다음 리스트를 튜플로 변경하라.\n",
    "interest = ['삼성전자', 'LG전자', 'SK Hynix']"
   ]
  },
  {
   "cell_type": "code",
   "execution_count": null,
   "id": "6b6d5886",
   "metadata": {},
   "outputs": [],
   "source": [
    "# 079 튜플 언팩킹\n",
    "# 다음 코드의 실행 결과를 예상하라.\n",
    "temp = ('apple', 'banana', 'cake')\n",
    "a, b, c = temp\n",
    "print(a, b, c)"
   ]
  },
  {
   "cell_type": "code",
   "execution_count": null,
   "id": "7f0f52bf",
   "metadata": {},
   "outputs": [],
   "source": [
    "# 080 range 함수\n",
    "# 1 부터 99까지의 정수 중 짝수만 저장된 튜플을 생성하라.\n",
    "# (2, 4, 6, 8 ... 98)"
   ]
  },
  {
   "cell_type": "markdown",
   "id": "3aa93239",
   "metadata": {},
   "source": [
    "### 파이썬 딕셔너리 (081 ~ 100)"
   ]
  },
  {
   "cell_type": "code",
   "execution_count": null,
   "id": "5a4b3915",
   "metadata": {},
   "outputs": [],
   "source": [
    "# 081 별 표현식\n",
    "# 기본적으로 데이터 언패킹은 좌변의 변수와 우변 데이터 개수가 같아야 합니다. 하지만 star expression을 사용하면 변수의 개수가 달라도 데이터 언패킹을 할 수 있습니다. 튜플에 저장된 데이터 중에서 앞에 있는 두 개의 데이터만 필요할 경우 나머지 데이터의 언패킹 코드를 작성할 필요가 없습니다.\n",
    "# >> a, b, *c = (0, 1, 2, 3, 4, 5)\n",
    "# >> a\n",
    "# 0\n",
    "# >> b\n",
    "# 1\n",
    "# >> c\n",
    "# [2, 3, 4, 5]\n",
    "# 다음과 같이 10개의 값이 저장된 scores 리스트가 있을 때, start expression을 사용하여 좌측 8개의 값을 valid_score 변수에 바인딩하여라.\n",
    "scores = [8.8, 8.9, 8.7, 9.2, 9.3, 9.7, 9.9, 9.5, 7.8, 9.4]"
   ]
  },
  {
   "cell_type": "code",
   "execution_count": null,
   "id": "e75a2ae9",
   "metadata": {},
   "outputs": [],
   "source": [
    "# 082\n",
    "# 다음과 같이 10개의 값이 저장된 scores 리스트가 있을 때, start expression을 사용하여 우측 8개의 값을 valid_score 변수에 바인딩하여라.\n",
    "scores = [8.8, 8.9, 8.7, 9.2, 9.3, 9.7, 9.9, 9.5, 7.8, 9.4]"
   ]
  },
  {
   "cell_type": "code",
   "execution_count": null,
   "id": "46bfecd8",
   "metadata": {},
   "outputs": [],
   "source": [
    "# 083\n",
    "# 다음과 같이 10개의 값이 저장된 scores 리스트가 있을 때, start expression을 사용하여 가운데 있는 8개의 값을 valid_score 변수에 바인딩하여라.\n",
    "scores = [8.8, 8.9, 8.7, 9.2, 9.3, 9.7, 9.9, 9.5, 7.8, 9.4]"
   ]
  },
  {
   "cell_type": "code",
   "execution_count": null,
   "id": "215e3672",
   "metadata": {},
   "outputs": [],
   "source": [
    "# 084 비어있는 딕셔너리\n",
    "# temp 이름의 비어있는 딕셔너리를 만들라."
   ]
  },
  {
   "cell_type": "code",
   "execution_count": null,
   "id": "d3da776b",
   "metadata": {},
   "outputs": [],
   "source": [
    "# 085\n",
    "# 다음 아이스크림 이름과 희망 가격을 딕셔너리로 구성하라.\n",
    "# 이름\t희망 가격\n",
    "# 메로나\t1000\n",
    "# 폴라포\t1200\n",
    "# 빵빠레\t1800"
   ]
  },
  {
   "cell_type": "code",
   "execution_count": null,
   "id": "ff0cb433",
   "metadata": {},
   "outputs": [],
   "source": [
    "# 086\n",
    "# 085 번의 딕셔너리에 아래 아이스크림 가격정보를 추가하라.\n",
    "# 이름\t희망 가격\n",
    "# 죠스바\t1200\n",
    "# 월드콘\t1500"
   ]
  },
  {
   "cell_type": "code",
   "execution_count": null,
   "id": "f9fe1260",
   "metadata": {},
   "outputs": [],
   "source": [
    "# 087\n",
    "# 다음 딕셔너리를 사용하여 메로나 가격을 출력하라.\n",
    "ice = {'메로나': 1000,\n",
    "       '폴로포': 1200,\n",
    "       '빵빠레': 1800,\n",
    "       '죠스바': 1200,\n",
    "       '월드콘': 1500}\n",
    "# 실행 예:\n",
    "# 메로나 가격: 1000"
   ]
  },
  {
   "cell_type": "code",
   "execution_count": null,
   "id": "00bd336e",
   "metadata": {},
   "outputs": [],
   "source": [
    "# 088\n",
    "# 다음 딕셔너리에서 메로나의 가격을 1300으로 수정하라.\n",
    "ice = {'메로나': 1000,\n",
    "       '폴로포': 1200,\n",
    "       '빵빠레': 1800,\n",
    "       '죠스바': 1200,\n",
    "       '월드콘': 1500}"
   ]
  },
  {
   "cell_type": "code",
   "execution_count": null,
   "id": "d9b80a2a",
   "metadata": {},
   "outputs": [],
   "source": [
    "# 089\n",
    "# 다음 딕셔너리에서 메로나를 삭제하라.\n",
    "ice = {'메로나': 1000,\n",
    "       '폴로포': 1200,\n",
    "       '빵빠레': 1800,\n",
    "       '죠스바': 1200,\n",
    "       '월드콘': 1500}"
   ]
  },
  {
   "cell_type": "code",
   "execution_count": null,
   "id": "5bc2d0c2",
   "metadata": {},
   "outputs": [],
   "source": [
    "# 090\n",
    "# 다음 코드에서 에러가 발생한 원인을 설명하라.\n",
    "# >> icecream = {'폴라포': 1200, '빵빠레': 1800, '월드콘': 1500, '메로나': 1000}\n",
    "# >> icecream['누가바']\n",
    "# Traceback (most recent call last):\n",
    "#   File \"<pyshell#69>\", line 1, in <module>\n",
    "#     icecream['누가바']\n",
    "# KeyError: '누가바'"
   ]
  },
  {
   "cell_type": "code",
   "execution_count": null,
   "id": "b9c79326",
   "metadata": {},
   "outputs": [],
   "source": [
    "# 091 딕셔너리 생성\n",
    "# 아래의 표에서, 아이스크림 이름을 키값으로, (가격, 재고) 리스트를 딕셔너리의 값으로 저장하라. 딕셔너리의 이름은 inventory로 한다.\n",
    "# 이름\t가격\t재고\n",
    "# 메로나\t300\t20\n",
    "# 비비빅\t400\t3\n",
    "# 죠스바\t250\t100"
   ]
  },
  {
   "cell_type": "code",
   "execution_count": null,
   "id": "7b9cf08f",
   "metadata": {},
   "outputs": [],
   "source": [
    "# 092 딕셔너리 인덱싱\n",
    "# inventory 딕셔너리에서 메로나의 가격을 화면에 출력하라.\n",
    "inventory = {\"메로나\": [300, 20],\n",
    "              \"비비빅\": [400, 3],\n",
    "              \"죠스바\": [250, 100]}\n",
    "# 실행 예시:\n",
    "# 300 원"
   ]
  },
  {
   "cell_type": "code",
   "execution_count": null,
   "id": "e846f514",
   "metadata": {},
   "outputs": [],
   "source": [
    "# 093 딕셔너리 인덱싱\n",
    "# inventory 딕셔너리에서 메로나의 재고를 화면에 출력하라.\n",
    "inventory = {\"메로나\": [300, 20],\n",
    "              \"비비빅\": [400, 3],\n",
    "              \"죠스바\": [250, 100]}\n",
    "# 실행 예시:\n",
    "# 20 개"
   ]
  },
  {
   "cell_type": "code",
   "execution_count": null,
   "id": "11ad0672",
   "metadata": {},
   "outputs": [],
   "source": [
    "# 094 딕셔너리 추가\n",
    "# inventory 딕셔너리에 아래 데이터를 추가하라.\n",
    "inventory = {\"메로나\": [300, 20],\n",
    "              \"비비빅\": [400, 3],\n",
    "              \"죠스바\": [250, 100]}\n",
    "# 이름\t가격\t재고\n",
    "# 월드콘\t500\t7\n",
    "# 실행 예시:\n",
    "# >> print(inventory)\n",
    "# {'메로나': [300, 20], '비비빅': [400, 3], '죠스바': [250, 100], '월드콘': [500, 7]}"
   ]
  },
  {
   "cell_type": "code",
   "execution_count": null,
   "id": "a5d66d14",
   "metadata": {},
   "outputs": [],
   "source": [
    "# 095 딕셔너리 keys() 메서드\n",
    "# 다음의 딕셔너리로부터 key 값으로만 구성된 리스트를 생성하라.\n",
    "icecream = {'탱크보이': 1200, '폴라포': 1200, '빵빠레': 1800, '월드콘': 1500, '메로나': 1000}"
   ]
  },
  {
   "cell_type": "code",
   "execution_count": null,
   "id": "6280aa12",
   "metadata": {},
   "outputs": [],
   "source": [
    "# 096 딕셔너리 values() 메서드\n",
    "# 다음의 딕셔너리에서 values 값으로만 구성된 리스트를 생성하라.\n",
    "icecream = {'탱크보이': 1200, '폴라포': 1200, '빵빠레': 1800, '월드콘': 1500, '메로나': 1000}"
   ]
  },
  {
   "cell_type": "code",
   "execution_count": null,
   "id": "f5926d76",
   "metadata": {},
   "outputs": [],
   "source": [
    "# 097 딕셔너리 values() 메서드\n",
    "# icecream 딕셔너리에서 아이스크림 판매 금액의 총합을 출력하라.\n",
    "icecream = {'탱크보이': 1200, '폴라포': 1200, '빵빠레': 1800, '월드콘': 1500, '메로나': 1000}\n",
    "# 출력 예시:\n",
    "# 6700"
   ]
  },
  {
   "cell_type": "code",
   "execution_count": null,
   "id": "cd46290e",
   "metadata": {},
   "outputs": [],
   "source": [
    "# 098 딕셔너리 update 메서드\n",
    "# 아래의 new_product 딕셔너리를 다음 icecream 딕셔너리에 추가하라.\n",
    "icecream = {'탱크보이': 1200, '폴라포': 1200, '빵빠레': 1800, '월드콘': 1500, '메로나': 1000}\n",
    "new_product = {'팥빙수':2700, '아맛나':1000}\n",
    "# 실행 예시:\n",
    "# >> print(icecream)\n",
    "# {'탱크보이': 1200,  '폴라포': 1200,  '빵빠레': 1800,  '월드콘': 1500,  '메로나': 1000,  '팥빙수':2700, '아맛나':1000}"
   ]
  },
  {
   "cell_type": "code",
   "execution_count": null,
   "id": "1738abf7",
   "metadata": {},
   "outputs": [],
   "source": [
    "# 099 zip과 dict\n",
    "# 아래 두 개의 튜플을 하나의 딕셔너리로 변환하라. keys를 키로, vals를 값으로 result 이름의 딕셔너리로 저장한다.\n",
    "keys = (\"apple\", \"pear\", \"peach\")\n",
    "vals = (300, 250, 400)\n",
    "# 실행 예시:\n",
    "# >> print(result)\n",
    "# {'apple': 300, 'pear': 250, 'peach': 400}"
   ]
  },
  {
   "cell_type": "code",
   "execution_count": null,
   "id": "b663a355",
   "metadata": {},
   "outputs": [],
   "source": [
    "# 100 zip과 dict\n",
    "# date와 close_price 두 개의 리스트를 close_table 이름의 딕셔너리로 생성하라.\n",
    "date = ['09/05', '09/06', '09/07', '09/08', '09/09']\n",
    "close_price = [10500, 10300, 10100, 10800, 11000]\n",
    "# 실행 예시:\n",
    "# >> print(close_table)\n",
    "# {'09/05': 10500, '09/06': 10300, '09/07': 10100, '09/08': 10800, '09/09': 11000}"
   ]
  }
 ],
 "metadata": {
  "kernelspec": {
   "display_name": "Python 3 (ipykernel)",
   "language": "python",
   "name": "python3"
  },
  "language_info": {
   "codemirror_mode": {
    "name": "ipython",
    "version": 3
   },
   "file_extension": ".py",
   "mimetype": "text/x-python",
   "name": "python",
   "nbconvert_exporter": "python",
   "pygments_lexer": "ipython3",
   "version": "3.9.12"
  }
 },
 "nbformat": 4,
 "nbformat_minor": 5
}
