{
 "cells": [
  {
   "cell_type": "markdown",
   "id": "8c49cd8e",
   "metadata": {
    "slideshow": {
     "slide_type": "slide"
    }
   },
   "source": [
    "# 제어문(Control flow statement)\n",
    "기본적으로 프로그램은 순차구조를 가진다. 즉 작성한 순서대로 실행이 된다.  \n",
    "이런 실행흐름을 다른 순서로 제어하기 위한 구문을 만드는 문법이 제어문이다.  \n",
    "제어문은 **조건문** 과 **반복문** 두가지 문법이 있다.\n",
    "- 조건문\n",
    "    - if 문\n",
    "- 반복문\n",
    "    - while 문\n",
    "    - for in 문"
   ]
  },
  {
   "cell_type": "markdown",
   "id": "92c502ce",
   "metadata": {
    "slideshow": {
     "slide_type": "slide"
    }
   },
   "source": [
    "# 조건문/분기문 (conditional statement)\n",
    "- 프로그램이 명령문들을 실행하는 도중 특정 순서에서 **조건에 따라 흐름의 나눠져야 하는 경우 사용한다**\n",
    "- 파이썬은 조건문으로 **if문**이 있다.\n",
    "\n",
    "![조건문](images/ch03_01.png)\n",
    "\n",
    "<center>입력 받은 a 의 값이 0인지 여부에 따라 두가지 흐름으로 분기된다.</center>\n"
   ]
  },
  {
   "cell_type": "markdown",
   "id": "2a3c1835",
   "metadata": {
    "slideshow": {
     "slide_type": "subslide"
    }
   },
   "source": [
    "## 구문\n",
    "\n",
    "- 조건이 True일 경우만 특정 구문들을 실행 하는 조건문.\n",
    "```python\n",
    "if 조건:    # 조건은 bool 표현식을 기술한다. 조건선언 다음에 : 으로 선언해서 코드블록을 구분한다.\n",
    "    명령문1  # 조건이 True이면 실행할 구문들을 코드블럭에 기술한다.\n",
    "    명령문2  # 코드 블록은 들여쓰기를 이용해 묶어준다. 보통 공백 4칸으로 들여쓰기를 한다.\n",
    "    ...\n",
    "```\n",
    "> <b style='font-size:1.2em'>파이썬의 코드블록(code block)</b>  \n",
    "> 코드블록이란 여러개의 실행명령문들을 묶어놓은 것을 말한다. \n",
    "> 파이썬에서는 코드블록을 작성할 때 들여쓰기를 이용해 묶어준다. 같은 칸만큼 들여쓰기를 한 명령문들이 같은 블록으로 묶인다.\n",
    "> 들여쓰기는 관례적으로 공백 4칸을 사용한다. "
   ]
  },
  {
   "cell_type": "code",
   "execution_count": 2,
   "id": "095346c9",
   "metadata": {},
   "outputs": [
    {
     "name": "stdout",
     "output_type": "stream",
     "text": [
      "정수:0\n",
      "Zero\n",
      "종료\n"
     ]
    }
   ],
   "source": [
    "# 1. 정수를 입력받음\n",
    "num = int(input('정수:'))\n",
    "# 2. 정수가 0이면 'Zero'를 출력 (아니면 아무것도 안함)\n",
    "if num == 0:\n",
    "    print('Zero')\n",
    "# 3. '종료'를 출력\n",
    "print('종료')"
   ]
  },
  {
   "cell_type": "code",
   "execution_count": 7,
   "id": "2ed3a2fd",
   "metadata": {},
   "outputs": [
    {
     "name": "stdout",
     "output_type": "stream",
     "text": [
      "Zero\n",
      "종료\n"
     ]
    }
   ],
   "source": [
    "num = 0  # 0 False\n",
    "if not num:\n",
    "    print('Zero')\n",
    "print('종료')"
   ]
  },
  {
   "cell_type": "markdown",
   "id": "09c79c35",
   "metadata": {
    "slideshow": {
     "slide_type": "subslide"
    }
   },
   "source": [
    "- 조건이 True일때 실행할 구문과 False일때 실행하는 조건문.\n",
    "```python\n",
    "if 조건:     \n",
    "    명령문1_1 # 조건이 True일 경우 실행할 구문들\n",
    "    명령문1_2\n",
    "    ...\n",
    "else:\n",
    "    명령문2_1 # 조건이 False일 경우 실행할 구문들\n",
    "    명령문2_2\n",
    "    ...\n",
    "```"
   ]
  },
  {
   "cell_type": "code",
   "execution_count": 9,
   "id": "32dcb593",
   "metadata": {},
   "outputs": [
    {
     "name": "stdout",
     "output_type": "stream",
     "text": [
      "정수:10\n",
      "not Zero\n",
      "0 아닙니다.\n",
      "종료\n"
     ]
    }
   ],
   "source": [
    "# 1. 정수를 입력받음\n",
    "num = int(input('정수:'))\n",
    "# 2. 2-1: 정수가 0이면 'Zero'를 출력\n",
    "#    2-2: 정수가 0이 아니면 'Not Zero'를 출력\n",
    "if num == 0:\n",
    "    print('Zero')\n",
    "    print('0 입니다.')\n",
    "else:\n",
    "    print('not Zero')\n",
    "    print('0 아닙니다.')\n",
    "# 3. 종료 출력\n",
    "print('종료')"
   ]
  },
  {
   "cell_type": "code",
   "execution_count": 11,
   "id": "5195707f",
   "metadata": {},
   "outputs": [
    {
     "name": "stdout",
     "output_type": "stream",
     "text": [
      "ID:asskdfs\n",
      "사용할 수 있는 ID입니다.\n",
      "종료\n"
     ]
    }
   ],
   "source": [
    "# 1.id를 입력받는다.\n",
    "id = input('ID:')\n",
    "# 2. 2-1 입력받은 id가 5글자 이상이면 '사용할 수 있는 ID입니다.' 를 출력\n",
    "#    2-2 5글자 이상이 아니면 '사용할 수 없는 ID입니다.' 를 출력\n",
    "if len(id) >= 5:\n",
    "    print('사용할 수 있는 ID입니다.')\n",
    "else:\n",
    "    print('사용할 수 없는 ID입니다.')\n",
    "# 3. 종료를 출력\n",
    "print('종료')"
   ]
  },
  {
   "cell_type": "code",
   "execution_count": 16,
   "id": "cedb8ed8",
   "metadata": {},
   "outputs": [
    {
     "name": "stdout",
     "output_type": "stream",
     "text": [
      "글을 입력하세요.      \n",
      "-> 글을 입력하세요.\n"
     ]
    }
   ],
   "source": [
    "txt = input('글을 입력하세요.')\n",
    "if not txt.strip():\n",
    "    print('-> 글을 입력하세요.')\n",
    "else:\n",
    "    print('입력한 글:', txt)"
   ]
  },
  {
   "cell_type": "markdown",
   "id": "621eae9a",
   "metadata": {
    "slideshow": {
     "slide_type": "subslide"
    }
   },
   "source": [
    "- 조건이 여러개인 조건문.\n",
    "```python\n",
    "if 조건1:\n",
    "    명령문1_1  # 조건1이 True일 경우 실행할 코드블록. \n",
    "    명령문1_2\n",
    "    ...\n",
    "elif 조건2:    # 다음 조건으로 앞의 조건들이 모드 False일 경우 비교한다.\n",
    "    명령문2_1  # 조건2가 True일 경우 실행할 코드블록.\n",
    "    명령문2_2\n",
    "    ...\n",
    "elif 조건3 :\n",
    "    명령문3_1\n",
    "    명령문3_2\n",
    "    ...\n",
    "else:         # 위의 모든 조건이 False일 경우 실행하는 코드블록. 생략 가능하다.\n",
    "    명령문4\n",
    "```"
   ]
  },
  {
   "cell_type": "code",
   "execution_count": 19,
   "id": "b63c73f0",
   "metadata": {},
   "outputs": [
    {
     "name": "stdout",
     "output_type": "stream",
     "text": [
      "정수:0\n",
      "Zero\n",
      "0 입니다.\n",
      "종료\n"
     ]
    }
   ],
   "source": [
    "# 1. 정수 입력 받기\n",
    "num = int(input('정수:'))\n",
    "# 2.\n",
    "# 2-1: 0이면 'Zero'\n",
    "if num == 0:\n",
    "    print('Zero')\n",
    "    print('0 입니다.')\n",
    "# 2-2: 양수이면 '양수'\n",
    "elif num > 0:\n",
    "    print('Positive')\n",
    "    print('양수입니다.')\n",
    "# 2-3: 음수이면 '음수'\n",
    "# elif num < 0:\n",
    "else:\n",
    "    print('Negative')\n",
    "    print('음수입니다.')\n",
    "# 3. 종료 출력\n",
    "print('종료')"
   ]
  },
  {
   "cell_type": "code",
   "execution_count": 23,
   "id": "b8e8eb26",
   "metadata": {},
   "outputs": [
    {
     "name": "stdout",
     "output_type": "stream",
     "text": [
      "양수입력:2000000\n",
      "양수\n"
     ]
    }
   ],
   "source": [
    "num = int(input('양수입력:'))\n",
    "if num >= 0:\n",
    "    print('양수')\n",
    "elif num >= 100:\n",
    "    print('보통')\n",
    "elif num >= 1000:\n",
    "    print('큰 수')\n",
    "elif num >= 10000:\n",
    "    prinnt('아주 큰 수')"
   ]
  },
  {
   "cell_type": "code",
   "execution_count": 25,
   "id": "e99cf903",
   "metadata": {},
   "outputs": [
    {
     "name": "stdout",
     "output_type": "stream",
     "text": [
      "양수입력:-90\n",
      "음수\n"
     ]
    }
   ],
   "source": [
    "num = int(input('양수입력:'))\n",
    "if num >= 10000:\n",
    "    print('아주 큰 수')\n",
    "elif num >= 1000:\n",
    "    print('큰 수')\n",
    "elif num >= 100:\n",
    "    print('보통')\n",
    "elif num >= 0:\n",
    "    prinnt('양수')\n",
    "else:\n",
    "    print('음수')"
   ]
  },
  {
   "cell_type": "markdown",
   "id": "2149b728",
   "metadata": {
    "slideshow": {
     "slide_type": "slide"
    }
   },
   "source": [
    "# 반복문 (Loop statement)\n",
    "\n",
    "특정 구문들을 반복해서 실행할 때 사용한다. 동일한 코드를 여러번 반복하거나 값이 일정하게 변하는 코드를 반복할 경우 사용한다.  \n",
    "단순 반복을 처리하는 **while문**과 iterable객체가 제공하는 값들을 반복 조회하는 **for in문** 두가지 문법이 있다.\n",
    "\n",
    "![반복문](images/ch03_02.png)\n",
    "<center>count의 값이 limit의 값보다 크거나 같을때 까지 count의 값을 1증가 후 출력하는 구문을 반복한다. </center>"
   ]
  },
  {
   "cell_type": "markdown",
   "id": "b4740a36",
   "metadata": {
    "slideshow": {
     "slide_type": "subslide"
    }
   },
   "source": [
    "## while문\n",
    "- 조건이 True인 동안 구문을 반복해서 실행한다.\n",
    "\n",
    "### 구문\n",
    "```python\n",
    "while 조건:       # 조건은 bool 표현식을 기술한다. 조건선언 다음에 : 으로 선언해서 코드블록을 구분한다\n",
    "    반복할 구문1  # 반복할 구문을 코드블록으로 작성한다.  \n",
    "    반복할 구문2\n",
    "    ...\n",
    "```"
   ]
  },
  {
   "cell_type": "code",
   "execution_count": 31,
   "id": "9265ec62",
   "metadata": {},
   "outputs": [
    {
     "name": "stdout",
     "output_type": "stream",
     "text": [
      "반복횟수:-1\n",
      "반복: -1\n",
      "limit는 양수를 넣어주세요.\n"
     ]
    }
   ],
   "source": [
    "limit = int(input('반복횟수:'))\n",
    "print('반복:', limit)\n",
    "count = 0  # 몇 번째 반복인지를 저장할 변수\n",
    "if limit < 0:\n",
    "    print('limit는 양수를 넣어주세요.')\n",
    "else:\n",
    "    while count < limit:\n",
    "    #     count = count + 1  # 조건을 False로 바꾸는 구문이 없으면 무한반복\n",
    "        count += 1\n",
    "        print(f'{count}번째 실행')"
   ]
  },
  {
   "cell_type": "code",
   "execution_count": null,
   "id": "a66442bb",
   "metadata": {},
   "outputs": [],
   "source": [
    "# while True:\n",
    "#     ..."
   ]
  },
  {
   "cell_type": "code",
   "execution_count": 33,
   "id": "1168ad73",
   "metadata": {},
   "outputs": [
    {
     "name": "stdout",
     "output_type": "stream",
     "text": [
      "11\n",
      "12\n",
      "13\n",
      "14\n",
      "15\n"
     ]
    }
   ],
   "source": [
    "l = [1, 2, 3, 4, 5]  # 리스트 원소들의 값 + 10 한 것을 출력\n",
    "\n",
    "cnt = len(l)  # 원소의 개수\n",
    "idx = 0  # index\n",
    "while idx < cnt:\n",
    "    value = l[idx]     # 원소 한 개 조회\n",
    "    print(value + 10)  # 조회한 원소를 처리 (+10 값을 출력)\n",
    "    idx += 1           # index 증가"
   ]
  },
  {
   "cell_type": "code",
   "execution_count": 1,
   "id": "1e3f2c4b",
   "metadata": {},
   "outputs": [],
   "source": [
    "l = [1, 2, 3, 4]\n",
    "l_iter = iter(l)"
   ]
  },
  {
   "cell_type": "code",
   "execution_count": 2,
   "id": "f5ba5667",
   "metadata": {},
   "outputs": [
    {
     "data": {
      "text/plain": [
       "1"
      ]
     },
     "execution_count": 2,
     "metadata": {},
     "output_type": "execute_result"
    }
   ],
   "source": [
    "next(l_iter)"
   ]
  },
  {
   "cell_type": "code",
   "execution_count": 7,
   "id": "08ed72f1",
   "metadata": {},
   "outputs": [
    {
     "name": "stdout",
     "output_type": "stream",
     "text": [
      "1\n",
      "2\n",
      "3\n",
      "4\n"
     ]
    }
   ],
   "source": [
    "for v in l:\n",
    "    print(v)"
   ]
  },
  {
   "cell_type": "markdown",
   "id": "04f12e55",
   "metadata": {
    "slideshow": {
     "slide_type": "subslide"
    }
   },
   "source": [
    "## for  in 문\n",
    "- Iterable 객체를 순환조회하는 구문\n",
    "    - for in문은 Iterable 타입의 객체가 가지고 있는 값들을 각각 조회하여 처리하는 구문을 작성할 때 사용한다.\n",
    "\n",
    "> - Iterable\n",
    ">    - 반복가능한 객체. 반복문(for in)을 이용해 일련의 값들을 반복적으로 각각 제공하는 객체를 말한다. \n",
    ">    - 대표적으로 List, Tuple, Dictionary, Set, 문자열 등이 있다.\n",
    "\n",
    "### 구문\n",
    "```python\n",
    "for 변수 in Iterable: # for in 선언후 : 으로 선언부와 구현부를 나눈다.\n",
    "    반복구문          # Iterable이 반복시 제공하는 값을 가지는 \"변수\"를 이용해 값들을 처리하는 구문을 코드블록으로 작성한다.\n",
    "    반복구문\n",
    "```"
   ]
  },
  {
   "cell_type": "code",
   "execution_count": 38,
   "id": "80831699",
   "metadata": {},
   "outputs": [
    {
     "name": "stdout",
     "output_type": "stream",
     "text": [
      "11 12 13 14 15 "
     ]
    }
   ],
   "source": [
    "l = [1, 2, 3, 4, 5]\n",
    "\n",
    "for value in l:  # for 변수 in 리스트: => 변수: 원소를 저장할 변수명\n",
    "    print(value + 10, end=' ')"
   ]
  },
  {
   "cell_type": "code",
   "execution_count": 37,
   "id": "6be77611",
   "metadata": {},
   "outputs": [
    {
     "name": "stdout",
     "output_type": "stream",
     "text": [
      "2 4 10 2 12 20 102 "
     ]
    }
   ],
   "source": [
    "# l의 원소 중 2의 배수만 출력\n",
    "l = [1, 2, 3, 4, 5, 10, 2, 3, 12, 20, 102, 111]\n",
    "\n",
    "for value in l:\n",
    "    if value % 2 == 0:\n",
    "        print(value, end=' ')"
   ]
  },
  {
   "cell_type": "code",
   "execution_count": 40,
   "id": "7c973ccf",
   "metadata": {},
   "outputs": [
    {
     "name": "stdout",
     "output_type": "stream",
     "text": [
      "[2, 4, 10, 2, 12, 20, 102]\n"
     ]
    }
   ],
   "source": [
    "# l의 원소 중 2의 배수만 모으기\n",
    "l = [1, 2, 3, 4, 5, 10, 2, 3, 12, 20, 102, 111]\n",
    "result = []  # 2의 배수만 모을 빈리스트 # result = list()\n",
    "\n",
    "for value in l:\n",
    "    if value % 2 == 0:\n",
    "        result.append(value)\n",
    "\n",
    "print(result)"
   ]
  },
  {
   "cell_type": "code",
   "execution_count": 43,
   "id": "a5be27c7",
   "metadata": {},
   "outputs": [
    {
     "name": "stdout",
     "output_type": "stream",
     "text": [
      "1\n",
      "2\n",
      "3\n",
      "--------------\n",
      "10\n",
      "20\n",
      "30\n",
      "--------------\n",
      "가\n",
      "나\n",
      "다\n",
      "--------------\n"
     ]
    }
   ],
   "source": [
    "l2 = [\n",
    "    [1, 2, 3],\n",
    "    [10, 20, 30],\n",
    "    ['가', '나', '다']\n",
    "]\n",
    "# 중첩 리스트\n",
    "# for in문을 이용해 모든 원소들을 출력 --> 리스트의 중첩 횟수만큼 반복문도 중첩\n",
    "for l2_list in l2:\n",
    "    # l2_list => 리스트\n",
    "    for value in l2_list:\n",
    "        print(value)\n",
    "    print('--------------')"
   ]
  },
  {
   "cell_type": "markdown",
   "id": "1f30cd6f",
   "metadata": {
    "slideshow": {
     "slide_type": "subslide"
    }
   },
   "source": [
    "## continue와 break를 이용한 반복문 제어\n",
    "- **continue**\n",
    "    - 현재 반복을 중단하고 다음 반복을 진행한다.\n",
    "    - 특정 조건에서 처리를 멈추고 다음 처리를 반복할 때 사용한다.\n",
    "- **break**\n",
    "    - 반복을 중단한다.\n",
    "    - 특정 조건에서 반복문을 중간에 중지할때 사용한다.\n",
    "- continue와 break는 특정 조건에서 실행되야 하는 경우가 대부분이므로 if문 안에 작성한다.    "
   ]
  },
  {
   "cell_type": "code",
   "execution_count": 44,
   "id": "644c4e1c",
   "metadata": {},
   "outputs": [
    {
     "name": "stdout",
     "output_type": "stream",
     "text": [
      "1\n",
      "2\n",
      "종료\n"
     ]
    }
   ],
   "source": [
    "for v in [1, 2, 3, 4, 5, 6, 7]:\n",
    "    if v == 3:\n",
    "        break\n",
    "    print(v)\n",
    "\n",
    "print('종료')"
   ]
  },
  {
   "cell_type": "code",
   "execution_count": 48,
   "id": "6cebb77f",
   "metadata": {},
   "outputs": [
    {
     "name": "stdout",
     "output_type": "stream",
     "text": [
      "입력:첫 번째 입력\n",
      ">>첫 번째 입력\n",
      "입력:두 번째 입력\n",
      ">>두 번째 입력\n",
      "입력:세 번째 입력\n",
      ">>세 번째 입력\n",
      "입력:종료\n",
      ">>종료\n"
     ]
    }
   ],
   "source": [
    "t = input('입력:')\n",
    "while True:\n",
    "    print(f'>> {t}')\n",
    "    if t == '종료':\n",
    "        # 반복을 멈춘다\n",
    "        break\n",
    "    t = input('입력:')"
   ]
  },
  {
   "cell_type": "code",
   "execution_count": 80,
   "id": "de5e4a6d",
   "metadata": {},
   "outputs": [
    {
     "data": {
      "text/plain": [
       "16"
      ]
     },
     "execution_count": 80,
     "metadata": {},
     "output_type": "execute_result"
    }
   ],
   "source": [
    "import random\n",
    "\n",
    "random.randint(10, 20)  # 10(포함) ~ 20(포함) 사이의 정수 중 하나를 랜덤하게 반환"
   ]
  },
  {
   "cell_type": "code",
   "execution_count": 87,
   "id": "9d681b97",
   "metadata": {},
   "outputs": [],
   "source": [
    "result = []\n",
    "# -10, 10에서 양수가 나오면 result 저장. 0이 나오면 종료\n",
    "while True:\n",
    "    num = random.randint(-10, 10)\n",
    "    if num == 0:\n",
    "        break     # 반복문 종료\n",
    "    elif num < 0: \n",
    "        continue  # 다음 반복\n",
    "    \n",
    "    result.append(num)"
   ]
  },
  {
   "cell_type": "code",
   "execution_count": 88,
   "id": "48abfb90",
   "metadata": {},
   "outputs": [
    {
     "data": {
      "text/plain": [
       "[9, 9, 3, 4, 9, 5, 1, 4, 8, 2, 2, 3, 10, 6, 10, 1, 5, 7, 4]"
      ]
     },
     "execution_count": 88,
     "metadata": {},
     "output_type": "execute_result"
    }
   ],
   "source": [
    "result"
   ]
  },
  {
   "cell_type": "markdown",
   "id": "dc6099c5",
   "metadata": {
    "slideshow": {
     "slide_type": "slide"
    }
   },
   "source": [
    "## for in 문 연관 내장 함수\n",
    "\n",
    "### range()\n",
    "- 일정한 간격의 연속된 정수를 제공하는 반복가능 객체 생성한다.\n",
    "- 구문\n",
    "    - `range([시작값], 멈춤값, [증감값])`\n",
    "        - 시작값, 멈춤값, 증감값 모두 정수만 가능하다.\n",
    "        - 시작값 > 멈춤값 이고 증감값이 음수이면 내림차순으로 값을 제공한다.\n",
    "        1. 전달값이 **1개: 멈춤값**. \n",
    "            - 0 ~ (멈춤값-1)까지 1씩 증가하는 정수를 제공\n",
    "        2. 전달값이 **2개: 시작값, 멈춤값**. \n",
    "            - 시작값 ~ (멈춤값-1) 까지 1씩 증가하는 정수 제공\n",
    "        3. 전달값이 **3개: 시작값, 멈춤값, 증감값(간격)**. \n",
    "            - 시작값 ~ (멈춤값-1)까지 증감값만큼 증가하는 정수를 제공.\n"
   ]
  },
  {
   "cell_type": "code",
   "execution_count": 9,
   "id": "852d70dc",
   "metadata": {},
   "outputs": [
    {
     "name": "stdout",
     "output_type": "stream",
     "text": [
      "1\n",
      "3\n",
      "5\n",
      "7\n",
      "9\n"
     ]
    }
   ],
   "source": [
    "for i in range(1, 10, 2):\n",
    "    print(i)"
   ]
  },
  {
   "cell_type": "code",
   "execution_count": 10,
   "id": "deb76abb",
   "metadata": {},
   "outputs": [
    {
     "name": "stdout",
     "output_type": "stream",
     "text": [
      "-10, -9, -8, -7, -6, -5, -4, -3, -2, -1, 0, 1, 2, 3, 4, 5, 6, 7, 8, 9, "
     ]
    }
   ],
   "source": [
    "for i in range(-10, 10):  # -10 ~ 10-1, 증감: 1\n",
    "    print(i, end=', ')"
   ]
  },
  {
   "cell_type": "code",
   "execution_count": 12,
   "id": "57996e9d",
   "metadata": {},
   "outputs": [
    {
     "name": "stdout",
     "output_type": "stream",
     "text": [
      "10, 9, 8, 7, 6, 5, 4, 3, 2, 1, 0, -1, -2, -3, -4, -5, -6, -7, -8, -9, "
     ]
    }
   ],
   "source": [
    "for i in range(10, -10, -1):  # 10 ~ -10-(-1), 증감: -1\n",
    "    print(i, end=', ')"
   ]
  },
  {
   "cell_type": "code",
   "execution_count": 14,
   "id": "eb0c9545",
   "metadata": {},
   "outputs": [
    {
     "name": "stdout",
     "output_type": "stream",
     "text": [
      "0, 1, 2, 3, 4, "
     ]
    }
   ],
   "source": [
    "for i in range(5):  # 0(시작) ~ 5-1, 증감: 1(생략)\n",
    "    print(i, end=', ')"
   ]
  },
  {
   "cell_type": "code",
   "execution_count": 16,
   "id": "29027a27",
   "metadata": {},
   "outputs": [
    {
     "name": "stdout",
     "output_type": "stream",
     "text": [
      "1. 안녕하세요.\n",
      "2. 안녕하세요.\n",
      "3. 안녕하세요.\n",
      "4. 안녕하세요.\n",
      "5. 안녕하세요.\n"
     ]
    }
   ],
   "source": [
    "# 번호. 안녕하세요 => 5번 출력 (1. 안녕하세요, 2. 안녕하세요, ..., 5. 안녕하세요)\n",
    "for i in range(5):  # N번 반복 -> for i in range(N)\n",
    "    print(f'{i+1}. 안녕하세요.')"
   ]
  },
  {
   "cell_type": "code",
   "execution_count": 18,
   "id": "352d937b",
   "metadata": {
    "slideshow": {
     "slide_type": "fragment"
    }
   },
   "outputs": [
    {
     "name": "stdout",
     "output_type": "stream",
     "text": [
      "1. 안녕하세요.\n",
      "2. 안녕하세요.\n",
      "3. 안녕하세요.\n",
      "4. 안녕하세요.\n",
      "5. 안녕하세요.\n"
     ]
    }
   ],
   "source": [
    "for i in range(1, 6):\n",
    "    print(f'{i}. 안녕하세요.')"
   ]
  },
  {
   "cell_type": "code",
   "execution_count": 20,
   "id": "300574d9",
   "metadata": {},
   "outputs": [
    {
     "name": "stdout",
     "output_type": "stream",
     "text": [
      "Hello World\n",
      "Hello World\n",
      "Hello World\n",
      "Hello World\n",
      "Hello World\n"
     ]
    }
   ],
   "source": [
    "# 사용하지 않을 변수를 구문상 어쩔 수 없이 넣어야 할 경우\n",
    "#  관례적으로 변수명을 '_'로 지정 (관례)\n",
    "for _ in range(5):\n",
    "    print('Hello World')"
   ]
  },
  {
   "cell_type": "code",
   "execution_count": 21,
   "id": "fc0af727",
   "metadata": {},
   "outputs": [],
   "source": [
    "a, b, _ = [1, 10, 20]  # a, b는 사용할 값, _는 사용 안할 값"
   ]
  },
  {
   "cell_type": "code",
   "execution_count": 22,
   "id": "657c206e",
   "metadata": {},
   "outputs": [
    {
     "name": "stdout",
     "output_type": "stream",
     "text": [
      "[1, 2, 3, 4, 5, 6, 7, 8, 9, 10]\n"
     ]
    }
   ],
   "source": [
    "l = list(range(1, 11))  # range() 제공값들을 가지는 list 생성\n",
    "print(l)"
   ]
  },
  {
   "cell_type": "code",
   "execution_count": 23,
   "id": "7e11e9a0",
   "metadata": {},
   "outputs": [
    {
     "name": "stdout",
     "output_type": "stream",
     "text": [
      "(1, 2, 3, 4, 5, 6, 7, 8, 9, 10)\n"
     ]
    }
   ],
   "source": [
    "print(tuple(range(1, 11)))"
   ]
  },
  {
   "cell_type": "code",
   "execution_count": 24,
   "id": "e44c8fc8",
   "metadata": {},
   "outputs": [
    {
     "name": "stdout",
     "output_type": "stream",
     "text": [
      "{65, 35, 70, 40, 10, 75, 45, 15, 80, 50, 20, 85, 55, 25, 90, 60, 30, 95}\n"
     ]
    }
   ],
   "source": [
    "print(set(range(10, 100, 5)))"
   ]
  },
  {
   "cell_type": "code",
   "execution_count": null,
   "id": "aab35265",
   "metadata": {},
   "outputs": [],
   "source": [
    "range(0, 1.1, 0.1)  # 실수는 X, 정수만 O"
   ]
  },
  {
   "cell_type": "markdown",
   "id": "5de9d74e",
   "metadata": {
    "slideshow": {
     "slide_type": "subslide"
    }
   },
   "source": [
    "## enumerate()\n",
    "\n",
    "- 구문\n",
    "    - `enumerate(Iterable,  [, start=정수])`\n",
    "        - 현재 몇번째 값을 제공하는 지(현재 몇번째 반복인지)를 나타내는 **index**와 제공하는 **원소**를 tuple로 묶어서 반환\n",
    "        - Iterable\n",
    "            - 값을 제공할 Iterable객체\n",
    "        - start: 정수\n",
    "            - index 시작 값. 생략하면 0부터 시작한다."
   ]
  },
  {
   "cell_type": "code",
   "execution_count": 26,
   "id": "6f92fef9",
   "metadata": {},
   "outputs": [
    {
     "name": "stdout",
     "output_type": "stream",
     "text": [
      "(0, '유재석')\n",
      "(1, '박명수')\n",
      "(2, '홍길동')\n",
      "(3, '정준하')\n"
     ]
    }
   ],
   "source": [
    "names = ['유재석', '박명수', '홍길동', '정준하']\n",
    "for name in enumerate(names):\n",
    "    print(name)"
   ]
  },
  {
   "cell_type": "code",
   "execution_count": 27,
   "id": "d2c6d0ca",
   "metadata": {},
   "outputs": [
    {
     "name": "stdout",
     "output_type": "stream",
     "text": [
      "0. 유재석\n",
      "1. 박명수\n",
      "2. 홍길동\n",
      "3. 정준하\n"
     ]
    }
   ],
   "source": [
    "for index, name in enumerate(names):  # tuple 대입\n",
    "    print(f'{index}. {name}')"
   ]
  },
  {
   "cell_type": "code",
   "execution_count": 29,
   "id": "970492da",
   "metadata": {},
   "outputs": [
    {
     "name": "stdout",
     "output_type": "stream",
     "text": [
      "1. 유재석\n",
      "2. 박명수\n",
      "3. 홍길동\n",
      "4. 정준하\n"
     ]
    }
   ],
   "source": [
    "for index, name in enumerate(names, start=1):  # start=시작 index값 (생략: 0)\n",
    "    print(f'{index}. {name}')"
   ]
  },
  {
   "cell_type": "markdown",
   "id": "f5a5540f",
   "metadata": {
    "slideshow": {
     "slide_type": "subslide"
    }
   },
   "source": [
    "## zip()\n",
    "- 여러 개의 Iterable 객체를 받아 반복시 같은 index의 값끼리 튜플로 묶어 반환한다.\n",
    "- 구문\n",
    "    - `zip(Iterable1, Iterable2, Iterable3 [, .......])`\n",
    "        - Iterable 2개이상.전달한다.\n",
    "- 각 Iterable이 제공하는 원소의 개수가가 다를 경우 가장 적은 것의 개수에 맞춰 반복한다."
   ]
  },
  {
   "cell_type": "code",
   "execution_count": 32,
   "id": "1b99057f",
   "metadata": {
    "slideshow": {
     "slide_type": "fragment"
    }
   },
   "outputs": [],
   "source": [
    "# 네 명의 사람 정보를 이름, 나이, 주소별로 따로 저장 \n",
    "# 같은 index의 값이 한 사람의 정보\n",
    "names = ['유재석', '박명수', '홍길동', '정준하']\n",
    "ages = [20, 30, 40, 50]\n",
    "addresses = ['서울', '인천', '서울', '대전']"
   ]
  },
  {
   "cell_type": "code",
   "execution_count": 33,
   "id": "4c7e8b5d",
   "metadata": {},
   "outputs": [
    {
     "name": "stdout",
     "output_type": "stream",
     "text": [
      "유재석 20 서울\n"
     ]
    }
   ],
   "source": [
    "print(names[0], ages[0], addresses[0])"
   ]
  },
  {
   "cell_type": "code",
   "execution_count": 35,
   "id": "2ba44e1f",
   "metadata": {},
   "outputs": [
    {
     "name": "stdout",
     "output_type": "stream",
     "text": [
      "('유재석', 20, '서울') 유재석 20 서울\n",
      "('박명수', 30, '인천') 박명수 30 인천\n",
      "('홍길동', 40, '서울') 홍길동 40 서울\n",
      "('정준하', 50, '대전') 정준하 50 대전\n"
     ]
    }
   ],
   "source": [
    "# zip으로 묶인 리스트들의 같은 index의 값들을 tuple로 묶어 반환\n",
    "for value in zip(names, ages, addresses): \n",
    "    print(value, value[0], value[1], value[2])"
   ]
  },
  {
   "cell_type": "code",
   "execution_count": 37,
   "id": "ca03c4c8",
   "metadata": {},
   "outputs": [
    {
     "name": "stdout",
     "output_type": "stream",
     "text": [
      "이름: 유재석, 나이: 20, 주소:서울\n",
      "이름: 박명수, 나이: 30, 주소:인천\n",
      "이름: 홍길동, 나이: 40, 주소:서울\n",
      "이름: 정준하, 나이: 50, 주소:대전\n"
     ]
    }
   ],
   "source": [
    "for name, age, address in zip(names, ages, addresses):  # tuple 대입\n",
    "    print(f'이름: {name}, 나이: {age}, 주소:{address}')"
   ]
  },
  {
   "cell_type": "code",
   "execution_count": 41,
   "id": "db69d1d3",
   "metadata": {},
   "outputs": [
    {
     "name": "stdout",
     "output_type": "stream",
     "text": [
      "0 ('유재석', 20, '서울')\n",
      "1 ('박명수', 30, '인천')\n",
      "2 ('홍길동', 40, '서울')\n",
      "3 ('정준하', 50, '대전')\n"
     ]
    }
   ],
   "source": [
    "for index, value in enumerate(zip(names, ages, addresses)):\n",
    "    print(index, value)"
   ]
  },
  {
   "cell_type": "code",
   "execution_count": 43,
   "id": "fd5f2f51",
   "metadata": {},
   "outputs": [
    {
     "name": "stdout",
     "output_type": "stream",
     "text": [
      "0 - 이름: 유재석, 나이: 20, 주소: 서울\n",
      "1 - 이름: 박명수, 나이: 30, 주소: 인천\n",
      "2 - 이름: 홍길동, 나이: 40, 주소: 서울\n",
      "3 - 이름: 정준하, 나이: 50, 주소: 대전\n"
     ]
    }
   ],
   "source": [
    "for index, (name, age, address) in enumerate(zip(names, ages, addresses)):\n",
    "    print(f'{index} - 이름: {name}, 나이: {age}, 주소: {address}')"
   ]
  },
  {
   "cell_type": "code",
   "execution_count": 44,
   "id": "67bfada0",
   "metadata": {},
   "outputs": [
    {
     "name": "stdout",
     "output_type": "stream",
     "text": [
      "가 1 2\n"
     ]
    }
   ],
   "source": [
    "a, (b, c) = ('가', (1, 2))\n",
    "\n",
    "print(a, b, c)"
   ]
  },
  {
   "cell_type": "markdown",
   "id": "2df89dae",
   "metadata": {
    "slideshow": {
     "slide_type": "subslide"
    }
   },
   "source": [
    "# 컴프리헨션(Comprehension)\n",
    "\n",
    "- 기존 Iterable의 원소들을 이용해서 새로운 자료구조(List, Dictionary, Set)를 생성하는 구문.\n",
    "    - 기존 Iterable의 **원소들을 처리한 결과**나  **특정 조건이 True인 값들을** 새로운 자료구조에 넣을때 사용.\n",
    "    - 결과를 넣을 새로운 자료구조에 따라 다음 세가지 구문이 있다.\n",
    "        - 리스트 컴프리헨션\n",
    "        - 딕셔너리  컴프리헨션\n",
    "        - 셋  컴프리헨션\n",
    "- 튜플 컴프리헨션은 없다.\n",
    "- 딕셔너리 컴프리헨션과 셋 컴프리헨션은 파이썬 3 에 새로 추가되었다."
   ]
  },
  {
   "cell_type": "code",
   "execution_count": 49,
   "id": "ea91ca51",
   "metadata": {},
   "outputs": [],
   "source": [
    "l1 = [1, 2, 3, 4, 5, 6, 7,1, 2, 3, 4]\n",
    "# li의 원소들에 동일한 처리 (10배)한 결과를 가지는 리스트 생성\n",
    "results = []  # 결과를 담은 리스트\n",
    "for v in l1:\n",
    "    results.append(v * 10)"
   ]
  },
  {
   "cell_type": "code",
   "execution_count": null,
   "id": "fe06f57a",
   "metadata": {},
   "outputs": [],
   "source": []
  },
  {
   "cell_type": "code",
   "execution_count": 50,
   "id": "15bb90f8",
   "metadata": {},
   "outputs": [
    {
     "data": {
      "text/plain": [
       "[10, 20, 30, 40, 50, 60, 70, 10, 20, 30, 40]"
      ]
     },
     "execution_count": 50,
     "metadata": {},
     "output_type": "execute_result"
    }
   ],
   "source": [
    "results"
   ]
  },
  {
   "cell_type": "code",
   "execution_count": 53,
   "id": "bc15f5db",
   "metadata": {},
   "outputs": [
    {
     "data": {
      "text/plain": [
       "[10, 20, 30, 40, 50, 60, 70, 10, 20, 30, 40]"
      ]
     },
     "execution_count": 53,
     "metadata": {},
     "output_type": "execute_result"
    }
   ],
   "source": [
    "# 리스트 컴프리헨션 => for in 처리를 리스트안에 넣음\n",
    "result2 = [v*10 for v in l1]\n",
    "result2"
   ]
  },
  {
   "cell_type": "code",
   "execution_count": 54,
   "id": "78f8ffab",
   "metadata": {},
   "outputs": [
    {
     "data": {
      "text/plain": [
       "{10, 20, 30, 40, 50, 60, 70}"
      ]
     },
     "execution_count": 54,
     "metadata": {},
     "output_type": "execute_result"
    }
   ],
   "source": [
    "result3 = {v*10 for v in l1}  # set comprehension\n",
    "result3"
   ]
  },
  {
   "cell_type": "code",
   "execution_count": 55,
   "id": "b948d45d",
   "metadata": {},
   "outputs": [
    {
     "data": {
      "text/plain": [
       "{0: 10, 1: 20, 2: 30, 3: 40, 4: 50, 5: 60, 6: 70, 7: 10, 8: 20, 9: 30, 10: 40}"
      ]
     },
     "execution_count": 55,
     "metadata": {},
     "output_type": "execute_result"
    }
   ],
   "source": [
    "# 딕셔너리: key-처리한 값의 index, value-10배한 값\n",
    "# {k: v for in 문} => 딕셔너리 컴프리헨션\n",
    "# {value for in 문} => 셋 컴플리헨션\n",
    "# [value for in ans]\n",
    "result4 = {index:value*10 for index, value in enumerate(l1)}\n",
    "result4"
   ]
  },
  {
   "cell_type": "code",
   "execution_count": 56,
   "id": "e04827d9",
   "metadata": {
    "slideshow": {
     "slide_type": "fragment"
    }
   },
   "outputs": [
    {
     "data": {
      "text/plain": [
       "60"
      ]
     },
     "execution_count": 56,
     "metadata": {},
     "output_type": "execute_result"
    }
   ],
   "source": [
    "result4[5]"
   ]
  },
  {
   "cell_type": "code",
   "execution_count": 61,
   "id": "14588371",
   "metadata": {},
   "outputs": [
    {
     "name": "stdout",
     "output_type": "stream",
     "text": [
      "2\n",
      "4\n",
      "6\n",
      "2\n",
      "4\n"
     ]
    }
   ],
   "source": [
    "# l1의 원소 중에서 짝수만 모아서 새로운 자료구조에 넣기\n",
    "result2 = []\n",
    "results_set = set()\n",
    "for v in l1:\n",
    "    if v % 2 == 0:\n",
    "        print(v)\n",
    "        result2.append(v)\n",
    "        results_set.add(v)"
   ]
  },
  {
   "cell_type": "code",
   "execution_count": 62,
   "id": "14336ad9",
   "metadata": {},
   "outputs": [
    {
     "data": {
      "text/plain": [
       "[2, 4, 6, 2, 4]"
      ]
     },
     "execution_count": 62,
     "metadata": {},
     "output_type": "execute_result"
    }
   ],
   "source": [
    "result2"
   ]
  },
  {
   "cell_type": "code",
   "execution_count": 65,
   "id": "e24abd88",
   "metadata": {},
   "outputs": [
    {
     "data": {
      "text/plain": [
       "{2, 4, 6}"
      ]
     },
     "execution_count": 65,
     "metadata": {},
     "output_type": "execute_result"
    }
   ],
   "source": [
    "results_set"
   ]
  },
  {
   "cell_type": "code",
   "execution_count": null,
   "id": "3186b57f",
   "metadata": {},
   "outputs": [],
   "source": [
    "results_set = set()\n",
    "for v in li:\n",
    "    if v % 2  >= 0  \n",
    "#         print(v)\n",
    "        results2.appendv)\n",
    "    results_set.add(v)"
   ]
  },
  {
   "cell_type": "code",
   "execution_count": 78,
   "id": "a6953c95",
   "metadata": {},
   "outputs": [
    {
     "data": {
      "text/plain": [
       "[2, 4, 6, 2, 4]"
      ]
     },
     "execution_count": 78,
     "metadata": {},
     "output_type": "execute_result"
    }
   ],
   "source": [
    "# 리스트 컴프리헨션\n",
    "r = [value for value in l1 if value %2 == 0]\n",
    "r"
   ]
  },
  {
   "cell_type": "code",
   "execution_count": 79,
   "id": "6565af38",
   "metadata": {},
   "outputs": [
    {
     "data": {
      "text/plain": [
       "{2, 4, 6}"
      ]
     },
     "execution_count": 79,
     "metadata": {},
     "output_type": "execute_result"
    }
   ],
   "source": [
    "r2 = {value for value in l1 if value%2 == 0}\n",
    "r2"
   ]
  },
  {
   "cell_type": "code",
   "execution_count": 80,
   "id": "712468e5",
   "metadata": {},
   "outputs": [
    {
     "data": {
      "text/plain": [
       "{2: 2, 4: 4, 6: 6}"
      ]
     },
     "execution_count": 80,
     "metadata": {},
     "output_type": "execute_result"
    }
   ],
   "source": [
    "r3 = {value:value for value in l1 if value%2 == 0}\n",
    "r3"
   ]
  },
  {
   "cell_type": "code",
   "execution_count": 81,
   "id": "0e0aad5b",
   "metadata": {
    "scrolled": true
   },
   "outputs": [
    {
     "data": {
      "text/plain": [
       "[10,\n",
       " 20,\n",
       " 30,\n",
       " 40,\n",
       " 50,\n",
       " 60,\n",
       " 70,\n",
       " 80,\n",
       " 90,\n",
       " 100,\n",
       " 110,\n",
       " 120,\n",
       " 130,\n",
       " 140,\n",
       " 150,\n",
       " 160,\n",
       " 170,\n",
       " 180,\n",
       " 190,\n",
       " 200,\n",
       " 210,\n",
       " 220,\n",
       " 230,\n",
       " 240,\n",
       " 250,\n",
       " 260,\n",
       " 270,\n",
       " 280,\n",
       " 290,\n",
       " 300,\n",
       " 310,\n",
       " 320,\n",
       " 330,\n",
       " 340,\n",
       " 350,\n",
       " 360,\n",
       " 370,\n",
       " 380,\n",
       " 390,\n",
       " 400,\n",
       " 410,\n",
       " 420,\n",
       " 430,\n",
       " 440,\n",
       " 450,\n",
       " 460,\n",
       " 470,\n",
       " 480,\n",
       " 490,\n",
       " 500,\n",
       " 510,\n",
       " 520,\n",
       " 530,\n",
       " 540,\n",
       " 550,\n",
       " 560,\n",
       " 570,\n",
       " 580,\n",
       " 590,\n",
       " 600,\n",
       " 610,\n",
       " 620,\n",
       " 630,\n",
       " 640,\n",
       " 650,\n",
       " 660,\n",
       " 670,\n",
       " 680,\n",
       " 690,\n",
       " 700,\n",
       " 710,\n",
       " 720,\n",
       " 730,\n",
       " 740,\n",
       " 750,\n",
       " 760,\n",
       " 770,\n",
       " 780,\n",
       " 790,\n",
       " 800,\n",
       " 810,\n",
       " 820,\n",
       " 830,\n",
       " 840,\n",
       " 850,\n",
       " 860,\n",
       " 870,\n",
       " 880,\n",
       " 890,\n",
       " 900,\n",
       " 910,\n",
       " 920,\n",
       " 930,\n",
       " 940,\n",
       " 950,\n",
       " 960,\n",
       " 970,\n",
       " 980,\n",
       " 990,\n",
       " 1000]"
      ]
     },
     "execution_count": 81,
     "metadata": {},
     "output_type": "execute_result"
    }
   ],
   "source": [
    "# 1 ~ 1000 사이의 10의 배수\n",
    "[v for v in range(1, 1001) if v % 10 == 0]"
   ]
  },
  {
   "cell_type": "code",
   "execution_count": 89,
   "id": "d9b6ae6e",
   "metadata": {},
   "outputs": [
    {
     "data": {
      "text/plain": [
       "[10, 20, 30, 100, 200, 300]"
      ]
     },
     "execution_count": 89,
     "metadata": {},
     "output_type": "execute_result"
    }
   ],
   "source": [
    "l2 = [\n",
    "    [1, 2, 3],\n",
    "    [10, 20, 30]\n",
    "]\n",
    "# ㅣ2의 원소들을 10배한 값들을 모으기 & 홀수만 처리\n",
    "r = []\n",
    "for l in l2:\n",
    "    for v in l:\n",
    "        if v % 2 != 0:\n",
    "            r.append(v*10)\n",
    "#         print(v*10)\n",
    "r"
   ]
  },
  {
   "cell_type": "code",
   "execution_count": 91,
   "id": "cd4cf24a",
   "metadata": {},
   "outputs": [
    {
     "data": {
      "text/plain": [
       "[10, 30]"
      ]
     },
     "execution_count": 91,
     "metadata": {},
     "output_type": "execute_result"
    }
   ],
   "source": [
    "[v*10 for l in l2 for v in l if v % 2 != 0]"
   ]
  },
  {
   "cell_type": "markdown",
   "id": "092288d7",
   "metadata": {
    "slideshow": {
     "slide_type": "skip"
    }
   },
   "source": [
    "# TODO"
   ]
  },
  {
   "cell_type": "code",
   "execution_count": 92,
   "id": "2d9de725",
   "metadata": {
    "slideshow": {
     "slide_type": "skip"
    }
   },
   "outputs": [
    {
     "name": "stdout",
     "output_type": "stream",
     "text": [
      "점수:90\n",
      "B학점\n"
     ]
    }
   ],
   "source": [
    "#(1) 다음 점수 구간에 맞게 학점을 출력하세요.\n",
    "# 91 ~ 100 : A학점\n",
    "# 81 ~ 90 :  B학점\n",
    "# 71 ~ 80 :  C학점\n",
    "# 61 ~ 70 :  D학점\n",
    "# 60이하   :  F학점\n",
    "\n",
    "score = int(input('점수:'))\n",
    "if score > 90:\n",
    "    print('A학점')\n",
    "elif score > 80:\n",
    "    print('B학점')\n",
    "elif score > 70:\n",
    "    print('C학점')\n",
    "elif score > 60:\n",
    "    print('D학점')\n",
    "else:\n",
    "    print('F학점')"
   ]
  },
  {
   "cell_type": "code",
   "execution_count": 94,
   "id": "621e153f",
   "metadata": {
    "slideshow": {
     "slide_type": "skip"
    }
   },
   "outputs": [
    {
     "name": "stdout",
     "output_type": "stream",
     "text": [
      "ID:tyvjks\n",
      "사용할 수 있습니다.\n"
     ]
    }
   ],
   "source": [
    "#(2) 사용자로 부터 ID를 입력 받은 뒤 입력받은 ID가 5글자 이상이면 \"사용할 수 있습니다.\"를 5글자 미만이면 \"사용할 수 없는 ID입니다.\"를 출력하세요.\n",
    "\n",
    "id = input('ID:')\n",
    "if len(id) >= 5:\n",
    "    print('사용할 수 있습니다.')\n",
    "else:\n",
    "    print('사용할 수 없는 ID입니다.')"
   ]
  },
  {
   "cell_type": "code",
   "execution_count": 100,
   "id": "1ab7bba4",
   "metadata": {
    "slideshow": {
     "slide_type": "skip"
    }
   },
   "outputs": [
    {
     "name": "stdout",
     "output_type": "stream",
     "text": [
      "도시:광명\n",
      "특별시나 광역시가 아닙니다.\n"
     ]
    }
   ],
   "source": [
    "#(3) 사용자로부터 우리나라 도시명을 입력 받은 뒤 입력받은 도시명이 서울이면 \"특별시\"를 인천,부산,광주,대구,대전,울산 이면 \"광역시\"를 나머지는 \"특별시나 광역시가 아닙니다.\"를 출력하세요.\n",
    "\n",
    "city = input('도시:')\n",
    "if city == '서울':\n",
    "    city_str = city + '특별시'\n",
    "elif city in ['인천', '부산', '광주', '대구', '대전', '울산']:\n",
    "    city_str = city + '광역시'\n",
    "else: \n",
    "    city_str = \"특별시나 광역시가 아닙니다.\"\n",
    "\n",
    "print(city_str)"
   ]
  },
  {
   "cell_type": "code",
   "execution_count": 108,
   "id": "da47dfa8",
   "metadata": {
    "slideshow": {
     "slide_type": "skip"
    }
   },
   "outputs": [
    {
     "name": "stdout",
     "output_type": "stream",
     "text": [
      "89.0\n"
     ]
    }
   ],
   "source": [
    "#(4) 아래 리스트의 평균을 구하시오. \n",
    "jumsu = [100, 90, 100, 80, 70, 100, 80, 90, 95, 85]\n",
    "\n",
    "sum = 0\n",
    "for j in jumsu:\n",
    "    sum += j\n",
    "avg = sum / len(jumsu)\n",
    "print(avg)\n",
    "\n",
    "# print(sum(jumsu) / len(jumsu))"
   ]
  },
  {
   "cell_type": "code",
   "execution_count": 106,
   "id": "7ec094bc",
   "metadata": {
    "slideshow": {
     "slide_type": "skip"
    }
   },
   "outputs": [
    {
     "name": "stdout",
     "output_type": "stream",
     "text": [
      "0-pass\n",
      "1-pass\n",
      "2-pass\n",
      "3-fail\n",
      "4-fail\n",
      "5-pass\n",
      "6-fail\n",
      "7-pass\n",
      "8-pass\n",
      "9-fail\n"
     ]
    }
   ],
   "source": [
    "#(5) 위 jumsu리스트에서 평균점수이상은 pass, 미만은 fail을 index번호와 함께 출력하시오. (ex: 0-pass, 1-pass, 2-fail)\n",
    "\n",
    "avg = sum(jumsu) / len(jumsu)\n",
    "\n",
    "for index, j in enumerate(jumsu):\n",
    "    if j >= avg:\n",
    "        print(index, 'pass', sep='-')\n",
    "    else:\n",
    "        print(index, 'fail', sep='-')"
   ]
  },
  {
   "cell_type": "code",
   "execution_count": 109,
   "id": "f92d9a66",
   "metadata": {
    "slideshow": {
     "slide_type": "skip"
    }
   },
   "outputs": [
    {
     "name": "stdout",
     "output_type": "stream",
     "text": [
      "95\n"
     ]
    }
   ],
   "source": [
    "#(6) 아래 리스트 값들 중 최대값을 조회해 출력\n",
    "jumsu = [60, 90, 80, 80, 70, 55, 80, 90, 95, 85]\n",
    "\n",
    "MAX = jumsu[0]\n",
    "for j in jumsu:\n",
    "    if j > MAX:\n",
    "        MAX = j\n",
    "        \n",
    "print(MAX)\n",
    "\n",
    "# print(max(jumsu))"
   ]
  },
  {
   "cell_type": "code",
   "execution_count": 110,
   "id": "b43b9c9b",
   "metadata": {
    "slideshow": {
     "slide_type": "skip"
    }
   },
   "outputs": [
    {
     "name": "stdout",
     "output_type": "stream",
     "text": [
      "소\n",
      "호랑이\n",
      "용\n",
      "뱀\n"
     ]
    }
   ],
   "source": [
    "#(7) 다음 리스트 중에서 \"쥐\"와 \"토끼\" 제외한 나머지를 출력하세요.\n",
    "str_list = [\"쥐\", \"소\", \"호랑이\", \"토끼\", \"용\", \"뱀\"]\n",
    "\n",
    "for s in str_list:\n",
    "    if s in ['쥐', '토끼']:\n",
    "        continue\n",
    "    else:\n",
    "        print(s)"
   ]
  },
  {
   "cell_type": "code",
   "execution_count": 112,
   "id": "13148bdc",
   "metadata": {
    "slideshow": {
     "slide_type": "skip"
    }
   },
   "outputs": [
    {
     "name": "stdout",
     "output_type": "stream",
     "text": [
      "단을 입력하시오 : 9\n",
      "9 x 1 = 9\n",
      "9 x 2 = 18\n",
      "9 x 3 = 27\n",
      "9 x 4 = 36\n",
      "9 x 5 = 45\n",
      "9 x 6 = 54\n",
      "9 x 7 = 63\n",
      "9 x 8 = 72\n",
      "9 x 9 = 81\n"
     ]
    }
   ],
   "source": [
    "#(8) 사용자로부터 정수를 입력받아 그 단의 구구단을 출력하시오. \n",
    "# ex) 단을 입력하시오 : 2  \n",
    "# 2 x 1 = 2\n",
    "# 2 x 2 = 4\n",
    "#..\n",
    "# 2 x 9 = 18\n",
    "\n",
    "num = int(input('단을 입력하시오 : '))\n",
    "\n",
    "for i in range(1, 10):\n",
    "    print(f'{num} x {i} = {num * i}')"
   ]
  },
  {
   "cell_type": "code",
   "execution_count": 113,
   "id": "24055f6d",
   "metadata": {
    "slideshow": {
     "slide_type": "skip"
    }
   },
   "outputs": [
    {
     "name": "stdout",
     "output_type": "stream",
     "text": [
      "[20, 60, 140, 10, 240, 1400, 2, 70]\n"
     ]
    }
   ],
   "source": [
    "#컴프리헨션\n",
    "\n",
    "#(9) 다음 리스트가 가진 값에 두배(* 2)를 가지는 새로운 리스트를 만드시오. (리스트 컴프리헨션 이용)\n",
    "lst = [10, 30, 70, 5, 120, 700, 1, 35]\n",
    "\n",
    "new_list = [v * 2 for v in lst]\n",
    "print(new_list)"
   ]
  },
  {
   "cell_type": "code",
   "execution_count": 114,
   "id": "9941a508",
   "metadata": {
    "slideshow": {
     "slide_type": "skip"
    }
   },
   "outputs": [
    {
     "name": "stdout",
     "output_type": "stream",
     "text": [
      "[(10, 100), (30, 300), (70, 700), (5, 50), (5, 50), (120, 1200), (700, 7000), (1, 10), (35, 350), (35, 350)]\n"
     ]
    }
   ],
   "source": [
    "#(10) 다음 리스트가 가진 값에 10배의 값을 가지는 값을 (원래값, 10배값) 의 튜플 묶음으로 가지는 리스트를 만드시오 (리스트 컴프리헨션 이용)\n",
    "# Ex) [(10,100), (30,300), .., (35, 350)]\n",
    "lst = [10, 30, 70, 5, 5, 120, 700, 1, 35, 35]\n",
    "\n",
    "new_list2 = [(v, v * 10) for v in lst]\n",
    "print(new_list2)"
   ]
  },
  {
   "cell_type": "code",
   "execution_count": 115,
   "id": "85ebbb13",
   "metadata": {
    "slideshow": {
     "slide_type": "skip"
    }
   },
   "outputs": [
    {
     "name": "stdout",
     "output_type": "stream",
     "text": [
      "[3, 33, 21, 33, 60, 120]\n"
     ]
    }
   ],
   "source": [
    "#(11) 다음 리스트가 가진 값들 중 3의 배수만 가지는 리스트를 만드시오. (리스트 컴프리헨션 이용)\n",
    "lst2 = [ 3, 20, 33, 21, 33, 8, 11, 10, 7, 17, 60, 120, 2]\n",
    "\n",
    "new_list3 = [v for v in lst2 if v % 3 == 0]\n",
    "print(new_list3)"
   ]
  },
  {
   "cell_type": "code",
   "execution_count": 116,
   "id": "6d8dce43",
   "metadata": {
    "slideshow": {
     "slide_type": "skip"
    }
   },
   "outputs": [
    {
     "name": "stdout",
     "output_type": "stream",
     "text": [
      "['a.exe', 'function.exe', 'b.exe', 'run.exe']\n"
     ]
    }
   ],
   "source": [
    "#(12) 다음 파일이름들을 담은 리스트에서 확장자가 exe인 파일만 골라서 새로운 리스트에 담으시오.(string의 endswith()함수 이용)\n",
    "file_name=[\"test.txt\", \"a.exe\", \"jupyter.bat\", \"function.exe\", \"b.exe\", \"cat.jpg\", \"dog.png\", \"run.exe\", \"i.dll\"]\n",
    "\n",
    "exe_file_name = [file for file in file_name if file.endswith('exe')]\n",
    "print(exe_file_name)"
   ]
  },
  {
   "cell_type": "code",
   "execution_count": 118,
   "id": "169f7044",
   "metadata": {
    "slideshow": {
     "slide_type": "skip"
    }
   },
   "outputs": [
    {
     "name": "stdout",
     "output_type": "stream",
     "text": [
      "['mystroy.txt', 'jupyter.bat', 'function.exe']\n"
     ]
    }
   ],
   "source": [
    "#(13) 다음 중 10글자 이상인 파일명(확장자포함)만 가지는 리스트를 만드시오.\n",
    "file_name=[\"mystroy.txt\", \"a.exe\", \"jupyter.bat\", \"function.exe\", \"b.exe\", \"cat.jpg\", \"dog.png\", \"run.exe\", \"i.dll\"]\n",
    "\n",
    "len_10_file = [file for file in file_name if len(file) >= 10]\n",
    "print(len_10_file)"
   ]
  },
  {
   "cell_type": "code",
   "execution_count": 120,
   "id": "a0cc04fa",
   "metadata": {
    "slideshow": {
     "slide_type": "skip"
    }
   },
   "outputs": [
    {
     "name": "stdout",
     "output_type": "stream",
     "text": [
      "['c', 'g', 'h', 'k']\n"
     ]
    }
   ],
   "source": [
    "#(14) 다음 리스트에서 소문자만 가지는 새로운 리스트를 만드시오.\n",
    "str_list = [\"A\", \"B\", \"c\", \"D\", \"E\", \"F\", \"g\", \"h\", \"I\", \"J\", \"k\"]\n",
    "\n",
    "lower_str_list = [s for s in str_list if s.lower() == s]\n",
    "print(lower_str_list)"
   ]
  }
 ],
 "metadata": {
  "kernelspec": {
   "display_name": "Python 3 (ipykernel)",
   "language": "python",
   "name": "python3"
  },
  "language_info": {
   "codemirror_mode": {
    "name": "ipython",
    "version": 3
   },
   "file_extension": ".py",
   "mimetype": "text/x-python",
   "name": "python",
   "nbconvert_exporter": "python",
   "pygments_lexer": "ipython3",
   "version": "3.9.12"
  },
  "toc": {
   "base_numbering": 1,
   "nav_menu": {},
   "number_sections": true,
   "sideBar": true,
   "skip_h1_title": false,
   "title_cell": "Table of Contents",
   "title_sidebar": "Contents",
   "toc_cell": false,
   "toc_position": {},
   "toc_section_display": true,
   "toc_window_display": false
  },
  "varInspector": {
   "cols": {
    "lenName": 16,
    "lenType": 16,
    "lenVar": 40
   },
   "kernels_config": {
    "python": {
     "delete_cmd_postfix": "",
     "delete_cmd_prefix": "del ",
     "library": "var_list.py",
     "varRefreshCmd": "print(var_dic_list())"
    },
    "r": {
     "delete_cmd_postfix": ") ",
     "delete_cmd_prefix": "rm(",
     "library": "var_list.r",
     "varRefreshCmd": "cat(var_dic_list()) "
    }
   },
   "types_to_exclude": [
    "module",
    "function",
    "builtin_function_or_method",
    "instance",
    "_Feature"
   ],
   "window_display": false
  }
 },
 "nbformat": 4,
 "nbformat_minor": 5
}
