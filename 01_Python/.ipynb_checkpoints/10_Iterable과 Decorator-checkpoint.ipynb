{
 "cells": [
  {
   "cell_type": "markdown",
   "id": "562c702d",
   "metadata": {
    "slideshow": {
     "slide_type": "slide"
    }
   },
   "source": [
    "# Iterable과 Iterator\n",
    "\n",
    "- **Iterable**\n",
    "    - 여러개의 데이터를 하나씩 또는 한 단위씩 제공하는 객체.\n",
    "        - 다음 작업을 요청하면 값을 제공하며 for in 문에서 사용할 수 있다.\n",
    "    - Iterator객체를 반환하는 `__iter__()` 특수 메소드를 정의해야 한다.\n",
    "        - `__iter__()`는 `iter(Iterable)` 내장함수에 의해 호출된다. \n",
    "- **Iterator**\n",
    "    - 자신을 생성한 Iterable의 값들을 하나씩 또는 한 단위씩 제공하는 객체\n",
    "    - Iterable의 값을 제공하는 `__next__()` 특수 메소드를 정의한다.\n",
    "        - `__next__()` 는 `next(Iterator)` 내정함수에 의해 호출된다.\n",
    "        - 더 이상 제공할 값이 없을 경우 **StopIteration** Exception을 발생시켜야 한다."
   ]
  },
  {
   "cell_type": "code",
   "execution_count": 1,
   "id": "86c15a02",
   "metadata": {},
   "outputs": [
    {
     "name": "stdout",
     "output_type": "stream",
     "text": [
      "<class 'list'> <class 'list_iterator'>\n"
     ]
    }
   ],
   "source": [
    "l = [1, 2, 3]  # 리스트 > list --> iterable > __iter__() 구현\n",
    "l_iterator = iter(l)  # iter(iterable 객체) -> iterable객체.__iter__()\n",
    "\n",
    "print(type(l), type(l_iterator))"
   ]
  },
  {
   "cell_type": "code",
   "execution_count": null,
   "id": "6f305ba5",
   "metadata": {},
   "outputs": [],
   "source": [
    "# l.__iter__()"
   ]
  },
  {
   "cell_type": "code",
   "execution_count": 3,
   "id": "48040ce6",
   "metadata": {},
   "outputs": [
    {
     "name": "stdout",
     "output_type": "stream",
     "text": [
      "<class 'tuple_iterator'>\n"
     ]
    }
   ],
   "source": [
    "t = (1, 2, 3, 4)\n",
    "t_iterator = iter(t)\n",
    "print(type(t_iterator))"
   ]
  },
  {
   "cell_type": "code",
   "execution_count": 4,
   "id": "66c123cf",
   "metadata": {},
   "outputs": [
    {
     "name": "stdout",
     "output_type": "stream",
     "text": [
      "1\n"
     ]
    }
   ],
   "source": [
    "# iteratordml __next__() 메소드를 호출 --> next(iterator)\n",
    "### 자기를 생성한 iterable객체의 원소를 하나 반환\n",
    "print(next(l_iterator))"
   ]
  },
  {
   "cell_type": "code",
   "execution_count": 5,
   "id": "c7d5c4b6",
   "metadata": {
    "slideshow": {
     "slide_type": "fragment"
    }
   },
   "outputs": [
    {
     "name": "stdout",
     "output_type": "stream",
     "text": [
      "2\n"
     ]
    }
   ],
   "source": [
    "print(next(l_iterator))"
   ]
  },
  {
   "cell_type": "code",
   "execution_count": 6,
   "id": "0f85446c",
   "metadata": {},
   "outputs": [
    {
     "name": "stdout",
     "output_type": "stream",
     "text": [
      "3\n"
     ]
    }
   ],
   "source": [
    "print(next(l_iterator))"
   ]
  },
  {
   "cell_type": "code",
   "execution_count": 7,
   "id": "b6ebd3a0",
   "metadata": {},
   "outputs": [
    {
     "ename": "StopIteration",
     "evalue": "",
     "output_type": "error",
     "traceback": [
      "\u001b[0;31m---------------------------------------------------------------------------\u001b[0m",
      "\u001b[0;31mStopIteration\u001b[0m                             Traceback (most recent call last)",
      "Input \u001b[0;32mIn [7]\u001b[0m, in \u001b[0;36m<cell line: 1>\u001b[0;34m()\u001b[0m\n\u001b[0;32m----> 1\u001b[0m \u001b[38;5;28mprint\u001b[39m(\u001b[38;5;28;43mnext\u001b[39;49m\u001b[43m(\u001b[49m\u001b[43ml_iterator\u001b[49m\u001b[43m)\u001b[49m)\n",
      "\u001b[0;31mStopIteration\u001b[0m: "
     ]
    }
   ],
   "source": [
    "print(next(l_iterator))"
   ]
  },
  {
   "cell_type": "code",
   "execution_count": 10,
   "id": "2253c1b8",
   "metadata": {},
   "outputs": [
    {
     "name": "stdout",
     "output_type": "stream",
     "text": [
      "1\n",
      "2\n",
      "3\n",
      "4\n",
      "5\n",
      "다음작업\n"
     ]
    }
   ],
   "source": [
    "iterable = [1, 2, 3, 4, 5]\n",
    "# 1. iterable -> iterator 생성\n",
    "iterator = iter(iterable)\n",
    "while True:\n",
    "    try:\n",
    "        value = next(iterator)\n",
    "        print(value)\n",
    "    except StopIteration:\n",
    "        break\n",
    "    \n",
    "print('다음작업')"
   ]
  },
  {
   "cell_type": "code",
   "execution_count": 12,
   "id": "a3f5464e",
   "metadata": {},
   "outputs": [],
   "source": [
    "def forIn(iterable, func):\n",
    "    # iterable: 원소를 제공할 iterable 객체\n",
    "    # func: 각 원소를 처리한 함수\n",
    "    iterator = iter(iterable)\n",
    "    while True:\n",
    "        try:\n",
    "            value = next(iterator)\n",
    "            func(value)\n",
    "        except StopIteration:\n",
    "            break\n",
    "            \n",
    "# for value in iterable:\n",
    "#     XXX\n",
    "#     xx"
   ]
  },
  {
   "cell_type": "code",
   "execution_count": 13,
   "id": "dd05c83b",
   "metadata": {},
   "outputs": [
    {
     "name": "stdout",
     "output_type": "stream",
     "text": [
      "1\n",
      "2\n",
      "3\n",
      "10\n",
      "20\n",
      "30\n"
     ]
    }
   ],
   "source": [
    "forIn([1, 2, 3], lambda x: print(x))\n",
    "forIn((10, 20, 30), lambda x: print(x))"
   ]
  },
  {
   "cell_type": "markdown",
   "id": "ad311a49",
   "metadata": {
    "slideshow": {
     "slide_type": "subslide"
    }
   },
   "source": [
    "## for in 문 Iterable의 값을 순환반복하는 과정\n",
    "\n",
    "1. 반복 조회할 iterable객체의 __iter__() 를 호출 하여 Iterator를 구한다.\n",
    "1. 매 반복마다 Iterator의 __next__() 를 호출하여 다음 원소를 조회한다.\n",
    "1. 모든 원소들이 다 제공해 StopIteration Exception이 발생하면 반복문을 멈추고 빠져나온다."
   ]
  },
  {
   "cell_type": "code",
   "execution_count": 27,
   "id": "e39ab874",
   "metadata": {},
   "outputs": [],
   "source": [
    "# Iterable과 Iterator를 구현\n",
    "## 각각 다른 클래스로 구현\n",
    "class MyIterable:\n",
    "    \n",
    "    def __init__(self, *args):\n",
    "        # **args: 제공할 원소값들을 가변인자로 받기\n",
    "        self.values = args\n",
    "    \n",
    "    def __iter__(self):\n",
    "        # Iterable은 반드시 __iter__() 특수함수를 구현해야 함\n",
    "        # __iter__()는 Iterator객체를 반환하도록 구현\n",
    "        return MyIterator(self.values)\n",
    "    \n",
    "    # subscriptable - indexing 가능\n",
    "    def __getitem__(self, index):\n",
    "        return self.values[index]\n",
    "    \n",
    "    # len(객체) 호출되는 특수메소드 -> 원소의 개수를 반환\n",
    "    def __len__(self):\n",
    "        return len(self.values)"
   ]
  },
  {
   "cell_type": "code",
   "execution_count": 28,
   "id": "b7a430f0",
   "metadata": {},
   "outputs": [
    {
     "data": {
      "text/plain": [
       "3"
      ]
     },
     "execution_count": 28,
     "metadata": {},
     "output_type": "execute_result"
    }
   ],
   "source": [
    "i = MyIterable(1, 2, 3)\n",
    "i[2]\n",
    "len(i)"
   ]
  },
  {
   "cell_type": "code",
   "execution_count": null,
   "id": "6dc27234",
   "metadata": {},
   "outputs": [],
   "source": [
    "class Person:\n",
    "    __init__()\n",
    "    __Str__(), __repr__()\n",
    "    __add__(), __sub__() .. __gt__(), __ge__() 연산자 특수메소드 재정의\n",
    "    # iterable\n",
    "    __iter___()\n",
    "    # iterator\n",
    "    __next__()\n",
    "    # subsctiptable - indexing\n",
    "    __getitem__() + __len__()"
   ]
  },
  {
   "cell_type": "code",
   "execution_count": 15,
   "id": "daa92279",
   "metadata": {},
   "outputs": [],
   "source": [
    "class MyIterator:\n",
    "    \n",
    "    def __init__(self, values):\n",
    "        # Iterator가 제공할 값을 MyIterable로 부터 받는다\n",
    "        self.values = values\n",
    "        self.index = 0  # 제공할 값의 index\n",
    "        \n",
    "    def __next__(self):\n",
    "        # Iterator는 반드시 __next__() 특수 메소드를 구현해야 함\n",
    "        ## Iterable에서 받은 원소들에서 하나의 값을 순서대로 제공하도록 구현\n",
    "        ## 더 제공할 값이 없으면 StopIteration 예외를 발생\n",
    "        if len(self.values) <= self.index:\n",
    "            raise StopIteration()\n",
    "        r_value = self.values[self.index]  # 제공할 값을 조회\n",
    "        self.index += 1  # index를 하나 증가\n",
    "        return r_value\n",
    "    "
   ]
  },
  {
   "cell_type": "code",
   "execution_count": 16,
   "id": "db3b17e1",
   "metadata": {},
   "outputs": [],
   "source": [
    "i = MyIterable(1, 2, 3, 4, 5)  # iterable 생성\n",
    "it = iter(i)  # iterable로 부터 iterator를 생성"
   ]
  },
  {
   "cell_type": "code",
   "execution_count": 17,
   "id": "5201aebd",
   "metadata": {},
   "outputs": [
    {
     "data": {
      "text/plain": [
       "1"
      ]
     },
     "execution_count": 17,
     "metadata": {},
     "output_type": "execute_result"
    }
   ],
   "source": [
    "# iterator로부터 한 개의 값을 조회\n",
    "next(it)"
   ]
  },
  {
   "cell_type": "code",
   "execution_count": 21,
   "id": "6bd3ca47",
   "metadata": {},
   "outputs": [
    {
     "data": {
      "text/plain": [
       "5"
      ]
     },
     "execution_count": 21,
     "metadata": {},
     "output_type": "execute_result"
    }
   ],
   "source": [
    "next(it)"
   ]
  },
  {
   "cell_type": "code",
   "execution_count": 23,
   "id": "0117087f",
   "metadata": {
    "slideshow": {
     "slide_type": "fragment"
    }
   },
   "outputs": [
    {
     "ename": "StopIteration",
     "evalue": "",
     "output_type": "error",
     "traceback": [
      "\u001b[0;31m---------------------------------------------------------------------------\u001b[0m",
      "\u001b[0;31mStopIteration\u001b[0m                             Traceback (most recent call last)",
      "Input \u001b[0;32mIn [23]\u001b[0m, in \u001b[0;36m<cell line: 2>\u001b[0;34m()\u001b[0m\n\u001b[1;32m      1\u001b[0m it\u001b[38;5;241m.\u001b[39mindex\n\u001b[0;32m----> 2\u001b[0m \u001b[38;5;28;43mnext\u001b[39;49m\u001b[43m(\u001b[49m\u001b[43mit\u001b[49m\u001b[43m)\u001b[49m\n",
      "Input \u001b[0;32mIn [15]\u001b[0m, in \u001b[0;36mMyIterator.__next__\u001b[0;34m(self)\u001b[0m\n\u001b[1;32m      8\u001b[0m \u001b[38;5;28;01mdef\u001b[39;00m \u001b[38;5;21m__next__\u001b[39m(\u001b[38;5;28mself\u001b[39m):\n\u001b[1;32m      9\u001b[0m     \u001b[38;5;66;03m# Iterator는 반드시 __next__() 특수 메소드를 구현해야 함\u001b[39;00m\n\u001b[1;32m     10\u001b[0m     \u001b[38;5;66;03m## Iterable에서 받은 원소들에서 하나의 값을 순서대로 제공하도록 구현\u001b[39;00m\n\u001b[1;32m     11\u001b[0m     \u001b[38;5;66;03m## 더 제공할 값이 없으면 StopIteration 예외를 발생\u001b[39;00m\n\u001b[1;32m     12\u001b[0m     \u001b[38;5;28;01mif\u001b[39;00m \u001b[38;5;28mlen\u001b[39m(\u001b[38;5;28mself\u001b[39m\u001b[38;5;241m.\u001b[39mvalues) \u001b[38;5;241m<\u001b[39m\u001b[38;5;241m=\u001b[39m \u001b[38;5;28mself\u001b[39m\u001b[38;5;241m.\u001b[39mindex:\n\u001b[0;32m---> 13\u001b[0m         \u001b[38;5;28;01mraise\u001b[39;00m \u001b[38;5;167;01mStopIteration\u001b[39;00m()\n\u001b[1;32m     14\u001b[0m     r_value \u001b[38;5;241m=\u001b[39m \u001b[38;5;28mself\u001b[39m\u001b[38;5;241m.\u001b[39mvalues[\u001b[38;5;28mself\u001b[39m\u001b[38;5;241m.\u001b[39mindex]  \u001b[38;5;66;03m# 제공할 값을 조회\u001b[39;00m\n\u001b[1;32m     15\u001b[0m     \u001b[38;5;28mself\u001b[39m\u001b[38;5;241m.\u001b[39mindex \u001b[38;5;241m+\u001b[39m\u001b[38;5;241m=\u001b[39m \u001b[38;5;241m1\u001b[39m  \u001b[38;5;66;03m# index를 하나 증가\u001b[39;00m\n",
      "\u001b[0;31mStopIteration\u001b[0m: "
     ]
    }
   ],
   "source": [
    "it.index\n",
    "next(it)"
   ]
  },
  {
   "cell_type": "code",
   "execution_count": 25,
   "id": "b04fcbd7",
   "metadata": {},
   "outputs": [
    {
     "name": "stdout",
     "output_type": "stream",
     "text": [
      "1\n",
      "2\n",
      "3\n",
      "4\n",
      "5\n"
     ]
    }
   ],
   "source": [
    "i = MyIterable(1, 2, 3, 4, 5)\n",
    "# for v in i:\n",
    "for v in MyIterable(1, 2, 3, 4, 5):\n",
    "    print(v)"
   ]
  },
  {
   "cell_type": "code",
   "execution_count": 26,
   "id": "ec42f72c",
   "metadata": {},
   "outputs": [
    {
     "ename": "TypeError",
     "evalue": "'MyIterable' object is not subscriptable",
     "output_type": "error",
     "traceback": [
      "\u001b[0;31m---------------------------------------------------------------------------\u001b[0m",
      "\u001b[0;31mTypeError\u001b[0m                                 Traceback (most recent call last)",
      "Input \u001b[0;32mIn [26]\u001b[0m, in \u001b[0;36m<cell line: 2>\u001b[0;34m()\u001b[0m\n\u001b[1;32m      1\u001b[0m i \u001b[38;5;241m=\u001b[39m MyIterable(\u001b[38;5;241m1\u001b[39m, \u001b[38;5;241m2\u001b[39m, \u001b[38;5;241m3\u001b[39m, \u001b[38;5;241m4\u001b[39m, \u001b[38;5;241m5\u001b[39m)\n\u001b[0;32m----> 2\u001b[0m \u001b[43mi\u001b[49m\u001b[43m[\u001b[49m\u001b[38;5;241;43m0\u001b[39;49m\u001b[43m]\u001b[49m\n",
      "\u001b[0;31mTypeError\u001b[0m: 'MyIterable' object is not subscriptable"
     ]
    }
   ],
   "source": [
    "i = MyIterable(1, 2, 3, 4, 5)\n",
    "# i[0] ==> Iterable에 def __getitem__(self, idx): idx번째 값을 반환하는 메소드"
   ]
  },
  {
   "cell_type": "markdown",
   "id": "5323e175",
   "metadata": {
    "slideshow": {
     "slide_type": "subslide"
    }
   },
   "source": [
    "## Generator\n",
    "- Iterable과 Iterator를 합친 기능을 함수 형태로 구현(정의)한 것을 generator라고 한다.\n",
    "    - 제공할 값들을 미리 메모리에 올리지 않고 로직을 통해 값들을 호출자가 필요할 때 마다 제공할 때 유용하다.\n",
    "- 제너레이터 함수에서 값을 반환\n",
    "    - **yield 반환값**\n",
    "        - 반환값을 가지고 호출한 곳으로 돌아간다. 현재 상태(돌아가기 직전 상태)를 기억하면서 돌아간다. \n",
    "            - 값을 반환하고 일시정지 상태라고 생각하면 된다.\n",
    "        - 다음 실행시점에 yield 구문 다음 부터 실행된다.\n",
    "    - **return \\[valuye\\]**\n",
    "        - generator 함수 종료\n",
    "        - StopIteration 발생시킨다.\n",
    "- Generator 의 원소 조회\n",
    "    - next(Generator객체)"
   ]
  },
  {
   "cell_type": "code",
   "execution_count": 37,
   "id": "4df6590b",
   "metadata": {
    "slideshow": {
     "slide_type": "fragment"
    }
   },
   "outputs": [],
   "source": [
    "def my_gen():\n",
    "    # yield가 있으면 generator\n",
    "    yield 10\n",
    "    \n",
    "    yield 2\n",
    "\n",
    "    yield 3"
   ]
  },
  {
   "cell_type": "code",
   "execution_count": 38,
   "id": "34e32b95",
   "metadata": {},
   "outputs": [
    {
     "data": {
      "text/plain": [
       "10"
      ]
     },
     "execution_count": 38,
     "metadata": {},
     "output_type": "execute_result"
    }
   ],
   "source": [
    "g = my_gen()  # generator 객체를 생성\n",
    "# generator 호출\n",
    "next(g)  # yield다음구문 ~ yield"
   ]
  },
  {
   "cell_type": "code",
   "execution_count": 39,
   "id": "3de33622",
   "metadata": {},
   "outputs": [
    {
     "data": {
      "text/plain": [
       "2"
      ]
     },
     "execution_count": 39,
     "metadata": {},
     "output_type": "execute_result"
    }
   ],
   "source": [
    "next(g)"
   ]
  },
  {
   "cell_type": "code",
   "execution_count": 40,
   "id": "628ef934",
   "metadata": {},
   "outputs": [
    {
     "data": {
      "text/plain": [
       "3"
      ]
     },
     "execution_count": 40,
     "metadata": {},
     "output_type": "execute_result"
    }
   ],
   "source": [
    "next(g)"
   ]
  },
  {
   "cell_type": "code",
   "execution_count": 41,
   "id": "beb9e7f9",
   "metadata": {},
   "outputs": [
    {
     "ename": "StopIteration",
     "evalue": "",
     "output_type": "error",
     "traceback": [
      "\u001b[0;31m---------------------------------------------------------------------------\u001b[0m",
      "\u001b[0;31mStopIteration\u001b[0m                             Traceback (most recent call last)",
      "Input \u001b[0;32mIn [41]\u001b[0m, in \u001b[0;36m<cell line: 1>\u001b[0;34m()\u001b[0m\n\u001b[0;32m----> 1\u001b[0m \u001b[38;5;28;43mnext\u001b[39;49m\u001b[43m(\u001b[49m\u001b[43mg\u001b[49m\u001b[43m)\u001b[49m\n",
      "\u001b[0;31mStopIteration\u001b[0m: "
     ]
    }
   ],
   "source": [
    "next(g)"
   ]
  },
  {
   "cell_type": "code",
   "execution_count": 42,
   "id": "95a32f45",
   "metadata": {},
   "outputs": [],
   "source": [
    "# 파라미터로 받은 값에서 5씩 증가하는 값을 3번 제공\n",
    "def my_gen2(start):\n",
    "    start += 5\n",
    "    yield start\n",
    "    \n",
    "    start += 5\n",
    "    yield start \n",
    "    \n",
    "    start += 5\n",
    "    yield start"
   ]
  },
  {
   "cell_type": "code",
   "execution_count": 43,
   "id": "bfbdae7a",
   "metadata": {},
   "outputs": [
    {
     "name": "stdout",
     "output_type": "stream",
     "text": [
      "15\n"
     ]
    }
   ],
   "source": [
    "g2 = my_gen2(10)\n",
    "print(next(g2))"
   ]
  },
  {
   "cell_type": "code",
   "execution_count": 44,
   "id": "84e6e913",
   "metadata": {},
   "outputs": [
    {
     "name": "stdout",
     "output_type": "stream",
     "text": [
      "20\n"
     ]
    }
   ],
   "source": [
    "print(next(g2))"
   ]
  },
  {
   "cell_type": "code",
   "execution_count": 45,
   "id": "4a3be84f",
   "metadata": {},
   "outputs": [
    {
     "name": "stdout",
     "output_type": "stream",
     "text": [
      "25\n"
     ]
    }
   ],
   "source": [
    "print(next(g2))"
   ]
  },
  {
   "cell_type": "code",
   "execution_count": 46,
   "id": "75c7cb65",
   "metadata": {},
   "outputs": [
    {
     "ename": "StopIteration",
     "evalue": "",
     "output_type": "error",
     "traceback": [
      "\u001b[0;31m---------------------------------------------------------------------------\u001b[0m",
      "\u001b[0;31mStopIteration\u001b[0m                             Traceback (most recent call last)",
      "Input \u001b[0;32mIn [46]\u001b[0m, in \u001b[0;36m<cell line: 1>\u001b[0;34m()\u001b[0m\n\u001b[0;32m----> 1\u001b[0m \u001b[38;5;28mprint\u001b[39m(\u001b[38;5;28;43mnext\u001b[39;49m\u001b[43m(\u001b[49m\u001b[43mg2\u001b[49m\u001b[43m)\u001b[49m)\n",
      "\u001b[0;31mStopIteration\u001b[0m: "
     ]
    }
   ],
   "source": [
    "print(next(g2))"
   ]
  },
  {
   "cell_type": "code",
   "execution_count": 60,
   "id": "7ac30ad8",
   "metadata": {},
   "outputs": [],
   "source": [
    "def my_gen3(start, n):\n",
    "    # start부터 5씩 증가하는 값을 n개 제공\n",
    "    for _ in range(n):\n",
    "        start += 5\n",
    "        yield start"
   ]
  },
  {
   "cell_type": "code",
   "execution_count": 61,
   "id": "22791ae5",
   "metadata": {},
   "outputs": [],
   "source": [
    "g3 = my_gen3(1, 10)  # generator 객체 생성"
   ]
  },
  {
   "cell_type": "code",
   "execution_count": 62,
   "id": "947743c7",
   "metadata": {},
   "outputs": [
    {
     "name": "stdout",
     "output_type": "stream",
     "text": [
      "6\n",
      "11\n"
     ]
    }
   ],
   "source": [
    "v = next(g3)\n",
    "print(v)\n",
    "v = next(g3)\n",
    "print(v)"
   ]
  },
  {
   "cell_type": "markdown",
   "id": "ae6dec96",
   "metadata": {
    "slideshow": {
     "slide_type": "subslide"
    }
   },
   "source": [
    "### Generator 표현식 (Generator Comprehension)\n",
    "- 컴프리헨션구문을 **( )** 로 묶어 표현한다.\n",
    "- 컴프리헨션 구문안의 Iterable의 원소들을 처리해서 제공하는 generator 표현식\n",
    "- Generator Comprehension 은 반복 가능한 객체만 만들고 실제 원소에 대한 요청이 왔을 때 값을 생성한다.\n",
    "    - 메모리 효율이 다른 Comprehension들 보다 좋다."
   ]
  },
  {
   "cell_type": "code",
   "execution_count": 64,
   "id": "5182ded9",
   "metadata": {},
   "outputs": [],
   "source": [
    "g4 = (value+5 for value in range(10))"
   ]
  },
  {
   "cell_type": "code",
   "execution_count": 70,
   "id": "9d5f5acc",
   "metadata": {
    "slideshow": {
     "slide_type": "fragment"
    }
   },
   "outputs": [
    {
     "data": {
      "text/plain": [
       "10"
      ]
     },
     "execution_count": 70,
     "metadata": {},
     "output_type": "execute_result"
    }
   ],
   "source": [
    "next(g4)"
   ]
  },
  {
   "cell_type": "code",
   "execution_count": null,
   "id": "086390f5",
   "metadata": {},
   "outputs": [],
   "source": [
    "l = [1, 2, 3, 4]  # 실행되는 순간 메모리에 저장 -> 데이터가 늘어날수록 메모리를 많이 차지\n",
    "g = (v for v in range(1, 5))  # 실행되는 순간 g에 로직이 저장 -> 메모리 적게 사용 가능"
   ]
  },
  {
   "cell_type": "code",
   "execution_count": null,
   "id": "1f2e9330",
   "metadata": {},
   "outputs": [],
   "source": []
  },
  {
   "cell_type": "markdown",
   "id": "929f0230",
   "metadata": {
    "slideshow": {
     "slide_type": "slide"
    }
   },
   "source": [
    "# Decorator (장식자)\n",
    "\n",
    "## 파이썬에서 함수는 일급 시민(first class citizen) 이다.\n",
    "- 일급 시민 (first class citizen) 이란\n",
    "    1. 변수에 대입 할 수 있다.\n",
    "    2. Argument로 사용할 수 있다.\n",
    "    3. 함수나 메소드의 반환값으로 사용 할 수 있다.\n",
    "    "
   ]
  },
  {
   "cell_type": "code",
   "execution_count": 13,
   "id": "131a2631",
   "metadata": {},
   "outputs": [],
   "source": [
    "def 라(a):  # outer function\n",
    "    \n",
    "    def 마():  # inner function\n",
    "        print(a+10)\n",
    "    \n",
    "    마()\n",
    "    마()\n",
    "    마()\n",
    "    마()\n",
    "    마()\n",
    "    b = 10\n",
    "#     return b\n",
    "    return 마"
   ]
  },
  {
   "cell_type": "code",
   "execution_count": 14,
   "id": "be6229ef",
   "metadata": {},
   "outputs": [
    {
     "name": "stdout",
     "output_type": "stream",
     "text": [
      "11\n",
      "11\n",
      "11\n",
      "11\n",
      "11\n",
      "<function 라.<locals>.마 at 0x7fc242171670>\n"
     ]
    }
   ],
   "source": [
    "b = 라(1)\n",
    "print(b)"
   ]
  },
  {
   "cell_type": "code",
   "execution_count": 15,
   "id": "a6609556",
   "metadata": {},
   "outputs": [
    {
     "name": "stdout",
     "output_type": "stream",
     "text": [
      "11\n"
     ]
    }
   ],
   "source": [
    "b()"
   ]
  },
  {
   "cell_type": "code",
   "execution_count": 4,
   "id": "794d9dac",
   "metadata": {
    "scrolled": true
   },
   "outputs": [
    {
     "name": "stdout",
     "output_type": "stream",
     "text": [
      "20\n",
      "20\n",
      "20\n",
      "20\n",
      "20\n"
     ]
    }
   ],
   "source": [
    "라(10)"
   ]
  },
  {
   "cell_type": "markdown",
   "id": "b46580f2",
   "metadata": {
    "slideshow": {
     "slide_type": "subslide"
    }
   },
   "source": [
    "## 지역함수(Local Function) 란\n",
    "- 함수 안에 정의 한 함수를 말한다.\n",
    "    - 중첩 함수(Nested function) 이라고도 한다.\n",
    "- 지역함수가 선언된 함수를 **outer function** 지역함수는 **inner function** 이라고 한다. \n",
    "- inner function은 outer function의 지역변수를 자유롭게 사용할 수 있다.\n",
    "- 기본적으로 inner function은 outer function 안에서만 호출 할 수있다.\n",
    "- 단 outer function이 정의된 inner function을 return value로 반환하면 밖에서도 호출 할 수 있다."
   ]
  },
  {
   "cell_type": "code",
   "execution_count": 24,
   "id": "b9b61ed6",
   "metadata": {},
   "outputs": [
    {
     "name": "stdout",
     "output_type": "stream",
     "text": [
      "1 Global (전역)변수\n",
      "2 Global (전역)변수\n",
      "3 Outer함수의 Local (지역)변수\n",
      "outer에서 변경한 global_var의 값\n",
      "4 outer에서 변경한 global_var의 값\n",
      "5 Outer함수의 Local (지역)변수\n",
      "5-2 Inner에서 변경한 local_var의 값\n",
      "6 Inner 함수의 Local (지역)변수\n",
      "5-3 Inner에서 변경한 local_var의 값\n",
      "outer에서 변경한 global_var의 값\n"
     ]
    }
   ],
   "source": [
    "# 변수 - global(전역) 변수, local(지역) 변수\n",
    "## 변수의 사용범위 (scope) => 그 변수가 선언된 영역(block) 내에서 호출 가능 \n",
    "#                                             => 하위 block에서도 호출(사용가능)\n",
    "# 함수에서 global 변수의 값을 변경할 경우: global 변수명\n",
    "# inner 함수에서 outer 함수의 local 변수를 변경: nonlocal 변수명\n",
    "\n",
    "global_var = 'Global (전역)변수'\n",
    "print(1, global_var)\n",
    "\n",
    "def outer():\n",
    "    global global_var  # 변경할 경우 -> 선언\n",
    "    \n",
    "    local_var = 'Outer함수의 Local (지역)변수'\n",
    "    print(2, global_var)\n",
    "    print(3, local_var)\n",
    "    \n",
    "    # global 변수값을 변경\n",
    "    global_var = 'outer에서 변경한 global_var의 값'\n",
    "    print(global_var)\n",
    "    \n",
    "    def inner():\n",
    "        # outer 함수의 지역변수를 변경할 경우 - nonlocal 변수명으로 선언 먼저\n",
    "        nonlocal local_var\n",
    "        inner_local_var = 'Inner 함수의 Local (지역)변수'\n",
    "        print(4, global_var)\n",
    "        print(5, local_var)\n",
    "        local_var = 'Inner에서 변경한 local_var의 값'\n",
    "        print('5-2', local_var)\n",
    "        print(6, inner_local_var)\n",
    "#     print(inner_local_var)  # inner()함수에서 정의한 지역변수는 outer함수에서 호출 X\n",
    "    inner()\n",
    "    print('5-3', local_var)\n",
    "\n",
    "outer()    \n",
    "print(global_var)\n",
    "# print(local_var)"
   ]
  },
  {
   "cell_type": "markdown",
   "id": "766a1432",
   "metadata": {
    "slideshow": {
     "slide_type": "fragment"
    }
   },
   "source": [
    "## Closure (클로저)\n",
    "- 지역함수(Inner function)를 정의한 Outer function이 종료되어도 지역함수가 종료될 때까지 outer function의 지역변수들은 메모리에 계속 유지 되어 inner function에서 사용할 수 있다. \n",
    "- 파이썬 실행환경은 inner function이 종료될때 까지 outer function의 지역변수들(parameter포함)을 사용할 수 있도록 저장하는 공간이 **closure**이다."
   ]
  },
  {
   "cell_type": "code",
   "execution_count": 28,
   "id": "0001effe",
   "metadata": {
    "slideshow": {
     "slide_type": "fragment"
    }
   },
   "outputs": [],
   "source": [
    "def outer():\n",
    "    outer_var = 10  # outer함수의 지역변수\n",
    "    outer_var2 = 100\n",
    "    def inner():\n",
    "        print(outer_var)  # inner함수에서 outer함수의 변수를 호출\n",
    "    \n",
    "    return inner  # inner 함수를 반환"
   ]
  },
  {
   "cell_type": "code",
   "execution_count": 29,
   "id": "1211dc9d",
   "metadata": {},
   "outputs": [
    {
     "name": "stdout",
     "output_type": "stream",
     "text": [
      "10\n"
     ]
    }
   ],
   "source": [
    "f = outer()  # f = inner 함수\n",
    "f()"
   ]
  },
  {
   "cell_type": "code",
   "execution_count": null,
   "id": "daae3a69",
   "metadata": {},
   "outputs": [],
   "source": []
  },
  {
   "cell_type": "markdown",
   "id": "b58a1e1d",
   "metadata": {
    "slideshow": {
     "slide_type": "slide"
    }
   },
   "source": [
    "## Decorator (장식자)\n",
    "- 기존의 함수를 수정하지 않고 그 함수 전/후에 실행되는 구문을 추가할 수 있도록 하는 함수를 말한다.\n",
    "- 기존 함수코드를 수정하지 않고 새로운 기능의 추가를 쉽게 해준다.\n",
    "- 추가기능을 다수의 함수에 적용할 수 있다.\n",
    "- 함수의 전/후처리 하는 구문을 **필요하면 붙이고 필요 없으면 쉽게 제거할 수 있다**\n",
    "\n",
    "![개요](images/ch10_01.png)"
   ]
  },
  {
   "cell_type": "code",
   "execution_count": 42,
   "id": "5c7f5353",
   "metadata": {
    "slideshow": {
     "slide_type": "fragment"
    }
   },
   "outputs": [],
   "source": [
    "def a():\n",
    "    print('안녕하세요')\n",
    "    \n",
    "def b():\n",
    "    print('Hello')"
   ]
  },
  {
   "cell_type": "code",
   "execution_count": 43,
   "id": "da761f5a",
   "metadata": {},
   "outputs": [],
   "source": [
    "# print('='*50)\n",
    "# a()\n",
    "# print('='*50)\n",
    "# 전처리 - 추가 다양한 적용\n",
    "# a() => 함수를 수정하지 않고\n",
    "# 후처리 - 추가\n",
    "# a()\n",
    "# b()\n",
    "# a()"
   ]
  },
  {
   "cell_type": "code",
   "execution_count": 44,
   "id": "bc3c2748",
   "metadata": {},
   "outputs": [],
   "source": [
    "def equal_deco(func):  # 파라미터 -> 함수를 받음 => original 기능을 실행할 함수\n",
    "    \n",
    "    # inner 함수: original 함수 호출을 처리하는 함수. 함수 홏출 전후로 해야할 것이 있으면 그 처리를 함\n",
    "    def wrapper():\n",
    "        print('='*30)  # 전처리\n",
    "        func()  # 원래 함수의 작업\n",
    "        print('='*50)  # 전처리\n",
    "        \n",
    "    return wrapper"
   ]
  },
  {
   "cell_type": "code",
   "execution_count": 52,
   "id": "29d06134",
   "metadata": {},
   "outputs": [],
   "source": [
    "def sharp_deco(func):\n",
    "    \n",
    "    def wrapper():\n",
    "        print('#'*30)\n",
    "        func()\n",
    "        print('#'*30)\n",
    "        \n",
    "    return wrapper"
   ]
  },
  {
   "cell_type": "code",
   "execution_count": 45,
   "id": "78d7ed28",
   "metadata": {},
   "outputs": [
    {
     "name": "stdout",
     "output_type": "stream",
     "text": [
      "==============================\n",
      "안녕하세요\n",
      "==================================================\n"
     ]
    }
   ],
   "source": [
    "# a()\n",
    "a_f = equal_deco(a)\n",
    "a_f()  # 실행한(호출된) 함수: wrapper()"
   ]
  },
  {
   "cell_type": "code",
   "execution_count": 46,
   "id": "d735e4a6",
   "metadata": {},
   "outputs": [
    {
     "name": "stdout",
     "output_type": "stream",
     "text": [
      "안녕하세요\n"
     ]
    }
   ],
   "source": [
    "a()"
   ]
  },
  {
   "cell_type": "code",
   "execution_count": 54,
   "id": "497b8d32",
   "metadata": {},
   "outputs": [
    {
     "name": "stdout",
     "output_type": "stream",
     "text": [
      "##############################\n",
      "안녕하세요\n",
      "##############################\n"
     ]
    }
   ],
   "source": [
    "# 데코레이터 함수에 오리지날 함수를 전달해서 호출 \n",
    "#                                  -> wrapper 함수를 반환값으로 받음 -> wrapper 함수를 호출\n",
    "a_f2 = sharp_deco(a)\n",
    "a_f2()"
   ]
  },
  {
   "cell_type": "code",
   "execution_count": 48,
   "id": "19d155a7",
   "metadata": {},
   "outputs": [
    {
     "name": "stdout",
     "output_type": "stream",
     "text": [
      "==============================\n",
      "Hello\n",
      "==================================================\n"
     ]
    }
   ],
   "source": [
    "b_f = equal_deco(b)\n",
    "b_f()"
   ]
  },
  {
   "cell_type": "code",
   "execution_count": 60,
   "id": "1bb36eba",
   "metadata": {},
   "outputs": [],
   "source": [
    "# decorator를 오리지날 함수 정의시 추가하라고 선언\n",
    "@sharp_deco\n",
    "def a2():\n",
    "    print('안녕하세요')"
   ]
  },
  {
   "cell_type": "code",
   "execution_count": 61,
   "id": "b6be45ec",
   "metadata": {},
   "outputs": [
    {
     "name": "stdout",
     "output_type": "stream",
     "text": [
      "##############################\n",
      "안녕하세요\n",
      "##############################\n"
     ]
    }
   ],
   "source": [
    "a2()"
   ]
  },
  {
   "cell_type": "code",
   "execution_count": 62,
   "id": "48e7dfec",
   "metadata": {},
   "outputs": [
    {
     "data": {
      "text/plain": [
       "<function __main__.sharp_deco.<locals>.wrapper()>"
      ]
     },
     "execution_count": 62,
     "metadata": {},
     "output_type": "execute_result"
    }
   ],
   "source": [
    "a2"
   ]
  },
  {
   "cell_type": "code",
   "execution_count": 71,
   "id": "0d7071a1",
   "metadata": {},
   "outputs": [],
   "source": [
    "# @equal_deco\n",
    "@sharp_deco\n",
    "def b2():\n",
    "    print('Hello World!')"
   ]
  },
  {
   "cell_type": "code",
   "execution_count": 72,
   "id": "9233885a",
   "metadata": {},
   "outputs": [
    {
     "name": "stdout",
     "output_type": "stream",
     "text": [
      "##############################\n",
      "Hello World!\n",
      "##############################\n"
     ]
    }
   ],
   "source": [
    "b2()"
   ]
  },
  {
   "cell_type": "code",
   "execution_count": 84,
   "id": "58cdb1c0",
   "metadata": {},
   "outputs": [],
   "source": [
    "@property \n",
    "def name():\n",
    "    pass\n",
    "\n",
    "# f = property(name)\n",
    "# f"
   ]
  },
  {
   "cell_type": "code",
   "execution_count": 98,
   "id": "e9c8e075",
   "metadata": {},
   "outputs": [],
   "source": [
    "def sharp_deco2(func):\n",
    "    # original 함수가 파라미터를 받을 경우 그것을 wrapper() 함수에 설정\n",
    "    def wrapper(param):\n",
    "        print('#'*50)\n",
    "        result = func(param)  # original 함수 호출\n",
    "        print('#'*50)\n",
    "        if len(result) < 7:\n",
    "#             raise Exception('결과값이 모자랍니다.')\n",
    "            result = '     ' +result\n",
    "        return result\n",
    "    return wrapper"
   ]
  },
  {
   "cell_type": "code",
   "execution_count": 99,
   "id": "da6658c2",
   "metadata": {},
   "outputs": [],
   "source": [
    "@sharp_deco2\n",
    "def greet(name):\n",
    "    print(f'{name}님 환영합니다.')\n",
    "    return f'인사말-{name}'"
   ]
  },
  {
   "cell_type": "code",
   "execution_count": 100,
   "id": "466b5cbe",
   "metadata": {},
   "outputs": [
    {
     "name": "stdout",
     "output_type": "stream",
     "text": [
      "##################################################\n",
      "홍님 환영합니다.\n",
      "##################################################\n",
      "     인사말-홍\n"
     ]
    }
   ],
   "source": [
    "# sharp_deco2.wrapper\n",
    "v = greet('홍')\n",
    "print(v)  \n",
    "# sharo_deco2.wrapper return 값 없음(None)\n",
    "# greet의 return 값을 받아오기 위해서는 wrapper에서 받아서 그 값을 return 해주면 됨"
   ]
  },
  {
   "cell_type": "markdown",
   "id": "aaf6447c",
   "metadata": {
    "slideshow": {
     "slide_type": "subslide"
    }
   },
   "source": [
    "### Decorator 구현 및 사용\n",
    "\n",
    "- 구현\n",
    "    1. 전/후처리 기능을 추가할 함수를 parameter로 받는다.\n",
    "    2. 그 함수 호출 전후로 추가할 기능을 작성한 **지역함수**를 정의한다.\n",
    "    3. `2`번의 함수를 반환한다.\n",
    "```python\n",
    "def decorator(func):\n",
    "    def wrapper([parameter]): # decorator 적용할 함수에 파라미터를 전달할 경우 parameter 변수들을 선언\n",
    "        # 전처리\n",
    "        func()\n",
    "        # 후처리\n",
    "    return wrapper \n",
    "```\n",
    "\n",
    "- 호출\n",
    "    - `@decorator이름`를 적용하고자하는 함수 선언전에 기술한다.\n",
    "```python\n",
    "@decorator\n",
    "def caller([parameter]):\n",
    "    ...\n",
    "```"
   ]
  },
  {
   "cell_type": "markdown",
   "id": "6121017a",
   "metadata": {
    "slideshow": {
     "slide_type": "skip"
    }
   },
   "source": [
    "# TODO\n",
    "함수가 실행된 실행시간(초)을 재는 decorator"
   ]
  },
  {
   "cell_type": "code",
   "execution_count": 101,
   "id": "631ec7a4",
   "metadata": {},
   "outputs": [
    {
     "name": "stdout",
     "output_type": "stream",
     "text": [
      "1693200352.6405199\n"
     ]
    }
   ],
   "source": [
    "import time\n",
    "\n",
    "# 1970년 1월 1일 0시 0분 0초부터 time.time() 함수가 실행된 시점까지 몇 초 지났는지를 반환\n",
    "# 1970년 1월 1일 0시 0분 0초부터 얼마지났는지로 현재시간을 관기 => timestamp\n",
    "v = time.time()  \n",
    "print(v)"
   ]
  },
  {
   "cell_type": "code",
   "execution_count": 111,
   "id": "1b88e9d6",
   "metadata": {},
   "outputs": [
    {
     "name": "stdout",
     "output_type": "stream",
     "text": [
      "a\n",
      "a\n",
      "a\n",
      "3.0173428058624268 초\n"
     ]
    }
   ],
   "source": [
    "s = time.time()\n",
    "for _ in range(3):\n",
    "    print('a')\n",
    "    time.sleep(1)  # sleep(초): 설정한 초만큼 실행을 멈춘다\n",
    "#     print('b')\n",
    "e = time.time()\n",
    "print(e-s, '초')"
   ]
  },
  {
   "cell_type": "code",
   "execution_count": 122,
   "id": "f953af85",
   "metadata": {},
   "outputs": [],
   "source": [
    "def how_time(func):\n",
    "    \n",
    "    def wrapper():\n",
    "        s = time.time()\n",
    "        func()\n",
    "        e = time.time()\n",
    "        return e - s\n",
    "    return wrapper"
   ]
  },
  {
   "cell_type": "code",
   "execution_count": 123,
   "id": "3bb56b6b",
   "metadata": {},
   "outputs": [],
   "source": [
    "@how_time\n",
    "def func1():\n",
    "    print(1)\n",
    "    time.sleep(2)\n",
    "    print(2)"
   ]
  },
  {
   "cell_type": "code",
   "execution_count": 124,
   "id": "9a302122",
   "metadata": {},
   "outputs": [],
   "source": [
    "@how_time\n",
    "def func2():\n",
    "    print(1)\n",
    "    time.sleep(4)\n",
    "    print(2)"
   ]
  },
  {
   "cell_type": "code",
   "execution_count": 125,
   "id": "bddd5bc5",
   "metadata": {},
   "outputs": [],
   "source": [
    "@how_time\n",
    "def func3():\n",
    "    print(1)\n",
    "    time.sleep(1)\n",
    "    print(2)"
   ]
  },
  {
   "cell_type": "code",
   "execution_count": 127,
   "id": "984d60a0",
   "metadata": {},
   "outputs": [
    {
     "name": "stdout",
     "output_type": "stream",
     "text": [
      "1\n",
      "2\n",
      "2.005891799926758 초걸림\n",
      "1\n",
      "2\n",
      "4.005712270736694 초걸림\n",
      "1\n",
      "2\n",
      "1.0056531429290771 초걸림\n"
     ]
    }
   ],
   "source": [
    "time1 = func1()\n",
    "print(time1, '초걸림')\n",
    "time2 = func2()\n",
    "print(time2, '초걸림')\n",
    "time3 = func3()\n",
    "print(time3, '초걸림')\n",
    "# 각 함수가 실행되는데 걸린 시간을 출력"
   ]
  },
  {
   "cell_type": "code",
   "execution_count": 148,
   "id": "c47d0039",
   "metadata": {},
   "outputs": [],
   "source": [
    "import time\n",
    "# 함수가 실행하는데 걸린 시간을 처크하는 decorator 정의\n",
    "\n",
    "def timechecker(func):\n",
    "    \n",
    "    def wrapper(*args, **kwargs):\n",
    "        s = time.time()\n",
    "        v = func(*args, **kwargs)\n",
    "        e = time.time()\n",
    "        print(f'{func.__name__}의 걸린시간: {e-s:.2f} 초')\n",
    "        return v\n",
    "    \n",
    "    return wrapper"
   ]
  },
  {
   "cell_type": "code",
   "execution_count": 149,
   "id": "0f8feaf9",
   "metadata": {},
   "outputs": [],
   "source": [
    "@timechecker\n",
    "def func1(a):\n",
    "    print(1, a)\n",
    "    time.sleep(2)\n",
    "    print(2)"
   ]
  },
  {
   "cell_type": "code",
   "execution_count": 150,
   "id": "bbbb73d1",
   "metadata": {},
   "outputs": [],
   "source": [
    "@timechecker\n",
    "def func2(a, b, c):\n",
    "    print(1, a, b, c)\n",
    "    time.sleep(4)\n",
    "    print(2)"
   ]
  },
  {
   "cell_type": "code",
   "execution_count": 151,
   "id": "778c15d2",
   "metadata": {},
   "outputs": [],
   "source": [
    "@timechecker\n",
    "def func3():\n",
    "    print(1)\n",
    "    time.sleep(1)\n",
    "    print(2)"
   ]
  },
  {
   "cell_type": "code",
   "execution_count": 152,
   "id": "f8e69642",
   "metadata": {},
   "outputs": [
    {
     "name": "stdout",
     "output_type": "stream",
     "text": [
      "1 10\n",
      "2\n",
      "func1의 걸린시간: 2.00 초\n",
      "1 A B C\n",
      "2\n",
      "func2의 걸린시간: 4.01 초\n",
      "1\n",
      "2\n",
      "func3의 걸린시간: 1.00 초\n"
     ]
    }
   ],
   "source": [
    "func1(10)\n",
    "func2('A', 'B', 'C')\n",
    "func3()\n",
    "\n",
    "# 각 함수가 실행되는데 걸린 시간을 출력"
   ]
  },
  {
   "cell_type": "code",
   "execution_count": 147,
   "id": "b44477bd",
   "metadata": {},
   "outputs": [
    {
     "data": {
      "text/plain": [
       "'test'"
      ]
     },
     "execution_count": 147,
     "metadata": {},
     "output_type": "execute_result"
    }
   ],
   "source": [
    "def test():\n",
    "    pass\n",
    "\n",
    "test.__name__  # 함수의 이름을 조회"
   ]
  },
  {
   "cell_type": "code",
   "execution_count": 135,
   "id": "22f52d36",
   "metadata": {
    "slideshow": {
     "slide_type": "skip"
    }
   },
   "outputs": [
    {
     "data": {
      "text/plain": [
       "2.00567"
      ]
     },
     "execution_count": 135,
     "metadata": {},
     "output_type": "execute_result"
    }
   ],
   "source": [
    "# 반올림 (내장함수)\n",
    "round(2.0056676864624023)\n",
    "round(2.0056676864624023, 5)  # 5: 자릿수 - 소수점 5자리 이하에서 반올림\n",
    "round(199.999, -1)\n",
    "\n",
    "# 0: 소숫점이하에서 반올림\n",
    "# 양수: 소수점 위치\n",
    "# 음수: 정수부 위치"
   ]
  },
  {
   "cell_type": "code",
   "execution_count": 136,
   "id": "3866795e",
   "metadata": {},
   "outputs": [
    {
     "data": {
      "text/plain": [
       "'2.12 초'"
      ]
     },
     "execution_count": 136,
     "metadata": {},
     "output_type": "execute_result"
    }
   ],
   "source": [
    "a = 2.1231928391859435\n",
    "f'{a:.2f} 초'  # .2f .2 소숫점 2자리 이하에서 반올림. f: float 타입"
   ]
  },
  {
   "cell_type": "code",
   "execution_count": null,
   "id": "43d8e04f",
   "metadata": {},
   "outputs": [],
   "source": []
  }
 ],
 "metadata": {
  "kernelspec": {
   "display_name": "Python 3 (ipykernel)",
   "language": "python",
   "name": "python3"
  },
  "language_info": {
   "codemirror_mode": {
    "name": "ipython",
    "version": 3
   },
   "file_extension": ".py",
   "mimetype": "text/x-python",
   "name": "python",
   "nbconvert_exporter": "python",
   "pygments_lexer": "ipython3",
   "version": "3.9.12"
  },
  "toc": {
   "base_numbering": 1,
   "nav_menu": {},
   "number_sections": true,
   "sideBar": true,
   "skip_h1_title": false,
   "title_cell": "Table of Contents",
   "title_sidebar": "Contents",
   "toc_cell": false,
   "toc_position": {},
   "toc_section_display": true,
   "toc_window_display": false
  },
  "varInspector": {
   "cols": {
    "lenName": 16,
    "lenType": 16,
    "lenVar": 40
   },
   "kernels_config": {
    "python": {
     "delete_cmd_postfix": "",
     "delete_cmd_prefix": "del ",
     "library": "var_list.py",
     "varRefreshCmd": "print(var_dic_list())"
    },
    "r": {
     "delete_cmd_postfix": ") ",
     "delete_cmd_prefix": "rm(",
     "library": "var_list.r",
     "varRefreshCmd": "cat(var_dic_list()) "
    }
   },
   "types_to_exclude": [
    "module",
    "function",
    "builtin_function_or_method",
    "instance",
    "_Feature"
   ],
   "window_display": false
  },
  "vscode": {
   "interpreter": {
    "hash": "890e7ac6523e8dc3d01314e5dc0d3a4630fa6bb57ae728d75fb62fd058d8404d"
   }
  }
 },
 "nbformat": 4,
 "nbformat_minor": 5
}
