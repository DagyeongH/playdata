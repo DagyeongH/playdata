{
 "cells": [
  {
   "cell_type": "markdown",
   "id": "a2f58681",
   "metadata": {},
   "source": [
    "# pymysql\n",
    "- 파이썬에서 MySQL, MariaDB DBMS와 연동하는 다양한 함수를 제공하는 모듈\n",
    "- Python [DB API 2.0](http://www.python.org/dev/peps/pep-0249) 표준을 따른다.\n",
    "- https://github.com/PyMySQL/PyMySQL/\n",
    "- https://pymysql.readthedocs.io/en/latest/"
   ]
  },
  {
   "cell_type": "code",
   "execution_count": 1,
   "id": "5cd8bfd1",
   "metadata": {},
   "outputs": [
    {
     "name": "stdout",
     "output_type": "stream",
     "text": [
      "Collecting PyMySQL\n",
      "  Downloading PyMySQL-1.1.0-py3-none-any.whl (44 kB)\n",
      "\u001b[K     |████████████████████████████████| 44 kB 6.1 MB/s eta 0:00:011\n",
      "\u001b[?25hInstalling collected packages: PyMySQL\n",
      "Successfully installed PyMySQL-1.1.0\n"
     ]
    }
   ],
   "source": [
    "!pip install PyMySQL"
   ]
  },
  {
   "cell_type": "markdown",
   "id": "43cccb80",
   "metadata": {},
   "source": [
    "# 설치\n",
    "- 조건\n",
    "    - python version 3.6 이상\n",
    "    - mysql version 5.6 이상\n",
    "- 설치\n",
    "    - `pip install PyMySQL`\n",
    "    - `conda install -c conda-forge pymysql`"
   ]
  },
  {
   "cell_type": "markdown",
   "id": "7572463d",
   "metadata": {},
   "source": [
    "# 기본 작성 절차\n",
    "\n",
    "1. Database 연결\n",
    "    ```python\n",
    "       connection =  pymysql.connect(host=\"DBMS 서버 ip\", \n",
    "                                     port=\"port번호\", \n",
    "                                     user=\"계정명\", \n",
    "                                     password=\"비밀번호\", \n",
    "                                     db=\"연결할데이터베이스이름\", \n",
    "                                     charset='utf8')\n",
    "    ```\n",
    "    - port 번호 기본값: 3306\n",
    "2. Connection을 이용해 Cursor 생성\n",
    "    - Cursor: 연결된 Database에 sql문을 전송하고 select결과 조회 기능을 제공하는 객체\n",
    "    ```python\n",
    "        cursor = connection.cursor()\n",
    "    ```\n",
    "3. Cusror를 이용해 SQL문 전송\n",
    "    ```python\n",
    "        cursor.execute(\"sql문\")\n",
    "    ```\n",
    "4. 연결 닫기\n",
    "    - cursor, connection 연결을 닫는다.\n",
    "    - with문을 이용할 수 있다. \n",
    "    ```python\n",
    "    cursor.close()\n",
    "    connection.close()\n",
    "    ```"
   ]
  },
  {
   "cell_type": "markdown",
   "id": "3262b127",
   "metadata": {},
   "source": [
    "# 예제\n",
    "\n",
    "## 테이블 생성"
   ]
  },
  {
   "cell_type": "code",
   "execution_count": 7,
   "id": "a8a1f263",
   "metadata": {},
   "outputs": [],
   "source": [
    "create_sql = '''\n",
    "create table member(\n",
    "    id int primary key auto_increment,\n",
    "    name varchar(30) not null,\n",
    "    email varchar(30) not null unique,\n",
    "    tall decimal(5, 2),\n",
    "    birthday date,\n",
    "    created_at datetime\n",
    ")\n",
    "'''"
   ]
  },
  {
   "cell_type": "code",
   "execution_count": 1,
   "id": "10416a12",
   "metadata": {},
   "outputs": [
    {
     "name": "stdout",
     "output_type": "stream",
     "text": [
      "<class 'pymysql.connections.Connection'>\n"
     ]
    }
   ],
   "source": [
    "import pymysql\n",
    "# 1. DB 연결\n",
    "conn = pymysql.connect(host='127.0.0.1',  # DBMS의 ip주소\n",
    "                       port=3306,         # port 번호\n",
    "                       user='playdata',   # username\n",
    "                       password='1111',   # password\n",
    "                       db='testdb'        # 연결할 database(schema) 이름\n",
    "                      )\n",
    "print(type(conn))"
   ]
  },
  {
   "cell_type": "code",
   "execution_count": 2,
   "id": "f7b138ca",
   "metadata": {},
   "outputs": [
    {
     "name": "stdout",
     "output_type": "stream",
     "text": [
      "<class 'pymysql.cursors.Cursor'>\n"
     ]
    }
   ],
   "source": [
    "# 2. connection으로 부터 cursor 객체 생성\n",
    "## cursor: SQL문을 DB에 전송 그 결과를 받아주는 객체 -> sql 전송 메소드를 제공\n",
    "cursor = conn.cursor()\n",
    "print(type(cursor))"
   ]
  },
  {
   "cell_type": "code",
   "execution_count": 8,
   "id": "c176b77d",
   "metadata": {},
   "outputs": [
    {
     "data": {
      "text/plain": [
       "0"
      ]
     },
     "execution_count": 8,
     "metadata": {},
     "output_type": "execute_result"
    }
   ],
   "source": [
    "# 3. sql 전송\n",
    "cursor.execute(create_sql)  # return -> sql이 적용된 데이터 개수"
   ]
  },
  {
   "cell_type": "code",
   "execution_count": 9,
   "id": "7b1e491a",
   "metadata": {},
   "outputs": [],
   "source": [
    "# 4. 연결 닫기 -> cursor, connection\n",
    "cursor.close()\n",
    "conn.close()"
   ]
  },
  {
   "cell_type": "markdown",
   "id": "59b4e786",
   "metadata": {},
   "source": [
    "## DML\n",
    "### insert"
   ]
  },
  {
   "cell_type": "code",
   "execution_count": 14,
   "id": "61deab37",
   "metadata": {},
   "outputs": [
    {
     "name": "stdout",
     "output_type": "stream",
     "text": [
      "insert된 행수: 1\n"
     ]
    }
   ],
   "source": [
    "sql = \"insert into member (name, email, tall, birthday, created_at) values ('홍길동', 'a@a.com', 175.23,'2000-10-10', now())\"\n",
    "\n",
    "# \\를 사용해서 두 줄로 작성\n",
    "# sql = \"insert into member (name, email, tall, birthdat, created_at) \\\n",
    "# values ('홍길동', 'a@a.com', 175.23,'2000-10-10', now())\"\n",
    "\n",
    "with pymysql.connect(host='127.0.0.1', port=3306, user='playdata', password='1111', db='testdb') as conn:\n",
    "    with conn.cursor() as cursor:\n",
    "        cnt = cursor.execute(sql)\n",
    "        print('insert된 행수:',cnt)\n",
    "        conn.commit() # insert, delete, update 처리 후 commit()을 해야 적용"
   ]
  },
  {
   "cell_type": "markdown",
   "id": "c1d9de83",
   "metadata": {
    "ExecuteTime": {
     "end_time": "2022-04-19T06:23:30.323879Z",
     "start_time": "2022-04-19T06:23:30.304888Z"
    }
   },
   "source": [
    "### Parameterized Query\n",
    "- Parameterized Query\n",
    "    - SQL 문에서 컬럼 값이 들어가는 자리에 값대신 `%s` placeholder를 사용한뒤 execute()에서 placeholder에 넣을 값을 tuple, list로 제공한다.\n",
    "    - query문을 쉽게 작성할 수 있는 장점이 있다.        "
   ]
  },
  {
   "cell_type": "code",
   "execution_count": 15,
   "id": "5c060325",
   "metadata": {},
   "outputs": [
    {
     "name": "stdout",
     "output_type": "stream",
     "text": [
      "1\n"
     ]
    }
   ],
   "source": [
    "sql_template = \"insert into member (name, email, tall, birthday, created_at) values (%s, %s, %s, %s, now())\"\n",
    "\n",
    "with pymysql.connect(host='127.0.0.1', port=3306, user='playdata', password='1111', db='testdb') as conn:\n",
    "    with conn.cursor() as cursor:\n",
    "        cnt = cursor.execute(sql_template, ('유재석', 'abc@abc.com', 182.54, '2000-10-20'))\n",
    "        print(cnt)\n",
    "        conn.commit()"
   ]
  },
  {
   "cell_type": "markdown",
   "id": "37335b7b",
   "metadata": {},
   "source": [
    "### Parameterized Query를 이용해 여러개 행 insert\n",
    "\n",
    "#### for문 사용"
   ]
  },
  {
   "cell_type": "code",
   "execution_count": 19,
   "id": "90aae9b8",
   "metadata": {},
   "outputs": [
    {
     "data": {
      "text/plain": [
       "datetime.datetime(2023, 9, 8, 17, 29, 40, 559626)"
      ]
     },
     "execution_count": 19,
     "metadata": {},
     "output_type": "execute_result"
    }
   ],
   "source": [
    "from datetime import date, datetime\n",
    "date(2000, 2, 3)\n",
    "datetime(2000, 2, 3, 10, 20, 30)\n",
    "datetime.now()"
   ]
  },
  {
   "cell_type": "code",
   "execution_count": 21,
   "id": "0fc2331b",
   "metadata": {},
   "outputs": [
    {
     "name": "stdout",
     "output_type": "stream",
     "text": [
      "insert된 행수: 3\n"
     ]
    }
   ],
   "source": [
    "from datetime import date, datetime\n",
    "# python: datetime.date - sql: date\n",
    "# datetime.time - sql: time\n",
    "# datetime.datetime - sql: datetime, timestamp\n",
    "datas = [\n",
    "    ['name1', 'abc1@abc.com', 165, date(2000,1,12)],\n",
    "    ['name2', 'def1@abc.com', 175, date(1995,12,20)],\n",
    "    ['name3', 'ghi1@abc.com', 185, date(1988, 7, 21)]\n",
    "]\n",
    "\n",
    "sql_template = \"insert into member (name, email, tall, birthday, created_at) values (%s, %s, %s, %s, now())\"\n",
    "\n",
    "with pymysql.connect(host='127.0.0.1', port=3306, user='playdata', password='1111', db='testdb') as conn:\n",
    "    with conn.cursor() as cursor:\n",
    "        cnt = 0\n",
    "        for data in datas:\n",
    "            i = cursor.execute(sql_template, data)  # placeholder에 넣을 값들은 tuple이나 list에 넣거 제공\n",
    "            cnt += i\n",
    "        print('insert된 행수:', cnt)\n",
    "        conn.commit()"
   ]
  },
  {
   "cell_type": "markdown",
   "id": "7322f3bb",
   "metadata": {},
   "source": [
    "#### executemany() 사용\n",
    "- insert할 값들을 가진 리스트를 넣어 한번에 여러 행을 insert한다."
   ]
  },
  {
   "cell_type": "code",
   "execution_count": null,
   "id": "f72beeb1",
   "metadata": {},
   "outputs": [],
   "source": [
    "datas = [\n",
    "    ['이름1', 'abc2@a.com', 165, date(2000,1,12), datetime.now()],\n",
    "    ['이름2', 'def2@a.com', 175, date(1995,12,20), datetime.now()],\n",
    "    ['이름1', 'ghi2@a.com', 185, date(1988, 7, 21), datetime.now()]\n",
    "]"
   ]
  },
  {
   "cell_type": "code",
   "execution_count": 32,
   "id": "2792bae6",
   "metadata": {},
   "outputs": [
    {
     "name": "stdout",
     "output_type": "stream",
     "text": [
      "inset 개수 3\n"
     ]
    }
   ],
   "source": [
    "# python: datetime.date - sql: date\n",
    "# datetime.time - sql: time\n",
    "# datetime.datetime - sql: datetime, timestamp\n",
    "datas = [\n",
    "    ['name1', 'abc2@abc.com', 165, date(2000,1,12)],\n",
    "    ['name2', 'def3@abc.com', 175, date(1995,12,20)],\n",
    "    ['name3', 'ghi3@abc.com', 185, date(1988, 7, 21)]\n",
    "]\n",
    "\n",
    "sql_template = \"insert into member (name, email, tall, birthday, created_at) values (%s, %s, %s, %s, now())\"\n",
    "\n",
    "with pymysql.connect(host='127.0.0.1', port=3306, user='playdata', password='1111', db='testdb') as conn:\n",
    "    with conn.cursor() as cursor:\n",
    "        try:\n",
    "            cnt = cursor.executemany(sql_template, datas)\n",
    "            print('inset 개수', cnt)\n",
    "            conn.commit()\n",
    "        except Exception as e:\n",
    "            print('예외발생 ', e)\n",
    "            conn.rollback()"
   ]
  },
  {
   "cell_type": "markdown",
   "id": "d78f4253",
   "metadata": {},
   "source": [
    "### update/delete\n",
    "- 코딩 절차는 insert 와 동일"
   ]
  },
  {
   "cell_type": "code",
   "execution_count": 4,
   "id": "5f056266",
   "metadata": {},
   "outputs": [
    {
     "name": "stdout",
     "output_type": "stream",
     "text": [
      "1\n"
     ]
    }
   ],
   "source": [
    "update_sql = 'update member set tall=tall+10 where id = %s'\n",
    "with pymysql.connect(host='localhost', port=3306, user='playdata', password='1111', db='testdb') as conn:\n",
    "    with conn.cursor() as cursor:\n",
    "        cnt = cursor.execute(update_sql, [2])\n",
    "        print(cnt)\n",
    "        conn.commit()"
   ]
  },
  {
   "cell_type": "code",
   "execution_count": 5,
   "id": "14592b0f",
   "metadata": {},
   "outputs": [
    {
     "name": "stdout",
     "output_type": "stream",
     "text": [
      "2\n"
     ]
    }
   ],
   "source": [
    "update_sql = 'update member set tall=tall+10 where tall < %s'\n",
    "with pymysql.connect(host='localhost', port=3306, user='playdata', password='1111', db='testdb') as conn:\n",
    "    with conn.cursor() as cursor:\n",
    "        cnt = cursor.execute(update_sql, [170])  # list대신 tuple을 사용하는 경우: (170, ) -> 값 하나인 경우 쉼표 필수!\n",
    "        print(cnt)\n",
    "        conn.commit()"
   ]
  },
  {
   "cell_type": "code",
   "execution_count": 7,
   "id": "ea34cdb7",
   "metadata": {},
   "outputs": [
    {
     "name": "stdout",
     "output_type": "stream",
     "text": [
      "1\n"
     ]
    }
   ],
   "source": [
    "delete_sql = 'delete from member where id = %s'\n",
    "with pymysql.connect(host='localhost', port=3306, user='playdata', password='1111', db='testdb') as conn:\n",
    "    with conn.cursor() as cursor:\n",
    "        cnt = cursor.execute(delete_sql, [2])\n",
    "        print(cnt)\n",
    "        conn.commit()        "
   ]
  },
  {
   "cell_type": "markdown",
   "id": "096891b8",
   "metadata": {},
   "source": [
    "## select (DQL - Data Query Language)\n",
    "- 조회결과 조회\n",
    "    - cursor.execute(\"select문\") 실행 후 cursor의 결과 조회 메소드(fetch메소드)를 이용해 결과를 받는다.\n",
    "- fetch메소드\n",
    "    - **fetchall()**\n",
    "        - 조회한 모든 행을을 반환\n",
    "    - **fetchmany(size=개수)**\n",
    "        - 지정한 size개수 만큼 반환\n",
    "    - **fetchone()**\n",
    "        - 조회결과 중 첫번째 행만 반환\n",
    "        - 주로 pk 동등 조건으로 조회한 경우 사용"
   ]
  },
  {
   "cell_type": "markdown",
   "id": "524f4cb8",
   "metadata": {},
   "source": [
    "### fetchall()"
   ]
  },
  {
   "cell_type": "code",
   "execution_count": 11,
   "id": "93a06bf2",
   "metadata": {},
   "outputs": [],
   "source": [
    "import pymysql\n",
    "from pprint import pprint # 자료구조(list, tuple, dict, set)을 가독성 좋게 출력"
   ]
  },
  {
   "cell_type": "code",
   "execution_count": 40,
   "id": "cebb65c0",
   "metadata": {},
   "outputs": [
    {
     "name": "stdout",
     "output_type": "stream",
     "text": [
      "((7, 'name1', 'abc1@abc.com', Decimal('175.00'), datetime.date(2000, 1, 12), datetime.datetime(2023, 9, 8, 17, 35, 11)), (10, 'name1', 'abc2@abc.com', Decimal('175.00'), datetime.date(2000, 1, 12), datetime.datetime(2023, 9, 8, 17, 45, 1)))\n"
     ]
    }
   ],
   "source": [
    "sql = 'select * from member where name like %s'\n",
    "with pymysql.connect(host='localhost', port=3306, user='playdata', password='1111', db='testdb') as conn:\n",
    "    with conn.cursor() as cursor:\n",
    "        # select를 실행결과(Result Set)는 cursor의 속성으로 저장\n",
    "        cursor.execute(sql, ['%1'])  # %s가 하나일 경우 상수로 전달 가능\n",
    "        # cursor가 가진 조회결과 조회\n",
    "        result = cursor.fetchall()\n",
    "\n",
    "print(result)\n",
    "# (\n",
    "#     (컬럼1, 컬럼2, ...),  # 한 행의 결과\n",
    "#     (), ...\n",
    "# )  # 전체 결과를 묶은 tuple"
   ]
  },
  {
   "cell_type": "code",
   "execution_count": 41,
   "id": "82a62b01",
   "metadata": {
    "collapsed": true
   },
   "outputs": [
    {
     "name": "stdout",
     "output_type": "stream",
     "text": [
      "((7,\n",
      "  'name1',\n",
      "  'abc1@abc.com',\n",
      "  Decimal('175.00'),\n",
      "  datetime.date(2000, 1, 12),\n",
      "  datetime.datetime(2023, 9, 8, 17, 35, 11)),\n",
      " (10,\n",
      "  'name1',\n",
      "  'abc2@abc.com',\n",
      "  Decimal('175.00'),\n",
      "  datetime.date(2000, 1, 12),\n",
      "  datetime.datetime(2023, 9, 8, 17, 45, 1)))\n"
     ]
    }
   ],
   "source": [
    "pprint(result)"
   ]
  },
  {
   "cell_type": "code",
   "execution_count": 42,
   "id": "5a836f8c",
   "metadata": {},
   "outputs": [],
   "source": [
    "def show_result(result):\n",
    "    for idx, row in enumerate(result, start=1):\n",
    "        m_id, name, email, tall, bd, jd = row\n",
    "        print(f\"{idx}. id: {m_id}, 이름: {name}, email: {email}, 키: {tall}, 생일: {bd}, 가입일: {jd}\")"
   ]
  },
  {
   "cell_type": "code",
   "execution_count": 43,
   "id": "768bc970",
   "metadata": {},
   "outputs": [
    {
     "name": "stdout",
     "output_type": "stream",
     "text": [
      "1. id: 7, 이름: name1, email: abc1@abc.com, 키: 175.00, 생일: 2000-01-12, 가입일: 2023-09-08 17:35:11\n",
      "2. id: 10, 이름: name1, email: abc2@abc.com, 키: 175.00, 생일: 2000-01-12, 가입일: 2023-09-08 17:45:01\n"
     ]
    }
   ],
   "source": [
    "show_result(result)"
   ]
  },
  {
   "cell_type": "code",
   "execution_count": 26,
   "id": "f22c4100",
   "metadata": {},
   "outputs": [
    {
     "name": "stdout",
     "output_type": "stream",
     "text": [
      "조회할 키:180\n",
      "3 3\n",
      "1. id: 3, 이름: 유재석, email: abc@abc.com, 키: 182.54, 생일: 2000-10-20, 가입일: 2023-09-08 17:26:07\n",
      "2. id: 9, 이름: name3, email: ghi1@abc.com, 키: 185.00, 생일: 1988-07-21, 가입일: 2023-09-08 17:35:11\n",
      "3. id: 12, 이름: name3, email: ghi3@abc.com, 키: 185.00, 생일: 1988-07-21, 가입일: 2023-09-08 17:45:01\n"
     ]
    }
   ],
   "source": [
    "tall = float(input('조회할 키:'))\n",
    "sql = 'select * from member where tall > %s'\n",
    "with pymysql.connect(host='localhost', port=3306, user='playdata', password='1111', db='testdb') as conn:\n",
    "    with conn.cursor() as cursor:\n",
    "        cnt = cursor.execute(sql, [tall])\n",
    "        result = cursor.fetchall()\n",
    "        print(len(result), cnt)\n",
    "\n",
    "if cnt == 0:\n",
    "    print('조회결과 없음')\n",
    "else:\n",
    "    show_result(result)"
   ]
  },
  {
   "cell_type": "code",
   "execution_count": 44,
   "id": "5ec43bff",
   "metadata": {},
   "outputs": [
    {
     "name": "stdout",
     "output_type": "stream",
     "text": [
      "조회행수: 7\n"
     ]
    }
   ],
   "source": [
    "#### 한행의 조회결과를 DICTIONARY로 반환\n",
    "# [dict1, dict2, dict3, ...]: 리스트: 전체 resultset을 묶어줌, dict: 한 행을 묶어줌\n",
    "# key: 컬럼명, value: 그컬럼의 조회값\n",
    "# cursorclass=pymysql.cursors.DictCursor: 조회행을 dictionary로 반환\n",
    "with pymysql.connect(host='localhost', port=3306, user='playdata', password='1111', db='testdb', cursorclass=pymysql.cursors.DictCursor) as conn:\n",
    "    with conn.cursor() as cursor:\n",
    "#         print(type(cursor))\n",
    "        cnt = cursor.execute('select * from member')\n",
    "        print('조회행수:', cnt)\n",
    "        result = cursor.fetchall()"
   ]
  },
  {
   "cell_type": "code",
   "execution_count": 47,
   "id": "06920530",
   "metadata": {
    "collapsed": true
   },
   "outputs": [
    {
     "name": "stdout",
     "output_type": "stream",
     "text": [
      "[{'birthday': datetime.date(2000, 10, 20),\n",
      "  'created_at': datetime.datetime(2023, 9, 8, 17, 26, 7),\n",
      "  'email': 'abc@abc.com',\n",
      "  'id': 3,\n",
      "  'name': '유재석',\n",
      "  'tall': Decimal('182.54')},\n",
      " {'birthday': datetime.date(2000, 1, 12),\n",
      "  'created_at': datetime.datetime(2023, 9, 8, 17, 35, 11),\n",
      "  'email': 'abc1@abc.com',\n",
      "  'id': 7,\n",
      "  'name': 'name1',\n",
      "  'tall': Decimal('175.00')},\n",
      " {'birthday': datetime.date(1995, 12, 20),\n",
      "  'created_at': datetime.datetime(2023, 9, 8, 17, 35, 11),\n",
      "  'email': 'def1@abc.com',\n",
      "  'id': 8,\n",
      "  'name': 'name2',\n",
      "  'tall': Decimal('175.00')},\n",
      " {'birthday': datetime.date(1988, 7, 21),\n",
      "  'created_at': datetime.datetime(2023, 9, 8, 17, 35, 11),\n",
      "  'email': 'ghi1@abc.com',\n",
      "  'id': 9,\n",
      "  'name': 'name3',\n",
      "  'tall': Decimal('185.00')},\n",
      " {'birthday': datetime.date(2000, 1, 12),\n",
      "  'created_at': datetime.datetime(2023, 9, 8, 17, 45, 1),\n",
      "  'email': 'abc2@abc.com',\n",
      "  'id': 10,\n",
      "  'name': 'name1',\n",
      "  'tall': Decimal('175.00')},\n",
      " {'birthday': datetime.date(1995, 12, 20),\n",
      "  'created_at': datetime.datetime(2023, 9, 8, 17, 45, 1),\n",
      "  'email': 'def3@abc.com',\n",
      "  'id': 11,\n",
      "  'name': 'name2',\n",
      "  'tall': Decimal('175.00')},\n",
      " {'birthday': datetime.date(1988, 7, 21),\n",
      "  'created_at': datetime.datetime(2023, 9, 8, 17, 45, 1),\n",
      "  'email': 'ghi3@abc.com',\n",
      "  'id': 12,\n",
      "  'name': 'name3',\n",
      "  'tall': Decimal('185.00')}]\n"
     ]
    }
   ],
   "source": [
    "pprint(result)"
   ]
  },
  {
   "cell_type": "markdown",
   "id": "b3a9867d",
   "metadata": {},
   "source": [
    "### fetchone()"
   ]
  },
  {
   "cell_type": "code",
   "execution_count": 53,
   "id": "97500b7b",
   "metadata": {},
   "outputs": [
    {
     "name": "stdout",
     "output_type": "stream",
     "text": [
      "1\n"
     ]
    }
   ],
   "source": [
    "# PK를 이용해서 조회할 때 사용 (조회결과가 한 행일때 사용)\n",
    "sql = 'select * from member where id = %s'\n",
    "with pymysql.connect(host='localhost', port=3306, user='playdata', password='1111', db='testdb') as conn:\n",
    "    with conn.cursor() as cursor:\n",
    "        cnt = cursor.execute(sql, [3])\n",
    "        print(cnt)\n",
    "        result = cursor.fetchone()"
   ]
  },
  {
   "cell_type": "code",
   "execution_count": 55,
   "id": "b0eaf81d",
   "metadata": {},
   "outputs": [
    {
     "data": {
      "text/plain": [
       "(3, '유재석', 'abc@abc.com', Decimal('182.54'), datetime.date(2000, 10, 20), datetime.datetime(2023, 9, 8, 17, 26, 7))"
      ]
     },
     "execution_count": 55,
     "metadata": {},
     "output_type": "execute_result"
    }
   ],
   "source": [
    "result"
   ]
  },
  {
   "cell_type": "code",
   "execution_count": 56,
   "id": "1b49ccc6",
   "metadata": {},
   "outputs": [
    {
     "name": "stdout",
     "output_type": "stream",
     "text": [
      "1\n",
      "('유재석', 'abc@abc.com')\n"
     ]
    }
   ],
   "source": [
    "sql = 'select name, email from member where id = %s'\n",
    "with pymysql.connect(host='localhost', port=3306, user='playdata', password='1111', db='testdb') as conn:\n",
    "    with conn.cursor() as cursor:\n",
    "        cnt = cursor.execute(sql, [3])\n",
    "        print(cnt)\n",
    "        result = cursor.fetchone()  # select 결과가 여러행일 경우에 첫번째 행만 반환\n",
    "        print(result)"
   ]
  },
  {
   "cell_type": "markdown",
   "id": "cc8054bc",
   "metadata": {},
   "source": [
    "### fetchmany()"
   ]
  },
  {
   "cell_type": "code",
   "execution_count": 60,
   "id": "7d72f49c",
   "metadata": {},
   "outputs": [
    {
     "name": "stdout",
     "output_type": "stream",
     "text": [
      "7\n",
      "(('유재석', 'abc@abc.com'), ('name1', 'abc1@abc.com'), ('name2', 'def1@abc.com'))\n"
     ]
    }
   ],
   "source": [
    "sql = 'select name, email from member'\n",
    "with pymysql.connect(host='localhost', port=3306, user='playdata', password='1111', db='testdb') as conn:\n",
    "    with conn.cursor() as cursor:\n",
    "        cnt = cursor.execute(sql)\n",
    "        print(cnt)\n",
    "        result = cursor.fetchmany(size=3)  # size 행만큼만 조회\n",
    "        pprint(result)"
   ]
  },
  {
   "cell_type": "code",
   "execution_count": null,
   "id": "50fffed5",
   "metadata": {},
   "outputs": [],
   "source": []
  },
  {
   "cell_type": "markdown",
   "id": "fca900bd",
   "metadata": {},
   "source": [
    "### cursor 는 iterable 타입\n",
    "- for문에 select 실행한 cursor를 사용하면 조회결과를 한 행씩 조회할 수 있다."
   ]
  },
  {
   "cell_type": "code",
   "execution_count": null,
   "id": "8332ff67",
   "metadata": {},
   "outputs": [],
   "source": [
    "# cursor(select 실행후)는 Iterable 타입 => for in에 직접 넣어서 순환조회 가능\n",
    "with pymysql.connect(host='localhost', port=3306, user='playdata', password='1111', db='testdb', cursorclass=pymysql.cursors.DictCursor) as conn:\n",
    "    with conn.cursor() as cursor:\n",
    "        cnt = cursor.execute('select * from member')\n",
    "        print('조회행수:', cnt)\n",
    "        result = cursor.fetchall()\n",
    "        for row in cursor:\n",
    "            print(row)"
   ]
  },
  {
   "cell_type": "markdown",
   "id": "32433b68",
   "metadata": {},
   "source": [
    "# TODO\n",
    "\n",
    "다음 함수들을 구현하시오.   \n",
    "각 함수들은 member 테이블과 관련해서 CRUD를 처리하는 함수들 입니다.\n",
    "\n",
    "1. name, email, tall, birthday를 매개변수로 받아서 insert하는 함수. (id는 자동증가, created_at은 실행시점의 일시가 insert되도록 한다.)\n",
    "2. id, name, email, tall, birthday를 매개변수로 받아서 id의 member의 나머지 정보를 update하는 함수. (created_at은 update하지 않는다.)\n",
    "3. id를 매개변수로 받아서 그 member 를 삭제하는 함수.\n",
    "4. 이름을 매개변수로 받아서 그 이름의 member를 삭제하는 함수.\n",
    "5. id를 매개변수로 받아서 그 id의 회원 정보를 조회하여 반환하는 함수.\n",
    "6. name을 매개변수로 받아서 그 이름이 들어간 회원의 정보를 조회하여 반환하는 함수.\n",
    "7. birthday를 매개변수로 받아서 그 생일의 회원의 정보를 조회하여 반환하는 함수.\n",
    "8. tall 값을 두개 받아서 그 범위의 tall인 회원들의 정보를 조회하여 반환하는 함수.\n",
    "\n",
    "\n",
    "- insert, update, delete 는 적용된 행의 개수를 반환한다.\n",
    "- select 처리 함수는 조회결과를 반환한다.\n"
   ]
  },
  {
   "cell_type": "code",
   "execution_count": 106,
   "id": "474354d8",
   "metadata": {},
   "outputs": [],
   "source": [
    "import os\n",
    "os.makedirs('dao', exist_ok=True)"
   ]
  },
  {
   "cell_type": "code",
   "execution_count": null,
   "id": "3c91c3d2",
   "metadata": {},
   "outputs": [],
   "source": [
    "# dao 모듈 - Data Access Object: sql문을 실행하는 함수/메소드들로 구성된 모듈"
   ]
  },
  {
   "cell_type": "code",
   "execution_count": 107,
   "id": "7d8e9ed5",
   "metadata": {},
   "outputs": [
    {
     "name": "stdout",
     "output_type": "stream",
     "text": [
      "Writing dao/member_dao.py\n"
     ]
    }
   ],
   "source": [
    "%%writefile  dao/member_dao.py\n",
    "\n",
    "import pymysql\n",
    "from datetime import datetime, date\n",
    "def insert_member(name:str, email:str, tall:float, birthday:datetime.date) -> int:\n",
    "    '''\n",
    "    회원정보를 insert하는 함수\n",
    "    [parameter]\n",
    "    [return]\n",
    "        int: insert된 행수\n",
    "    [exception]\n",
    "    '''\n",
    "    sql='insert into member (name, email, tall, birthday, created_at) values (%s, %s, %s, %s, now())'\n",
    "    with pymysql.connect(host='localhost', port=3306, user='playdata', password='1111', db='testdb') as conn:\n",
    "        with conn.cursor() as cursor:\n",
    "            cursor.execute(sql, [name, email, tall, birthday])\n",
    "            conn.commit()\n",
    "            return cnt\n",
    "\n",
    "def update_member(id, name, email, tall, birthday):\n",
    "    '''\n",
    "    ID의 회원의 name, email, tall, birthday를 update\n",
    "    [return]\n",
    "        int: update된 행수\n",
    "    '''\n",
    "    sql = 'update member set name = %s, email = %s, tall = %s, birthday = %s where id = %s'\n",
    "    with pymysql.connect(host='localhost', port=3306, user='playdata', password='1111', db='testdb') as conn:\n",
    "        with conn.cursor() as cursor:\n",
    "            cnt = cursor.execute(sql, [name, email, tall, birthday, id])\n",
    "            conn.commit()\n",
    "            return cnt\n",
    "    \n",
    "def delete_member_by_id(id):\n",
    "    '''\n",
    "    ID의 회원정보를 delete\n",
    "    [return]\n",
    "        int: 삭제한 행수\n",
    "    '''\n",
    "    sql = 'delete from member where id = %s'\n",
    "    with pymysql.connect(host='localhost', port=3306, user='playdata', password='1111', db='testdb') as conn:\n",
    "        with conn.cursor() as cursor:\n",
    "            cnt = cursor.execute(sql, (id, ))\n",
    "            conn.commit()\n",
    "            return cnt\n",
    "        \n",
    "def delete_member_by_name(name):\n",
    "    '''\n",
    "    ID의 회원정보를 delete\n",
    "    [return]\n",
    "        int: 삭제한 행수\n",
    "    '''\n",
    "    sql = 'delete from member where name = %s'\n",
    "    with pymysql.connect(host='localhost', port=3306, user='playdata', password='1111', db='testdb') as conn:\n",
    "        with conn.cursor() as cursor:\n",
    "            cnt = cursor.execute(sql, (name, ))\n",
    "            conn.commit()\n",
    "            return cnt\n",
    "\n",
    "def select_member_by_id(id):\n",
    "    '''\n",
    "    ID로 회원정보 조회\n",
    "    [return]\n",
    "        tuple: 조회한 결과\n",
    "    '''\n",
    "    sql = 'select * from member where id = %s'\n",
    "    with pymysql.connect(host='localhost', port=3306, user='playdata', password='1111', db='testdb') as conn:\n",
    "        with conn.cursor() as cursor:\n",
    "            cursor.execute(sql, [id])\n",
    "            # pk 조회 -> 결과행: 0, 1\n",
    "            return cursor.fetchone()  # 1행: tuple, 0행 None\n",
    "\n",
    "def select_member_by_name(name):\n",
    "    '''\n",
    "    이름으로 회원정보 조회\n",
    "    [return]\n",
    "        tuple: 조회한 결과\n",
    "    '''\n",
    "    sql = 'select * from member where name like %s'\n",
    "    name = f'%{name}%'\n",
    "    with pymysql.connect(host='localhost', port=3306, user='playdata', password='1111', db='testdb') as conn:\n",
    "        with conn.cursor() as cursor:\n",
    "            cursor.execute(sql, [name])\n",
    "            return cursor.fetchall() \n",
    "\n",
    "def select_member_by_birthday(birthday=None):\n",
    "    \"\"\"\n",
    "    생일로 회원정를 조회.\n",
    "    [parameter]\n",
    "        birthday: date - 조회할 생일. None: 생일이 null인 행을 조회\n",
    "    [return]\n",
    "        tuple: 조회한 결과\n",
    "    \"\"\"\n",
    "    sql = \"select * from member where birthday {}\"\n",
    "    if birthday is None: #null인 것 조회\n",
    "        sql = sql.format(\"is null\")\n",
    "    else:\n",
    "        sql = sql.format(\"= %s\")\n",
    "    \n",
    "    with pymysql.connect(host=\"localhost\", port=3306, user='root', password=\"1111\", db='testdb') as conn:\n",
    "        with conn.cursor() as cursor:\n",
    "            if birthday is None:\n",
    "                cursor.execute(sql) # birthday is null\n",
    "            else:\n",
    "                cursor.execute(sql, birthday) #birthday = %s\n",
    "            return cursor.fetchall()\n",
    "        \n",
    "def select_member_by_tall_range(start_tall, end_tall):\n",
    "    '''\n",
    "    키의 범위로 회원정보 조회\n",
    "    [parameter]\n",
    "        start_tall: float\n",
    "        end_tall: float\n",
    "            start_tall <= tall <= end_tall 범위의 회원을 조회\n",
    "    '''    \n",
    "    sql = 'select * from member where tall between %s and %s'\n",
    "    with pymysql.connect(host='localhost', port=3306, user='playdata', password='1111', db='testdb') as conn:\n",
    "        with conn.cursor() as cursor:\n",
    "            cursor.execute(sql, [start_tall, end_tall])\n",
    "            return cursor.fetchall()\n",
    "        \n",
    "def select_all_member():\n",
    "    sql = 'select * from member order by id desc'\n",
    "    with pymysql.connect(host='localhost', port=3306, user='playdata', password='1111', db='testdb') as conn:\n",
    "        with conn.cursor() as cursor:\n",
    "            cursor.execute(sql)\n",
    "            return cursor.fetchall()"
   ]
  },
  {
   "cell_type": "code",
   "execution_count": 71,
   "id": "b0763096",
   "metadata": {},
   "outputs": [],
   "source": [
    "# 테스트\n",
    "cnt = insert_member('박명수', 'a@a.com', 169.23, date(1999,10,27))\n",
    "print(cnt)"
   ]
  },
  {
   "cell_type": "code",
   "execution_count": 78,
   "id": "c57e60b8",
   "metadata": {},
   "outputs": [
    {
     "name": "stdout",
     "output_type": "stream",
     "text": [
      "1\n"
     ]
    }
   ],
   "source": [
    "cnt = update_member(14, '박명수', 'bbccc@a.com', 169.23, date(1999,10,27)) # email만 변경\n",
    "print(cnt)"
   ]
  },
  {
   "cell_type": "code",
   "execution_count": 80,
   "id": "409086a7",
   "metadata": {},
   "outputs": [
    {
     "data": {
      "text/plain": [
       "1"
      ]
     },
     "execution_count": 80,
     "metadata": {},
     "output_type": "execute_result"
    }
   ],
   "source": [
    "# 이름, 이메일, 키, 생일 변경\n",
    "cnt = update_member(10, '유관순', 'a4@sdf.com', 185.00, date(2010,10,1))\n",
    "cnt"
   ]
  },
  {
   "cell_type": "code",
   "execution_count": 84,
   "id": "ef4752c8",
   "metadata": {},
   "outputs": [
    {
     "data": {
      "text/plain": [
       "2"
      ]
     },
     "execution_count": 84,
     "metadata": {},
     "output_type": "execute_result"
    }
   ],
   "source": [
    "# 삭제 - id\n",
    "delete_member_by_id(3)\n",
    "# 삭제 - name\n",
    "delete_member_by_name('name2')"
   ]
  },
  {
   "cell_type": "code",
   "execution_count": 87,
   "id": "f0d4d86b",
   "metadata": {},
   "outputs": [
    {
     "name": "stdout",
     "output_type": "stream",
     "text": [
      "(14, '박명수', 'bbccc@a.com', Decimal('169.23'), datetime.date(1999, 10, 27), None)\n",
      "None\n"
     ]
    }
   ],
   "source": [
    "print(select_member_by_id(14))\n",
    "print(select_member_by_id(1))"
   ]
  },
  {
   "cell_type": "code",
   "execution_count": 91,
   "id": "f10afed3",
   "metadata": {},
   "outputs": [
    {
     "name": "stdout",
     "output_type": "stream",
     "text": [
      "((10, '유관순', 'a4@sdf.com', Decimal('185.00'), datetime.date(2010, 10, 1), datetime.datetime(2023, 9, 8, 17, 45, 1)),)\n"
     ]
    }
   ],
   "source": [
    "print(select_member_by_name('유'))"
   ]
  },
  {
   "cell_type": "code",
   "execution_count": 99,
   "id": "efc44aa7",
   "metadata": {},
   "outputs": [
    {
     "ename": "TypeError",
     "evalue": "not all arguments converted during string formatting",
     "output_type": "error",
     "traceback": [
      "\u001b[0;31m---------------------------------------------------------------------------\u001b[0m",
      "\u001b[0;31mTypeError\u001b[0m                                 Traceback (most recent call last)",
      "Input \u001b[0;32mIn [99]\u001b[0m, in \u001b[0;36m<cell line: 1>\u001b[0;34m()\u001b[0m\n\u001b[0;32m----> 1\u001b[0m \u001b[43mselect_member_by_birthday\u001b[49m\u001b[43m(\u001b[49m\u001b[38;5;124;43m'\u001b[39;49m\u001b[38;5;124;43m2010-10-01\u001b[39;49m\u001b[38;5;124;43m'\u001b[39;49m\u001b[43m)\u001b[49m\n",
      "Input \u001b[0;32mIn [97]\u001b[0m, in \u001b[0;36mselect_member_by_birthday\u001b[0;34m(birthday)\u001b[0m\n\u001b[1;32m    100\u001b[0m     cursor\u001b[38;5;241m.\u001b[39mexecute(sql)  \u001b[38;5;66;03m# birthday is null\u001b[39;00m\n\u001b[1;32m    101\u001b[0m \u001b[38;5;28;01melse\u001b[39;00m:\n\u001b[0;32m--> 102\u001b[0m     \u001b[43mcursor\u001b[49m\u001b[38;5;241;43m.\u001b[39;49m\u001b[43mexecute\u001b[49m\u001b[43m(\u001b[49m\u001b[43msql\u001b[49m\u001b[43m,\u001b[49m\u001b[43m \u001b[49m\u001b[43m[\u001b[49m\u001b[43mbirthday\u001b[49m\u001b[43m]\u001b[49m\u001b[43m)\u001b[49m  \u001b[38;5;66;03m# birthday = %s\u001b[39;00m\n\u001b[1;32m    103\u001b[0m \u001b[38;5;28;01mreturn\u001b[39;00m cursor\u001b[38;5;241m.\u001b[39mfetchall()\n",
      "File \u001b[0;32m~/opt/anaconda3/lib/python3.9/site-packages/pymysql/cursors.py:151\u001b[0m, in \u001b[0;36mCursor.execute\u001b[0;34m(self, query, args)\u001b[0m\n\u001b[1;32m    148\u001b[0m \u001b[38;5;28;01mwhile\u001b[39;00m \u001b[38;5;28mself\u001b[39m\u001b[38;5;241m.\u001b[39mnextset():\n\u001b[1;32m    149\u001b[0m     \u001b[38;5;28;01mpass\u001b[39;00m\n\u001b[0;32m--> 151\u001b[0m query \u001b[38;5;241m=\u001b[39m \u001b[38;5;28;43mself\u001b[39;49m\u001b[38;5;241;43m.\u001b[39;49m\u001b[43mmogrify\u001b[49m\u001b[43m(\u001b[49m\u001b[43mquery\u001b[49m\u001b[43m,\u001b[49m\u001b[43m \u001b[49m\u001b[43margs\u001b[49m\u001b[43m)\u001b[49m\n\u001b[1;32m    153\u001b[0m result \u001b[38;5;241m=\u001b[39m \u001b[38;5;28mself\u001b[39m\u001b[38;5;241m.\u001b[39m_query(query)\n\u001b[1;32m    154\u001b[0m \u001b[38;5;28mself\u001b[39m\u001b[38;5;241m.\u001b[39m_executed \u001b[38;5;241m=\u001b[39m query\n",
      "File \u001b[0;32m~/opt/anaconda3/lib/python3.9/site-packages/pymysql/cursors.py:129\u001b[0m, in \u001b[0;36mCursor.mogrify\u001b[0;34m(self, query, args)\u001b[0m\n\u001b[1;32m    126\u001b[0m conn \u001b[38;5;241m=\u001b[39m \u001b[38;5;28mself\u001b[39m\u001b[38;5;241m.\u001b[39m_get_db()\n\u001b[1;32m    128\u001b[0m \u001b[38;5;28;01mif\u001b[39;00m args \u001b[38;5;129;01mis\u001b[39;00m \u001b[38;5;129;01mnot\u001b[39;00m \u001b[38;5;28;01mNone\u001b[39;00m:\n\u001b[0;32m--> 129\u001b[0m     query \u001b[38;5;241m=\u001b[39m \u001b[43mquery\u001b[49m\u001b[43m \u001b[49m\u001b[38;5;241;43m%\u001b[39;49m\u001b[43m \u001b[49m\u001b[38;5;28;43mself\u001b[39;49m\u001b[38;5;241;43m.\u001b[39;49m\u001b[43m_escape_args\u001b[49m\u001b[43m(\u001b[49m\u001b[43margs\u001b[49m\u001b[43m,\u001b[49m\u001b[43m \u001b[49m\u001b[43mconn\u001b[49m\u001b[43m)\u001b[49m\n\u001b[1;32m    131\u001b[0m \u001b[38;5;28;01mreturn\u001b[39;00m query\n",
      "\u001b[0;31mTypeError\u001b[0m: not all arguments converted during string formatting"
     ]
    }
   ],
   "source": [
    "select_member_by_birthday('2010-10-01')"
   ]
  },
  {
   "cell_type": "code",
   "execution_count": 101,
   "id": "9d9681e2",
   "metadata": {},
   "outputs": [
    {
     "data": {
      "text/plain": [
       "((7, 'name1', 'abc1@abc.com', Decimal('175.00'), datetime.date(2000, 1, 12), datetime.datetime(2023, 9, 8, 17, 35, 11)),)"
      ]
     },
     "execution_count": 101,
     "metadata": {},
     "output_type": "execute_result"
    }
   ],
   "source": [
    "select_member_by_tall_range(170, 180)"
   ]
  },
  {
   "cell_type": "code",
   "execution_count": 102,
   "id": "8b295bed",
   "metadata": {
    "scrolled": true
   },
   "outputs": [
    {
     "data": {
      "text/plain": [
       "((7, 'name1', 'abc1@abc.com', Decimal('175.00'), datetime.date(2000, 1, 12), datetime.datetime(2023, 9, 8, 17, 35, 11)), (9, 'name3', 'ghi1@abc.com', Decimal('185.00'), datetime.date(1988, 7, 21), datetime.datetime(2023, 9, 8, 17, 35, 11)), (10, '유관순', 'a4@sdf.com', Decimal('185.00'), datetime.date(2010, 10, 1), datetime.datetime(2023, 9, 8, 17, 45, 1)), (12, 'name3', 'ghi3@abc.com', Decimal('185.00'), datetime.date(1988, 7, 21), datetime.datetime(2023, 9, 8, 17, 45, 1)))"
      ]
     },
     "execution_count": 102,
     "metadata": {},
     "output_type": "execute_result"
    }
   ],
   "source": [
    "select_member_by_tall_range(170, 190)"
   ]
  },
  {
   "cell_type": "code",
   "execution_count": 105,
   "id": "d67686c2",
   "metadata": {},
   "outputs": [
    {
     "data": {
      "text/plain": [
       "((14, '박명수', 'bbccc@a.com', Decimal('169.23'), datetime.date(1999, 10, 27), None), (12, 'name3', 'ghi3@abc.com', Decimal('185.00'), datetime.date(1988, 7, 21), datetime.datetime(2023, 9, 8, 17, 45, 1)), (10, '유관순', 'a4@sdf.com', Decimal('185.00'), datetime.date(2010, 10, 1), datetime.datetime(2023, 9, 8, 17, 45, 1)), (9, 'name3', 'ghi1@abc.com', Decimal('185.00'), datetime.date(1988, 7, 21), datetime.datetime(2023, 9, 8, 17, 35, 11)), (7, 'name1', 'abc1@abc.com', Decimal('175.00'), datetime.date(2000, 1, 12), datetime.datetime(2023, 9, 8, 17, 35, 11)))"
      ]
     },
     "execution_count": 105,
     "metadata": {},
     "output_type": "execute_result"
    }
   ],
   "source": [
    "select_all_member()"
   ]
  },
  {
   "cell_type": "markdown",
   "id": "769990dc",
   "metadata": {},
   "source": [
    "# TODO\n",
    "- hr database의 emp 테이블의 데이터를 다루는 함수들을 구현\n",
    "\n",
    "1. 직원 정보들(emp의 컬럼들)을 매개변수로 받아 insert 하는 함수\n",
    "\n",
    "2. 수정할 직원 정보들을 매개변수로 받아 받은 emp_id의 직원의 나머지 컬럼값들을 수정하는 함수\n",
    "\n",
    "3. emp_id를 매개변수로 받아 그 직원을 삭제하는 함수\n",
    "\n",
    "4. job을 매개변수로 받아 그 업무를 하는 직원들을 삭제하는 함수\n",
    "\n",
    "5. 전체 직원정보를 모두 조회해서 반환하는 함수\n",
    "\n",
    "6. emp_id를 매개변수로 받아 그 직원 정보를 조회해서 반환하는 함수\n",
    "\n",
    "7. dept_name을 매개변수로 받아서 그 부서에 소속된 직원들의 정보를 조회해서 반환하는 함수\n",
    "\n",
    "8. salary 범위를 매개변수로 받아 그 범위의 salary를 받는 직원들의 정보를 조회해서 반환하는 함수\n",
    "\n",
    "9. emp_id를 매개변수로 받아서 그 직원의 커미션이 얼마인지를(salary * comm_pct) 조회해 반환하는 함수\n",
    "\n",
    "10. dept_name을 매개변수로 받아서 부서별 급여 통계정보(합계, 최대, 최소, 평균, 표준편차)를 반환하는 함수"
   ]
  }
 ],
 "metadata": {
  "kernelspec": {
   "display_name": "Python 3 (ipykernel)",
   "language": "python",
   "name": "python3"
  },
  "language_info": {
   "codemirror_mode": {
    "name": "ipython",
    "version": 3
   },
   "file_extension": ".py",
   "mimetype": "text/x-python",
   "name": "python",
   "nbconvert_exporter": "python",
   "pygments_lexer": "ipython3",
   "version": "3.9.12"
  },
  "toc": {
   "base_numbering": 1,
   "nav_menu": {},
   "number_sections": false,
   "sideBar": true,
   "skip_h1_title": false,
   "title_cell": "Table of Contents",
   "title_sidebar": "Contents",
   "toc_cell": false,
   "toc_position": {},
   "toc_section_display": true,
   "toc_window_display": false
  },
  "varInspector": {
   "cols": {
    "lenName": 16,
    "lenType": 16,
    "lenVar": 40
   },
   "kernels_config": {
    "python": {
     "delete_cmd_postfix": "",
     "delete_cmd_prefix": "del ",
     "library": "var_list.py",
     "varRefreshCmd": "print(var_dic_list())"
    },
    "r": {
     "delete_cmd_postfix": ") ",
     "delete_cmd_prefix": "rm(",
     "library": "var_list.r",
     "varRefreshCmd": "cat(var_dic_list()) "
    }
   },
   "types_to_exclude": [
    "module",
    "function",
    "builtin_function_or_method",
    "instance",
    "_Feature"
   ],
   "window_display": false
  }
 },
 "nbformat": 4,
 "nbformat_minor": 5
}
