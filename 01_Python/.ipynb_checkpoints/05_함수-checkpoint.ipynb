{
 "cells": [
  {
   "cell_type": "code",
   "execution_count": 1,
   "metadata": {},
   "outputs": [
    {
     "data": {
      "text/plain": [
       "(10, int)"
      ]
     },
     "execution_count": 1,
     "metadata": {},
     "output_type": "execute_result"
    }
   ],
   "source": [
    "int('10'), type(20)"
   ]
  },
  {
   "cell_type": "code",
   "execution_count": 2,
   "metadata": {},
   "outputs": [
    {
     "data": {
      "text/plain": [
       "30"
      ]
     },
     "execution_count": 2,
     "metadata": {},
     "output_type": "execute_result"
    }
   ],
   "source": [
    "# 함수, 연산자\n",
    "# 연산자: 피연산자를 전달, 연산처리결과 반환\n",
    "# 함수 -> 우리가 정의하는 연산자 -> 피연산자: parameter/입력값, 처리결과: return value\n",
    "10 + 20"
   ]
  },
  {
   "cell_type": "code",
   "execution_count": null,
   "metadata": {},
   "outputs": [],
   "source": [
    "-20"
   ]
  },
  {
   "cell_type": "code",
   "execution_count": 3,
   "metadata": {},
   "outputs": [],
   "source": [
    "# 변수를 생성 => 변수 초기화 => 변수 정의: 파이썬 실행환경에 이 변수를 등록하는 작업\n",
    "# 함수도 정의한 뒤에 사용할 수 있다\n",
    "name = '홍길동'"
   ]
  },
  {
   "cell_type": "code",
   "execution_count": 4,
   "metadata": {},
   "outputs": [
    {
     "name": "stdout",
     "output_type": "stream",
     "text": [
      "홍길동\n"
     ]
    }
   ],
   "source": [
    "print(name)"
   ]
  },
  {
   "cell_type": "markdown",
   "metadata": {
    "slideshow": {
     "slide_type": "slide"
    }
   },
   "source": [
    "# 함수란\n",
    "- 함수란 입력변수와 출력변수간의 대응 관계를 정의한 것을 말한다.\n",
    "- 프로그램에서 함수란 하나의 작업, 기능, 동작을 처리하기 위한 사용자 정의 연산자라고 할 수 있다.\n",
    "    - 함수는 값을 입력(Input)을 받아서 처리후 처리결과를 출력(Output)하는 일련의 과정을 정의한 것을 말한다.\n",
    "    - 만들어진 함수는 동일한 작업이 필요할 때 마다 재사용될 수 있다.\n",
    "    - 함수를 구현해 파이썬 실행환경에 등록하는 것을 **함수를 정의(define)한다** 라고 한다.\n",
    "    - 정의된 함수를 사용하는 것을 **함수를 호출(call)한다** 라고 한다.\n",
    "    - 파이썬에서 함수는 일급 시민(First Class Citizen)이다.\n",
    "    \n",
    "> - **일급 시민 이란**   \n",
    ">    – 변수에 할당할 수 있고, 함수의 입력값으로 전달할 수 있고, 함수의 반환 값으로 반환할 수 있는 객체를 말한다."
   ]
  },
  {
   "cell_type": "markdown",
   "metadata": {
    "slideshow": {
     "slide_type": "slide"
    }
   },
   "source": [
    "## 함수 만들기\n",
    "- 함수의 정의\n",
    "    - 새로운 함수를 만드는 것을 함수의 정의라고 한다.\n",
    "    - 함수를 구현하고 그것을 파이썬 실행환경에 새로운 기능으로 등록하는 과정을 말한다."
   ]
  },
  {
   "cell_type": "markdown",
   "metadata": {
    "slideshow": {
     "slide_type": "fragment"
    }
   },
   "source": [
    "- 함수 구현\n",
    "    - 함수의 선언부와 구현부로 나누어진다\n",
    "        - 함수의 선언부(Header) : 함수의 이름과 입력값을 받을 변수(Parameter, 매개변수)를 지정한다.\n",
    "        - 함수의 구현부(Body) : 함수가 호출 되었을 때 실행할 실행문들을 순서대로 작성한다."
   ]
  },
  {
   "cell_type": "markdown",
   "metadata": {
    "slideshow": {
     "slide_type": "fragment"
    }
   },
   "source": [
    "   \n",
    "``` python\n",
    "def 함수이름( [변수, 변수, ..]):  # 선언 부(Header)\n",
    "    # 구현 부(body)\n",
    "    실행구문1\n",
    "    실행구문2\n",
    "    실행구문3\n",
    "    …\n",
    "    [return [결과값]]\n",
    "```\n",
    "- 함수 선언 마지막에는 `:` 을 넣어 구현부와 구분한다.\n",
    "- Parameter(매개변수)는 argument(호출하는 곳에서 전달하는 함수의 입력값)를 받기 위한 변수로 0개 이상 선언할 수 있다.\n",
    "- 함수의 실행구문은 코드블록으로 들여쓰기로 블록을 묶어준다. \n",
    "    - 들여쓰기는 보통 공백 4칸을 사용한다.\n",
    "- 함수의 처리 결과값이 있을 경우 **return 구문**을 넣고 없을 경우 return은 생략할 수 있다.\n",
    "- **함수이름 관례**\n",
    "    - 함수이름은 보통 동사형으로 만든다.\n",
    "    - 모두 소문자로 하고 여러단어로 구성할 경우 각 단어들을 `_`로 연결한다. (변수와 동일)"
   ]
  },
  {
   "cell_type": "code",
   "execution_count": 6,
   "metadata": {},
   "outputs": [],
   "source": [
    "# 함수 정의\n",
    "# 1. 구현\n",
    "def greet():  #header(선언부) -> parameter가 없는 함수\n",
    "    # 구현부 (들여쓰기) => 함수 body(block)\n",
    "    print('안녕하세요')  # 함수호출\n",
    "    print('반갑습니다')\n",
    "# 구현된 함수를 파이썬 실행환경에 등록 -> 함수 구현한 것을 실행"
   ]
  },
  {
   "cell_type": "code",
   "execution_count": 8,
   "metadata": {
    "collapsed": true
   },
   "outputs": [
    {
     "name": "stdout",
     "output_type": "stream",
     "text": [
      "안녕하세요\n",
      "반갑습니다\n",
      "-------------\n",
      "안녕하세요\n",
      "반갑습니다\n",
      "-------------\n",
      "안녕하세요\n",
      "반갑습니다\n"
     ]
    }
   ],
   "source": [
    "# 함수 호출\n",
    "## 함수이름([파라미터에 전달할 값들])\n",
    "greet()\n",
    "print('-------------')\n",
    "greet()\n",
    "print('-------------')\n",
    "greet()"
   ]
  },
  {
   "cell_type": "code",
   "execution_count": 9,
   "metadata": {},
   "outputs": [],
   "source": [
    "# 파라미터가 있는 함수\n",
    "def greet2(name):  # 파라미터가: 한 개 (0개이상 선언 가능)\n",
    "    print(f'{name}님 안녕하세요')\n",
    "    print('반갑습니다')"
   ]
  },
  {
   "cell_type": "code",
   "execution_count": 11,
   "metadata": {},
   "outputs": [
    {
     "name": "stdout",
     "output_type": "stream",
     "text": [
      "이순신님 안녕하세요\n",
      "반갑습니다\n",
      "홍길동님 안녕하세요\n",
      "반갑습니다\n",
      "유재석님 안녕하세요\n",
      "반갑습니다\n"
     ]
    }
   ],
   "source": [
    "greet2('이순신')  # '이순신' (argument) -> name (parameter)\n",
    "greet2('홍길동')\n",
    "greet2('유재석')"
   ]
  },
  {
   "cell_type": "code",
   "execution_count": 12,
   "metadata": {},
   "outputs": [],
   "source": [
    "# parameter가 여러 개인 함수\n",
    "def greet3(name, age, address):\n",
    "    print(f'{address}에 사는 {age}세 {name}님 안녕하세요')\n",
    "    print('반갑습니다')"
   ]
  },
  {
   "cell_type": "code",
   "execution_count": 17,
   "metadata": {
    "slideshow": {
     "slide_type": "fragment"
    }
   },
   "outputs": [
    {
     "name": "stdout",
     "output_type": "stream",
     "text": [
      "부산에 사는 30세 홍길동님 안녕하세요\n",
      "반갑습니다\n",
      "인천에 사는 25세 이순신님 안녕하세요\n",
      "반갑습니다\n"
     ]
    }
   ],
   "source": [
    "greet3('홍길동', 30, '부산')\n",
    "greet3('이순신', 25, '인천')"
   ]
  },
  {
   "cell_type": "code",
   "execution_count": 18,
   "metadata": {
    "collapsed": true
   },
   "outputs": [
    {
     "name": "stdout",
     "output_type": "stream",
     "text": [
      "홍길동에 사는 서울세 20님 안녕하세요\n",
      "반갑습니다\n"
     ]
    },
    {
     "ename": "TypeError",
     "evalue": "greet3() missing 1 required positional argument: 'address'",
     "output_type": "error",
     "traceback": [
      "\u001b[0;31m---------------------------------------------------------------------------\u001b[0m",
      "\u001b[0;31mTypeError\u001b[0m                                 Traceback (most recent call last)",
      "Input \u001b[0;32mIn [18]\u001b[0m, in \u001b[0;36m<cell line: 3>\u001b[0;34m()\u001b[0m\n\u001b[1;32m      1\u001b[0m \u001b[38;5;66;03m# 기본적으로 함수를 호출할 때 parameter와 argument는 개수와 순서가 맞아야 함\u001b[39;00m\n\u001b[1;32m      2\u001b[0m greet3(\u001b[38;5;241m20\u001b[39m, \u001b[38;5;124m'\u001b[39m\u001b[38;5;124m서울\u001b[39m\u001b[38;5;124m'\u001b[39m, \u001b[38;5;124m'\u001b[39m\u001b[38;5;124m홍길동\u001b[39m\u001b[38;5;124m'\u001b[39m)\n\u001b[0;32m----> 3\u001b[0m \u001b[43mgreet3\u001b[49m\u001b[43m(\u001b[49m\u001b[38;5;124;43m'\u001b[39;49m\u001b[38;5;124;43m이순신\u001b[39;49m\u001b[38;5;124;43m'\u001b[39;49m\u001b[43m,\u001b[49m\u001b[43m \u001b[49m\u001b[38;5;241;43m20\u001b[39;49m\u001b[43m)\u001b[49m\n",
      "\u001b[0;31mTypeError\u001b[0m: greet3() missing 1 required positional argument: 'address'"
     ]
    }
   ],
   "source": [
    "# 기본적으로 함수를 호출할 때 parameter와 argument는 개수와 순서가 맞아야 함\n",
    "greet3(20, '서울', '홍길동')\n",
    "greet3('이순신', 20)  # parameter 3개, argument 2개"
   ]
  },
  {
   "cell_type": "code",
   "execution_count": 19,
   "metadata": {},
   "outputs": [],
   "source": [
    "# 이미 정의된 함수와 같은 이름의 함수를 정의 ==> 덮어쓰기\n",
    "def greet3():\n",
    "    print('abc')"
   ]
  },
  {
   "cell_type": "code",
   "execution_count": 22,
   "metadata": {},
   "outputs": [
    {
     "name": "stdout",
     "output_type": "stream",
     "text": [
      "abc\n"
     ]
    }
   ],
   "source": [
    "# greet3('이순신', 25, '인천')\n",
    "greet3()"
   ]
  },
  {
   "cell_type": "code",
   "execution_count": 24,
   "metadata": {},
   "outputs": [
    {
     "name": "stdout",
     "output_type": "stream",
     "text": [
      "안녕하세요\n",
      "반갑습니다\n",
      "None\n",
      "True\n"
     ]
    }
   ],
   "source": [
    "## greet(), greet2(), greet3() => 반환값(처리결과)이 없는 함수 ==> 반환값이 None\n",
    "### 반환값(return value): 처리결과로 호출한 곳(caller)로 전달하는 값\n",
    "a = greet()\n",
    "print(a)\n",
    "print(a==None)"
   ]
  },
  {
   "cell_type": "code",
   "execution_count": 25,
   "metadata": {},
   "outputs": [
    {
     "name": "stdout",
     "output_type": "stream",
     "text": [
      "2\n"
     ]
    }
   ],
   "source": [
    "b = print(2)"
   ]
  },
  {
   "cell_type": "code",
   "execution_count": 26,
   "metadata": {},
   "outputs": [
    {
     "name": "stdout",
     "output_type": "stream",
     "text": [
      "None\n"
     ]
    }
   ],
   "source": [
    "print(b)"
   ]
  },
  {
   "cell_type": "code",
   "execution_count": 27,
   "metadata": {},
   "outputs": [],
   "source": [
    "b"
   ]
  },
  {
   "cell_type": "markdown",
   "metadata": {
    "slideshow": {
     "slide_type": "subslide"
    }
   },
   "source": [
    "### return value(반환값)\n",
    "- 함수가 호출받아 처리한 결과값으로 호출한 곳으로 반환하는 값이다.\n",
    "- 함수 구현부에 return \\[값\\] 구문을 사용해 반환한다.\n",
    "    - **return**\n",
    "        - 함수가 정상적으로 끝났고 호출한곳으로 돌아간다.\n",
    "        - 보통은 함수 구현의 마지막에 넣지만 경우에 따라 중간에 올 수 있다.\n",
    "    - return 반환값\n",
    "        - 호출한 곳으로 값을 가지고 돌아간다. (반환한다)\n",
    "        - 반환값이 없을 경우 None을 반환한다.\n",
    "        - 함수에 return 구문이 없을 경우 마지막에 return None이 실행된다.\n",
    "- 여러개의 값을 return 하는 경우 자료구조로 묶어서 전달해야한다.\n",
    "    - 함수는 한개의 값만 반환할 수 있다. "
   ]
  },
  {
   "cell_type": "code",
   "execution_count": 30,
   "metadata": {},
   "outputs": [],
   "source": [
    "def greet4(name):\n",
    "    v = f'{name}님 안녕하세요.\\n반갑습니다.'\n",
    "    return v  # return 반환값 -> 호출한 곳(caller)로 반환값(v)를 가지고 돌아가라"
   ]
  },
  {
   "cell_type": "code",
   "execution_count": 32,
   "metadata": {},
   "outputs": [
    {
     "name": "stdout",
     "output_type": "stream",
     "text": [
      "홍길동님 안녕하세요.\n",
      "반갑습니다.\n",
      "파일로 저장 홍길동님 안녕하세요.\n",
      "반갑습니다.\n"
     ]
    }
   ],
   "source": [
    "ret_value = greet4('홍길동')\n",
    "print(ret_value)\n",
    "print('파일로 저장', ret_value)"
   ]
  },
  {
   "cell_type": "code",
   "execution_count": 39,
   "metadata": {},
   "outputs": [],
   "source": [
    "# return값은 1개만 가능 (파라미터는 원하는 개수만큼 선언 가능)\n",
    "# return 값이 여러개일 경우 -> 자료구조로 묶어서 반환\n",
    "\n",
    "# 사칙연산 처리\n",
    "def calculate(num1, num2):\n",
    "    r1 = num1 + num2\n",
    "    r2 = num1 - num2\n",
    "    r3 = num1 * num2\n",
    "    r4 = num1 / num2\n",
    "#     return [r1, r2, r3, r4]\n",
    "    return r1, r2, r3, r4  # 튜플로 반환 ()를 생략\n",
    "#     return {'plus':r1, 'minus':r2, 'multiply':r3, 'divide':r4}"
   ]
  },
  {
   "cell_type": "code",
   "execution_count": 40,
   "metadata": {
    "slideshow": {
     "slide_type": "fragment"
    }
   },
   "outputs": [
    {
     "data": {
      "text/plain": [
       "[15, 5, 50, 2.0]"
      ]
     },
     "execution_count": 40,
     "metadata": {},
     "output_type": "execute_result"
    }
   ],
   "source": [
    "result = calculate(10, 5)\n",
    "result"
   ]
  },
  {
   "cell_type": "code",
   "execution_count": 42,
   "metadata": {
    "slideshow": {
     "slide_type": "fragment"
    }
   },
   "outputs": [
    {
     "name": "stdout",
     "output_type": "stream",
     "text": [
      "30 10 200 2.0\n"
     ]
    }
   ],
   "source": [
    "result1, result2, result3, result4 = calculate(20, 10)  # 리스트 대입, 튜플 대입\n",
    "print(result1, result2, result3, result4)"
   ]
  },
  {
   "cell_type": "code",
   "execution_count": 46,
   "metadata": {},
   "outputs": [],
   "source": [
    "def divide(num1, num2):\n",
    "    if num2 == 0:\n",
    "        print('0으로는 어떤 숫자도 나눌 수 없습니다. 두 번째 파라미터는 0 이외의 값을 주세요.')\n",
    "        return  # 함수를 종료하고 호출한 곳으로 돌아감\n",
    "    return num1 / num2"
   ]
  },
  {
   "cell_type": "code",
   "execution_count": 50,
   "metadata": {},
   "outputs": [
    {
     "name": "stdout",
     "output_type": "stream",
     "text": [
      "5.0\n"
     ]
    }
   ],
   "source": [
    "r = divide(10, 2)\n",
    "print(r)"
   ]
  },
  {
   "cell_type": "code",
   "execution_count": 51,
   "metadata": {},
   "outputs": [
    {
     "name": "stdout",
     "output_type": "stream",
     "text": [
      "0으로는 어떤 숫자도 나눌 수 없습니다. 두 번째 파라미터는 0 이외의 값을 주세요.\n",
      "None\n"
     ]
    }
   ],
   "source": [
    "r = divide(10, 0)\n",
    "print(r)"
   ]
  },
  {
   "cell_type": "markdown",
   "metadata": {
    "slideshow": {
     "slide_type": "slide"
    }
   },
   "source": [
    "## Parameter (매개변수)\n",
    " \n",
    "### 기본값이 있는 Parameter\n",
    "- 매개변수에 값을 대입하는 구문을 작성하면 호출할 때 argument 가 넘어오지 않으면 대입해놓은 기본값을 사용한다.\n",
    "- 함수 정의시 기본값 없는 매개변수, 있는 매개변수를 같이 선언할 수 있다.\n",
    "    - **이때 기본값 없는 매개변수들을 선언하고 그 다음에 기본값 있는 매개변수들을 선언한다.** "
   ]
  },
  {
   "cell_type": "code",
   "execution_count": 53,
   "metadata": {},
   "outputs": [
    {
     "name": "stdout",
     "output_type": "stream",
     "text": [
      "이름: 홍길동\n"
     ]
    },
    {
     "ename": "TypeError",
     "evalue": "print_info() missing 1 required positional argument: 'name'",
     "output_type": "error",
     "traceback": [
      "\u001b[0;31m---------------------------------------------------------------------------\u001b[0m",
      "\u001b[0;31mTypeError\u001b[0m                                 Traceback (most recent call last)",
      "Input \u001b[0;32mIn [53]\u001b[0m, in \u001b[0;36m<cell line: 5>\u001b[0;34m()\u001b[0m\n\u001b[1;32m      2\u001b[0m     \u001b[38;5;28mprint\u001b[39m(\u001b[38;5;124mf\u001b[39m\u001b[38;5;124m'\u001b[39m\u001b[38;5;124m이름: \u001b[39m\u001b[38;5;132;01m{\u001b[39;00mname\u001b[38;5;132;01m}\u001b[39;00m\u001b[38;5;124m'\u001b[39m)\n\u001b[1;32m      4\u001b[0m print_info(\u001b[38;5;124m'\u001b[39m\u001b[38;5;124m홍길동\u001b[39m\u001b[38;5;124m'\u001b[39m)\n\u001b[0;32m----> 5\u001b[0m \u001b[43mprint_info\u001b[49m\u001b[43m(\u001b[49m\u001b[43m)\u001b[49m\n",
      "\u001b[0;31mTypeError\u001b[0m: print_info() missing 1 required positional argument: 'name'"
     ]
    }
   ],
   "source": [
    "def print_info(name):  # name 파타미터틑 argument를 받아야 함\n",
    "    print(f'이름: {name}')\n",
    "\n",
    "print_info('홍길동')\n",
    "print_info()\n",
    "\n",
    "# TypeError: 함수이름() missing 개수 required positional argument: '파라미터변수이름'"
   ]
  },
  {
   "cell_type": "code",
   "execution_count": 57,
   "metadata": {},
   "outputs": [],
   "source": [
    "def print_info2(name=None):  # name: 기본값이 있는 파라미터\n",
    "    if name:  # name if not None\n",
    "        print(f'이름: {name}')\n",
    "    else:  # name is None\n",
    "        print('이름을 입력하세요.')"
   ]
  },
  {
   "cell_type": "code",
   "execution_count": 58,
   "metadata": {},
   "outputs": [
    {
     "name": "stdout",
     "output_type": "stream",
     "text": [
      "이름: 홍길동\n",
      "==============================\n",
      "이름을 입력하세요.\n"
     ]
    }
   ],
   "source": [
    "print_info2('홍길동')  # name <= '홍길동'\n",
    "print('='*30)\n",
    "print_info2()  # name에 값을 전달 X -> name = None"
   ]
  },
  {
   "cell_type": "code",
   "execution_count": 63,
   "metadata": {},
   "outputs": [],
   "source": [
    "# 기본값이 없는 parameter들을 먼저 선언\n",
    "def print_info3(id, password, name, age=0, weight=0, tall=0):\n",
    "    print(id, password, name, age, weight, tall)"
   ]
  },
  {
   "cell_type": "code",
   "execution_count": 65,
   "metadata": {},
   "outputs": [
    {
     "name": "stdout",
     "output_type": "stream",
     "text": [
      "id password name 0 0 0\n",
      "id password name 30 0 0\n",
      "id password name 30 40 50\n"
     ]
    }
   ],
   "source": [
    "print_info3(\"id\", 'password', 'name')\n",
    "print_info3(\"id\", 'password', 'name', 30)\n",
    "print_info3(\"id\", 'password', 'name', 30, 40, 50)"
   ]
  },
  {
   "cell_type": "code",
   "execution_count": 68,
   "metadata": {},
   "outputs": [
    {
     "ename": "SyntaxError",
     "evalue": "non-default argument follows default argument (898536781.py, line 1)",
     "output_type": "error",
     "traceback": [
      "\u001b[0;36m  Input \u001b[0;32mIn [68]\u001b[0;36m\u001b[0m\n\u001b[0;31m    def print_info3(id, password, name, age=0, weight=0, tall=0, email):\u001b[0m\n\u001b[0m                                                                      ^\u001b[0m\n\u001b[0;31mSyntaxError\u001b[0m\u001b[0;31m:\u001b[0m non-default argument follows default argument\n"
     ]
    }
   ],
   "source": [
    "def print_info3(id, password, name, age=0, weight=0, tall=0, email):\n",
    "    print(id, password, name, age, weight, tall)"
   ]
  },
  {
   "cell_type": "code",
   "execution_count": 69,
   "metadata": {},
   "outputs": [],
   "source": [
    "# default값이 없는 파라미터들, * , default값이 있는 파라미터들\n",
    "# parameter에 *는 구분자로 사용\n",
    "def print_info4(id, password, name, *, age=0, weight=0, tall=0):\n",
    "    print(id, password, name, age, weight, tall)"
   ]
  },
  {
   "cell_type": "code",
   "execution_count": 70,
   "metadata": {
    "slideshow": {
     "slide_type": "fragment"
    }
   },
   "outputs": [
    {
     "name": "stdout",
     "output_type": "stream",
     "text": [
      "1 2 3 0 0 0\n",
      "1 2 3 10 30 40\n"
     ]
    }
   ],
   "source": [
    "print_info4(1, 2, 3)\n",
    "print_info4(1, 2, 3, age=10, weight=30, tall=40)  # * 뒤의 파라미터는 이름=값 형태로 전달"
   ]
  },
  {
   "cell_type": "markdown",
   "metadata": {
    "slideshow": {
     "slide_type": "subslide"
    }
   },
   "source": [
    "### Positional argument와 Keyword argument \n",
    "- Argument는 함수/메소드를 호출할 때 전달하는 입력값을 말한다.\n",
    "    - Argument는 전달하는 값이고 Parameter는 그 값을 저장하는 변수\n",
    "- Positional argument\n",
    "    -  함수 호출 할때 argument(전달인자)를 Parameter  순서에 맞춰 값을 넣어서 호출.\n",
    "- keyword  argument \n",
    "    - 함수 호출할 때 argument를 `Parameter변수명 = 전달할값` 형식으로 선언해서 어떤 parameter에 어떤 값을 전달할 것인지 지정해서 호출.\n",
    "    - 순서와 상관없이 호출하는 것이 가능.\n",
    "    - parameter가 많고 대부분 기본값이 있는 함수 호출 할 때 뒤 쪽에 선언된 parameter에만 값을 전달하고 싶을 경우 유용하다."
   ]
  },
  {
   "cell_type": "code",
   "execution_count": 75,
   "metadata": {},
   "outputs": [],
   "source": [
    "# 모든 파라미터들을 기본값이 있는 것으로 선언\n",
    "def print_info5(id=None, password=None, name=None, age=0, weight=0, tall=0, email=None):\n",
    "    print(id, password, name, age, weight, tall, email, sep=', ')"
   ]
  },
  {
   "cell_type": "code",
   "execution_count": 78,
   "metadata": {},
   "outputs": [
    {
     "name": "stdout",
     "output_type": "stream",
     "text": [
      "None, None, None, 0, 0, 0, None\n",
      "my_id, None, None, 0, 0, 0, None\n",
      "my_id, abcde, None, 0, 0, 0, None\n",
      "None, None, None, 0, 0, 0, abc@abc.com\n",
      "------------------------------\n",
      "None, None, None, 0, 0, 0, aaa@aaa.com\n",
      "None, aasdfj, None, 0, 0, 182.5, None\n",
      "None, None, 홍길동, 0, 60.5, 0, aaa@asdf.com\n",
      "my_id, 111pwd, None, 0, 0, 0, email@a.com\n"
     ]
    }
   ],
   "source": [
    "print_info5()\n",
    "print_info5('my_id')  # id 설정\n",
    "print_info5('my_id', 'abcde')  # id, password (첫 번째, 두 번째 파라미터)\n",
    "print_info5(None, None, None, 0, 0, 0, 'abc@abc.com')  # positional argument\n",
    "# email만 설정 (뒷쪽에 선언된 파라미터에 값을 전달, 앞에 선언된 파라미터는 기본값을 사용)\n",
    "print('------------------------------')\n",
    "print_info5(email='aaa@aaa.com')\n",
    "print_info5(password='aasdfj', tall=182.5)\n",
    "print_info5(email='aaa@asdf.com', name='홍길동', weight=60.5)  # 순서 상관 X\n",
    "# positional args, keyword args 같이 사용 가능 => positional을 먼저 설정, keyword를 다음에 설정\n",
    "print_info5('my_id', '111pwd', email='email@a.com')"
   ]
  },
  {
   "cell_type": "markdown",
   "metadata": {
    "slideshow": {
     "slide_type": "subslide"
    }
   },
   "source": [
    "### 가변인자 (Var args) 파라미터\n",
    "- 호출하는 쪽에서 argument로 0 ~ n개의 값을 나열해서 여러개의 값들을 전달하면 **tuple이나 dictionary로 묶어서** 받을 수있도록 선언하는 parameter\n",
    "    - positial argument로 전달하는 것과 keyword argument로 전달되는 값을 받는 두가지 방식이 있다.\n",
    "- \\*변수명: **positional argument**를 개수와 상관없이 하나의 변수로 받을 수 있도록 선언하는 가변인자.\n",
    "    - 전달된 값들은 tuple로 받아서 처리한다.\n",
    "    - 관례적으로 변수명은 \\*args 를 사용한다.\n",
    "- \\*\\*변수명: **keyword argument**를 개수와 상관없이 하나의 변수로 받을 수 있도록 선언하는 가변인자.\n",
    "    - 전달된 값들은 dictionary로 받아서 처리한다.\n",
    "    - 관례적으로 변수명은 \\*\\*kwargs 를 사용한다.\n",
    "- 하나의 함수에 가변인자는 \\* 하나, \\*\\* 두개짜리 각각 한개씩만 선언할 수 있다.\n",
    "- 파라미터 선언순서\n",
    "    1. 기본값이 없는 파라미터\n",
    "    2. 기본값이 있는 파라미터\n",
    "    3. `*args`\n",
    "    4. `**kwargs`"
   ]
  },
  {
   "cell_type": "code",
   "execution_count": 79,
   "metadata": {},
   "outputs": [],
   "source": [
    "# 숫자 값들을 받아서 합계를 반환하는 함수\n",
    "def summation(nums):\n",
    "    result = 0  # 총합을 저장할 변수\n",
    "    for v in nums:\n",
    "        result += v  # result = result + v\n",
    "    return result"
   ]
  },
  {
   "cell_type": "code",
   "execution_count": 80,
   "metadata": {},
   "outputs": [
    {
     "data": {
      "text/plain": [
       "15"
      ]
     },
     "execution_count": 80,
     "metadata": {},
     "output_type": "execute_result"
    }
   ],
   "source": [
    "summation([1, 2])\n",
    "summation([1, 2, 3, 4])\n",
    "summation([1, 2, 3, 4, 5])"
   ]
  },
  {
   "cell_type": "code",
   "execution_count": 85,
   "metadata": {},
   "outputs": [],
   "source": [
    "# *변수명: 가변인자 -> positional argument로 전달되는 인자값의 개수를 상관없이 받겠다. (0개 이상)\n",
    "def summation2(*nums):\n",
    "    print(type(nums))\n",
    "    result = 0  # 총합을 저장할 변수\n",
    "    for v in nums:\n",
    "        result += v  # result = result + v\n",
    "    return result"
   ]
  },
  {
   "cell_type": "code",
   "execution_count": 86,
   "metadata": {},
   "outputs": [
    {
     "name": "stdout",
     "output_type": "stream",
     "text": [
      "<class 'tuple'>\n",
      "0\n",
      "<class 'tuple'>\n",
      "6\n",
      "<class 'tuple'>\n",
      "21\n"
     ]
    }
   ],
   "source": [
    "print(summation2())  # args: 0\n",
    "print(summation2(1, 2, 3))  # args: 3\n",
    "print(summation2(1, 2, 3, 4, 5, 6))  # args: 6"
   ]
  },
  {
   "cell_type": "code",
   "execution_count": 87,
   "metadata": {},
   "outputs": [],
   "source": [
    "# keyword argument 개수 상관없이 전달 받겠다\n",
    "def print_info6(**user_info):\n",
    "    print(type(user_info))\n",
    "    print(user_info['name'], user_info['age'])"
   ]
  },
  {
   "cell_type": "code",
   "execution_count": 88,
   "metadata": {},
   "outputs": [
    {
     "name": "stdout",
     "output_type": "stream",
     "text": [
      "<class 'dict'>\n",
      "홍길동 20\n"
     ]
    }
   ],
   "source": [
    "print_info6(name='홍길동', age=20)"
   ]
  },
  {
   "cell_type": "code",
   "execution_count": 89,
   "metadata": {},
   "outputs": [],
   "source": [
    "# 가변인자: 같이 선언 (* 먼저 선언 다음에 ** 선언, 각각 한 개씩만 선언 가능)\n",
    "def test(*args, **kwargs):\n",
    "    print(args)\n",
    "    print(kwargs)"
   ]
  },
  {
   "cell_type": "code",
   "execution_count": 90,
   "metadata": {
    "slideshow": {
     "slide_type": "fragment"
    }
   },
   "outputs": [
    {
     "name": "stdout",
     "output_type": "stream",
     "text": [
      "(1, 2, 3, 4, 5, 6)\n",
      "{'a': 10, 'b': 20, 'c': 213, 'd': 'abc'}\n"
     ]
    }
   ],
   "source": [
    "test(1, 2, 3, 4, 5, 6, a=10, b=20, c=213, d='abc')"
   ]
  },
  {
   "cell_type": "code",
   "execution_count": 92,
   "metadata": {},
   "outputs": [],
   "source": [
    "# 일반 파라미터, *가변인자, **가변인자\n",
    "def test2(p1, p2, p3, *args, **kwargs):\n",
    "    print(p1, p2, p3)\n",
    "    print(args)\n",
    "    print(kwargs)"
   ]
  },
  {
   "cell_type": "code",
   "execution_count": 93,
   "metadata": {},
   "outputs": [
    {
     "name": "stdout",
     "output_type": "stream",
     "text": [
      "10 20 30\n",
      "(1, 2, 3, 4, 5)\n",
      "{'a': 'rk', 'b': '니'}\n"
     ]
    }
   ],
   "source": [
    "test2(10, 20, 30, 1, 2, 3, 4, 5, a='rk', b='니')"
   ]
  },
  {
   "cell_type": "code",
   "execution_count": 7,
   "metadata": {},
   "outputs": [],
   "source": [
    "def fn(*args):\n",
    "    print(args)\n",
    "    print(len(args))"
   ]
  },
  {
   "cell_type": "code",
   "execution_count": 10,
   "metadata": {},
   "outputs": [
    {
     "name": "stdout",
     "output_type": "stream",
     "text": [
      "([1, 2, 3, 4, 5],)\n",
      "1\n",
      "(1, 2, 3, 4, 5)\n",
      "5\n"
     ]
    }
   ],
   "source": [
    "l = [1, 2, 3, 4, 5]\n",
    "# fn() 가변인자에 리스트 l의 원소들을 전달\n",
    "fn(l)  # list가 한 개의 값으로 전달 (리스트, )\n",
    "fn(*l)  # 가변인자에 *리스트 => 리스트의 원소들을 풀어서 전달"
   ]
  },
  {
   "cell_type": "code",
   "execution_count": 12,
   "metadata": {},
   "outputs": [],
   "source": [
    "def fn2(**kwargs):\n",
    "    print(kwargs)\n",
    "    print(len(kwargs))"
   ]
  },
  {
   "cell_type": "code",
   "execution_count": 14,
   "metadata": {},
   "outputs": [
    {
     "name": "stdout",
     "output_type": "stream",
     "text": [
      "{'aaa': 10, 'bbb': 20, 'ccc': 30}\n",
      "3\n"
     ]
    }
   ],
   "source": [
    "dic = {'aaa':10, 'bbb':20, 'ccc':30}\n",
    "# fn2(dic)  # TypeError 발생\n",
    "fn2(**dic)  # dict의 item들을 key=value, key=value (keyword args)형태로 풀어서 전달\n",
    "# fn2(aaa=10, bbb=20, ccc=30)"
   ]
  },
  {
   "cell_type": "code",
   "execution_count": 15,
   "metadata": {},
   "outputs": [],
   "source": [
    "def test(*args, **kwargs):\n",
    "    print(args)\n",
    "    print(kwargs)"
   ]
  },
  {
   "cell_type": "code",
   "execution_count": 16,
   "metadata": {},
   "outputs": [
    {
     "name": "stdout",
     "output_type": "stream",
     "text": [
      "(1, 2, 3, 4, 5)\n",
      "{'aaa': 10, 'bbb': 20, 'ccc': 30}\n"
     ]
    }
   ],
   "source": [
    "test(*l, **dic)\n",
    "# test(1, 2, 3, 4, 5, aaa=10, bbb=20, ccc=30)"
   ]
  },
  {
   "cell_type": "markdown",
   "metadata": {
    "slideshow": {
     "slide_type": "slide"
    }
   },
   "source": [
    "# 변수의 유효범위 (Scope)\n",
    "\n",
    "- **지역변수 (local variable)**\n",
    "    - 함수안에 선언된 변수\n",
    "    - 선언된 그 함수 안에서만 사용할 수 있다.\n",
    "- **전역변수 (global variable)**\n",
    "    - 함수 밖에 선언 된 변수\n",
    "    - 모든 함수들이 공통적으로 사용할 수 있다.\n",
    "    - 하나의 함수에서 값을 변경하면 그 변한 값이 모든 함수에 영향을 주기 때문에 함부로 변경하지 않는다.\n",
    "    - 함수내에서 전역변수에 값을 대입하기 위해서는 global 키워드를 이용해 사용할 것을 미리 선언해야 한다.\n",
    "        - global로 선언하지 않고 함수안에서 전역변수와 이름이 같은 변수에 값을 대입하면 그 변수와 동일한 지역변수을 생성한다.\n",
    "        - 조회할 경우에는 상관없다.\n",
    "            - 함수에서 변수를 조회할 경우 **먼저 지역변수를 찾고 없으면 전역변수를 찾는다.**\n",
    "            \n"
   ]
  },
  {
   "cell_type": "code",
   "execution_count": 30,
   "metadata": {},
   "outputs": [],
   "source": [
    "# 전역변수(global variable)\n",
    "name = '홍길동'\n",
    "\n",
    "\n",
    "# 지역변수: 함수가 실행되는 동안에만 메모리(stack 메모리 영역)에 올라감\n",
    "def fn1():\n",
    "    age = 20  # fn1() 함수 안에 정의한 변수: (fn1함수의)지역변수(local variable)\n",
    "    print(name)\n",
    "    print(age)\n",
    "    \n",
    "def fn2():\n",
    "    name = '이순신'  # fn2()함수의 지역변수를 정의\n",
    "    age = 30  # fn2() 함수 안에 정의한 변수: (fn2함수의)지역변수(local variable)\n",
    "    print(name)\n",
    "    print(age)\n",
    "    \n",
    "def fn3():\n",
    "    global name  # global 변수 name을 사용하겠다고 선언 \n",
    "                 # (global 변수의 값을 변경할 경우 반드시 지정, \n",
    "                 #                        지정하지 않고 변경하면 local 변수 정의하는 것이 됨)\n",
    "    name = '유재석'"
   ]
  },
  {
   "cell_type": "code",
   "execution_count": 28,
   "metadata": {},
   "outputs": [
    {
     "name": "stdout",
     "output_type": "stream",
     "text": [
      "이순신\n",
      "30\n"
     ]
    }
   ],
   "source": [
    "fn2()"
   ]
  },
  {
   "cell_type": "code",
   "execution_count": 29,
   "metadata": {},
   "outputs": [
    {
     "name": "stdout",
     "output_type": "stream",
     "text": [
      "홍길동\n",
      "20\n"
     ]
    }
   ],
   "source": [
    "fn1()"
   ]
  },
  {
   "cell_type": "code",
   "execution_count": 31,
   "metadata": {},
   "outputs": [],
   "source": [
    "fn3()"
   ]
  },
  {
   "cell_type": "code",
   "execution_count": null,
   "metadata": {
    "slideshow": {
     "slide_type": "fragment"
    }
   },
   "outputs": [],
   "source": []
  },
  {
   "cell_type": "markdown",
   "metadata": {
    "slideshow": {
     "slide_type": "slide"
    }
   },
   "source": [
    "# 함수는 일급시민(First class citizen) 이다. \n",
    "- 일급 시민\n",
    "    1. 변수에 대입 할 수 있다.\n",
    "    1. Argument로 사용할 수 있다.\n",
    "    1. 함수나 메소드의 반환값으로 사용 할 수 있다.\n",
    "- 일급\n",
    "    - 모든 권리를 다 가진다는 의미\n",
    "- 시민\n",
    "    - 프로그래밍 언어를 구성하는 객체를 의미\n",
    "- 즉 파이썬에서 함수는 일반 값(객체) 로 취급된다. "
   ]
  },
  {
   "cell_type": "code",
   "execution_count": 32,
   "metadata": {
    "slideshow": {
     "slide_type": "fragment"
    }
   },
   "outputs": [
    {
     "name": "stdout",
     "output_type": "stream",
     "text": [
      "10\n"
     ]
    },
    {
     "data": {
      "text/plain": [
       "10"
      ]
     },
     "execution_count": 32,
     "metadata": {},
     "output_type": "execute_result"
    }
   ],
   "source": [
    "# 정수\n",
    "a = 10  # 1. 변수에 대입\n",
    "\n",
    "def func(num):\n",
    "    print(num)\n",
    "    return 10  # 3. return 값으로 사용\n",
    "\n",
    "func(10)  # 2. argument 사용\n",
    "\n",
    "# 정수는 일급시민객체"
   ]
  },
  {
   "cell_type": "code",
   "execution_count": 34,
   "metadata": {},
   "outputs": [],
   "source": [
    "def test_fn():\n",
    "    print('a')"
   ]
  },
  {
   "cell_type": "code",
   "execution_count": 38,
   "metadata": {},
   "outputs": [
    {
     "name": "stdout",
     "output_type": "stream",
     "text": [
      "abc <function test_fn at 0x7f86e884b940>\n"
     ]
    },
    {
     "data": {
      "text/plain": [
       "<function __main__.test_fn()>"
      ]
     },
     "execution_count": 38,
     "metadata": {},
     "output_type": "execute_result"
    }
   ],
   "source": [
    "b = test_fn  # 1. 함수를 변수에 대입\n",
    "def func2(fn):\n",
    "    print('abc', fn) \n",
    "    return test_fn  # 3. 함수를 return 값으로 사용\n",
    "\n",
    "v = func2(test_fn)  # 2. 함수를 argument로 사용\n",
    "v"
   ]
  },
  {
   "cell_type": "code",
   "execution_count": 40,
   "metadata": {},
   "outputs": [
    {
     "name": "stdout",
     "output_type": "stream",
     "text": [
      "Hello World\n",
      "None\n"
     ]
    }
   ],
   "source": [
    "def hello():\n",
    "    print('Hello World')\n",
    "    \n",
    "v = hello()  # hello함수를 호출해서 실행 -> 그 반환값을 v에 대입\n",
    "print(v)"
   ]
  },
  {
   "cell_type": "code",
   "execution_count": 41,
   "metadata": {},
   "outputs": [],
   "source": [
    "my_hello = hello  # hello 함수를 my_hello란 변수에 할당"
   ]
  },
  {
   "cell_type": "code",
   "execution_count": 42,
   "metadata": {},
   "outputs": [
    {
     "data": {
      "text/plain": [
       "<function __main__.hello()>"
      ]
     },
     "execution_count": 42,
     "metadata": {},
     "output_type": "execute_result"
    }
   ],
   "source": [
    "my_hello"
   ]
  },
  {
   "cell_type": "code",
   "execution_count": 43,
   "metadata": {},
   "outputs": [
    {
     "name": "stdout",
     "output_type": "stream",
     "text": [
      "Hello World\n"
     ]
    }
   ],
   "source": [
    "my_hello()"
   ]
  },
  {
   "cell_type": "code",
   "execution_count": 45,
   "metadata": {},
   "outputs": [
    {
     "name": "stdout",
     "output_type": "stream",
     "text": [
      "Hello World\n"
     ]
    }
   ],
   "source": [
    "your_hello = hello\n",
    "your_hello()"
   ]
  },
  {
   "cell_type": "code",
   "execution_count": 46,
   "metadata": {},
   "outputs": [
    {
     "name": "stdout",
     "output_type": "stream",
     "text": [
      "Hello World\n"
     ]
    }
   ],
   "source": [
    "test_hello = my_hello\n",
    "test_hello()"
   ]
  },
  {
   "cell_type": "code",
   "execution_count": 47,
   "metadata": {},
   "outputs": [],
   "source": [
    "# 함수를 argument로 전달"
   ]
  },
  {
   "cell_type": "code",
   "execution_count": 48,
   "metadata": {},
   "outputs": [],
   "source": [
    "def calc(func):\n",
    "    # 처리할 값을 calc함수가 가지고 있음 => 어떤 처리를 하지?\n",
    "    # 파라미터로 처리하는 함수를 호출하는 곳에서 받겠다\n",
    "    num1 = 10\n",
    "    num2 = 20\n",
    "    result = func(num1, num2)\n",
    "    print(result)\n",
    "    # 계산"
   ]
  },
  {
   "cell_type": "code",
   "execution_count": 53,
   "metadata": {},
   "outputs": [],
   "source": [
    "def plus(num1, num2):\n",
    "    # 어떻게 처리할지는 plus함수가 가지고 있음 => 무슨 값을 처리할지?\n",
    "    # 파라미터로 호출하는 곳에ㅓ 처리할 값(피연산자)를 받겠다.\n",
    "    result = num1 + num2\n",
    "    return result\n",
    "def minus(n1, n2):\n",
    "    return n1 - n2"
   ]
  },
  {
   "cell_type": "code",
   "execution_count": 54,
   "metadata": {},
   "outputs": [
    {
     "name": "stdout",
     "output_type": "stream",
     "text": [
      "-10\n"
     ]
    }
   ],
   "source": [
    "calc(minus)"
   ]
  },
  {
   "cell_type": "code",
   "execution_count": 55,
   "metadata": {},
   "outputs": [
    {
     "name": "stdout",
     "output_type": "stream",
     "text": [
      "30\n"
     ]
    }
   ],
   "source": [
    "# calc 호출\n",
    "calc(plus)  # func(num1, num2) == plus(num1, num2)"
   ]
  },
  {
   "cell_type": "code",
   "execution_count": 50,
   "metadata": {},
   "outputs": [
    {
     "name": "stdout",
     "output_type": "stream",
     "text": [
      "30\n"
     ]
    }
   ],
   "source": [
    "# plus 호출\n",
    "v = plus(10, 20)\n",
    "print(v)"
   ]
  },
  {
   "cell_type": "code",
   "execution_count": 56,
   "metadata": {},
   "outputs": [],
   "source": [
    "l = [1, 4, 3, 2, 3, 6, 7, 10, 2, 2, 3, 4, 5]\n",
    "\n",
    "# 값을 하나 받아서 조건을 체크한 결과를 bool 값으로 반환\n",
    "def check_fn(element):\n",
    "    return element % 2 == 0\n",
    "\n",
    "# filter() 내장함수\n",
    "### filter(함수, iterable) - iterable의 원소들 중에서 특정 조건이 True인 값들을 제공\n",
    "#### 함수: 조건을 check하는 함수"
   ]
  },
  {
   "cell_type": "code",
   "execution_count": 58,
   "metadata": {},
   "outputs": [
    {
     "data": {
      "text/plain": [
       "[4, 2, 6, 10, 2, 2, 4]"
      ]
     },
     "execution_count": 58,
     "metadata": {},
     "output_type": "execute_result"
    }
   ],
   "source": [
    "list(filter(check_fn, l))"
   ]
  },
  {
   "cell_type": "code",
   "execution_count": 59,
   "metadata": {},
   "outputs": [],
   "source": [
    "def my_filter(func, lst):\n",
    "    result = []\n",
    "    for i in lst:\n",
    "        if func(i):\n",
    "            result.append(i)\n",
    "    return result"
   ]
  },
  {
   "cell_type": "code",
   "execution_count": 60,
   "metadata": {},
   "outputs": [
    {
     "data": {
      "text/plain": [
       "[4, 2, 6, 10, 2, 2, 4]"
      ]
     },
     "execution_count": 60,
     "metadata": {},
     "output_type": "execute_result"
    }
   ],
   "source": [
    "my_filter(check_fn, l)"
   ]
  },
  {
   "cell_type": "markdown",
   "metadata": {
    "slideshow": {
     "slide_type": "slide"
    }
   },
   "source": [
    "## 람다식/람다표현식 (Lambda Expression)\n",
    "- 함수를 하나의 식을 이용해서 정의할때 사용하는 표현식(구문).\n",
    "- 값을 입력받아서 **간단한 처리한 결과**를 반환하는 간단한 함수를 표현식으로 정의할 수 있다.\n",
    "    - 처리결과를 return 하는 구문을 하나의 명령문으로 처리할 수 있을때 람다식을 사용할 수 있다. => return x + y\n",
    "- 구문\n",
    "```python\n",
    "lambda 매개변수[, 매개변수, ...] : 명령문(구문)\n",
    "```\n",
    "- 명령문(구문)은 하나의 실행문만 가능하다.\n",
    "- 명령문(구문)이 처리한 결과를 리턴해준다.\n",
    "- **람다식은 함수의 매개변수로 함수를 전달하는 일회성 함수를 만들때 주로 사용한다.**"
   ]
  },
  {
   "cell_type": "code",
   "execution_count": 61,
   "metadata": {},
   "outputs": [],
   "source": [
    "f1 = lambda x, y: x + y"
   ]
  },
  {
   "cell_type": "code",
   "execution_count": 64,
   "metadata": {},
   "outputs": [],
   "source": [
    "def f2(x, y):\n",
    "    return x + y"
   ]
  },
  {
   "cell_type": "code",
   "execution_count": 65,
   "metadata": {},
   "outputs": [
    {
     "name": "stdout",
     "output_type": "stream",
     "text": [
      "30 30\n"
     ]
    }
   ],
   "source": [
    "print(f1(10, 20), f2(10, 20))"
   ]
  },
  {
   "cell_type": "code",
   "execution_count": 67,
   "metadata": {},
   "outputs": [
    {
     "data": {
      "text/plain": [
       "(True, False)"
      ]
     },
     "execution_count": 67,
     "metadata": {},
     "output_type": "execute_result"
    }
   ],
   "source": [
    "f3 = lambda name: name.endswith('.exe')\n",
    "f3('test.exe'), f3('test.jpg')"
   ]
  },
  {
   "cell_type": "code",
   "execution_count": 68,
   "metadata": {
    "slideshow": {
     "slide_type": "fragment"
    }
   },
   "outputs": [
    {
     "data": {
      "text/plain": [
       "100"
      ]
     },
     "execution_count": 68,
     "metadata": {},
     "output_type": "execute_result"
    }
   ],
   "source": [
    "f4 = lambda x, y: x ** y\n",
    "f4(10, 2)"
   ]
  },
  {
   "cell_type": "code",
   "execution_count": 69,
   "metadata": {},
   "outputs": [
    {
     "name": "stdout",
     "output_type": "stream",
     "text": [
      "30\n"
     ]
    }
   ],
   "source": [
    "calc(lambda x, y: x+y)"
   ]
  },
  {
   "cell_type": "code",
   "execution_count": 71,
   "metadata": {},
   "outputs": [
    {
     "data": {
      "text/plain": [
       "[10, 2, 2, 4]"
      ]
     },
     "execution_count": 71,
     "metadata": {},
     "output_type": "execute_result"
    }
   ],
   "source": [
    "list(filter(lambda x: x % 2 == 0, [10, 2, 3, 1, 1, 2, 4,23]))"
   ]
  },
  {
   "cell_type": "markdown",
   "metadata": {
    "slideshow": {
     "slide_type": "slide"
    }
   },
   "source": [
    "### iterable 관련 함수에서 함수를 매개변수로 받아 처리하는 함수들\n",
    "- sorted(iterable, reverse=False, key=None)\n",
    "    - 정렬처리\n",
    "    - 매개변수\n",
    "        - reverse: True - 내림차순, False - 오름차순(기본)\n",
    "        - key: 함수 \n",
    "            - Parameter로 iterable의 각 원소를 받는 함수.\n",
    "            - 정렬을 할 때 iterable의 원소기준으로 정렬하는 것이 아니라 이 함수가 반환하는 값을 기준으로 정렬\n",
    "- filter(함수, Iterable)\n",
    "    - Iterable의 원소들 중에서 특정 조건을 만족하는 원소들만 걸러주는 함수\n",
    "    - 함수\n",
    "        - 어떻게 걸러낼 것인지 조건을 정의. 매개변수 1개, 반환값 bool\n",
    "        - 원소 하나 하나를 함수에 전달해 True를 반환하는 것만 반환\n",
    "- map(함수, Iterable)\n",
    "    - Iterable의 원소들 하나 하나를 처리(변형)해서 그 결과를 반환\n",
    "    - 함수\n",
    "        - 원소들을 어떻게 처리할지 정의. 매개변수 1개. 반환값: 처리 결과\n",
    "- **filter/map 반환타입**: generator 형태로 반환 된다. (리스트가 아님)"
   ]
  },
  {
   "cell_type": "code",
   "execution_count": 74,
   "metadata": {},
   "outputs": [
    {
     "data": {
      "text/plain": [
       "['b', 'aaaaa', 'aaaa', 'aaa', 'aa', 'a']"
      ]
     },
     "execution_count": 74,
     "metadata": {},
     "output_type": "execute_result"
    }
   ],
   "source": [
    "l = ['a', 'aa', 'aaa', 'aaaa', 'aaaaa', 'b']\n",
    "sorted(l)  # 오름차순\n",
    "sorted(l, reverse=True)  # 내림차순"
   ]
  },
  {
   "cell_type": "code",
   "execution_count": 75,
   "metadata": {},
   "outputs": [
    {
     "data": {
      "text/plain": [
       "['a', 'b', 'aa', 'aaa', 'aaaa', 'aaaaa']"
      ]
     },
     "execution_count": 75,
     "metadata": {},
     "output_type": "execute_result"
    }
   ],
   "source": [
    "# 글자수 순서대로 정렬\n",
    "### 각 원소를 key 함수에 넣어서 반환되는 값들 기준으로 정렬\n",
    "sorted(l, key=lambda x: len(x))"
   ]
  },
  {
   "cell_type": "code",
   "execution_count": 76,
   "metadata": {},
   "outputs": [
    {
     "data": {
      "text/plain": [
       "['aaaaa', 'aaaa', 'aaa', 'aa', 'a', 'b']"
      ]
     },
     "execution_count": 76,
     "metadata": {},
     "output_type": "execute_result"
    }
   ],
   "source": [
    "sorted(l, key=lambda x: len(x), reverse=True)"
   ]
  },
  {
   "cell_type": "code",
   "execution_count": 77,
   "metadata": {},
   "outputs": [
    {
     "data": {
      "text/plain": [
       "['a', 'b', 'aa', 'aaa', 'aaaa', 'aaaaa']"
      ]
     },
     "execution_count": 77,
     "metadata": {},
     "output_type": "execute_result"
    }
   ],
   "source": [
    "sorted(l, key=len)"
   ]
  },
  {
   "cell_type": "code",
   "execution_count": 79,
   "metadata": {},
   "outputs": [
    {
     "data": {
      "text/plain": [
       "['aaa', 'aaaa', 'aaaaa']"
      ]
     },
     "execution_count": 79,
     "metadata": {},
     "output_type": "execute_result"
    }
   ],
   "source": [
    "# filter(): 특정 조건이 True 원소들만 조회\n",
    "# 3글자 이상인 문자열만 조회\n",
    "list(filter(lambda x: len(x) >= 3, l))"
   ]
  },
  {
   "cell_type": "code",
   "execution_count": 86,
   "metadata": {},
   "outputs": [
    {
     "data": {
      "text/plain": [
       "[1, 2, 3, 4, 5, 1]"
      ]
     },
     "execution_count": 86,
     "metadata": {},
     "output_type": "execute_result"
    }
   ],
   "source": [
    "# map(): iterable의 원소들을 일괄처리\n",
    "# 글자수를 반환\n",
    "list(map(lambda x: len(x), l))\n",
    "# list(map(len, l))"
   ]
  },
  {
   "cell_type": "code",
   "execution_count": 87,
   "metadata": {},
   "outputs": [
    {
     "data": {
      "text/plain": [
       "['a', 'aa', 'aaa', 'aaaa', 'aaaaa', 'b']"
      ]
     },
     "execution_count": 87,
     "metadata": {},
     "output_type": "execute_result"
    }
   ],
   "source": [
    "l"
   ]
  },
  {
   "cell_type": "markdown",
   "metadata": {
    "slideshow": {
     "slide_type": "subslide"
    }
   },
   "source": [
    "# docstring\n",
    "- 함수에 대한 설명\n",
    "- 함수의 구현부의 첫번째에 여러줄 문자열로 작성한다.\n",
    "- 함수 매개변수/리턴타입에 대한 힌트(주석)"
   ]
  },
  {
   "cell_type": "code",
   "execution_count": 88,
   "metadata": {},
   "outputs": [
    {
     "name": "stdout",
     "output_type": "stream",
     "text": [
      "Help on built-in function sorted in module builtins:\n",
      "\n",
      "sorted(iterable, /, *, key=None, reverse=False)\n",
      "    Return a new list containing all items from the iterable in ascending order.\n",
      "    \n",
      "    A custom key function can be supplied to customize the sort order, and the\n",
      "    reverse flag can be set to request the result in descending order.\n",
      "\n"
     ]
    }
   ],
   "source": [
    "# 함수/변수/클래서 설명\n",
    "help(sorted)  # 내장함수"
   ]
  },
  {
   "cell_type": "code",
   "execution_count": 89,
   "metadata": {},
   "outputs": [],
   "source": [
    "# 주피터 노트북 가능 \n",
    "sorted?"
   ]
  },
  {
   "cell_type": "code",
   "execution_count": 90,
   "metadata": {
    "scrolled": true
   },
   "outputs": [
    {
     "data": {
      "text/plain": [
       "<function sorted(iterable, /, *, key=None, reverse=False)>"
      ]
     },
     "execution_count": 90,
     "metadata": {},
     "output_type": "execute_result"
    }
   ],
   "source": [
    "# 주피터 노트북 가능 \n",
    "sorted  # shift + enter"
   ]
  },
  {
   "cell_type": "code",
   "execution_count": 103,
   "metadata": {},
   "outputs": [],
   "source": [
    "# 힌트 - 변수(파라미터) - 변수명:타입, 변수명:'설명'\n",
    "#     - 함수의 리턴값에 대한 힌트 def 이름() -> 리턴힌트:\n",
    "def greet(name:str, age:int) -> str:\n",
    "    '''\n",
    "    이 함수에 대한 설명\n",
    "    이름과 나이를 하나의 문자열로 만들어서 반환하는 함수\n",
    "    \n",
    "    Parameter\n",
    "        이름: 타입 - 설명\n",
    "        name: str - 고객 이름\n",
    "        age: int - 고객 나이\n",
    "        \n",
    "    Return\n",
    "        타입 - 설명\n",
    "        str: 고객 정보를 하나의 문자열로 반환\n",
    "        \n",
    "    Raise\n",
    "        이 함수가 실행하는 도중 발생할 수 있는 Exception(에러)에 대한 설명\n",
    "        Exception 타입 - 설명\n",
    "        TypeError - name, age를 입력받지 못하면 발생\n",
    "        \n",
    "    예제\n",
    "    > v = greet('홍길동', 20)\n",
    "    > print(v)\n",
    "    out: '이름: 홍길동, 나이: 20'\n",
    "    '''\n",
    "    return f'이름: {name}, 나이: {age}'"
   ]
  },
  {
   "cell_type": "code",
   "execution_count": 104,
   "metadata": {},
   "outputs": [
    {
     "name": "stdout",
     "output_type": "stream",
     "text": [
      "Help on function greet in module __main__:\n",
      "\n",
      "greet(name, age)\n",
      "    이 함수에 대한 설명\n",
      "    이름과 나이를 하나의 문자열로 만들어서 반환하는 함수\n",
      "    \n",
      "    Parameter\n",
      "        이름: 타입 - 설명\n",
      "        name: str - 고객 이름\n",
      "        age: int - 고객 나이\n",
      "        \n",
      "    Return\n",
      "        타입 - 설명\n",
      "        str: 고객 정보를 하나의 문자열로 반환\n",
      "        \n",
      "    Raise\n",
      "        이 함수가 실행하는 도중 발생할 수 있는 Exception(에러)에 대한 설명\n",
      "        Exception 타입 - 설명\n",
      "        TypeError - name, age를 입력받지 못하면 발생\n",
      "        \n",
      "    예제\n",
      "    > v = greet('홍길동', 20)\n",
      "    > print(v)\n",
      "    out: '이름: 홍길동, 나이: 20'\n",
      "\n"
     ]
    }
   ],
   "source": [
    "help(greet)"
   ]
  },
  {
   "cell_type": "code",
   "execution_count": 105,
   "metadata": {
    "slideshow": {
     "slide_type": "fragment"
    }
   },
   "outputs": [],
   "source": [
    "greet?"
   ]
  },
  {
   "cell_type": "markdown",
   "metadata": {
    "slideshow": {
     "slide_type": "subslide"
    }
   },
   "source": [
    "### pass 키워드(예약어)\n",
    "- 빈 구현부를 만들때 사용\n",
    "    - 코드블럭을 하는 일 없이 채울 때 사용\n",
    "    - `...` (Ellipsis:생략부호)을 대신 사용할 수 있다."
   ]
  },
  {
   "cell_type": "code",
   "execution_count": 107,
   "metadata": {},
   "outputs": [],
   "source": [
    "def f1():\n",
    "    pass\n",
    "\n",
    "def f2():\n",
    "    pass  # 나중에 만들겠다\n",
    "\n",
    "def f3():\n",
    "    pass"
   ]
  },
  {
   "cell_type": "code",
   "execution_count": 112,
   "metadata": {},
   "outputs": [],
   "source": [
    "def f10():\n",
    "    ...  # 구현은 생략"
   ]
  },
  {
   "cell_type": "code",
   "execution_count": 110,
   "metadata": {},
   "outputs": [],
   "source": [
    "for i in range(10):\n",
    "    pass  # 구현부는 나중에 구현하겠다"
   ]
  },
  {
   "cell_type": "code",
   "execution_count": 111,
   "metadata": {},
   "outputs": [],
   "source": [
    "if True:\n",
    "    pass"
   ]
  },
  {
   "cell_type": "markdown",
   "metadata": {
    "slideshow": {
     "slide_type": "skip"
    }
   },
   "source": [
    "# TODO"
   ]
  },
  {
   "cell_type": "code",
   "execution_count": 116,
   "metadata": {
    "slideshow": {
     "slide_type": "skip"
    }
   },
   "outputs": [
    {
     "name": "stdout",
     "output_type": "stream",
     "text": [
      "단: 2\n",
      "2 x 1 = 2\n",
      "2 x 2 = 4\n",
      "2 x 3 = 6\n",
      "2 x 4 = 8\n",
      "2 x 5 = 10\n",
      "2 x 6 = 12\n",
      "2 x 7 = 14\n",
      "2 x 8 = 16\n",
      "2 x 9 = 18\n"
     ]
    }
   ],
   "source": [
    "# 1. 사용자가 입력한 단의 구구단을 출력하는 함수를 구현(매개변수로 단을 받는다.)\n",
    "\n",
    "def gugudan(dan):\n",
    "    for i in range(1, 10):\n",
    "        print(f'{dan} x {i} = {dan*i}')\n",
    "\n",
    "n = int(input('단: '))\n",
    "gugudan(n)"
   ]
  },
  {
   "cell_type": "code",
   "execution_count": 121,
   "metadata": {
    "slideshow": {
     "slide_type": "skip"
    }
   },
   "outputs": [
    {
     "name": "stdout",
     "output_type": "stream",
     "text": [
      "시작정수 끝정수:1 20\n",
      "210\n"
     ]
    }
   ],
   "source": [
    "# 2. 시작 정수, 끝 정수를 받아 그 사이의 모든 정수의 합을 구해서 반환하는 함수를 구현\n",
    "# (ex: 1, 20 => 1에서 20 사이의 모든 정수의 합계)\n",
    "\n",
    "def sum_all(start_num, end_num):\n",
    "    sum = 0\n",
    "    for num in range(start_num, end_num + 1):\n",
    "        sum += num\n",
    "    return sum\n",
    "\n",
    "s, e = map(int, input('시작정수 끝정수:').split())\n",
    "print(sum_all(s, e))"
   ]
  },
  {
   "cell_type": "code",
   "execution_count": 3,
   "metadata": {},
   "outputs": [],
   "source": [
    "# 2번 문제\n",
    "# def accumulate(start, stop):\n",
    "def accumulate(start:int, stop:int, include_stop:bool=True)->int:\n",
    "    '''\n",
    "    지정한 범위의 정수들의 합계를 계산해서 반환하는 함수\n",
    "    parameter\n",
    "        start: int - 범위의 시작 정수\n",
    "        srop: int - 범위의 끝 정수\n",
    "        include_stop: bool - stop 값을 포함할지 여부, True(기본): 포함, False: 불포함\n",
    "    return\n",
    "        int - 누적합꼐\n",
    "    Raise\n",
    "    \n",
    "    Example\n",
    "        >>> i = accumulate(1, 10)\n",
    "        >>> print(i)\n",
    "        55\n",
    "    '''\n",
    "    result = 0\n",
    "    if include_stop:\n",
    "        stop += 1\n",
    "    for v in range(start, stop):\n",
    "        result += v\n",
    "    return result"
   ]
  },
  {
   "cell_type": "code",
   "execution_count": 4,
   "metadata": {},
   "outputs": [
    {
     "name": "stdout",
     "output_type": "stream",
     "text": [
      "55 500500\n"
     ]
    }
   ],
   "source": [
    "print(accumulate(1, 10), accumulate(1, 1000))"
   ]
  },
  {
   "cell_type": "code",
   "execution_count": 130,
   "metadata": {
    "slideshow": {
     "slide_type": "skip"
    }
   },
   "outputs": [
    {
     "name": "stdout",
     "output_type": "stream",
     "text": [
      "28\n"
     ]
    }
   ],
   "source": [
    "# 3. 1번 문제에서 시작을 받지 않은 경우 0을, 끝 정수를 받지 않으면 10이 들어가도록 구현을 변경\n",
    "\n",
    "def sum_all(start_num=0, end_num=10):\n",
    "    sum = 0\n",
    "    for num in range(start_num, end_num + 1):\n",
    "        sum += num\n",
    "    return sum\n",
    "\n",
    "# s = int(input('시작정수: '))\n",
    "# e = int(input('끝정수: '))\n",
    "print(sum_all(end_num=7))"
   ]
  },
  {
   "cell_type": "code",
   "execution_count": 5,
   "metadata": {},
   "outputs": [],
   "source": [
    "# 3번 문제\n",
    "# def accumulate2(start, stop):\n",
    "def accumulate2(start:int=0, stop:int=10, include_stop:bool=True)->int:\n",
    "    if include_stop:\n",
    "        stop += 1\n",
    "    return sum(range(start, stop))"
   ]
  },
  {
   "cell_type": "code",
   "execution_count": 8,
   "metadata": {},
   "outputs": [
    {
     "data": {
      "text/plain": [
       "45"
      ]
     },
     "execution_count": 8,
     "metadata": {},
     "output_type": "execute_result"
    }
   ],
   "source": [
    "accumulate2(5)  # stop, include_stop 생략\n",
    "accumulate2()  # start, stop, include_stop 생략\n",
    "\n",
    "accumulate2(stop=100)  # start 생략, stop만 지정\n",
    "accumulate2(include_stop=False)"
   ]
  },
  {
   "cell_type": "code",
   "execution_count": 9,
   "metadata": {},
   "outputs": [],
   "source": [
    "def accumulate3(**kwargs):\n",
    "    # 가변인자를 사용할 경우 docstring에 설명을 잘 달아줘야 함\n",
    "    start = kwargs['start']\n",
    "    stop = kwargs['stop']\n",
    "    \n",
    "    return sum(range(start, stop))"
   ]
  },
  {
   "cell_type": "code",
   "execution_count": 11,
   "metadata": {},
   "outputs": [
    {
     "data": {
      "text/plain": [
       "1725"
      ]
     },
     "execution_count": 11,
     "metadata": {},
     "output_type": "execute_result"
    }
   ],
   "source": [
    "accumulate3(start=10, stop=60)"
   ]
  },
  {
   "cell_type": "code",
   "execution_count": 143,
   "metadata": {
    "slideshow": {
     "slide_type": "skip"
    }
   },
   "outputs": [
    {
     "name": "stdout",
     "output_type": "stream",
     "text": [
      "키: 140\n",
      "몸무게: 70\n",
      "35.71428571428572\n",
      "비만\n"
     ]
    }
   ],
   "source": [
    "# 4. 체질량 지수는 비만도를 나타내는 지수로 키가 a미터 이고 몸무게가 b kg일때 b/(a**2) 로 구한다.\n",
    "# 체질량 지수가\n",
    "#- 18.5 미만이면 저체중\n",
    "#- 18.5이상 25미만이면 정상 \n",
    "#- 25이상이면 과체중\n",
    "#- 30이상이면 비만으로 하는데\n",
    "#몸무게와 키를 매개변수로 받아 비만인지 과체중인지 반환하는 함수를 구현하시오.\n",
    "\n",
    "def BMI(height, weight):\n",
    "    bmi = weight/((height/100)**2)\n",
    "    print(bmi)\n",
    "    if bmi < 18.5:\n",
    "        result = '저체중'\n",
    "    elif bmi < 25:\n",
    "        result = '정상'\n",
    "    elif 25 <= bmi < 30:\n",
    "        result = '과체중'\n",
    "    elif bmi >= 30:\n",
    "        result = '비만'\n",
    "    return result\n",
    "        \n",
    "h = int(input('키: '))\n",
    "w = int(input('몸무게: '))\n",
    "b = BMI(h, w)\n",
    "print(b)"
   ]
  },
  {
   "cell_type": "code",
   "execution_count": 22,
   "metadata": {},
   "outputs": [],
   "source": [
    "# 4번\n",
    "def check_bmi(tall:'미터단위', weight='float') -> tuple[float, str]:\n",
    "    '''\n",
    "    bmi 지수를 계산해서 비만도를 알려주는함수\n",
    "    Parameter\n",
    "        tall: float - 키. 단위: 미터\n",
    "        weight: float - 몸무게. 단위: kg\n",
    "    Return\n",
    "        # str - 비만도 (저체중, 정상, 과체중, 비만)\n",
    "        tuple - bmi지수, 비만도(저체중, 정상, 과체중, 비만)\n",
    "    Raise\n",
    "    '''\n",
    "    bmi = weight / (tall**2)\n",
    "    result = None  # 결과를 담을 변수\n",
    "    if bmi < 18.5:\n",
    "        result = '저체중'\n",
    "    elif bmi < 25:\n",
    "        result = '정상'\n",
    "    elif bmi < 30:\n",
    "        result = '과체중'\n",
    "    else:\n",
    "        result = '비만'\n",
    "    return round(bmi, 2), result  # bmi, result"
   ]
  },
  {
   "cell_type": "code",
   "execution_count": 23,
   "metadata": {},
   "outputs": [
    {
     "name": "stdout",
     "output_type": "stream",
     "text": [
      "(15.43, '저체중')\n",
      "(19.53, '정상')\n"
     ]
    }
   ],
   "source": [
    "print(check_bmi(1.8, 50))\n",
    "print(check_bmi(1.6, 50))"
   ]
  },
  {
   "cell_type": "code",
   "execution_count": 25,
   "metadata": {
    "slideshow": {
     "slide_type": "skip"
    }
   },
   "outputs": [
    {
     "data": {
      "text/plain": [
       "[1, 20, 3, 21]"
      ]
     },
     "execution_count": 25,
     "metadata": {},
     "output_type": "execute_result"
    }
   ],
   "source": [
    "# 람다식\n",
    "#5. filter()를 이용해 다음 리스트에서 양수만 추출히 리스트를 구현\n",
    "ex1 = [1, -10, -2, 20, 3, -5, -7, 21]\n",
    "\n",
    "# filter(함수, iterable)\n",
    "list(filter(lambda x: x > 0, ex1))"
   ]
  },
  {
   "cell_type": "code",
   "execution_count": 26,
   "metadata": {},
   "outputs": [
    {
     "data": {
      "text/plain": [
       "[1, 20, 3, 21]"
      ]
     },
     "execution_count": 26,
     "metadata": {},
     "output_type": "execute_result"
    }
   ],
   "source": [
    "[x for x in ex1 if x > 0]"
   ]
  },
  {
   "cell_type": "code",
   "execution_count": 28,
   "metadata": {
    "slideshow": {
     "slide_type": "skip"
    }
   },
   "outputs": [
    {
     "data": {
      "text/plain": [
       "[100, 4, 25, 49]"
      ]
     },
     "execution_count": 28,
     "metadata": {},
     "output_type": "execute_result"
    }
   ],
   "source": [
    "#6. filter()와 map()을 이용해 다음 리스트에서 음수만 추출한 뒤 그 2 제곱한 값들을 가지는 리스트를 구현\n",
    "ex2 = [1, -10, -2, 20, 3, -5, -7, 21]\n",
    "\n",
    "list(map(lambda x: x ** 2, list(filter(lambda x: x < 0, ex2))))"
   ]
  },
  {
   "cell_type": "code",
   "execution_count": 30,
   "metadata": {},
   "outputs": [
    {
     "data": {
      "text/plain": [
       "[100, 4, 25, 49]"
      ]
     },
     "execution_count": 30,
     "metadata": {},
     "output_type": "execute_result"
    }
   ],
   "source": [
    "tmp = list(filter(lambda x: x < 0, ex2))\n",
    "list(map(lambda x: x ** 2, tmp))"
   ]
  },
  {
   "cell_type": "code",
   "execution_count": 31,
   "metadata": {},
   "outputs": [
    {
     "data": {
      "text/plain": [
       "[100, 4, 25, 49]"
      ]
     },
     "execution_count": 31,
     "metadata": {},
     "output_type": "execute_result"
    }
   ],
   "source": [
    "[v**2 for v in ex2 if v < 0]"
   ]
  }
 ],
 "metadata": {
  "kernelspec": {
   "display_name": "Python 3 (ipykernel)",
   "language": "python",
   "name": "python3"
  },
  "language_info": {
   "codemirror_mode": {
    "name": "ipython",
    "version": 3
   },
   "file_extension": ".py",
   "mimetype": "text/x-python",
   "name": "python",
   "nbconvert_exporter": "python",
   "pygments_lexer": "ipython3",
   "version": "3.9.12"
  },
  "toc": {
   "base_numbering": 1,
   "nav_menu": {},
   "number_sections": true,
   "sideBar": true,
   "skip_h1_title": false,
   "title_cell": "Table of Contents",
   "title_sidebar": "Contents",
   "toc_cell": false,
   "toc_position": {},
   "toc_section_display": true,
   "toc_window_display": false
  },
  "varInspector": {
   "cols": {
    "lenName": 16,
    "lenType": 16,
    "lenVar": 40
   },
   "kernels_config": {
    "python": {
     "delete_cmd_postfix": "",
     "delete_cmd_prefix": "del ",
     "library": "var_list.py",
     "varRefreshCmd": "print(var_dic_list())"
    },
    "r": {
     "delete_cmd_postfix": ") ",
     "delete_cmd_prefix": "rm(",
     "library": "var_list.r",
     "varRefreshCmd": "cat(var_dic_list()) "
    }
   },
   "types_to_exclude": [
    "module",
    "function",
    "builtin_function_or_method",
    "instance",
    "_Feature"
   ],
   "window_display": false
  }
 },
 "nbformat": 4,
 "nbformat_minor": 4
}
