{
 "cells": [
  {
   "cell_type": "code",
   "execution_count": null,
   "id": "744a7a15",
   "metadata": {},
   "outputs": [],
   "source": [
    "# 101\n",
    "# 파이썬에서 True 혹은 False를 갖는 데이터 타입은 무엇인가?"
   ]
  },
  {
   "cell_type": "code",
   "execution_count": null,
   "id": "11fdd9cc",
   "metadata": {},
   "outputs": [],
   "source": [
    "# 102\n",
    "# 아래 코드의 출력 결과를 예상하라\n",
    "# print(3 == 5)"
   ]
  },
  {
   "cell_type": "code",
   "execution_count": null,
   "id": "31fc486f",
   "metadata": {},
   "outputs": [],
   "source": [
    "# 103\n",
    "# 아래 코드의 출력 결과를 예상하라\n",
    "# print(3 < 5)"
   ]
  },
  {
   "cell_type": "code",
   "execution_count": null,
   "id": "6b16034e",
   "metadata": {},
   "outputs": [],
   "source": [
    "# 104\n",
    "# 아래 코드의 결과를 예상하라.\n",
    "# x = 4\n",
    "# print(1 < x < 5)"
   ]
  },
  {
   "cell_type": "code",
   "execution_count": null,
   "id": "d50a2441",
   "metadata": {},
   "outputs": [],
   "source": [
    "# 105\n",
    "# 아래 코드의 결과를 예상하라.\n",
    "# print ((3 == 3) and (4 != 3))"
   ]
  },
  {
   "cell_type": "code",
   "execution_count": null,
   "id": "32d8b0ef",
   "metadata": {},
   "outputs": [],
   "source": [
    "# 106\n",
    "# 아래 코드에서 에러가 발생하는 원인에 대해 설명하라.\n",
    "# print(3 => 4)"
   ]
  },
  {
   "cell_type": "code",
   "execution_count": null,
   "id": "38c27dde",
   "metadata": {},
   "outputs": [],
   "source": [
    "# 107\n",
    "# 아래 코드의 출력 결과를 예상하라\n",
    "# if 4 < 3:\n",
    "#     print(\"Hello World\")"
   ]
  },
  {
   "cell_type": "code",
   "execution_count": null,
   "id": "176295c7",
   "metadata": {},
   "outputs": [],
   "source": [
    "# 108\n",
    "# 아래 코드의 출력 결과를 예상하라\n",
    "# if 4 < 3:\n",
    "#     print(\"Hello World.\")\n",
    "# else:\n",
    "#     print(\"Hi, there.\")"
   ]
  },
  {
   "cell_type": "code",
   "execution_count": null,
   "id": "b260dc43",
   "metadata": {},
   "outputs": [],
   "source": [
    "# 109\n",
    "# 아래 코드의 출력 결과를 예상하라\n",
    "# if True :\n",
    "#     print (\"1\")\n",
    "#     print (\"2\")\n",
    "# else :\n",
    "#     print(\"3\")\n",
    "# print(\"4\")"
   ]
  },
  {
   "cell_type": "code",
   "execution_count": null,
   "id": "00f91a12",
   "metadata": {},
   "outputs": [],
   "source": [
    "# 110\n",
    "# 아래 코드의 출력 결과를 예상하라\n",
    "# if True :\n",
    "#     if False:\n",
    "#         print(\"1\")\n",
    "#         print(\"2\")\n",
    "#     else:\n",
    "#         print(\"3\")\n",
    "# else :\n",
    "#     print(\"4\")\n",
    "# print(\"5\")"
   ]
  },
  {
   "cell_type": "code",
   "execution_count": null,
   "id": "a3748d75",
   "metadata": {},
   "outputs": [],
   "source": [
    "# 111\n",
    "# 사용자로부터 입력받은 문자열을 두 번 출력하라. 아래는 사용자가 \"안녕하세요\"를 입력한 경우의 출력 결과이다.\n",
    "# >> 안녕하세요\n",
    "# 안녕하세요안녕하세요"
   ]
  },
  {
   "cell_type": "code",
   "execution_count": null,
   "id": "9bb41352",
   "metadata": {},
   "outputs": [],
   "source": [
    "# 112\n",
    "# 사용자로부터 하나의 숫자를 입력받고, 입력 받은 숫자에 10을 더해 출력하라.\n",
    "# >> 숫자를 입력하세요: 30\n",
    "# 40"
   ]
  },
  {
   "cell_type": "code",
   "execution_count": null,
   "id": "b5da2787",
   "metadata": {},
   "outputs": [],
   "source": [
    "# 113\n",
    "# 사용자로부터 하나의 숫자를 입력 받고 짝수/홀수를 판별하라.\n",
    "# >> 30\n",
    "# 짝수"
   ]
  },
  {
   "cell_type": "code",
   "execution_count": null,
   "id": "2a9cf37e",
   "metadata": {},
   "outputs": [],
   "source": [
    "# 114\n",
    "# 사용자로부터 값을 입력받은 후 해당 값에 20을 더한 값을 출력하라. \n",
    "# 단 사용자가 입력한 값과 20을 더한 계산 값이 255를 초과하는 경우 255를 출력해야 한다.\n",
    "# >> 입력값: 200\n",
    "# 출력값: 220\n",
    "# >> 입력값: 240\n",
    "# 출력값: 255"
   ]
  },
  {
   "cell_type": "code",
   "execution_count": null,
   "id": "a4f7b3a9",
   "metadata": {},
   "outputs": [],
   "source": [
    "# 115\n",
    "# 사용자로부터 하나의 값을 입력받은 후 해당 값에 20을 뺀 값을 출력하라. \n",
    "# 단 출력 값의 범위는 0~255이다. 예를 들어 결괏값이 0보다 작은 값이되는 경우 0을 출력하고 255보다 큰 값이 되는 경우 255를 출력해야 한다.\n",
    "# >> 입력값: 200\n",
    "# 출력값: 180\n",
    "# >> 입력값: 15\n",
    "# 출력값: 0"
   ]
  },
  {
   "cell_type": "code",
   "execution_count": null,
   "id": "964dc38f",
   "metadata": {},
   "outputs": [],
   "source": [
    "# 116\n",
    "# 사용자로부터 입력 받은 시간이 정각인지 판별하라.\n",
    "# >> 현재시간:02:00\n",
    "# 정각 입니다.\n",
    "# >> 현재시간:03:10\n",
    "# 정각이 아닙니다"
   ]
  },
  {
   "cell_type": "code",
   "execution_count": null,
   "id": "ea017d82",
   "metadata": {},
   "outputs": [],
   "source": [
    "# 117\n",
    "# 사용자로 입력받은 단어가 아래 fruit 리스트에 포함되어 있는지를 확인하라. 포함되었다면 \"정답입니다\"를 아닐 경우 \"오답입니다\" 출력하라.\n",
    "# fruit = [\"사과\", \"포도\", \"홍시\"]\n",
    "# >> 좋아하는 과일은? 사과\n",
    "# 정답입니다."
   ]
  },
  {
   "cell_type": "code",
   "execution_count": null,
   "id": "7ed2bc9e",
   "metadata": {},
   "outputs": [],
   "source": [
    "# 118\n",
    "# 투자 경고 종목 리스트가 있을 때 사용자로부터 종목명을 입력 받은 후 \n",
    "# 해당 종목이 투자 경고 종목이라면 '투자 경고 종목입니다'를 아니면 \"투자 경고 종목이 아닙니다.\"를 출력하는 프로그램을 작성하라.\n",
    "# warn_investment_list = [\"Microsoft\", \"Google\", \"Naver\", \"Kakao\", \"SAMSUNG\", \"LG\"]"
   ]
  },
  {
   "cell_type": "code",
   "execution_count": null,
   "id": "b410d4bf",
   "metadata": {},
   "outputs": [],
   "source": [
    "# 119\n",
    "# 아래와 같이 fruit 딕셔너리가 정의되어 있다. \n",
    "# 사용자가 입력한 값이 딕셔너리 키 (key) 값에 포함되었다면 \"정답입니다\"를 아닐 경우 \"오답입니다\" 출력하라.\n",
    "fruit = {\"봄\" : \"딸기\", \"여름\" : \"토마토\", \"가을\" : \"사과\"}\n",
    "# >> 제가좋아하는계절은: 봄\n",
    "# 정답입니다."
   ]
  },
  {
   "cell_type": "code",
   "execution_count": null,
   "id": "e1d9cec7",
   "metadata": {},
   "outputs": [],
   "source": [
    "# 120\n",
    "# 아래와 같이 fruit 딕셔너리가 정의되어 있다. \n",
    "# 사용자가 입력한 값이 딕셔너리 값 (value)에 포함되었다면 \"정답입니다\"를 아닐 경우 \"오답입니다\" 출력하라.\n",
    "fruit = {\"봄\" : \"딸기\", \"여름\" : \"토마토\", \"가을\" : \"사과\"}\n",
    "# >> 좋아하는과일은? 한라봉\n",
    "# 오답입니다."
   ]
  },
  {
   "cell_type": "code",
   "execution_count": null,
   "id": "3233a1d0",
   "metadata": {},
   "outputs": [],
   "source": [
    "# 121\n",
    "# 사용자로부터 문자 한 개를 입력 받고, 소문자일 경우 대문자로, 대문자 일 경우, 소문자로 변경해서 출력하라.\n",
    "# >> a\n",
    "# A\n",
    "# 힌트-1 : islower() 함수는 문자의 소문자 여부를 판별합니다. \n",
    "# 만약 소문자일 경우 True, 대문자일 경우 False를 반환합니다. 힌트-2 : upper() 함수는 대문자로, lower() 함수는 소문자로 변경합니다."
   ]
  },
  {
   "cell_type": "code",
   "execution_count": null,
   "id": "6e3cd338",
   "metadata": {},
   "outputs": [],
   "source": [
    "# 122\n",
    "# 점수 구간에 해당하는 학점이 아래와 같이 정의되어 있다. 사용자로부터 score를 입력받아 학점을 출력하라.\n",
    "# 점수\t학점\n",
    "# 81~100\tA\n",
    "# 61~80\tB\n",
    "# 41~60\tC\n",
    "# 21~40\tD\n",
    "# 0~20\tE\n",
    "# >> score: 83\n",
    "# grade is A"
   ]
  },
  {
   "cell_type": "code",
   "execution_count": null,
   "id": "6ceb6d34",
   "metadata": {},
   "outputs": [],
   "source": [
    "# 123\n",
    "# 사용자로부터 달러, 엔, 유로, 또는 위안 금액을 입력받은 후 이를 원으로 변환하는 프로그램을 작성하라. \n",
    "# 각 통화별 환율은 다음과 같다. 사용자는 100 달러, 1000 엔, 13 유로, 100 위안과 같이 금액과 통화명 사이에 공백을 넣어 입력한다고 가정한다.\n",
    "# 통화명\t환율\n",
    "# 달러\t1167\n",
    "# 엔\t1.096\n",
    "# 유로\t1268\n",
    "# 위안\t171\n",
    "# >> 입력: 100 달러\n",
    "# 116700.00 원"
   ]
  },
  {
   "cell_type": "code",
   "execution_count": null,
   "id": "dfa579f1",
   "metadata": {},
   "outputs": [],
   "source": [
    "# 124\n",
    "# 사용자로부터 세 개의 숫자를 입력 받은 후 가장 큰 숫자를 출력하라.\n",
    "# >> input number1: 10\n",
    "# >> input number2: 9\n",
    "# >> input number3: 20\n",
    "# 20"
   ]
  },
  {
   "cell_type": "code",
   "execution_count": null,
   "id": "505ad57d",
   "metadata": {},
   "outputs": [],
   "source": [
    "# 125\n",
    "# 휴대폰 번호 앞자리에 따라 통신사는 아래와 같이 구분된다. 사용자로부터 휴대전화 번호를 입력 받고, 통신사를 출력하는 프로그램을 작성하라.\n",
    "# 번호\t통신사\n",
    "# 011\tSKT\n",
    "# 016\tKT\n",
    "# 019\tLGU\n",
    "# 010\t알수없음\n",
    "# >> 휴대전화 번호 입력: 011-345-1922\n",
    "# 당신은 SKT 사용자입니다."
   ]
  },
  {
   "cell_type": "code",
   "execution_count": null,
   "id": "67681a3b",
   "metadata": {},
   "outputs": [],
   "source": [
    "# 126\n",
    "# 우편번호는 5자리로 구성되는데, 앞의 세자리는 구를 나타낸다. 예를들어, 강북구의 경우 010, 011, 012 세 자리로 시작한다.\n",
    "# -\t0\t1\t2\t3\t4\t5\t6\t7\t8\t9\n",
    "# 01\t강북구\t강북구\t강북구\t도봉구\t도봉구\t도봉구\t노원구\t노원구\t노원구\t노원구\n",
    "# 사용자로 부터 5자리 우편번호를 입력받고 구를 판별하라\n",
    "# >> 우편번호: 01400\n",
    "# 도봉구"
   ]
  },
  {
   "cell_type": "code",
   "execution_count": null,
   "id": "6f9298b0",
   "metadata": {},
   "outputs": [],
   "source": [
    "# 127\n",
    "# 주민등록번호 뒷 자리 7자리 중 첫째 자리는 성별을 나타내는데, 1, 3은 남자 2, 4는 여자를 의미한다. \n",
    "# 사용자로부터 13자리의 주민등록번호를 입력 받은 후 성별 (남자, 여자)를 출력하는 프로그램을 작성하라.\n",
    "# >> 주민등록번호: 821010-1635210\n",
    "# 남자"
   ]
  },
  {
   "cell_type": "code",
   "execution_count": null,
   "id": "f809dd30",
   "metadata": {},
   "outputs": [],
   "source": [
    "# 128\n",
    "# 주민등록번호의 뒷 자리 7자리 중 두번째와 세번째는 지역코드를 의미한다. \n",
    "# 주민 등록 번호를 입력 받은 후 출생지가 서울인지 아닌지 판단하는 코드를 작성하라\n",
    "# 지역코드\t출생지\n",
    "# 00 ~ 08\t서울\n",
    "# 09 ~ 12\t부산\n",
    "# >> 주민등록번호: 821010-1635210\n",
    "# 서울이 아닙니다.\n",
    "# >> 주민등록번호: 861010-1015210\n",
    "# 서울 입니다."
   ]
  },
  {
   "cell_type": "code",
   "execution_count": null,
   "id": "e927117d",
   "metadata": {},
   "outputs": [],
   "source": [
    "# 129\n",
    "# 주민등록번호는 13자리로 구성되는데 마지막 자리수는 주민등록번호의 유효성을 체크하는데 사용된다. \n",
    "# 먼저 앞에서부터 12자리의 숫자에 2, 3, 4, 5, 6, 7, 8, 9, 2, 3, 4, 5를 차례로 곱한 뒤 그 값을 전부 더한다. \n",
    "# 연산 결과 값을 11로 나누면 나머지가 나오는데 11에서 나머지를 뺀 값이 주민등록번호의 마지막 번호가 된다.\n",
    "#   8 2 1 0 1 0 - 1 6 3 5 2 1 0\n",
    "# x 2 3 4 5 6 7   8 9 2 3 4 5 \n",
    "# -----------------------------\n",
    "# 1차 계산: (8*2 + 2*3 + 1*4 + 0*5 + 1*6 + 0*7 + 1*8 + 6*9 + 3*2 + 5*3 + 2*4 + 1*5) = (128 % 11) = 7\n",
    "# 2차 계산: 11 -7 = 4\n",
    "# 위와 같이 821010-1635210에 대해서 계산을 해보면 마지막 자리는 4가 되어야 함을 알 수 있다. \n",
    "# 즉, 821010-1635210은 유효하지 않은 주민등록번호임을 알 수 있다.\n",
    "# 다음과 같이 사용자로부터 주민등록번호를 입력받은 후 주민등록번호가 유효한지를 출력하는 프로그램을 작성하라.\n",
    "# >> 주민등록번호: 821010-1635210\n",
    "# 유효하지 않은 주민등록번호입니다. "
   ]
  },
  {
   "cell_type": "code",
   "execution_count": null,
   "id": "9963d334",
   "metadata": {},
   "outputs": [],
   "source": [
    "# 130\n",
    "# 아래 코드는 비트코인의 가격 정보를 딕셔너리로 가져오는 코드이다.\n",
    "import requests\n",
    "btc = requests.get(\"https://api.bithumb.com/public/ticker/\").json()['data']\n",
    "# btc 딕셔너리 안에는 시가, 종가, 최고가, 최저가 등이 저장되어 있다. 최고가와 최저가의 차이를 변동폭으로 정의할 때 \n",
    "# (시가 + 변동폭)이 최고가 보다 높을 경우 \"상승장\", 그렇지 않은 경우 \"하락장\" 문자열을 출력하라.\n",
    "# Key Name\tDescription\n",
    "# opening_price\t최근 24시간 내 시작 거래금액\n",
    "# closing_price\t최근 24시간 내 마지막 거래금액\n",
    "# min_price\t최근 24시간 내 최저 거래금액\n",
    "# max_price\t최근 24시간 내 최고 거래금액"
   ]
  }
 ],
 "metadata": {
  "kernelspec": {
   "display_name": "Python 3 (ipykernel)",
   "language": "python",
   "name": "python3"
  },
  "language_info": {
   "codemirror_mode": {
    "name": "ipython",
    "version": 3
   },
   "file_extension": ".py",
   "mimetype": "text/x-python",
   "name": "python",
   "nbconvert_exporter": "python",
   "pygments_lexer": "ipython3",
   "version": "3.9.12"
  }
 },
 "nbformat": 4,
 "nbformat_minor": 5
}
