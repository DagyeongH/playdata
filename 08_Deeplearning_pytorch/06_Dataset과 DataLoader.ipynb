{
 "cells": [
  {
   "cell_type": "markdown",
   "metadata": {
    "jp-MarkdownHeadingCollapsed": true
   },
   "source": [
    "# Dataset 과 DataLoader\n",
    "\n",
    "- 딥러닝 모델을 학습시키고 평가할때 사용할 데이터를 제공하기 위한 객체\n",
    "- **torch.utils.data.Dataset**\n",
    "    - 원본 데이터셋(input/output dataset)을 저장하고 있으며 indexing을 통해 데이터를 하나씩 제공한다.\n",
    "        - 제공시 data augmentation등 원본데이터를 변환해서 제공하도록 처리를 할 수 있다.\n",
    "    - subscriptable, iterable 타입. \n",
    "    > subscriptable타입: indexing을 이용해 원소 조회가 가능한 타입)\n",
    "    \n",
    "- **torch.utils.data.DataLoader**\n",
    "    - Dataset의 데이터를 batch단위로 모델에 제공하기 위한 객체.\n",
    "        - iterable 타입\n",
    "    - Dataset이 가지고 있는 데이터를 어떻게 제공할 지 설정한다.\n",
    "        - batch size, shuffle 등을 모델에 데이터제공을 어떻게 할지 방식을 설정한다."
   ]
  },
  {
   "cell_type": "markdown",
   "metadata": {},
   "source": [
    "# Built-in Dataset\n",
    "\n",
    "- 파이토치는 분야별 공개 데이터셋을 종류별로 torchvision, torchtext, torchaudio 모듈을 통해 제공한다.\n",
    "- 모든 built-in dataset은 [`torch.utils.data.Dataset`](https://pytorch.org/docs/stable/data.html#torch.utils.data.Dataset)의 하위클래스로 구현되있다.\n",
    "    - [computer vision dataset](https://pytorch.org/vision/stable/datasets.html)\n",
    "    - [text dataset](https://pytorch.org/text/stable/datasets.html)\n",
    "    - [audio dataset](https://pytorch.org/audio/stable/datasets.html)"
   ]
  },
  {
   "cell_type": "markdown",
   "metadata": {},
   "source": [
    "## Image  Built-in dataset Loading\n",
    "torchvision 모듈을 통해 다양한 오픈소스 이미지 데이터셋을 loading할 수 있는 Dataset 클래스를 제공한다.\n",
    "\n",
    "- 각 Dataset 클래스의 주요 매개변수\n",
    "    - **root**: str\n",
    "        - Raw data를 저장할 디렉토리 경로\n",
    "    - **train**: bool\n",
    "        - True일경우 Train set을 False일 경우 Test set을 load\n",
    "    - **download**: bool\n",
    "        - True이면 root에 지정된 경로에 raw 데이터를 인터셋에서 download할지 여부. 이미 저장되 있는 경우 download하지 않는다.\n",
    "    - **transform**: function\n",
    "        - Loading한 이미지를 변환하는 function.\n",
    "            - Normalization이나 data Agumentation 처리를 한다.\n",
    "            "
   ]
  },
  {
   "cell_type": "code",
   "execution_count": 2,
   "metadata": {
    "tags": []
   },
   "outputs": [],
   "source": [
    "import torch\n",
    "import torch.nn as nn\n",
    "from torchvision import datasets  # torchvision(파이토치 영상처리 모듈).datasets (이미지 데이터셋 제공 클래스)\n",
    "\n",
    "import numpy as np"
   ]
  },
  {
   "cell_type": "code",
   "execution_count": 3,
   "metadata": {
    "tags": []
   },
   "outputs": [],
   "source": [
    "# 데이터들을 저장할 디렉토리.\n",
    "DATASET_ROOT_PATH = 'datasets'  # 상대경로, 절대경로 상관없음\n",
    "\n",
    "# MNIST Dataset 생성\n",
    "## Train dataset\n",
    "mnist_trainset = datasets.MNIST(root=DATASET_ROOT_PATH,  # 원본데이터 파일 저장 위치\n",
    "                                train=True,  # True: Train set, False: Test set\n",
    "                                download=True,  # True: 원본파일 없으면 다운로드, False: 다운 X\n",
    "                                # transform=이미지변환함수  # 이미지를 제공하기 전체 전처리할 함수\n",
    "                               )\n",
    "# Test dataset -> train=False\n",
    "mnist_testset = datasets.MNIST(root=DATASET_ROOT_PATH, train=False, download=True)"
   ]
  },
  {
   "cell_type": "code",
   "execution_count": 7,
   "metadata": {
    "tags": []
   },
   "outputs": [
    {
     "name": "stdout",
     "output_type": "stream",
     "text": [
      "<class 'torchvision.datasets.mnist.MNIST'> <class 'torchvision.datasets.mnist.MNIST'>\n",
      "True\n"
     ]
    }
   ],
   "source": [
    "# 타입확인\n",
    "print(type(mnist_trainset), type(mnist_testset))\n",
    "print(isinstance(mnist_trainset, torch.utils.data.Dataset))  # Dataset의 하위클래스 객체인지"
   ]
  },
  {
   "cell_type": "code",
   "execution_count": 5,
   "metadata": {
    "tags": []
   },
   "outputs": [
    {
     "name": "stdout",
     "output_type": "stream",
     "text": [
      "Dataset MNIST\n",
      "    Number of datapoints: 60000\n",
      "    Root location: datasets\n",
      "    Split: Train\n",
      "====================\n",
      "Dataset MNIST\n",
      "    Number of datapoints: 10000\n",
      "    Root location: datasets\n",
      "    Split: Test\n"
     ]
    }
   ],
   "source": [
    "# Built-in Dataset 정보 확인\n",
    "print(mnist_trainset)\n",
    "print('='*20)\n",
    "print(mnist_testset)"
   ]
  },
  {
   "cell_type": "code",
   "execution_count": 6,
   "metadata": {
    "tags": []
   },
   "outputs": [
    {
     "name": "stdout",
     "output_type": "stream",
     "text": [
      "60000 10000\n"
     ]
    }
   ],
   "source": [
    "# 총 데이터의 개수만 확인\n",
    "print(len(mnist_trainset), len(mnist_testset))"
   ]
  },
  {
   "cell_type": "code",
   "execution_count": 8,
   "metadata": {
    "tags": []
   },
   "outputs": [
    {
     "name": "stdout",
     "output_type": "stream",
     "text": [
      "<class 'tuple'>\n",
      "<class 'PIL.Image.Image'> <class 'int'>\n"
     ]
    }
   ],
   "source": [
    "# Dataset은 subscriptable 타입(indexing이 가능) => indexing으로 개별 데이터 조회가 가능 (slicing은 X)\n",
    "data1 = mnist_trainset[0]\n",
    "print(type(data1))  # tuple: (input, output)\n",
    "print(type(data1[0]), type(data1[1]))"
   ]
  },
  {
   "cell_type": "code",
   "execution_count": 9,
   "metadata": {
    "tags": []
   },
   "outputs": [
    {
     "name": "stdout",
     "output_type": "stream",
     "text": [
      "5\n"
     ]
    },
    {
     "data": {
      "image/jpeg": "[encoded data removed]",
      "image/png": "[encoded data removed]",
      "text/plain": [
       "<PIL.Image.Image image mode=L size=28x28>"
      ]
     },
     "execution_count": 9,
     "metadata": {},
     "output_type": "execute_result"
    }
   ],
   "source": [
    "print(data1[1])\n",
    "\n",
    "data1[0]"
   ]
  },
  {
   "cell_type": "code",
   "execution_count": 12,
   "metadata": {
    "tags": []
   },
   "outputs": [
    {
     "name": "stdout",
     "output_type": "stream",
     "text": [
      "(28, 28)\n"
     ]
    },
    {
     "data": {
      "image/png": "[encoded data removed]",
      "text/plain": [
       "<Figure size 640x480 with 1 Axes>"
      ]
     },
     "metadata": {},
     "output_type": "display_data"
    }
   ],
   "source": [
    "# data1의 image를 ndarray 변환\n",
    "img1 = np.array(data1[0])\n",
    "print(img1.shape)\n",
    "import matplotlib.pyplot as plt\n",
    "plt.imshow(img1, cmap='gray')\n",
    "plt.show()"
   ]
  },
  {
   "cell_type": "code",
   "execution_count": 13,
   "metadata": {
    "tags": []
   },
   "outputs": [
    {
     "data": {
      "image/png": "[encoded data removed]",
      "text/plain": [
       "<Figure size 640x480 with 15 Axes>"
      ]
     },
     "metadata": {},
     "output_type": "display_data"
    }
   ],
   "source": [
    "# 이미지 여러개 확인\n",
    "for i in range(15):\n",
    "    plt.subplot(3, 5, i+1)\n",
    "    img, label = mnist_trainset[i]  # 튜플대입\n",
    "    img = np.array(img)  # PIL.Image -> ndarray\n",
    "    plt.imshow(img, cmap='gray')\n",
    "    plt.title(str(label))  # label: int -> 문자열로 변환\n",
    "    \n",
    "plt.tight_layout()\n",
    "plt.show()"
   ]
  },
  {
   "cell_type": "code",
   "execution_count": 14,
   "metadata": {
    "tags": []
   },
   "outputs": [
    {
     "data": {
      "text/plain": [
       "['0 - zero',\n",
       " '1 - one',\n",
       " '2 - two',\n",
       " '3 - three',\n",
       " '4 - four',\n",
       " '5 - five',\n",
       " '6 - six',\n",
       " '7 - seven',\n",
       " '8 - eight',\n",
       " '9 - nine']"
      ]
     },
     "execution_count": 14,
     "metadata": {},
     "output_type": "execute_result"
    }
   ],
   "source": [
    "# output의 범주값(class)들 확인 -> MNIST는 분류문제를 위한 데이터. 분류문제: y가 범주형(categoricla type)\n",
    "mnist_trainset.classes\n",
    "# list: index-class, value: 정답의 의미 문자열\n",
    "# 0: '0 - zero'  # 정답: 0 => 0의 의미: 0 - zero"
   ]
  },
  {
   "cell_type": "code",
   "execution_count": 15,
   "metadata": {
    "tags": []
   },
   "outputs": [
    {
     "data": {
      "text/plain": [
       "{'0 - zero': 0,\n",
       " '1 - one': 1,\n",
       " '2 - two': 2,\n",
       " '3 - three': 3,\n",
       " '4 - four': 4,\n",
       " '5 - five': 5,\n",
       " '6 - six': 6,\n",
       " '7 - seven': 7,\n",
       " '8 - eight': 8,\n",
       " '9 - nine': 9}"
      ]
     },
     "execution_count": 15,
     "metadata": {},
     "output_type": "execute_result"
    }
   ],
   "source": [
    "mnist_trainset.class_to_idx\n",
    "# 정답의미 -> class: 딕셔너리"
   ]
  },
  {
   "cell_type": "code",
   "execution_count": 16,
   "metadata": {
    "tags": []
   },
   "outputs": [
    {
     "data": {
      "text/plain": [
       "'3 - three'"
      ]
     },
     "execution_count": 16,
     "metadata": {},
     "output_type": "execute_result"
    }
   ],
   "source": [
    "pred_label = 3  # 모델이 추정한 값으로 지정\n",
    "mnist_trainset.classes[pred_label]"
   ]
  },
  {
   "cell_type": "code",
   "execution_count": 17,
   "metadata": {
    "tags": []
   },
   "outputs": [
    {
     "data": {
      "text/plain": [
       "3"
      ]
     },
     "execution_count": 17,
     "metadata": {},
     "output_type": "execute_result"
    }
   ],
   "source": [
    "mnist_trainset.class_to_idx['3 - three']  # '3 - three'을 모델이 어떤 값으로 추정하는지"
   ]
  },
  {
   "cell_type": "markdown",
   "metadata": {},
   "source": [
    "### TODO\n",
    "\n",
    "- CIFAR10 Built-in dataset 을 LOADING 후 다음을 확인하시오.\n",
    "    1. Dataset loading\n",
    "    1. train, test dataset의 데이터 개수\n",
    "    1. class index - class name\n",
    "    1. train set의 이미지 5장을 출력. label의 이름을 title로 출력.\n",
    "    \n",
    "    "
   ]
  },
  {
   "cell_type": "code",
   "execution_count": null,
   "metadata": {},
   "outputs": [],
   "source": [
    "import torch\n",
    "import torch.nn as nn\n",
    "from torchvision import datasets  # torchvision(파이토치 영상처리 모듈).datasets (이미지 데이터셋 제공 클래스)\n",
    "\n",
    "import numpy as np"
   ]
  },
  {
   "cell_type": "code",
   "execution_count": 18,
   "metadata": {
    "tags": []
   },
   "outputs": [
    {
     "name": "stdout",
     "output_type": "stream",
     "text": [
      "Downloading https://www.cs.toronto.edu/~kriz/cifar-10-python.tar.gz to datasets/cifar-10-python.tar.gz\n"
     ]
    },
    {
     "name": "stderr",
     "output_type": "stream",
     "text": [
      "100.0%\n"
     ]
    },
    {
     "name": "stdout",
     "output_type": "stream",
     "text": [
      "Extracting datasets/cifar-10-python.tar.gz to datasets\n",
      "Files already downloaded and verified\n"
     ]
    }
   ],
   "source": [
    "# 데이터들을 저장할 디렉토리.\n",
    "DATASET_ROOT_PATH = 'datasets'\n",
    "\n",
    "# 1. Dataset loading\n",
    "cifar_train = datasets.CIFAR10(root=DATASET_ROOT_PATH,\n",
    "                               download=True,\n",
    "                               train=True\n",
    "                              )\n",
    "cifar_test = datasets.CIFAR10(root=DATASET_ROOT_PATH,\n",
    "                               download=True,\n",
    "                               train=False\n",
    "                              )"
   ]
  },
  {
   "cell_type": "code",
   "execution_count": 29,
   "metadata": {
    "tags": []
   },
   "outputs": [
    {
     "name": "stdout",
     "output_type": "stream",
     "text": [
      "Dataset CIFAR10\n",
      "    Number of datapoints: 50000\n",
      "    Root location: datasets\n",
      "    Split: Train\n",
      "---------------\n",
      "Dataset CIFAR10\n",
      "    Number of datapoints: 10000\n",
      "    Root location: datasets\n",
      "    Split: Test\n"
     ]
    }
   ],
   "source": [
    "# 데이터 개수 등 정보확인\n",
    "print(cifar_train)\n",
    "print('---------------')\n",
    "print(cifar_test)"
   ]
  },
  {
   "cell_type": "code",
   "execution_count": 30,
   "metadata": {
    "tags": []
   },
   "outputs": [
    {
     "name": "stdout",
     "output_type": "stream",
     "text": [
      "데이터 개수\n",
      "50000 10000\n"
     ]
    }
   ],
   "source": [
    "print('데이터 개수')\n",
    "print(len(cifar_train), len(cifar_test))"
   ]
  },
  {
   "cell_type": "code",
   "execution_count": 32,
   "metadata": {
    "tags": []
   },
   "outputs": [
    {
     "data": {
      "text/plain": [
       "['airplane',\n",
       " 'automobile',\n",
       " 'bird',\n",
       " 'cat',\n",
       " 'deer',\n",
       " 'dog',\n",
       " 'frog',\n",
       " 'horse',\n",
       " 'ship',\n",
       " 'truck']"
      ]
     },
     "execution_count": 32,
     "metadata": {},
     "output_type": "execute_result"
    }
   ],
   "source": [
    "# class(index: 정답) -> class name(정답의 의미)\n",
    "cifar_train.classes"
   ]
  },
  {
   "cell_type": "code",
   "execution_count": 22,
   "metadata": {
    "tags": []
   },
   "outputs": [
    {
     "data": {
      "text/plain": [
       "{'airplane': 0,\n",
       " 'automobile': 1,\n",
       " 'bird': 2,\n",
       " 'cat': 3,\n",
       " 'deer': 4,\n",
       " 'dog': 5,\n",
       " 'frog': 6,\n",
       " 'horse': 7,\n",
       " 'ship': 8,\n",
       " 'truck': 9}"
      ]
     },
     "execution_count": 22,
     "metadata": {},
     "output_type": "execute_result"
    }
   ],
   "source": [
    "cifar_train.class_to_idx"
   ]
  },
  {
   "cell_type": "code",
   "execution_count": 33,
   "metadata": {
    "tags": []
   },
   "outputs": [
    {
     "name": "stdout",
     "output_type": "stream",
     "text": [
      "<class 'PIL.Image.Image'>\n",
      "6 <class 'int'>\n"
     ]
    }
   ],
   "source": [
    "# 데이터 조회\n",
    "## 1개\n",
    "img, label = cifar_train[0]  # (input, output)\n",
    "print(type(img))\n",
    "print(label, type(label))"
   ]
  },
  {
   "cell_type": "code",
   "execution_count": 34,
   "metadata": {
    "tags": []
   },
   "outputs": [
    {
     "data": {
      "text/plain": [
       "'frog'"
      ]
     },
     "execution_count": 34,
     "metadata": {},
     "output_type": "execute_result"
    }
   ],
   "source": [
    "cifar_train.classes[6]"
   ]
  },
  {
   "cell_type": "code",
   "execution_count": 35,
   "metadata": {
    "tags": []
   },
   "outputs": [
    {
     "data": {
      "image/jpeg": "[encoded data removed]",
      "image/png": "[encoded data removed]",
      "text/plain": [
       "<PIL.Image.Image image mode=RGB size=32x32>"
      ]
     },
     "execution_count": 35,
     "metadata": {},
     "output_type": "execute_result"
    }
   ],
   "source": [
    "img"
   ]
  },
  {
   "cell_type": "code",
   "execution_count": 37,
   "metadata": {
    "tags": []
   },
   "outputs": [
    {
     "name": "stdout",
     "output_type": "stream",
     "text": [
      "(32, 32, 3)\n",
      "uint8\n"
     ]
    }
   ],
   "source": [
    "# img(PIL.Image) -> ndarray\n",
    "img_arr = np.array(img)\n",
    "print(img_arr.shape)\n",
    "print(img_arr.dtype)"
   ]
  },
  {
   "cell_type": "code",
   "execution_count": 40,
   "metadata": {
    "tags": []
   },
   "outputs": [
    {
     "data": {
      "image/png": "[encoded data removed]",
      "text/plain": [
       "<Figure size 640x480 with 5 Axes>"
      ]
     },
     "metadata": {},
     "output_type": "display_data"
    }
   ],
   "source": [
    "for i in range(5):\n",
    "    plt.subplot(1, 5, i+1)\n",
    "    img, label = cifar_train[i]\n",
    "    img_ndarray = np.array(img)\n",
    "    plt.imshow(img_ndarray)\n",
    "    plt.title(f'{label} - {cifar_train.classes[label]}')\n",
    "    \n",
    "plt.tight_layout()\n",
    "plt.show()"
   ]
  },
  {
   "cell_type": "code",
   "execution_count": 41,
   "metadata": {
    "tags": []
   },
   "outputs": [
    {
     "data": {
      "image/jpeg": "[encoded data removed]",
      "image/png": "[encoded data removed]",
      "text/plain": [
       "<PIL.Image.Image image mode=RGB size=32x32>"
      ]
     },
     "metadata": {},
     "output_type": "display_data"
    },
    {
     "data": {
      "image/jpeg": "[encoded data removed]",
      "image/png": "[encoded data removed]",
      "text/plain": [
       "<PIL.Image.Image image mode=RGB size=32x32>"
      ]
     },
     "metadata": {},
     "output_type": "display_data"
    },
    {
     "data": {
      "image/jpeg": "[encoded data removed]",
      "image/png": "[encoded data removed]",
      "text/plain": [
       "<PIL.Image.Image image mode=RGB size=32x32>"
      ]
     },
     "metadata": {},
     "output_type": "display_data"
    },
    {
     "data": {
      "image/jpeg": "[encoded data removed]",
      "image/png": "[encoded data removed]",
      "text/plain": [
       "<PIL.Image.Image image mode=RGB size=32x32>"
      ]
     },
     "metadata": {},
     "output_type": "display_data"
    },
    {
     "data": {
      "image/jpeg": "[encoded data removed]",
      "image/png": "[encoded data removed]",
      "text/plain": [
       "<PIL.Image.Image image mode=RGB size=32x32>"
      ]
     },
     "metadata": {},
     "output_type": "display_data"
    }
   ],
   "source": [
    "# PIL Image 출력\n",
    "from IPython.display import display\n",
    "for i in range(5):\n",
    "    display(cifar_train[i][0])"
   ]
  },
  {
   "cell_type": "markdown",
   "metadata": {},
   "source": [
    "### transform 매개변수를 이용한 데이터전처리\n",
    "- Dataset 생성할 때 전달하는 함수로 원본데이터를 모델에 주입(feeding)하기 전 **전처리 과정을 정의한다.**\n",
    "    - Data Pipeline을 구성하는 함수\n",
    "- 매개변수로 input data 한개를 입력받아 처리한 결과를 반환하도록 구현한다."
   ]
  },
  {
   "cell_type": "code",
   "execution_count": 42,
   "metadata": {
    "tags": []
   },
   "outputs": [
    {
     "name": "stdout",
     "output_type": "stream",
     "text": [
      "data의 type: <class 'PIL.Image.Image'>\n",
      "(28, 28)\n",
      "pixcel 최소, 최대값 -  0 255\n",
      "dtype: uint8\n"
     ]
    }
   ],
   "source": [
    "# 위에서 읽은 MNIST 이미지 정보\n",
    "data = mnist_trainset[0][0]\n",
    "img = np.array(data)\n",
    "print('data의 type:', type(data))\n",
    "print(img.shape)\n",
    "print('pixcel 최소, 최대값 - ', img.min(), img.max())\n",
    "print('dtype(픽셀값의 타입):', img.dtype)"
   ]
  },
  {
   "cell_type": "markdown",
   "metadata": {
    "ExecuteTime": {
     "end_time": "2023-05-24T10:48:13.851346Z",
     "start_time": "2023-05-24T10:48:13.831036Z"
    }
   },
   "source": [
    "### torchvision.transforms.ToTensor\n",
    " -  PIL Image나 NumPy ndarray 를 FloatTensor(float32) 로 변환하고, 이미지의 픽셀의 크기(intensity) 값을 \\[0., 1.\\] 범위로 비례하여 조정한다.\n",
    " - Image 의 shape을 (channel, height, width) 로 변경한다.\n",
    " - https://pytorch.org/vision/stable/transforms.html"
   ]
  },
  {
   "cell_type": "code",
   "execution_count": 44,
   "metadata": {
    "tags": []
   },
   "outputs": [],
   "source": [
    "from torchvision import transforms\n",
    "# 영상데이터(이미지) 전처리를 위한 transforms(변환함수)들을 제공하는 모듈\n",
    "\n",
    "mnist_trainset2 = datasets.MNIST(root=DATASET_ROOT_PATH, train=True, download=True,\n",
    "                                 transform=transforms.ToTensor()  # ToTensor 클래스 객체\n",
    "                                )\n",
    "# transform이 설정안된 경우: 원본이미지파일 읽어서 -> Dataset 반환\n",
    "# transform이 설정된 경우: 원본이미지파일 읽어서 -> Dataset-transform함수(이미지) 반환"
   ]
  },
  {
   "cell_type": "code",
   "execution_count": 45,
   "metadata": {
    "tags": []
   },
   "outputs": [
    {
     "name": "stdout",
     "output_type": "stream",
     "text": [
      "5\n"
     ]
    }
   ],
   "source": [
    "data2, label = mnist_trainset2[0]\n",
    "print(label)"
   ]
  },
  {
   "cell_type": "code",
   "execution_count": 49,
   "metadata": {
    "tags": []
   },
   "outputs": [
    {
     "name": "stdout",
     "output_type": "stream",
     "text": [
      "data2의 타입:  <class 'torch.Tensor'>\n",
      "torch.Size([1, 28, 28])\n",
      "pixcel의 최소, 최대:  tensor(0.) tensor(1.)\n",
      "pixcel의 타입:  torch.float32\n"
     ]
    }
   ],
   "source": [
    "print('data2의 타입: ', type(data2))  # PIL.Image -> Tensor\n",
    "print(data2.shape)                  # [channel, height, width]\n",
    "print('pixcel의 최소, 최대: ', data2.min(), data2.max())  # 0 ~ 1 사이로 정규화(normalize) ==> scaling\n",
    "print('pixcel의 타입: ', data2.dtype) # uint8 -> float32"
   ]
  },
  {
   "cell_type": "markdown",
   "metadata": {},
   "source": [
    "### transform.Normalize\n",
    "- 채널별로 지정한 평균을 뺀 뒤 지정한 표준편차로 나누어서 정규화를 진행한다.\n",
    "- ToTensor()로 변환된 데이터를 받아서 추가 변환\n",
    "        - 여려 변환을 할 경우 `torchvision.transforms.Compose` 클래스를 이용한다."
   ]
  },
  {
   "cell_type": "code",
   "execution_count": 62,
   "metadata": {
    "tags": []
   },
   "outputs": [],
   "source": [
    "# 여러 개의 transform 함수들을 묶어서 순서대로 호출 => Compose()를 이용해 묶어줌\n",
    "# 리스트에 호출 될 순서대로 넣어서 전달\n",
    "\n",
    "# ToTensor() -> Normalize()\n",
    "transform = transforms.Compose([transforms.ToTensor(), # 첫번째 변환 작업\n",
    "                                transforms.Normalize(mean=0.5, std=0.5) # 첫번째 변환작업결과를 받아서 두번째 변환\n",
    "                               ])\n",
    "\n",
    "mnist_trainset3 = datasets.MNIST(root=DATASET_ROOT_PATH, train=True, download=True,\n",
    "                                 transform=transform)\n",
    "mnist_testset3 = datasets.MNIST(root=DATASET_ROOT_PATH, train=False, download=True,\n",
    "                                 transform=transform)"
   ]
  },
  {
   "cell_type": "code",
   "execution_count": 53,
   "metadata": {
    "tags": []
   },
   "outputs": [
    {
     "name": "stdout",
     "output_type": "stream",
     "text": [
      "<class 'torch.Tensor'>\n",
      "torch.Size([1, 28, 28])\n",
      "torch.float32\n",
      "tensor(-1.) tensor(1.)\n"
     ]
    }
   ],
   "source": [
    "img3, label3 = mnist_trainset3[0]\n",
    "print(type(img3))\n",
    "print(img3.shape)\n",
    "print(img3.dtype)\n",
    "\n",
    "print(img3.min(), img3.max())"
   ]
  },
  {
   "cell_type": "code",
   "execution_count": 54,
   "metadata": {
    "tags": []
   },
   "outputs": [
    {
     "name": "stdout",
     "output_type": "stream",
     "text": [
      "Files already downloaded and verified\n"
     ]
    }
   ],
   "source": [
    "# channel이 여러개인 경우(color-3): mean/std = 값 => 모든 채널에 공통적으로 사용할 평균/표준편차 설정\n",
    "#                               mean/ste = 튜플 -> 각 채널별로 적용할 값을 튜플에 각각 넣어준다\n",
    "# normalizer = transforms.Normalize(mean=0.5, std=0.5)  # 모든 픽셀에 평균=0.5, 표준편차=0.5로 계산\n",
    "normalizer = transforms.Normalize(mean=(0.485, 0.456, 0.406), std=(0.229, 0.224, 0.225))\n",
    "transform2 = transforms.Compose([transforms.ToTensor(),\n",
    "                                 normalizer\n",
    "                                ])\n",
    "\n",
    "cifa10_trainset2 = datasets.CIFAR10(root=DATASET_ROOT_PATH, train=True, download=True, \n",
    "                                    transform=transform2)"
   ]
  },
  {
   "cell_type": "code",
   "execution_count": 55,
   "metadata": {
    "tags": []
   },
   "outputs": [
    {
     "name": "stdout",
     "output_type": "stream",
     "text": [
      "torch.Size([3, 32, 32])\n",
      "Red channel의 min/max tensor(-2.1179) tensor(2.2489)\n",
      "Green channel의 min/max tensor(-2.0357) tensor(2.3936)\n",
      "Blue channel의 min/max tensor(-1.8044) tensor(2.2914)\n"
     ]
    }
   ],
   "source": [
    "img4, label4 = cifa10_trainset2[0]\n",
    "print(img4.shape)\n",
    "print('Red channel의 min/max', img4[0].min(), img4[0].max())\n",
    "print('Green channel의 min/max', img4[1].min(), img4[1].max())\n",
    "print('Blue channel의 min/max', img4[2].min(), img4[2].max())"
   ]
  },
  {
   "cell_type": "markdown",
   "metadata": {},
   "source": [
    "## DataLoader 생성\n",
    "\n",
    "- DataLoader\n",
    "    - 모델이 학습하거나 추론할 때 Dataset의 데이터를 모델에 제공해준다. (feeding)\n",
    "    - initalizer속성\n",
    "        - dataset: 값을 제공하는 Dataset 타입 객체\n",
    "        - batch_size: 한번에 값을 제공할 batch 크기\n",
    "        - shuffle: 에폭마다 데이터셋을 섞을 지 여부 (default: False)\n",
    "        - drop_last: 마지막 배치의 데이터개수가 batch_size 설정보다 적을 경우 모델에 제공하지 않는다.\n"
   ]
  },
  {
   "cell_type": "code",
   "execution_count": 63,
   "metadata": {
    "tags": []
   },
   "outputs": [],
   "source": [
    "from torch.utils.data import DataLoader\n",
    "# mnist_xxx_3 (transform=ToTensor+Normalize)\n",
    "mnist_train_loader = DataLoader(dataset=mnist_trainset3,  # 데이터를 제공받을 Dataset\n",
    "                                batch_size=200,        # 한번에 제공할 데이터 개수\n",
    "                                shuffle=True,          # 처음제공 전에 데이터들을 섞을지 여부 - Trainset: True, Testset: False\n",
    "                                drop_last=True         # 제공할 데이터개수가 batch_size보다 적을 경우 제공할지 여부 (True: 제공안함) - Trainset: True, Testset: False\n",
    "                               )\n",
    "\n",
    "mnist_test_loader = DataLoader(dataset=mnist_testset3, batch_size=200)"
   ]
  },
  {
   "cell_type": "code",
   "execution_count": 64,
   "metadata": {
    "tags": []
   },
   "outputs": [
    {
     "name": "stdout",
     "output_type": "stream",
     "text": [
      "300 50\n"
     ]
    }
   ],
   "source": [
    "# DataLoader -> Iterator 타입\n",
    "# 에폭당 step수 조회\n",
    "# drop_last=True : floor(총데이터수/batch_size), False: ceil(총데이터수/batch_size)\n",
    "print(len(mnist_train_loader), len(mnist_test_loader))"
   ]
  },
  {
   "cell_type": "code",
   "execution_count": 65,
   "metadata": {
    "tags": []
   },
   "outputs": [
    {
     "data": {
      "text/plain": [
       "Dataset MNIST\n",
       "    Number of datapoints: 60000\n",
       "    Root location: datasets\n",
       "    Split: Train\n",
       "    StandardTransform\n",
       "Transform: Compose(\n",
       "               ToTensor()\n",
       "               Normalize(mean=0.5, std=0.5)\n",
       "           )"
      ]
     },
     "execution_count": 65,
     "metadata": {},
     "output_type": "execute_result"
    }
   ],
   "source": [
    "# DataLoader에 설정된 Dataset을 조회\n",
    "mnist_train_loader.dataset"
   ]
  },
  {
   "cell_type": "code",
   "execution_count": 67,
   "metadata": {
    "tags": []
   },
   "outputs": [
    {
     "data": {
      "text/plain": [
       "200"
      ]
     },
     "execution_count": 67,
     "metadata": {},
     "output_type": "execute_result"
    }
   ],
   "source": [
    "mnist_train_loader.batch_size"
   ]
  },
  {
   "cell_type": "code",
   "execution_count": 69,
   "metadata": {
    "tags": []
   },
   "outputs": [],
   "source": [
    "# DataLoader에서 데이터 조회 -> Iterable타입 ==> iter(): Iterator, next(iterator), 다: for in\n",
    "batch1 = next(iter(mnist_train_loader))"
   ]
  },
  {
   "cell_type": "code",
   "execution_count": 71,
   "metadata": {
    "tags": []
   },
   "outputs": [
    {
     "name": "stdout",
     "output_type": "stream",
     "text": [
      "<class 'list'> 2\n",
      "<class 'torch.Tensor'> <class 'torch.Tensor'>\n"
     ]
    }
   ],
   "source": [
    "print(type(batch1), len(batch1))  # [input들, output들]\n",
    "\n",
    "X, y = batch1\n",
    "print(type(X), type(y))"
   ]
  },
  {
   "cell_type": "code",
   "execution_count": 72,
   "metadata": {
    "tags": []
   },
   "outputs": [
    {
     "name": "stdout",
     "output_type": "stream",
     "text": [
      "torch.Size([200, 1, 28, 28])\n",
      "torch.Size([200])\n"
     ]
    }
   ],
   "source": [
    "print(X.shape)  # [200: batch size, 1: channel, 28: height, 28: width]\n",
    "print(y.shape)  # [200: batch size]"
   ]
  },
  {
   "cell_type": "markdown",
   "metadata": {},
   "source": [
    "## Custom Dataset 구현\n",
    "\n",
    "1. `torch.utils.data.Dataset` 클래스를 상속한 클래스를 정의한다.\n",
    "2. `__init__(self, ...)` \n",
    "    - DataSet객체 생성시 필요한 설정들을 초기화 한다. \n",
    "    - ex) Data저장 경로, transform 설정 여부 등\n",
    "3. `__len__(self)`\n",
    "    - 총 데이터 수를 반환하도록 구현한다.\n",
    "    - DataLoader가 Batch 생성할 때 사용한다.\n",
    "4. `__getitem__(self, index)`\n",
    "    - index의 Data point를 반환한다.\n",
    "    - input(X), output(y) 를 튜플로 반환한다.\n",
    "    - transform이 있을 경우 변환처리한 input을 반환한다."
   ]
  },
  {
   "cell_type": "code",
   "execution_count": 75,
   "metadata": {
    "tags": []
   },
   "outputs": [],
   "source": [
    "# subscriptable 타입 클래스 구현 -> indexing 가능 객체\n",
    "class MySub:\n",
    "    \n",
    "    def __init__(self):\n",
    "        # 제공할 값들을 초기화\n",
    "        self.one = '사자'\n",
    "        self.two = '호랑이'\n",
    "        self.three = '하마'\n",
    "        \n",
    "    def __len__(self):\n",
    "        # 제공할 데이터의 개수를 반환 \n",
    "        return 3\n",
    "    \n",
    "    def __getitem__(self, idx):\n",
    "        # idx의 값을 반환\n",
    "        if idx == 0:\n",
    "            return self.one\n",
    "        elif idx == 1:\n",
    "            return self.two\n",
    "        elif idx == 2:\n",
    "            return self.three\n",
    "        else:\n",
    "            raise IndexError(f'{idx}번째 값이 없습니다.')"
   ]
  },
  {
   "cell_type": "code",
   "execution_count": 76,
   "metadata": {
    "tags": []
   },
   "outputs": [
    {
     "data": {
      "text/plain": [
       "3"
      ]
     },
     "execution_count": 76,
     "metadata": {},
     "output_type": "execute_result"
    }
   ],
   "source": [
    "m = MySub()\n",
    "len(m)  # m.__len__()"
   ]
  },
  {
   "cell_type": "code",
   "execution_count": 77,
   "metadata": {
    "tags": []
   },
   "outputs": [
    {
     "data": {
      "text/plain": [
       "'사자'"
      ]
     },
     "execution_count": 77,
     "metadata": {},
     "output_type": "execute_result"
    }
   ],
   "source": [
    "m[0]"
   ]
  },
  {
   "cell_type": "markdown",
   "metadata": {},
   "source": [
    "# OxfordPet Dataset 생성\n",
    "- https://www.robots.ox.ac.uk/~vgg/data/pets/\n",
    "- 개,고양이 37가지 품종\n",
    "- 품종별로 200장 정도씩 구성됨. (품종별로 이미지 개수는 다르다)\n",
    "\n",
    "- 목표\n",
    "    - train: 70%, validation: 20%, test: 10%"
   ]
  },
  {
   "cell_type": "code",
   "execution_count": 82,
   "metadata": {
    "tags": []
   },
   "outputs": [],
   "source": [
    "import os\n",
    "import re\n",
    "from glob import glob\n",
    "import tarfile\n",
    "from PIL import Image\n",
    "\n",
    "import torch\n",
    "import torch.nn as nn\n",
    "from torch.utils.data import Dataset, DataLoader\n",
    "from torchvision import transforms\n",
    "\n",
    "DATA_ROOT_PATH = 'datasets'\n",
    "tarfile_path = os.path.join(DATA_ROOT_PATH, 'images.tar')\n",
    "PET_DATA_PATH = os.path.join(DATA_ROOT_PATH, 'oxfordpet')\n",
    "# PET_IMAGE_PATH = os.path.join\n",
    "\n",
    "os.makedirs(PET_DATA_PATH, exist_ok=True)"
   ]
  },
  {
   "cell_type": "code",
   "execution_count": 84,
   "metadata": {
    "tags": []
   },
   "outputs": [],
   "source": [
    "# 압축 풀기: zip: zipfile 모듈, tar: tarfile 모듈\n",
    "with tarfile.open(tarfile_path) as tar:  # 압축파일과 연결\n",
    "    tar.extractall(PET_DATA_PATH)  # 압축풀 디렉토리 경로를 지정해서 압축 품\n"
   ]
  },
  {
   "cell_type": "code",
   "execution_count": 88,
   "metadata": {
    "tags": []
   },
   "outputs": [
    {
     "name": "stdout",
     "output_type": "stream",
     "text": [
      "7390\n"
     ]
    },
    {
     "data": {
      "text/plain": [
       "['datasets/oxfordpet/images/Egyptian_Mau_167.jpg',\n",
       " 'datasets/oxfordpet/images/pug_52.jpg',\n",
       " 'datasets/oxfordpet/images/basset_hound_112.jpg',\n",
       " 'datasets/oxfordpet/images/Siamese_193.jpg',\n",
       " 'datasets/oxfordpet/images/shiba_inu_122.jpg',\n",
       " 'datasets/oxfordpet/images/Siamese_53.jpg',\n",
       " 'datasets/oxfordpet/images/Birman_167.jpg',\n",
       " 'datasets/oxfordpet/images/leonberger_6.jpg',\n",
       " 'datasets/oxfordpet/images/Siamese_47.jpg',\n",
       " 'datasets/oxfordpet/images/shiba_inu_136.jpg']"
      ]
     },
     "execution_count": 88,
     "metadata": {},
     "output_type": "execute_result"
    }
   ],
   "source": [
    "# 참조 코드\n",
    "# 모든 이미지파일의 경로를 조회 => glob\n",
    "file_list = glob(r'datasets/oxfordpet/**/*.jpg')\n",
    "print(len(file_list))\n",
    "file_list[:10]"
   ]
  },
  {
   "cell_type": "code",
   "execution_count": 91,
   "metadata": {
    "tags": []
   },
   "outputs": [
    {
     "name": "stdout",
     "output_type": "stream",
     "text": [
      "datasets/oxfordpet/images/Egyptian_Mau_167.jpg\n",
      "파일경로에서 파일명과 확장자 분리:  ('datasets/oxfordpet/images/Egyptian_Mau_167', '.jpg')\n",
      "파일경로에서 파일명(확장자)을 분리:  Egyptian_Mau_167.jpg\n",
      "파일경로에서 디렉토리만 분리:  datasets/oxfordpet/images\n"
     ]
    }
   ],
   "source": [
    "## 참조 코드\n",
    "f = file_list[0]\n",
    "print(f)\n",
    "print('파일경로에서 파일명과 확장자 분리: ', os.path.splitext(f))  # 확장자와 나머지 경로를 분리\n",
    "print('파일경로에서 파일명(확장자)을 분리: ', os.path.basename(f))\n",
    "print('파일경로에서 디렉토리만 분리: ', os.path.dirname(f))"
   ]
  },
  {
   "cell_type": "code",
   "execution_count": 95,
   "metadata": {
    "tags": []
   },
   "outputs": [
    {
     "name": "stdout",
     "output_type": "stream",
     "text": [
      "1번째 파일 삭제, Egyptian_Mau_167.jpg, mode: P\n",
      "1481번째 파일 삭제, Abyssinian_5.jpg, mode: RGBA\n",
      "1814번째 파일 삭제, Egyptian_Mau_177.jpg, mode: P\n",
      "2275번째 파일 삭제, Egyptian_Mau_139.jpg, mode: P\n",
      "3214번째 파일 삭제, Egyptian_Mau_129.jpg, mode: L\n",
      "4318번째 파일 삭제, Abyssinian_34.jpg, mode: P\n",
      "5515번째 파일 삭제, Egyptian_Mau_191.jpg, mode: P\n",
      "5518번째 파일 삭제, staffordshire_bull_terrier_2.jpg, mode: L\n",
      "5977번째 파일 삭제, Egyptian_Mau_145.jpg, mode: P\n",
      "6011번째 파일 삭제, Egyptian_Mau_186.jpg, mode: RGBA\n",
      "6399번째 파일 삭제, Egyptian_Mau_14.jpg, mode: RGBA\n",
      "6583번째 파일 삭제, staffordshire_bull_terrier_22.jpg, mode: L\n"
     ]
    }
   ],
   "source": [
    "# 이미지들 중 RGB 모드의 이미지만 남기고 삭제\n",
    "remove_cnt = 0# 몇 장 삭제했는지 저장\n",
    "for idx, image_path in enumerate(file_list):\n",
    "    # print(idx, image_poth)\n",
    "    # 이미지 읽기 -> PIL.Image.open()\n",
    "    with Image.open(image_path) as img:\n",
    "        image_mode = img.mode  # str: 'L' grayscale, 'RGB': rgb\n",
    "        \n",
    "    # RGB가 아니면 삭제\n",
    "    if image_mode != 'RGB':\n",
    "        os.remove(image_path)\n",
    "        remove_cnt += 1\n",
    "        print(f\"{idx+1}번째 파일 삭제, {os.path.basename(image_path)}, mode: {image_mode}\")"
   ]
  },
  {
   "cell_type": "code",
   "execution_count": 97,
   "metadata": {
    "tags": []
   },
   "outputs": [
    {
     "data": {
      "text/plain": [
       "12"
      ]
     },
     "execution_count": 97,
     "metadata": {},
     "output_type": "execute_result"
    }
   ],
   "source": [
    "remove_cnt"
   ]
  },
  {
   "cell_type": "code",
   "execution_count": 98,
   "metadata": {
    "tags": []
   },
   "outputs": [
    {
     "data": {
      "text/plain": [
       "7378"
      ]
     },
     "execution_count": 98,
     "metadata": {},
     "output_type": "execute_result"
    }
   ],
   "source": [
    "# 삭제결과를 적용해서 file_list를 새로 생성\n",
    "file_list = glob(r'datasets/oxfordpet/**/*.jpg')\n",
    "len(file_list)"
   ]
  },
  {
   "cell_type": "markdown",
   "metadata": {},
   "source": [
    "### index_to_class, class_to_index 생성\n",
    "- index_to_class : class들을 가지는 리스트. index(0, 1, ..)로 class 조회\n",
    "- class_to_index : key: 클래스이름, value: index -> class이름 넣으면 index 반환\n",
    "- 파일명이 class"
   ]
  },
  {
   "cell_type": "code",
   "execution_count": 102,
   "metadata": {
    "tags": []
   },
   "outputs": [],
   "source": [
    "# 0 -> american bulldog: index_to_class\n",
    "# american bulldog -> 0: class_to_index\n",
    "\n",
    "class_name_set = set()  # 중복된 것은 하나만 저장하기 위해 set을 생성 <- 파일명: 품종_번호.jpg  품종만 set에 추가\n",
    "\n",
    "for file in file_list:\n",
    "    # file_list에서 파일명 안의 품종을 추출한 뒤 class_name_set에 추가\n",
    "    filename = os.path.basename(file)\n",
    "    filename = os.path.splitext(filename)[0]\n",
    "    class_name = re.sub(r'_\\d+', '', filename)\n",
    "    # print(filename, class_name)\n",
    "    class_name_set.add(class_name)\n",
    "    # break"
   ]
  },
  {
   "cell_type": "code",
   "execution_count": 105,
   "metadata": {
    "collapsed": true,
    "jupyter": {
     "outputs_hidden": true
    },
    "tags": []
   },
   "outputs": [
    {
     "name": "stdout",
     "output_type": "stream",
     "text": [
      "37\n"
     ]
    },
    {
     "data": {
      "text/plain": [
       "['Abyssinian',\n",
       " 'Bengal',\n",
       " 'Birman',\n",
       " 'Bombay',\n",
       " 'British_Shorthair',\n",
       " 'Egyptian_Mau',\n",
       " 'Maine_Coon',\n",
       " 'Persian',\n",
       " 'Ragdoll',\n",
       " 'Russian_Blue',\n",
       " 'Siamese',\n",
       " 'Sphynx',\n",
       " 'american_bulldog',\n",
       " 'american_pit_bull_terrier',\n",
       " 'basset_hound',\n",
       " 'beagle',\n",
       " 'boxer',\n",
       " 'chihuahua',\n",
       " 'english_cocker_spaniel',\n",
       " 'english_setter',\n",
       " 'german_shorthaired',\n",
       " 'great_pyrenees',\n",
       " 'havanese',\n",
       " 'japanese_chin',\n",
       " 'keeshond',\n",
       " 'leonberger',\n",
       " 'miniature_pinscher',\n",
       " 'newfoundland',\n",
       " 'pomeranian',\n",
       " 'pug',\n",
       " 'saint_bernard',\n",
       " 'samoyed',\n",
       " 'scottish_terrier',\n",
       " 'shiba_inu',\n",
       " 'staffordshire_bull_terrier',\n",
       " 'wheaten_terrier',\n",
       " 'yorkshire_terrier']"
      ]
     },
     "execution_count": 105,
     "metadata": {},
     "output_type": "execute_result"
    }
   ],
   "source": [
    "index_to_class = list(class_name_set)\n",
    "\n",
    "index_to_class.sort()\n",
    "print(len(index_to_class))\n",
    "index_to_class"
   ]
  },
  {
   "cell_type": "code",
   "execution_count": 106,
   "metadata": {
    "collapsed": true,
    "jupyter": {
     "outputs_hidden": true
    },
    "tags": []
   },
   "outputs": [
    {
     "data": {
      "text/plain": [
       "{'Abyssinian': 0,\n",
       " 'Bengal': 1,\n",
       " 'Birman': 2,\n",
       " 'Bombay': 3,\n",
       " 'British_Shorthair': 4,\n",
       " 'Egyptian_Mau': 5,\n",
       " 'Maine_Coon': 6,\n",
       " 'Persian': 7,\n",
       " 'Ragdoll': 8,\n",
       " 'Russian_Blue': 9,\n",
       " 'Siamese': 10,\n",
       " 'Sphynx': 11,\n",
       " 'american_bulldog': 12,\n",
       " 'american_pit_bull_terrier': 13,\n",
       " 'basset_hound': 14,\n",
       " 'beagle': 15,\n",
       " 'boxer': 16,\n",
       " 'chihuahua': 17,\n",
       " 'english_cocker_spaniel': 18,\n",
       " 'english_setter': 19,\n",
       " 'german_shorthaired': 20,\n",
       " 'great_pyrenees': 21,\n",
       " 'havanese': 22,\n",
       " 'japanese_chin': 23,\n",
       " 'keeshond': 24,\n",
       " 'leonberger': 25,\n",
       " 'miniature_pinscher': 26,\n",
       " 'newfoundland': 27,\n",
       " 'pomeranian': 28,\n",
       " 'pug': 29,\n",
       " 'saint_bernard': 30,\n",
       " 'samoyed': 31,\n",
       " 'scottish_terrier': 32,\n",
       " 'shiba_inu': 33,\n",
       " 'staffordshire_bull_terrier': 34,\n",
       " 'wheaten_terrier': 35,\n",
       " 'yorkshire_terrier': 36}"
      ]
     },
     "execution_count": 106,
     "metadata": {},
     "output_type": "execute_result"
    }
   ],
   "source": [
    "# 클래스 이름 -> index: dic\n",
    "class_to_index = {name:idx for idx, name in enumerate(index_to_class) }\n",
    "class_to_index"
   ]
  },
  {
   "cell_type": "code",
   "execution_count": 107,
   "metadata": {
    "tags": []
   },
   "outputs": [
    {
     "data": {
      "text/plain": [
       "('Egyptian_Mau', 5)"
      ]
     },
     "execution_count": 107,
     "metadata": {},
     "output_type": "execute_result"
    }
   ],
   "source": [
    "pred = 5  # 모델 추정값\n",
    "index_to_class[pred], class_to_index['Egyptian_Mau']"
   ]
  },
  {
   "cell_type": "code",
   "execution_count": null,
   "metadata": {},
   "outputs": [],
   "source": []
  },
  {
   "cell_type": "code",
   "execution_count": null,
   "metadata": {},
   "outputs": [],
   "source": []
  },
  {
   "cell_type": "markdown",
   "metadata": {},
   "source": [
    "# Dataset을 이용해 CSV파일에 저장된 데이터셋 로딩"
   ]
  },
  {
   "cell_type": "code",
   "execution_count": null,
   "metadata": {},
   "outputs": [],
   "source": []
  },
  {
   "cell_type": "code",
   "execution_count": null,
   "metadata": {},
   "outputs": [],
   "source": []
  },
  {
   "cell_type": "markdown",
   "metadata": {},
   "source": [
    "## torchvision.datasets.ImageFolder 이용\n",
    "- 저장장치에 파일로 저장된 image들을 쉽게 로딩할 수 있도록 한다.\n",
    "- train/validation/test 데이터셋을 저장하는 디렉토리에 class 별로 디렉토리를 만들고 이미지를 저장한다."
   ]
  },
  {
   "cell_type": "code",
   "execution_count": null,
   "metadata": {},
   "outputs": [],
   "source": [
    "!pip install gdown --upgrade"
   ]
  },
  {
   "cell_type": "code",
   "execution_count": null,
   "metadata": {},
   "outputs": [],
   "source": [
    "import os\n",
    "from zipfile import ZipFile\n",
    "import gdown\n",
    "def down_extract():\n",
    "    os.makedirs('data', exist_ok=True)\n",
    "    url = 'https://drive.google.com/uc?id=1YIxDL0XJhhAMdScdRUfDgccAqyCw5-ZV'\n",
    "    fname = 'data/cats_and_dogs_small.zip'\n",
    "\n",
    "    gdown.download(url, fname, quiet=False)\n",
    "    \n",
    "    #zipfile모듈: Zip 압축파일을 다루는 모듈(압축하기, 풀기)\n",
    "    from zipfile import ZipFile\n",
    "    # 압축풀기: ZipFile(압축파일경로).extractall(풀경로) # 디렉토리 없으면 생성해 준다.\n",
    "    with ZipFile(fname) as zipFile:\n",
    "        zipFile.extractall(os.path.join('data','cats_and_dogs_small'))\n",
    "        \n",
    "down_extract()        "
   ]
  },
  {
   "cell_type": "code",
   "execution_count": null,
   "metadata": {},
   "outputs": [],
   "source": []
  },
  {
   "cell_type": "code",
   "execution_count": null,
   "metadata": {},
   "outputs": [],
   "source": []
  },
  {
   "cell_type": "markdown",
   "metadata": {},
   "source": [
    "# 모델 성능 평가를 위한 데이터셋 분리\n",
    "- **Train 데이터셋 (훈련/학습 데이터셋)**\n",
    "    - 모델을 학습시킬 때 사용할 데이터셋.\n",
    "- **Validation 데이터셋 (검증 데이터셋)**\n",
    "    - 모델의 성능 중간 검증을 위한 데이터셋\n",
    "- **Test 데이터셋 (평가 데이터셋)**\n",
    "    - 모델의 성능을 최종적으로 측정하기 위한 데이터셋\n",
    "    - **Test 데이터셋은 마지막에 모델의 성능을 측정하는 용도로 한번만 사용한다.**\n",
    " \n",
    "## Validataion 과 Test datas 분리이유\n",
    "- 모델을 훈련하고 평가했을때 원하는 성능이 나오지 않으면 모델을 수정한 뒤에 다시 훈련시키고 검증 하게 된다. 원하는 성능이 나올때 까지 **설정변경->훈련->검증**을 반복하게 된다. \n",
    "- 위 사이클을 반복하게 되면검증가결과를 바탕으로모델 설정을 변경하게 되므로 **검증할 때 사용한 데이터셋에 모을이 맞춰서 훈련하는 , 즉 검증데이테셋으로 모델을 학습한 것과 같다..*) 그래서 Train dataset과 Test dataset 두 개의 데이터셋만 사용하게 되면 모델의 성능을 제대로 평가할 수 없게 된다. 그래서 데이터셋을 train 세트, validation 세터, test 세트로 나눠 train set 와 validation set으로 모델을 최적화 한 뒤 마지막 학습하는 과정에서 **한번도 사용하지 않았던  test set으로 최종 평가를 한다**\n",
    "종 평가를 한다.\n",
    "\n",
    "> - **(Parameter)머신러닝 모델 파라미터**\n",
    ">    - 성능에 영향을 주는 값으로 최적의야 하는 대상내는 값을 찾아야 한다.\n",
    ">       - **하이퍼파라미터(Hyper Parameter)**\n",
    ">            - 사람이 직접 설정해야하는 파라미터 값\n",
    ">       - **파라미터(Parameter)**\n",
    ">            - 데이터 학습을 통해 찾는 파라미터 값"
   ]
  },
  {
   "cell_type": "markdown",
   "metadata": {},
   "source": [
    "## 파이토치 데이터셋 분리\n",
    "\n",
    "### torch.utils.data.Subset을 이용\n",
    "\n",
    "- Dataset의 일부를 가지는 부분집합 데이터셋을 생성\n",
    "- 주로 사용하는 곳\n",
    "    1. 데이터 셋을 분리\n",
    "    2. 전체 데이터 셋에서 일부 데이터를 추출 할 때\n",
    "    3. 데이터셋에서 특정 데이터만 골라서 추출할 때 (ex: 특정 class만 추출하는 경우)"
   ]
  },
  {
   "cell_type": "code",
   "execution_count": null,
   "metadata": {},
   "outputs": [],
   "source": []
  },
  {
   "cell_type": "code",
   "execution_count": null,
   "metadata": {},
   "outputs": [],
   "source": []
  },
  {
   "cell_type": "markdown",
   "metadata": {},
   "source": [
    "### random_split() 함수 이용\n",
    "\n",
    "- Dataset객체와 나눌 데이터셋들의 원소개수를 리스트로 묶어서 전달하면  Shuffle후 나눈뒤 그 결과를 Subset객체들을 리스트에 담아 반환한다."
   ]
  },
  {
   "cell_type": "code",
   "execution_count": null,
   "metadata": {},
   "outputs": [],
   "source": []
  },
  {
   "cell_type": "code",
   "execution_count": null,
   "metadata": {},
   "outputs": [],
   "source": []
  }
 ],
 "metadata": {
  "kernelspec": {
   "display_name": "Python 3 (ipykernel)",
   "language": "python",
   "name": "python3"
  },
  "language_info": {
   "codemirror_mode": {
    "name": "ipython",
    "version": 3
   },
   "file_extension": ".py",
   "mimetype": "text/x-python",
   "name": "python",
   "nbconvert_exporter": "python",
   "pygments_lexer": "ipython3",
   "version": "3.10.13"
  },
  "toc": {
   "base_numbering": 1,
   "nav_menu": {},
   "number_sections": false,
   "sideBar": true,
   "skip_h1_title": false,
   "title_cell": "Table of Contents",
   "title_sidebar": "Contents",
   "toc_cell": false,
   "toc_position": {
    "height": "calc(100% - 180px)",
    "left": "10px",
    "top": "150px",
    "width": "455.111px"
   },
   "toc_section_display": true,
   "toc_window_display": false
  },
  "varInspector": {
   "cols": {
    "lenName": 16,
    "lenType": 16,
    "lenVar": 40
   },
   "kernels_config": {
    "python": {
     "delete_cmd_postfix": "",
     "delete_cmd_prefix": "del ",
     "library": "var_list.py",
     "varRefreshCmd": "print(var_dic_list())"
    },
    "r": {
     "delete_cmd_postfix": ") ",
     "delete_cmd_prefix": "rm(",
     "library": "var_list.r",
     "varRefreshCmd": "cat(var_dic_list()) "
    }
   },
   "types_to_exclude": [
    "module",
    "function",
    "builtin_function_or_method",
    "instance",
    "_Feature"
   ],
   "window_display": false
  }
 },
 "nbformat": 4,
 "nbformat_minor": 4
}
