{
 "cells": [
  {
   "cell_type": "markdown",
   "id": "92933e86-724b-4568-a2ea-8951db5fee6e",
   "metadata": {},
   "source": [
    "# 삼성전자 주가 데이터 다운로드\n",
    "- Yahoo Finance 에서 주가 데이터 다운로드 (https://finance.yahoo.com/)\n",
    "    - 검색 키워드 '005930.KS' 입력\n",
    "- 검색 후 Historical Data 선택\n",
    "\n",
    "![yahoo finance](figures/rnn/21_yahoo_stock1.png)"
   ]
  },
  {
   "cell_type": "markdown",
   "id": "59ac250f-e525-49b6-93bd-a1e361d27224",
   "metadata": {},
   "source": [
    "- `Start Date: 2000년 1월 4일 End Date: 오늘날짜` 선택\n",
    "- Apply 클릭 후 다운로드\n",
    "![yahoo finance](figures/rnn/22_yahoo_stock2.png)"
   ]
  },
  {
   "cell_type": "code",
   "execution_count": 76,
   "id": "e8862e3a-6cb1-44f0-a7c0-fd62fd73352b",
   "metadata": {
    "tags": []
   },
   "outputs": [
    {
     "data": {
      "text/plain": [
       "'cpu'"
      ]
     },
     "execution_count": 76,
     "metadata": {},
     "output_type": "execute_result"
    }
   ],
   "source": [
    "import os\n",
    "import time\n",
    "\n",
    "import numpy as np\n",
    "import pandas as pd\n",
    "import matplotlib.pyplot as plt\n",
    "\n",
    "import torch\n",
    "import torch.nn as nn\n",
    "from torch.utils.data import TensorDataset, DataLoader\n",
    "import torchinfo\n",
    "\n",
    "from sklearn.preprocessing import MinMaxScaler, StandardScaler\n",
    "from sklearn.model_selection import train_test_split  \n",
    "\n",
    "device = 'cuda' if torch.cuda.is_available() else 'cpu'\n",
    "device"
   ]
  },
  {
   "cell_type": "code",
   "execution_count": 77,
   "id": "2751f99f-94b2-44e1-99b2-5b020de7c22a",
   "metadata": {
    "tags": []
   },
   "outputs": [
    {
     "data": {
      "text/plain": [
       "(5977, 7)"
      ]
     },
     "execution_count": 77,
     "metadata": {},
     "output_type": "execute_result"
    }
   ],
   "source": [
    "# Data Loading + EDA\n",
    "df = pd.read_csv('data/005930.KS.csv')\n",
    "df.shape"
   ]
  },
  {
   "cell_type": "code",
   "execution_count": 78,
   "id": "cecf42bc-1859-40df-a815-54653a562f76",
   "metadata": {
    "tags": []
   },
   "outputs": [
    {
     "name": "stdout",
     "output_type": "stream",
     "text": [
      "<class 'pandas.core.frame.DataFrame'>\n",
      "RangeIndex: 5977 entries, 0 to 5976\n",
      "Data columns (total 7 columns):\n",
      " #   Column     Non-Null Count  Dtype  \n",
      "---  ------     --------------  -----  \n",
      " 0   Date       5977 non-null   object \n",
      " 1   Open       5977 non-null   float64\n",
      " 2   High       5977 non-null   float64\n",
      " 3   Low        5977 non-null   float64\n",
      " 4   Close      5977 non-null   float64\n",
      " 5   Adj Close  5977 non-null   float64\n",
      " 6   Volume     5977 non-null   int64  \n",
      "dtypes: float64(5), int64(1), object(1)\n",
      "memory usage: 327.0+ KB\n"
     ]
    }
   ],
   "source": [
    "df.info()"
   ]
  },
  {
   "cell_type": "code",
   "execution_count": 79,
   "id": "724cc3f6-4299-4eef-be4d-0c935201e50c",
   "metadata": {
    "tags": []
   },
   "outputs": [
    {
     "data": {
      "text/html": [
       "<div>\n",
       "<style scoped>\n",
       "    .dataframe tbody tr th:only-of-type {\n",
       "        vertical-align: middle;\n",
       "    }\n",
       "\n",
       "    .dataframe tbody tr th {\n",
       "        vertical-align: top;\n",
       "    }\n",
       "\n",
       "    .dataframe thead th {\n",
       "        text-align: right;\n",
       "    }\n",
       "</style>\n",
       "<table border=\"1\" class=\"dataframe\">\n",
       "  <thead>\n",
       "    <tr style=\"text-align: right;\">\n",
       "      <th></th>\n",
       "      <th>Date</th>\n",
       "      <th>Open</th>\n",
       "      <th>High</th>\n",
       "      <th>Low</th>\n",
       "      <th>Close</th>\n",
       "      <th>Adj Close</th>\n",
       "      <th>Volume</th>\n",
       "    </tr>\n",
       "  </thead>\n",
       "  <tbody>\n",
       "    <tr>\n",
       "      <th>0</th>\n",
       "      <td>2000-01-04</td>\n",
       "      <td>6000.0</td>\n",
       "      <td>6110.0</td>\n",
       "      <td>5660.0</td>\n",
       "      <td>6110.0</td>\n",
       "      <td>4514.579590</td>\n",
       "      <td>74195000</td>\n",
       "    </tr>\n",
       "    <tr>\n",
       "      <th>1</th>\n",
       "      <td>2000-01-05</td>\n",
       "      <td>5800.0</td>\n",
       "      <td>6060.0</td>\n",
       "      <td>5520.0</td>\n",
       "      <td>5580.0</td>\n",
       "      <td>4122.972656</td>\n",
       "      <td>74680000</td>\n",
       "    </tr>\n",
       "    <tr>\n",
       "      <th>2</th>\n",
       "      <td>2000-01-06</td>\n",
       "      <td>5750.0</td>\n",
       "      <td>5780.0</td>\n",
       "      <td>5580.0</td>\n",
       "      <td>5620.0</td>\n",
       "      <td>4152.528320</td>\n",
       "      <td>54390000</td>\n",
       "    </tr>\n",
       "    <tr>\n",
       "      <th>3</th>\n",
       "      <td>2000-01-07</td>\n",
       "      <td>5560.0</td>\n",
       "      <td>5670.0</td>\n",
       "      <td>5360.0</td>\n",
       "      <td>5540.0</td>\n",
       "      <td>4093.416260</td>\n",
       "      <td>40305000</td>\n",
       "    </tr>\n",
       "    <tr>\n",
       "      <th>4</th>\n",
       "      <td>2000-01-10</td>\n",
       "      <td>5600.0</td>\n",
       "      <td>5770.0</td>\n",
       "      <td>5580.0</td>\n",
       "      <td>5770.0</td>\n",
       "      <td>4263.361328</td>\n",
       "      <td>46880000</td>\n",
       "    </tr>\n",
       "  </tbody>\n",
       "</table>\n",
       "</div>"
      ],
      "text/plain": [
       "         Date    Open    High     Low   Close    Adj Close    Volume\n",
       "0  2000-01-04  6000.0  6110.0  5660.0  6110.0  4514.579590  74195000\n",
       "1  2000-01-05  5800.0  6060.0  5520.0  5580.0  4122.972656  74680000\n",
       "2  2000-01-06  5750.0  5780.0  5580.0  5620.0  4152.528320  54390000\n",
       "3  2000-01-07  5560.0  5670.0  5360.0  5540.0  4093.416260  40305000\n",
       "4  2000-01-10  5600.0  5770.0  5580.0  5770.0  4263.361328  46880000"
      ]
     },
     "execution_count": 79,
     "metadata": {},
     "output_type": "execute_result"
    }
   ],
   "source": [
    "df.head()"
   ]
  },
  {
   "cell_type": "code",
   "execution_count": 80,
   "id": "783116ff-3c4b-4c2a-9913-88b486478e23",
   "metadata": {
    "tags": []
   },
   "outputs": [],
   "source": [
    "# Date -> datetime 타입으로 변경 -> index 전환\n",
    "## 시계열 데이터는 (행) index로 일시를 가지도록 구성\n",
    "df['Date'] = pd.to_datetime(df['Date'])\n",
    "df.set_index('Date', inplace=True)"
   ]
  },
  {
   "cell_type": "code",
   "execution_count": 81,
   "id": "66559a55-d5d3-4e0a-9c7c-d8bd2ed26438",
   "metadata": {
    "tags": []
   },
   "outputs": [
    {
     "name": "stdout",
     "output_type": "stream",
     "text": [
      "<class 'pandas.core.frame.DataFrame'>\n",
      "DatetimeIndex: 5977 entries, 2000-01-04 to 2023-11-01\n",
      "Data columns (total 6 columns):\n",
      " #   Column     Non-Null Count  Dtype  \n",
      "---  ------     --------------  -----  \n",
      " 0   Open       5977 non-null   float64\n",
      " 1   High       5977 non-null   float64\n",
      " 2   Low        5977 non-null   float64\n",
      " 3   Close      5977 non-null   float64\n",
      " 4   Adj Close  5977 non-null   float64\n",
      " 5   Volume     5977 non-null   int64  \n",
      "dtypes: float64(5), int64(1)\n",
      "memory usage: 326.9 KB\n"
     ]
    }
   ],
   "source": [
    "df.info()"
   ]
  },
  {
   "cell_type": "code",
   "execution_count": 82,
   "id": "3b20048f-545a-415a-8952-9182b1b8192f",
   "metadata": {
    "tags": []
   },
   "outputs": [
    {
     "data": {
      "text/plain": [
       "Open         0\n",
       "High         0\n",
       "Low          0\n",
       "Close        0\n",
       "Adj Close    0\n",
       "Volume       0\n",
       "dtype: int64"
      ]
     },
     "execution_count": 82,
     "metadata": {},
     "output_type": "execute_result"
    }
   ],
   "source": [
    "# 결측치 확인\n",
    "df.isnull().sum()"
   ]
  },
  {
   "cell_type": "code",
   "execution_count": 83,
   "id": "128644f7-5728-4c10-adbc-ec2bedbd547d",
   "metadata": {
    "tags": []
   },
   "outputs": [
    {
     "data": {
      "text/plain": [
       "<Axes: xlabel='Date'>"
      ]
     },
     "execution_count": 83,
     "metadata": {},
     "output_type": "execute_result"
    },
    {
     "data": {
      "image/png": "[encoded data removed]",
      "text/plain": [
       "<Figure size 2000x500 with 1 Axes>"
      ]
     },
     "metadata": {},
     "output_type": "display_data"
    }
   ],
   "source": [
    "## 시가, 종가의 흐름을 선그래프로 보기\n",
    "df[['Open', 'Close']].plot(figsize=(20, 5), alpha=0.5, marker='.')"
   ]
  },
  {
   "cell_type": "markdown",
   "id": "1e116bd0-9c23-4b8a-9f1a-aae5170ff738",
   "metadata": {},
   "source": [
    "# x와 y를 만들기\n",
    "- x( input) feature 구성: open, high, low, Close, adj close, volumn \n",
    "- y (output): Close"
   ]
  },
  {
   "cell_type": "code",
   "execution_count": 84,
   "id": "e0caa2b9-9035-4e16-ae79-ca52d307ccbb",
   "metadata": {
    "tags": []
   },
   "outputs": [
    {
     "data": {
      "text/plain": [
       "((5977, 6), (5977, 1))"
      ]
     },
     "execution_count": 84,
     "metadata": {},
     "output_type": "execute_result"
    }
   ],
   "source": [
    "y_df = df['Close'].to_frame()  # (총 데이터수 , 1)\n",
    "X_df = df\n",
    "X_df.shape, y_df.shape"
   ]
  },
  {
   "cell_type": "code",
   "execution_count": 85,
   "id": "a953387e-0a5b-4cf3-9607-c91e104f0096",
   "metadata": {
    "tags": []
   },
   "outputs": [
    {
     "data": {
      "text/html": [
       "<div>\n",
       "<style scoped>\n",
       "    .dataframe tbody tr th:only-of-type {\n",
       "        vertical-align: middle;\n",
       "    }\n",
       "\n",
       "    .dataframe tbody tr th {\n",
       "        vertical-align: top;\n",
       "    }\n",
       "\n",
       "    .dataframe thead th {\n",
       "        text-align: right;\n",
       "    }\n",
       "</style>\n",
       "<table border=\"1\" class=\"dataframe\">\n",
       "  <thead>\n",
       "    <tr style=\"text-align: right;\">\n",
       "      <th></th>\n",
       "      <th>Open</th>\n",
       "      <th>High</th>\n",
       "      <th>Low</th>\n",
       "      <th>Close</th>\n",
       "      <th>Adj Close</th>\n",
       "      <th>Volume</th>\n",
       "    </tr>\n",
       "    <tr>\n",
       "      <th>Date</th>\n",
       "      <th></th>\n",
       "      <th></th>\n",
       "      <th></th>\n",
       "      <th></th>\n",
       "      <th></th>\n",
       "      <th></th>\n",
       "    </tr>\n",
       "  </thead>\n",
       "  <tbody>\n",
       "    <tr>\n",
       "      <th>2000-01-04</th>\n",
       "      <td>6000.0</td>\n",
       "      <td>6110.0</td>\n",
       "      <td>5660.0</td>\n",
       "      <td>6110.0</td>\n",
       "      <td>4514.579590</td>\n",
       "      <td>74195000</td>\n",
       "    </tr>\n",
       "    <tr>\n",
       "      <th>2000-01-05</th>\n",
       "      <td>5800.0</td>\n",
       "      <td>6060.0</td>\n",
       "      <td>5520.0</td>\n",
       "      <td>5580.0</td>\n",
       "      <td>4122.972656</td>\n",
       "      <td>74680000</td>\n",
       "    </tr>\n",
       "    <tr>\n",
       "      <th>2000-01-06</th>\n",
       "      <td>5750.0</td>\n",
       "      <td>5780.0</td>\n",
       "      <td>5580.0</td>\n",
       "      <td>5620.0</td>\n",
       "      <td>4152.528320</td>\n",
       "      <td>54390000</td>\n",
       "    </tr>\n",
       "    <tr>\n",
       "      <th>2000-01-07</th>\n",
       "      <td>5560.0</td>\n",
       "      <td>5670.0</td>\n",
       "      <td>5360.0</td>\n",
       "      <td>5540.0</td>\n",
       "      <td>4093.416260</td>\n",
       "      <td>40305000</td>\n",
       "    </tr>\n",
       "    <tr>\n",
       "      <th>2000-01-10</th>\n",
       "      <td>5600.0</td>\n",
       "      <td>5770.0</td>\n",
       "      <td>5580.0</td>\n",
       "      <td>5770.0</td>\n",
       "      <td>4263.361328</td>\n",
       "      <td>46880000</td>\n",
       "    </tr>\n",
       "  </tbody>\n",
       "</table>\n",
       "</div>"
      ],
      "text/plain": [
       "              Open    High     Low   Close    Adj Close    Volume\n",
       "Date                                                             \n",
       "2000-01-04  6000.0  6110.0  5660.0  6110.0  4514.579590  74195000\n",
       "2000-01-05  5800.0  6060.0  5520.0  5580.0  4122.972656  74680000\n",
       "2000-01-06  5750.0  5780.0  5580.0  5620.0  4152.528320  54390000\n",
       "2000-01-07  5560.0  5670.0  5360.0  5540.0  4093.416260  40305000\n",
       "2000-01-10  5600.0  5770.0  5580.0  5770.0  4263.361328  46880000"
      ]
     },
     "execution_count": 85,
     "metadata": {},
     "output_type": "execute_result"
    }
   ],
   "source": [
    "X_df.head()"
   ]
  },
  {
   "cell_type": "markdown",
   "id": "75437df2-c549-4276-9201-189e3df12fde",
   "metadata": {},
   "source": [
    "### 전처리\n",
    "- feature scaling\n",
    "    - featcher 간의 scaling(단위)을 맞추는 작업\n",
    "- X: Standard scaling (평균 0, 표준편차 1)\n",
    "- y: MinMax scaling (최소: 0, 최대: 1) => X의 scale과 비슷한 값으로 변환"
   ]
  },
  {
   "cell_type": "code",
   "execution_count": 86,
   "id": "2548b70f-0cf7-4f4c-add3-b55c268ba38e",
   "metadata": {
    "tags": []
   },
   "outputs": [
    {
     "name": "stdout",
     "output_type": "stream",
     "text": [
      "<class 'numpy.ndarray'> <class 'numpy.ndarray'>\n"
     ]
    },
    {
     "data": {
      "text/plain": [
       "((5977, 6), (5977, 1))"
      ]
     },
     "execution_count": 86,
     "metadata": {},
     "output_type": "execute_result"
    }
   ],
   "source": [
    "# 객체생성 -> fit() -> transform()\n",
    "X_scaler = StandardScaler()\n",
    "y_scaler = MinMaxScaler()\n",
    "\n",
    "X = X_scaler.fit_transform(X_df)\n",
    "y = y_scaler.fit_transform(y_df)\n",
    "\n",
    "print(type(X), type(y))\n",
    "X.shape, y.shape"
   ]
  },
  {
   "cell_type": "code",
   "execution_count": 87,
   "id": "e4ed12bf-ffcd-4836-be05-3c9a0cf536a1",
   "metadata": {
    "tags": []
   },
   "outputs": [
    {
     "data": {
      "text/plain": [
       "array([[-0.98206102, -0.98155375, -0.99352413, -0.97741812, -0.90419036,  3.48667197],\n",
       "       [-0.99133206, -0.98385335, -1.00006937, -1.0020065 , -0.92277183,  3.51861341],\n",
       "       [-0.99364982, -0.99673113, -0.99726427, -1.00015077, -0.92136944,  2.18234193],\n",
       "       [-1.0024573 , -1.00179026, -1.00754964, -1.00386223, -0.92417426,  1.25472321],\n",
       "       [-1.0006031 , -0.99719105, -0.99726427, -0.9931918 , -0.91611049,  1.68774366]])"
      ]
     },
     "execution_count": 87,
     "metadata": {},
     "output_type": "execute_result"
    }
   ],
   "source": [
    "X[:5]"
   ]
  },
  {
   "cell_type": "markdown",
   "id": "7ae6a470-fc85-43c4-aa31-ffa22f3eb94c",
   "metadata": {},
   "source": [
    "###  Sequential Data  구성\n",
    "- X: 50일치 데이터(ex:1일 ~ 50일), y: 51일째 주가. (ex: 51일)\n",
    "    - 50일의 연속된 주식데이터를 학습하여 51일째 주가를 예측한다.\n",
    "    - X의 한개의 데이터가 50일치 주가데이터가 된다."
   ]
  },
  {
   "cell_type": "markdown",
   "id": "d0f7da27-56d2-464f-b1ce-ae0a26259caf",
   "metadata": {},
   "source": [
    "![img](figures/rnn/20_stock_dataset.png)\n",
    "\n",
    "[연속된 날짜가 5인 경우]"
   ]
  },
  {
   "cell_type": "code",
   "execution_count": 88,
   "id": "5b2ad574-3c4f-4a8e-ac84-c6cb1068d018",
   "metadata": {
    "tags": []
   },
   "outputs": [],
   "source": [
    "timestep = 50  # seq length\n",
    "data_X = []  # X 데이터를 모을 리스트 . X: (50, 6)\n",
    "data_y = []  # y 값을 모을 리스트\n",
    "\n",
    "for i in range(0, y.size - timestep):  # 총개수 - seq_length: 이 이후 반복시에는 남은 데이터가 51개 안되서 데이터 구성이 안됨\n",
    "    # X: 0 ~ 50-1, y: 50 (1씩 증가)\n",
    "    _X = X[i:i+timestep]\n",
    "    _y = y[i:i+timestep]\n",
    "    data_X.append(_X)\n",
    "    data_y.append(_y)"
   ]
  },
  {
   "cell_type": "code",
   "execution_count": 89,
   "id": "d97a74e1-7465-4981-91ec-32c35908ff75",
   "metadata": {
    "tags": []
   },
   "outputs": [
    {
     "data": {
      "text/plain": [
       "((5927, 50, 6), (5927, 50, 1))"
      ]
     },
     "execution_count": 89,
     "metadata": {},
     "output_type": "execute_result"
    }
   ],
   "source": [
    "np.shape(data_X), np.shape(data_y)"
   ]
  },
  {
   "cell_type": "code",
   "execution_count": 90,
   "id": "63dd028b-3367-483f-8f94-563e4bd6fd5f",
   "metadata": {
    "tags": []
   },
   "outputs": [],
   "source": [
    "np.set_printoptions(linewidth=np.inf)  # 한 줄에 N개 원소를 출력"
   ]
  },
  {
   "cell_type": "code",
   "execution_count": 91,
   "id": "61b4f10c-3390-450d-8574-155c3b749ed3",
   "metadata": {
    "tags": []
   },
   "outputs": [
    {
     "data": {
      "text/plain": [
       "array([[-0.98206102, -0.98155375, -0.99352413, -0.97741812, -0.90419036,  3.48667197],\n",
       "       [-0.99133206, -0.98385335, -1.00006937, -1.0020065 , -0.92277183,  3.51861341],\n",
       "       [-0.99364982, -0.99673113, -0.99726427, -1.00015077, -0.92136944,  2.18234193],\n",
       "       [-1.0024573 , -1.00179026, -1.00754964, -1.00386223, -0.92417426,  1.25472321],\n",
       "       [-1.0006031 , -0.99719105, -0.99726427, -0.9931918 , -0.91611049,  1.68774366],\n",
       "       [-0.99040495, -0.98201367, -0.98838145, -0.9931918 , -0.91611049,  2.53501486],\n",
       "       [-1.00013954, -0.99857081, -0.99632923, -0.99551145, -0.9178635 ,  0.52468036],\n",
       "       [-1.0006031 , -0.99857081, -0.9981993 , -0.99597539, -0.91821415,  1.31300809],\n",
       "       [-0.99504047, -0.99213192, -0.9925891 , -0.99040821, -0.91400694,  1.85206093],\n",
       "       [-0.98206102, -0.97833431, -0.9813687 , -0.97788205, -0.90454083,  2.78264328],\n",
       "       [-0.97464419, -0.97925415, -0.9785636 , -0.97788205, -0.90454083,  1.58105269],\n",
       "       [-0.98206102, -0.98477319, -0.97949863, -0.98437709, -0.90944926,  1.24813735],\n",
       "       [-0.98855075, -0.98477319, -0.98604387, -0.98066564, -0.9066445 ,  1.05780592],\n",
       "       [-0.98437878, -0.98753272, -0.98323877, -0.98808855, -0.91225396,  0.7430017 ],\n",
       "       [-0.99133206, -0.99121208, -0.99165407, -0.99643932, -0.91856467,  0.8628644 ],\n",
       "       [-1.00431151, -1.00317002, -1.0038095 , -1.00850154, -0.92768017,  1.51453548],\n",
       "       [-1.00523861, -1.00868907, -1.00521205, -1.00664582, -0.9262778 ,  0.52896117],\n",
       "       [-1.00616572, -1.00408986, -1.00427702, -1.00479009, -0.92487538,  0.43774698],\n",
       "       [-0.99874889, -0.99213192, -0.99913433, -0.99087214, -0.91435758,  1.12366455],\n",
       "       [-0.99874889, -0.99903073, -0.9981993 , -1.0020065 , -0.92277183,  1.21026864],\n",
       "       [-1.0006031 , -1.00133034, -1.0122248 , -1.01406873, -0.93188737,  3.30720722],\n",
       "       [-1.01821807, -1.01558787, -1.01923755, -1.01731625, -0.93434143,  2.82215846],\n",
       "       [-1.01682741, -1.01144859, -1.02578279, -1.02288343, -0.93854859,  8.00259781],\n",
       "       [-1.02239003, -1.02662597, -1.01830252, -1.02288343, -0.93854859, -1.39970863],\n",
       "       [-1.02192648, -1.01742756, -1.02251017, -1.01778018, -0.9346921 ,  2.82446351],\n",
       "       [-1.01265544, -1.01052875, -1.00988722, -1.00896548, -0.92803078,  2.45038653],\n",
       "       [-1.0024573 , -0.99949065, -1.00193944, -0.99551145, -0.9178635 ,  1.96237412],\n",
       "       [-0.99782178, -0.99213192, -0.99632923, -0.99365573, -0.91646115,  2.67331797],\n",
       "       [-0.98391523, -0.98845256, -0.9925891 , -0.99643932, -0.91856467,  0.88295128],\n",
       "       [-1.0006031 , -1.00225018, -1.00848467, -1.01128514, -0.92978374,  1.50729103],\n",
       "       [-1.01080124, -1.01328827, -1.017835  , -1.01963591, -0.93609451,  1.12366455],\n",
       "       [-1.02007227, -1.02340653, -1.0346656 , -1.02891454, -0.94310637,  3.41554466],\n",
       "       [-1.03119752, -1.02800573, -1.02858789, -1.02520309, -0.94030166,  2.89328577],\n",
       "       [-1.01126479, -1.00362994, -1.01689997, -1.01499659, -0.93258844,  5.76241672],\n",
       "       [-1.01914517, -1.020647  , -1.02297769, -1.02566702, -0.94065216,  0.34455703],\n",
       "       [-1.02841621, -1.02156684, -1.02438024, -1.02334736, -0.93889924,  0.1927529 ],\n",
       "       [-1.01821807, -1.020647  , -1.01970507, -1.0224195 , -0.93819803,  0.42589243],\n",
       "       [-1.02285359, -1.02156684, -1.02157514, -1.02566702, -0.94065216,  0.31755499],\n",
       "       [-1.02470779, -1.02570613, -1.02531527, -1.02334736, -0.93889924,  0.43610051],\n",
       "       [-1.02841621, -1.03030533, -1.03373057, -1.03819318, -0.9501183 ,  0.5852703 ],\n",
       "       [-1.03305173, -1.02616605, -1.0318605 , -1.02334736, -0.93889924,  2.01308526],\n",
       "       [-1.02285359, -1.02708589, -1.01877004, -1.02334736, -0.93889924, -1.39970863],\n",
       "       [-0.98762364, -0.99213192, -1.00006937, -0.98808855, -0.91225396,  6.35514434],\n",
       "       [-0.97278998, -0.97511486, -0.98323877, -0.98252136, -0.90804691,  7.88569876],\n",
       "       [-0.98206102, -0.98431327, -0.99632923, -0.99922291, -0.92066826,  1.1786565 ],\n",
       "       [-1.0006031 , -1.00317002, -1.00193944, -1.00015077, -0.92136944,  0.58066019],\n",
       "       [-1.00431151, -0.98661288, -1.0010044 , -0.98623282, -0.91085159,  0.7380623 ],\n",
       "       [-0.98345168, -0.98753272, -0.9953942 , -1.00015077, -0.92136944,  2.28112986],\n",
       "       [-0.99179561, -0.99581129, -1.00006937, -1.00386223, -0.92417426,  0.48417731],\n",
       "       [-1.00616572, -1.01006883, -1.01689997, -1.02056377, -0.93679568,  0.72192694]])"
      ]
     },
     "execution_count": 91,
     "metadata": {},
     "output_type": "execute_result"
    }
   ],
   "source": [
    "data_X[0]"
   ]
  },
  {
   "cell_type": "code",
   "execution_count": 92,
   "id": "762c504c-191c-4f1f-8512-c09389e5d5cd",
   "metadata": {
    "tags": []
   },
   "outputs": [
    {
     "data": {
      "text/plain": [
       "array([[0.03829161],\n",
       "       [0.0322873 ],\n",
       "       [0.03274046],\n",
       "       [0.03183415],\n",
       "       [0.03443979],\n",
       "       [0.03443979],\n",
       "       [0.03387334],\n",
       "       [0.03376005],\n",
       "       [0.03511952],\n",
       "       [0.03817832],\n",
       "       [0.03817832],\n",
       "       [0.03659227],\n",
       "       [0.03749858],\n",
       "       [0.03568596],\n",
       "       [0.03364677],\n",
       "       [0.03070126],\n",
       "       [0.03115441],\n",
       "       [0.03160757],\n",
       "       [0.03500623],\n",
       "       [0.0322873 ],\n",
       "       [0.02934179],\n",
       "       [0.02854877],\n",
       "       [0.02718931],\n",
       "       [0.02718931],\n",
       "       [0.02843548],\n",
       "       [0.03058797],\n",
       "       [0.03387334],\n",
       "       [0.0343265 ],\n",
       "       [0.03364677],\n",
       "       [0.03002152],\n",
       "       [0.02798233],\n",
       "       [0.02571655],\n",
       "       [0.02662286],\n",
       "       [0.02911521],\n",
       "       [0.02650957],\n",
       "       [0.02707602],\n",
       "       [0.02730259],\n",
       "       [0.02650957],\n",
       "       [0.02707602],\n",
       "       [0.02345078],\n",
       "       [0.02707602],\n",
       "       [0.02707602],\n",
       "       [0.03568596],\n",
       "       [0.03704543],\n",
       "       [0.03296703],\n",
       "       [0.03274046],\n",
       "       [0.03613912],\n",
       "       [0.03274046],\n",
       "       [0.03183415],\n",
       "       [0.02775575]])"
      ]
     },
     "execution_count": 92,
     "metadata": {},
     "output_type": "execute_result"
    }
   ],
   "source": [
    "data_y[0]"
   ]
  },
  {
   "cell_type": "markdown",
   "id": "2e862a63-bc02-4137-bee0-f83a5edfe462",
   "metadata": {},
   "source": [
    "### Train / test set 분리"
   ]
  },
  {
   "cell_type": "code",
   "execution_count": 93,
   "id": "07e65d0f-dc9f-41c0-bc20-1499314d5faa",
   "metadata": {
    "tags": []
   },
   "outputs": [
    {
     "data": {
      "text/plain": [
       "((4741, 50, 6), (1186, 50, 6))"
      ]
     },
     "execution_count": 93,
     "metadata": {},
     "output_type": "execute_result"
    }
   ],
   "source": [
    "X_train, X_test, y_train, y_test = train_test_split(data_X, data_y, test_size=0.2)\n",
    "np.shape(X_train), np.shape(X_test)"
   ]
  },
  {
   "cell_type": "markdown",
   "id": "de4fb806-4921-4bed-82ca-6aa1dfb4270a",
   "metadata": {},
   "source": [
    "### Dataset, DataLoader 구성"
   ]
  },
  {
   "cell_type": "code",
   "execution_count": 94,
   "id": "cd3aa019-ff6f-4882-8224-e11db41c802e",
   "metadata": {
    "tags": []
   },
   "outputs": [],
   "source": [
    "# Tensor 변환: \n",
    "## X_train: List -> ndarray -> torch.Tensor\n",
    "X_train_tensor = torch.tensor(np.array(X_train), dtype=torch.float32)\n",
    "X_test_tensor = torch.tensor(np.array(X_test), dtype=torch.float32)\n",
    "y_train_tensor = torch.tensor(np.array(y_train), dtype=torch.float32)\n",
    "y_test_tensor = torch.tensor(np.array(y_test), dtype=torch.float32)"
   ]
  },
  {
   "cell_type": "code",
   "execution_count": 95,
   "id": "ccdb09eb-0860-42a9-b93b-a99a8b1f2f80",
   "metadata": {
    "tags": []
   },
   "outputs": [
    {
     "name": "stdout",
     "output_type": "stream",
     "text": [
      "데이터개수:  4741 1186\n"
     ]
    }
   ],
   "source": [
    "# Dataset 생성 -> raw 데이터: 메모리상의 Tensor ===> TensorDataset\n",
    "trainset = TensorDataset(X_train_tensor, y_train_tensor)\n",
    "testset = TensorDataset(X_test_tensor, y_test_tensor)\n",
    "\n",
    "print('데이터개수: ', len(trainset), len(testset))"
   ]
  },
  {
   "cell_type": "code",
   "execution_count": 96,
   "id": "0db7a1fd-340d-464f-9cb0-d96a65d37b41",
   "metadata": {
    "tags": []
   },
   "outputs": [
    {
     "name": "stdout",
     "output_type": "stream",
     "text": [
      "에폭당 step수: 23 6\n"
     ]
    }
   ],
   "source": [
    "# DataLoader 생성\n",
    "trainloader = DataLoader(trainset, batch_size=200, shuffle=True, drop_last=True)\n",
    "testloader = DataLoader(testset, batch_size=200)\n",
    "\n",
    "print('에폭당 step수:', len(trainloader), len(testloader))"
   ]
  },
  {
   "cell_type": "code",
   "execution_count": 97,
   "id": "9db602e2-cf5b-43e6-bf27-e8ce31bede92",
   "metadata": {
    "tags": []
   },
   "outputs": [],
   "source": [
    "## 1 step input: (seq, batch, feature) -> (50, 200, 6)"
   ]
  },
  {
   "cell_type": "code",
   "execution_count": 98,
   "id": "cf0c32d4-17b7-4cf9-8604-d2c0095668e2",
   "metadata": {
    "tags": []
   },
   "outputs": [
    {
     "data": {
      "text/plain": [
       "(torch.Size([200, 50, 6]), torch.Size([200, 50, 1]))"
      ]
     },
     "execution_count": 98,
     "metadata": {},
     "output_type": "execute_result"
    }
   ],
   "source": [
    "# LSTM Layer 생성 후 추론\n",
    "a, b = next(iter(trainloader))  # 배치 (X, y)\n",
    "a.shape, b.shape"
   ]
  },
  {
   "cell_type": "code",
   "execution_count": 99,
   "id": "f727c1b7-d300-4ad9-be33-af6828fc84f6",
   "metadata": {
    "tags": []
   },
   "outputs": [
    {
     "data": {
      "text/plain": [
       "(torch.Size([50, 200, 10]), torch.Size([1, 200, 10]), torch.Size([1, 200, 10]))"
      ]
     },
     "execution_count": 99,
     "metadata": {},
     "output_type": "execute_result"
    }
   ],
   "source": [
    "lstm = nn.LSTM(input_size=6, hidden_size=10, \n",
    "               # batch_first=True\n",
    "              )  # (batch, seq, feature)\n",
    "a = a.permute(1, 0, 2)\n",
    "o, (h, c) = lstm(a)\n",
    "o.shape, h.shape, c.shape"
   ]
  },
  {
   "cell_type": "markdown",
   "id": "7a3e6cbc-3787-4afd-b670-5ceebef5d207",
   "metadata": {},
   "source": [
    "### 모델 정의"
   ]
  },
  {
   "cell_type": "code",
   "execution_count": 140,
   "id": "6ed4633d-0122-4623-9561-9ab25cf50d27",
   "metadata": {
    "tags": []
   },
   "outputs": [],
   "source": [
    "class StockLSTM(nn.Module):\n",
    "    \n",
    "    def __init__(self, \n",
    "                 input_size:\"feature수\",\n",
    "                 hidden_size:\"hidden(유닛)수\",\n",
    "                 num_layers:\"레이어개수\"=1,\n",
    "                 bidirectional:\"양방향여부\"=False):\n",
    "        super().__init__()\n",
    "        \n",
    "        self.lstm = nn.LSTM(input_size=input_size,\n",
    "                            hidden_size=hidden_size,\n",
    "                            num_layers=num_layers, \n",
    "                            bidirectional=bidirectional)\n",
    "        D = 2 if bidirectional else 1\n",
    "        self.output = nn.Linear(in_features= D*num_layers*hidden_size\n",
    "                                , out_features=1) # 출력\n",
    "    def forward(self, X):\n",
    "        # LSTM(특성을 추출) --hidden state--> Linear -> 예측결과.\n",
    "        # X: (batch, seq, feature) -> (seq, batch, feature)\n",
    "        X = X.permute(1, 0, 2)\n",
    "        out, (hidden_state, cell_state) = self.lstm(X) \n",
    "        # hidden state (seq, batch, hidden)\n",
    "        hidden_state = hidden_state.permute(1, 0, 2)\n",
    "        hidden_state = nn.Flatten()(hidden_state)\n",
    "        pred = self.output(hidden_state) # W@X + b \n",
    "#         nn.Sigmoid()(pred)  # 0 ~ 1 맞춰줌\n",
    "        return pred\n",
    "        "
   ]
  },
  {
   "cell_type": "code",
   "execution_count": 141,
   "id": "b4abbc00-0ccb-43a3-862c-3746cdda8456",
   "metadata": {
    "tags": []
   },
   "outputs": [],
   "source": [
    "model = StockLSTM(input_size=6, hidden_size=50)"
   ]
  },
  {
   "cell_type": "code",
   "execution_count": 142,
   "id": "eeef1bf7-36c4-4744-a941-9f2f79aa3524",
   "metadata": {
    "tags": []
   },
   "outputs": [
    {
     "data": {
      "text/plain": [
       "==========================================================================================\n",
       "Layer (type:depth-idx)                   Output Shape              Param #\n",
       "==========================================================================================\n",
       "StockLSTM                                [200, 1]                  --\n",
       "├─LSTM: 1-1                              [50, 200, 50]             11,600\n",
       "├─Linear: 1-2                            [200, 1]                  51\n",
       "==========================================================================================\n",
       "Total params: 11,651\n",
       "Trainable params: 11,651\n",
       "Non-trainable params: 0\n",
       "Total mult-adds (M): 116.01\n",
       "==========================================================================================\n",
       "Input size (MB): 0.24\n",
       "Forward/backward pass size (MB): 4.00\n",
       "Params size (MB): 0.05\n",
       "Estimated Total Size (MB): 4.29\n",
       "=========================================================================================="
      ]
     },
     "execution_count": 142,
     "metadata": {},
     "output_type": "execute_result"
    }
   ],
   "source": [
    "torchinfo.summary(model, (200, 50, 6))"
   ]
  },
  {
   "cell_type": "markdown",
   "id": "0d160366-9d68-4adc-89cd-841bbb84ce2f",
   "metadata": {},
   "source": [
    "### train"
   ]
  },
  {
   "cell_type": "code",
   "execution_count": 147,
   "id": "81171fb9-ad92-4108-b90c-0e3904cca819",
   "metadata": {
    "tags": []
   },
   "outputs": [],
   "source": [
    "# 하이퍼파라미터\n",
    "N_EPOCH = 1000\n",
    "LR = 0.0001\n",
    "\n",
    "INPUT_SIZE = 6\n",
    "HIDDEN_SIZE = 30\n",
    "NUM_LAYERS = 1\n",
    "BIDIRECTIONAL = False"
   ]
  },
  {
   "cell_type": "code",
   "execution_count": 148,
   "id": "4a654d92-f550-4b1b-bf39-9047f8ea4314",
   "metadata": {
    "tags": []
   },
   "outputs": [],
   "source": [
    "model = StockLSTM(INPUT_SIZE, HIDDEN_SIZE,\n",
    "                  NUM_LAYERS, BIDIRECTIONAL)\n",
    "model = model.to(device)\n",
    "\n",
    "# loss fn = 회귀: MSE\n",
    "loss_fn = nn.MSELoss()\n",
    "optimizer = torch.optim.Adam(model.parameters(), lr=LR)"
   ]
  },
  {
   "cell_type": "code",
   "execution_count": 149,
   "id": "b5a3203b-0075-4b80-9d9f-a6b89d12b14e",
   "metadata": {
    "tags": []
   },
   "outputs": [
    {
     "name": "stderr",
     "output_type": "stream",
     "text": [
      "/Users/hongdagyeong/opt/anaconda3/envs/torch/lib/python3.10/site-packages/torch/nn/modules/loss.py:535: UserWarning: Using a target size (torch.Size([200, 50, 1])) that is different to the input size (torch.Size([200, 1])). This will likely lead to incorrect results due to broadcasting. Please ensure they have the same size.\n",
      "  return F.mse_loss(input, target, reduction=self.reduction)\n"
     ]
    },
    {
     "ename": "RuntimeError",
     "evalue": "The size of tensor a (200) must match the size of tensor b (50) at non-singleton dimension 1",
     "output_type": "error",
     "traceback": [
      "\u001b[0;31m---------------------------------------------------------------------------\u001b[0m",
      "\u001b[0;31mRuntimeError\u001b[0m                              Traceback (most recent call last)",
      "Cell \u001b[0;32mIn[149], line 13\u001b[0m\n\u001b[1;32m     11\u001b[0m pred \u001b[38;5;241m=\u001b[39m model(X)\n\u001b[1;32m     12\u001b[0m \u001b[38;5;66;03m# 3. Loss 계산\u001b[39;00m\n\u001b[0;32m---> 13\u001b[0m loss \u001b[38;5;241m=\u001b[39m \u001b[43mloss_fn\u001b[49m\u001b[43m(\u001b[49m\u001b[43mpred\u001b[49m\u001b[43m,\u001b[49m\u001b[43m \u001b[49m\u001b[43my\u001b[49m\u001b[43m)\u001b[49m\n\u001b[1;32m     14\u001b[0m \u001b[38;5;66;03m# 4. grad 계산\u001b[39;00m\n\u001b[1;32m     15\u001b[0m loss\u001b[38;5;241m.\u001b[39mbackward()\n",
      "File \u001b[0;32m~/opt/anaconda3/envs/torch/lib/python3.10/site-packages/torch/nn/modules/module.py:1518\u001b[0m, in \u001b[0;36mModule._wrapped_call_impl\u001b[0;34m(self, *args, **kwargs)\u001b[0m\n\u001b[1;32m   1516\u001b[0m     \u001b[38;5;28;01mreturn\u001b[39;00m \u001b[38;5;28mself\u001b[39m\u001b[38;5;241m.\u001b[39m_compiled_call_impl(\u001b[38;5;241m*\u001b[39margs, \u001b[38;5;241m*\u001b[39m\u001b[38;5;241m*\u001b[39mkwargs)  \u001b[38;5;66;03m# type: ignore[misc]\u001b[39;00m\n\u001b[1;32m   1517\u001b[0m \u001b[38;5;28;01melse\u001b[39;00m:\n\u001b[0;32m-> 1518\u001b[0m     \u001b[38;5;28;01mreturn\u001b[39;00m \u001b[38;5;28;43mself\u001b[39;49m\u001b[38;5;241;43m.\u001b[39;49m\u001b[43m_call_impl\u001b[49m\u001b[43m(\u001b[49m\u001b[38;5;241;43m*\u001b[39;49m\u001b[43margs\u001b[49m\u001b[43m,\u001b[49m\u001b[43m \u001b[49m\u001b[38;5;241;43m*\u001b[39;49m\u001b[38;5;241;43m*\u001b[39;49m\u001b[43mkwargs\u001b[49m\u001b[43m)\u001b[49m\n",
      "File \u001b[0;32m~/opt/anaconda3/envs/torch/lib/python3.10/site-packages/torch/nn/modules/module.py:1527\u001b[0m, in \u001b[0;36mModule._call_impl\u001b[0;34m(self, *args, **kwargs)\u001b[0m\n\u001b[1;32m   1522\u001b[0m \u001b[38;5;66;03m# If we don't have any hooks, we want to skip the rest of the logic in\u001b[39;00m\n\u001b[1;32m   1523\u001b[0m \u001b[38;5;66;03m# this function, and just call forward.\u001b[39;00m\n\u001b[1;32m   1524\u001b[0m \u001b[38;5;28;01mif\u001b[39;00m \u001b[38;5;129;01mnot\u001b[39;00m (\u001b[38;5;28mself\u001b[39m\u001b[38;5;241m.\u001b[39m_backward_hooks \u001b[38;5;129;01mor\u001b[39;00m \u001b[38;5;28mself\u001b[39m\u001b[38;5;241m.\u001b[39m_backward_pre_hooks \u001b[38;5;129;01mor\u001b[39;00m \u001b[38;5;28mself\u001b[39m\u001b[38;5;241m.\u001b[39m_forward_hooks \u001b[38;5;129;01mor\u001b[39;00m \u001b[38;5;28mself\u001b[39m\u001b[38;5;241m.\u001b[39m_forward_pre_hooks\n\u001b[1;32m   1525\u001b[0m         \u001b[38;5;129;01mor\u001b[39;00m _global_backward_pre_hooks \u001b[38;5;129;01mor\u001b[39;00m _global_backward_hooks\n\u001b[1;32m   1526\u001b[0m         \u001b[38;5;129;01mor\u001b[39;00m _global_forward_hooks \u001b[38;5;129;01mor\u001b[39;00m _global_forward_pre_hooks):\n\u001b[0;32m-> 1527\u001b[0m     \u001b[38;5;28;01mreturn\u001b[39;00m \u001b[43mforward_call\u001b[49m\u001b[43m(\u001b[49m\u001b[38;5;241;43m*\u001b[39;49m\u001b[43margs\u001b[49m\u001b[43m,\u001b[49m\u001b[43m \u001b[49m\u001b[38;5;241;43m*\u001b[39;49m\u001b[38;5;241;43m*\u001b[39;49m\u001b[43mkwargs\u001b[49m\u001b[43m)\u001b[49m\n\u001b[1;32m   1529\u001b[0m \u001b[38;5;28;01mtry\u001b[39;00m:\n\u001b[1;32m   1530\u001b[0m     result \u001b[38;5;241m=\u001b[39m \u001b[38;5;28;01mNone\u001b[39;00m\n",
      "File \u001b[0;32m~/opt/anaconda3/envs/torch/lib/python3.10/site-packages/torch/nn/modules/loss.py:535\u001b[0m, in \u001b[0;36mMSELoss.forward\u001b[0;34m(self, input, target)\u001b[0m\n\u001b[1;32m    534\u001b[0m \u001b[38;5;28;01mdef\u001b[39;00m \u001b[38;5;21mforward\u001b[39m(\u001b[38;5;28mself\u001b[39m, \u001b[38;5;28minput\u001b[39m: Tensor, target: Tensor) \u001b[38;5;241m-\u001b[39m\u001b[38;5;241m>\u001b[39m Tensor:\n\u001b[0;32m--> 535\u001b[0m     \u001b[38;5;28;01mreturn\u001b[39;00m \u001b[43mF\u001b[49m\u001b[38;5;241;43m.\u001b[39;49m\u001b[43mmse_loss\u001b[49m\u001b[43m(\u001b[49m\u001b[38;5;28;43minput\u001b[39;49m\u001b[43m,\u001b[49m\u001b[43m \u001b[49m\u001b[43mtarget\u001b[49m\u001b[43m,\u001b[49m\u001b[43m \u001b[49m\u001b[43mreduction\u001b[49m\u001b[38;5;241;43m=\u001b[39;49m\u001b[38;5;28;43mself\u001b[39;49m\u001b[38;5;241;43m.\u001b[39;49m\u001b[43mreduction\u001b[49m\u001b[43m)\u001b[49m\n",
      "File \u001b[0;32m~/opt/anaconda3/envs/torch/lib/python3.10/site-packages/torch/nn/functional.py:3328\u001b[0m, in \u001b[0;36mmse_loss\u001b[0;34m(input, target, size_average, reduce, reduction)\u001b[0m\n\u001b[1;32m   3325\u001b[0m \u001b[38;5;28;01mif\u001b[39;00m size_average \u001b[38;5;129;01mis\u001b[39;00m \u001b[38;5;129;01mnot\u001b[39;00m \u001b[38;5;28;01mNone\u001b[39;00m \u001b[38;5;129;01mor\u001b[39;00m reduce \u001b[38;5;129;01mis\u001b[39;00m \u001b[38;5;129;01mnot\u001b[39;00m \u001b[38;5;28;01mNone\u001b[39;00m:\n\u001b[1;32m   3326\u001b[0m     reduction \u001b[38;5;241m=\u001b[39m _Reduction\u001b[38;5;241m.\u001b[39mlegacy_get_string(size_average, reduce)\n\u001b[0;32m-> 3328\u001b[0m expanded_input, expanded_target \u001b[38;5;241m=\u001b[39m \u001b[43mtorch\u001b[49m\u001b[38;5;241;43m.\u001b[39;49m\u001b[43mbroadcast_tensors\u001b[49m\u001b[43m(\u001b[49m\u001b[38;5;28;43minput\u001b[39;49m\u001b[43m,\u001b[49m\u001b[43m \u001b[49m\u001b[43mtarget\u001b[49m\u001b[43m)\u001b[49m\n\u001b[1;32m   3329\u001b[0m \u001b[38;5;28;01mreturn\u001b[39;00m torch\u001b[38;5;241m.\u001b[39m_C\u001b[38;5;241m.\u001b[39m_nn\u001b[38;5;241m.\u001b[39mmse_loss(expanded_input, expanded_target, _Reduction\u001b[38;5;241m.\u001b[39mget_enum(reduction))\n",
      "File \u001b[0;32m~/opt/anaconda3/envs/torch/lib/python3.10/site-packages/torch/functional.py:73\u001b[0m, in \u001b[0;36mbroadcast_tensors\u001b[0;34m(*tensors)\u001b[0m\n\u001b[1;32m     71\u001b[0m \u001b[38;5;28;01mif\u001b[39;00m has_torch_function(tensors):\n\u001b[1;32m     72\u001b[0m     \u001b[38;5;28;01mreturn\u001b[39;00m handle_torch_function(broadcast_tensors, tensors, \u001b[38;5;241m*\u001b[39mtensors)\n\u001b[0;32m---> 73\u001b[0m \u001b[38;5;28;01mreturn\u001b[39;00m \u001b[43m_VF\u001b[49m\u001b[38;5;241;43m.\u001b[39;49m\u001b[43mbroadcast_tensors\u001b[49m\u001b[43m(\u001b[49m\u001b[43mtensors\u001b[49m\u001b[43m)\u001b[49m\n",
      "\u001b[0;31mRuntimeError\u001b[0m: The size of tensor a (200) must match the size of tensor b (50) at non-singleton dimension 1"
     ]
    }
   ],
   "source": [
    "train_loss_list = []\n",
    "valid_loss_list = []\n",
    "for epoch in range(N_EPOCH):\n",
    "    \n",
    "    model.train()\n",
    "    train_loss = 0.0\n",
    "    for X, y in trainloader:\n",
    "        # 1. device로 이동\n",
    "        X, y = X.to(device), y.to(device)\n",
    "        # 2. 추정\n",
    "        pred = model(X)\n",
    "        # 3. Loss 계산\n",
    "        loss = loss_fn(pred, y)\n",
    "        # 4. grad 계산\n",
    "        loss.backward()\n",
    "        # 5. layer의 파라미터들 update\n",
    "        optimizer.step()\n",
    "        # 6. gradient 초기화\n",
    "        optimizer.zero_grad()\n",
    "        train_loss += loss.item()\n",
    "    train_loss /= len(trainloader) # train_loss 평균 계산 \n",
    "    train_loss_list.append(train_loss)\n",
    "    \n",
    "    ## 검증\n",
    "    model.eval()\n",
    "    valid_loss = 0.0\n",
    "    for X_valid, y_valid in testloader:\n",
    "        # 1. device 이동\n",
    "        X_valid, y_valid = X_valid.to(device), y_valid.to(device)\n",
    "        with torch.no_grad():\n",
    "            # 2. 추정\n",
    "            pred_valid = model(X_valid)\n",
    "            # 3. loss 계산\n",
    "            valid_loss += loss_fn(pred_valid, y_valid).item()\n",
    "    valid_loss /= len(testloader) # valid_loss의 평균\n",
    "    valid_loss_list.append(valid_loss)\n",
    "    if epoch % 100 == 0 or epoch == (N_EPOCH-1):\n",
    "        print(f\"[{epoch+1}/{N_EPOCH}] train loss:\\\n",
    "              {train_loss} valid loss: {valid_loss}\")"
   ]
  },
  {
   "cell_type": "code",
   "execution_count": 146,
   "id": "7f0b93ff-6642-42a3-849f-0f2bd2c1b9bb",
   "metadata": {
    "tags": []
   },
   "outputs": [
    {
     "data": {
      "text/plain": [
       "array([[2733.142412]])"
      ]
     },
     "execution_count": 146,
     "metadata": {},
     "output_type": "execute_result"
    }
   ],
   "source": [
    "y_scaler.inverse_transform([[0.0000356]])"
   ]
  },
  {
   "cell_type": "code",
   "execution_count": 132,
   "id": "cc6e7697-e9d1-4dbc-9b19-5ff195ba1959",
   "metadata": {
    "tags": []
   },
   "outputs": [
    {
     "data": {
      "text/plain": [
       "torch.Size([1, 50, 6])"
      ]
     },
     "execution_count": 132,
     "metadata": {},
     "output_type": "execute_result"
    }
   ],
   "source": [
    "new_X = torch.tensor(np.expand_dims(data_X[-1], axis=0), dtype=torch.float32)\n",
    "new_X.shape"
   ]
  },
  {
   "cell_type": "code",
   "execution_count": 133,
   "id": "a5004317-b67a-4f88-a46d-05d78c45095f",
   "metadata": {
    "tags": []
   },
   "outputs": [],
   "source": [
    "pred_new = model(new_X.to(device))"
   ]
  },
  {
   "cell_type": "code",
   "execution_count": 134,
   "id": "dc9e6bb2-8968-462c-bf6b-85400c9f9375",
   "metadata": {
    "tags": []
   },
   "outputs": [
    {
     "data": {
      "text/plain": [
       "tensor([[-0.1951]], grad_fn=<AddmmBackward0>)"
      ]
     },
     "execution_count": 134,
     "metadata": {},
     "output_type": "execute_result"
    }
   ],
   "source": [
    "pred_new"
   ]
  },
  {
   "cell_type": "code",
   "execution_count": 135,
   "id": "f25285ed-a4b1-4bd9-a952-c5644dea6189",
   "metadata": {
    "tags": []
   },
   "outputs": [
    {
     "data": {
      "text/plain": [
       "array([[-14495.803]], dtype=float32)"
      ]
     },
     "execution_count": 135,
     "metadata": {},
     "output_type": "execute_result"
    }
   ],
   "source": [
    "y_scaler.inverse_transform(pred_new.detach().numpy())"
   ]
  },
  {
   "cell_type": "code",
   "execution_count": null,
   "id": "7f673558-b140-4ef1-b3c9-4f66bb3d56e3",
   "metadata": {},
   "outputs": [],
   "source": []
  }
 ],
 "metadata": {
  "kernelspec": {
   "display_name": "Python 3 (ipykernel)",
   "language": "python",
   "name": "python3"
  },
  "language_info": {
   "codemirror_mode": {
    "name": "ipython",
    "version": 3
   },
   "file_extension": ".py",
   "mimetype": "text/x-python",
   "name": "python",
   "nbconvert_exporter": "python",
   "pygments_lexer": "ipython3",
   "version": "3.10.13"
  }
 },
 "nbformat": 4,
 "nbformat_minor": 5
}
