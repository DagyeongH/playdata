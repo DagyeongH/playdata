{
 "cells": [
  {
   "cell_type": "markdown",
   "metadata": {},
   "source": [
    "# 성능개선 기법 실습"
   ]
  },
  {
   "cell_type": "markdown",
   "metadata": {},
   "source": [
    "# 모듈 정의"
   ]
  },
  {
   "cell_type": "markdown",
   "metadata": {},
   "source": [
    "## train.py\n",
    "- 모델 학습과 검증 함수 정의"
   ]
  },
  {
   "cell_type": "code",
   "execution_count": 5,
   "metadata": {
    "tags": []
   },
   "outputs": [],
   "source": [
    "import os\n",
    "# os.chdir('/Users/hongdagyeong/Documents/Pd')\n",
    "os.makedirs('08_module', exist_ok=True)"
   ]
  },
  {
   "cell_type": "code",
   "execution_count": 6,
   "metadata": {
    "code_folding": [],
    "tags": []
   },
   "outputs": [
    {
     "name": "stdout",
     "output_type": "stream",
     "text": [
      "Writing 08_module/train.py\n"
     ]
    }
   ],
   "source": [
    "%%writefile module/train.py\n",
    "\n",
    "import torch\n",
    "import time\n",
    "\n",
    "# multi와 binary 정확도 계산이 다르다.\n",
    "\n",
    "def test_multi_classification(dataloader, model, loss_fn, device=\"cpu\") -> tuple:\n",
    "    \"\"\"\n",
    "    다중 분류 검증/평가 함수\n",
    "    \n",
    "    [parameter]\n",
    "        dataloader: DataLoader - 검증할 대상 데이터로더\n",
    "        model: 검증할 모델\n",
    "        loss_fn: 모델 추정값과 정답의 차이를 계산할 loss 함수.\n",
    "        device: str - 연산을 처리할 장치. default-\"cpu\", gpu-\"mps\"\n",
    "    [return]\n",
    "        tuple: (loss, accuracy)\n",
    "    \"\"\"\n",
    "    model.eval() # 모델을 평가모드로 변환\n",
    "    size = len(dataloader.dataset) # 전체 데이터수\n",
    "    num_batches = len(dataloader)  #  step 수\n",
    "    \n",
    "    test_loss, test_accuracy = 0., 0.\n",
    "    \n",
    "    with torch.no_grad():\n",
    "        for X, y in dataloader:\n",
    "            X, y = X.to(device), y.to(device)\n",
    "            pred = model(X)\n",
    "            test_loss += loss_fn(pred, y).item()\n",
    "            # 정확도 계산\n",
    "            pred_label = torch.argmax(pred, axis=-1)\n",
    "            test_accuracy += torch.sum(pred_label == y).item()\n",
    "            \n",
    "        test_loss /= num_batches\n",
    "        test_accuracy /= size  #전체 개수로 나눈다.\n",
    "    return test_loss, test_accuracy\n",
    "\n",
    "def test_binary_classification(dataloader, model, loss_fn, device=\"cpu\") -> tuple:\n",
    "    \"\"\"\n",
    "    이진 분류 검증/평가 함수\n",
    "    \n",
    "    [parameter]\n",
    "        dataloader: DataLoader - 검증할 대상 데이터로더\n",
    "        model: 검증할 모델\n",
    "        loss_fn: 모델 추정값과 정답의 차이를 계산할 loss 함수.\n",
    "        device: str - 연산을 처리할 장치. default-\"cpu\", gpu-\"mps\"\n",
    "    [return]\n",
    "        tuple: (loss, accuracy)\n",
    "    \"\"\"\n",
    "    model.eval() # 모델을 평가모드로 변환\n",
    "    size = len(dataloader.dataset)\n",
    "    num_batches = len(dataloader)\n",
    "    \n",
    "    test_loss, test_accuracy = 0., 0.\n",
    "    \n",
    "    with torch.no_grad():\n",
    "        for X, y in dataloader:\n",
    "            X, y = X.to(device), y.to(device)\n",
    "            pred = model(X)\n",
    "            test_loss += loss_fn(pred, y).item()\n",
    "            ## 정확도 계산\n",
    "            pred_label = (pred >= 0.5).type(torch.int32)\n",
    "            test_accuracy += (pred_label == y).sum().item() \n",
    "            \n",
    "        test_loss /= num_batches\n",
    "        test_accuracy /= size   #전체 개수로 나눈다.\n",
    "    return test_loss, test_accuracy    \n",
    "\n",
    "def train(dataloader, model, loss_fn, optimizer, device=\"cpu\", mode:\"binary or multi\"='binary'):\n",
    "    \"\"\"\n",
    "    모델을 1 epoch 학습시키는 함수\n",
    "\n",
    "    [parameter]\n",
    "        dataloader: DataLoader - 학습데이터셋을 제공하는 DataLoader\n",
    "        model - 학습대상 모델\n",
    "        loss_fn: 모델 추정값과 정답의 차이를 계산할 loss 함수.\n",
    "        optimizer - 최적화 함수\n",
    "        device: str - 연산을 처리할 장치. default-\"cpu\", gpu-\"cuda\"\n",
    "        mode: str - 분류 종류. binary 또는 multi\n",
    "    [return]\n",
    "        tuple: 학습후 계산한 Train set에 대한  train_loss, train_accuracy\n",
    "    \"\"\"\n",
    "    model.train()\n",
    "    size = len(dataloader.dataset) #총 데이터수\n",
    "\n",
    "    for batch, (X, y) in enumerate(dataloader):\n",
    "        X, y = X.to(device), y.to(device)\n",
    "        pred = model(X)\n",
    "\n",
    "        loss = loss_fn(pred, y)\n",
    "\n",
    "        optimizer.zero_grad()\n",
    "        loss.backward()\n",
    "        optimizer.step()\n",
    "        \n",
    "    if mode == 'binary':\n",
    "        train_loss, train_accuracy = test_binary_classification(dataloader, model, loss_fn, device)\n",
    "    else:\n",
    "        train_loss, train_accuracy = test_multi_classification(dataloader, model, loss_fn, device)\n",
    "    return train_loss, train_accuracy\n",
    "\n",
    "\n",
    "\n",
    "def fit(train_loader, val_loader, model, loss_fn, optimizer, epochs, save_best_model=True, save_model_path=None, early_stopping=True, patience=10, device='cpu',  mode:\"binary or multi\"='binary'):\n",
    "    \"\"\"\n",
    "    모델을 학습시키는 함수\n",
    "\n",
    "    [parameter]\n",
    "        train_loader (Dataloader): Train dataloader\n",
    "        test_loader (Dataloader): validation dataloader\n",
    "        model (Module): 학습시킬 모델\n",
    "        loss_fn (_Loss): Loss function\n",
    "        optimizer (Optimizer): Optimizer\n",
    "        epochs (int): epoch수\n",
    "        save_best_model (bool, optional): 학습도중 성능개선시 모델 저장 여부. Defaults to True.\n",
    "        save_model_path (str, optional): save_best_model=True일 때 모델저장할 파일 경로. Defaults to None.\n",
    "        early_stopping (bool, optional): 조기 종료 여부. Defaults to True.\n",
    "        patience (int, optional): 조기종료 True일 때 종료전에 성능이 개선될지 몇 epoch까지 기다릴지 epoch수. Defaults to 10.\n",
    "        device (str, optional): device. Defaults to 'cpu'.\n",
    "        mode(str, optinal): 분류 종류. \"binary(default) or multi\n",
    "    [return]\n",
    "        tuple: 에폭 별 성능 리스트. (train_loss_list, train_accuracy_list, validation_loss_list, validataion_accuracy_list)\n",
    "    \"\"\"\n",
    "\n",
    "    train_loss_list = []\n",
    "    train_accuracy_list = []\n",
    "    val_loss_list = []\n",
    "    val_accuracy_list = []\n",
    "    \n",
    "        \n",
    "    if save_best_model:\n",
    "        best_score_save = torch.inf\n",
    "\n",
    "    ############################\n",
    "    # early stopping\n",
    "    #############################\n",
    "    if early_stopping:\n",
    "        trigger_count = 0\n",
    "        best_score_es = torch.inf\n",
    "    \n",
    "    # 모델 device로 옮기기\n",
    "    model = model.to(device)\n",
    "    s = time.time()\n",
    "    for epoch in range(epochs):\n",
    "        train_loss, train_accuracy = train(train_loader, model, loss_fn, optimizer, device=device, mode=mode)\n",
    "        \n",
    "        if mode == \"binary\":\n",
    "            val_loss, val_accuracy = test_binary_classification(val_loader, model, loss_fn, device=device)\n",
    "        else:\n",
    "            val_loss, val_accuracy = test_multi_classification(val_loader, model, loss_fn, device=device)\n",
    "\n",
    "        train_loss_list.append(train_loss)\n",
    "        train_accuracy_list.append(train_accuracy)\n",
    "        val_loss_list.append(val_loss)\n",
    "        val_accuracy_list.append(val_accuracy)\n",
    "        \n",
    "        print(f\"Epoch[{epoch+1}/{epochs}] - Train loss: {train_loss:.5f} Train Accucracy: {train_accuracy:.5f} || Validation Loss: {val_loss:.5f} Validation Accuracy: {val_accuracy:.5f}\")\n",
    "        print('='*100)\n",
    "        \n",
    "        # 모델 저장\n",
    "        if save_best_model:\n",
    "            if val_loss < best_score_save:\n",
    "                torch.save(model, save_model_path)\n",
    "                print(f\"저장: {epoch+1} - 이전 : {best_score_save}, 현재: {val_loss}\")\n",
    "                best_score_save = val_loss\n",
    "        \n",
    "        # early stopping 처리            \n",
    "        if early_stopping:\n",
    "            if val_loss < best_score_es: \n",
    "                best_score_es = val_loss  \n",
    "                trigger_count = 0\n",
    "                                \n",
    "            else:\n",
    "                trigger_count += 1                \n",
    "                if patience == trigger_count:\n",
    "                    print(f\"Early stopping: Epoch - {epoch}\")\n",
    "                    break\n",
    "            \n",
    "    e = time.time()\n",
    "    print(e-s, \"초\")\n",
    "    return train_loss_list, train_accuracy_list, val_loss_list, val_accuracy_list"
   ]
  },
  {
   "cell_type": "markdown",
   "metadata": {},
   "source": [
    "## data.py\n",
    "- dataset 생성 함수 제공 모듈"
   ]
  },
  {
   "cell_type": "code",
   "execution_count": 7,
   "metadata": {
    "tags": []
   },
   "outputs": [
    {
     "name": "stdout",
     "output_type": "stream",
     "text": [
      "Writing 08_module/data.py\n"
     ]
    }
   ],
   "source": [
    "%%writefile module/data.py\n",
    "from torchvision import datasets, transforms\n",
    "from torch.utils.data import DataLoader\n",
    "\n",
    "def load_mnist_dataset(root_path, batch_size, is_train=True):\n",
    "    \"\"\"\n",
    "    mnist dataset dataloader 제공 함수\n",
    "    [parameter]\n",
    "        root_path: str|Path - 데이터파일 저장 디렉토리\n",
    "        batch_size: int\n",
    "        is_train: bool = True - True: Train dataset, False - Test dataset\n",
    "    [return]\n",
    "        DataLoader \n",
    "    \"\"\"\n",
    "    transform = transforms.Compose([\n",
    "        transforms.ToTensor()\n",
    "    ])\n",
    "    dataset = datasets.MNIST(root=root_path, train=is_train, download=True, transform=transform)\n",
    "    dataloader = DataLoader(dataset, batch_size=batch_size, shuffle=is_train)  # shuffle: train이면 True, test면 False 할 것이므로 is_train을 넣음.\n",
    "    \n",
    "    return dataloader\n",
    "\n",
    "def load_fashion_mnist_dataset(root_path, batch_size, is_train=True):\n",
    "    \"\"\"\n",
    "    fashion mnist dataset dataloader 제공 함수\n",
    "    [parameter]\n",
    "        root_path: str|Path - 데이터파일 저장 디렉토리\n",
    "        batch_size: int\n",
    "        is_train: bool = True - True: Train dataset, False - Test dataset\n",
    "    [return]\n",
    "        DataLoader\n",
    "    \"\"\"\n",
    "    transform = transforms.Compose([\n",
    "        transforms.ToTensor()\n",
    "    ])\n",
    "    dataset = datasets.FashionMNIST(root=root_path, train=is_train, download=True, transform=transform)\n",
    "    dataloader = DataLoader(dataset, batch_size=batch_size, shuffle=is_train)  # shuffle: train이면 True, test면 False 할 것이므로 is_train을 넣음.\n",
    "    \n",
    "    return dataloader"
   ]
  },
  {
   "cell_type": "markdown",
   "metadata": {},
   "source": [
    "### import"
   ]
  },
  {
   "cell_type": "code",
   "execution_count": 10,
   "metadata": {
    "tags": []
   },
   "outputs": [
    {
     "data": {
      "text/plain": [
       "'mps'"
      ]
     },
     "execution_count": 10,
     "metadata": {},
     "output_type": "execute_result"
    }
   ],
   "source": [
    "import torch\n",
    "import torch.nn as nn\n",
    "\n",
    "import torchinfo\n",
    "\n",
    "from module import train, data\n",
    "\n",
    "import os \n",
    "import matplotlib.pyplot as plt\n",
    "\n",
    "device = 'mps' if torch.backends.mps.is_available() else 'cpu'\n",
    "device"
   ]
  },
  {
   "cell_type": "markdown",
   "metadata": {},
   "source": [
    "## 하이퍼파라미터, 변수 정의"
   ]
  },
  {
   "cell_type": "code",
   "execution_count": 11,
   "metadata": {
    "tags": []
   },
   "outputs": [],
   "source": [
    "LR = 0.001\n",
    "N_EPOCH = 10\n",
    "BATCH_SIZE = 200\n",
    "\n",
    "# DATASET, MODEL 저장할 ROOT 디렉토리 경로\n",
    "DATASET_ROOT_PATH = '08_datasets'\n",
    "MODEL_SAVE_ROOT_PATH = '08_models'"
   ]
  },
  {
   "cell_type": "markdown",
   "metadata": {},
   "source": [
    "# Data 준비\n",
    "\n",
    "## mnist 데이터 로딩"
   ]
  },
  {
   "cell_type": "code",
   "execution_count": 13,
   "metadata": {
    "tags": []
   },
   "outputs": [],
   "source": [
    "train_loader = data.load_mnist_dataset(DATASET_ROOT_PATH, BATCH_SIZE, True)\n",
    "test_loader = data.load_mnist_dataset(DATASET_ROOT_PATH, BATCH_SIZE, False)"
   ]
  },
  {
   "cell_type": "markdown",
   "metadata": {},
   "source": [
    "# 모델의 크기 변경에 따른 성능변화"
   ]
  },
  {
   "cell_type": "code",
   "execution_count": 16,
   "metadata": {
    "tags": []
   },
   "outputs": [],
   "source": [
    "class SmallSizeModel(nn.Module):\n",
    "    \n",
    "    def __init__(self):\n",
    "        super().__init__()\n",
    "        self.output = nn.Linear(784, 10)  # in: feature 수 - (28*28), out: class 개수 - (10)\n",
    "        \n",
    "        \n",
    "    def forward(self, X):\n",
    "        out = nn.Flatten()(X)\n",
    "        out = self.output(out)\n",
    "        return out    "
   ]
  },
  {
   "cell_type": "code",
   "execution_count": 18,
   "metadata": {
    "tags": []
   },
   "outputs": [
    {
     "data": {
      "text/plain": [
       "==========================================================================================\n",
       "Layer (type:depth-idx)                   Output Shape              Param #\n",
       "==========================================================================================\n",
       "SmallSizeModel                           [200, 10]                 --\n",
       "├─Linear: 1-1                            [200, 10]                 7,850\n",
       "==========================================================================================\n",
       "Total params: 7,850\n",
       "Trainable params: 7,850\n",
       "Non-trainable params: 0\n",
       "Total mult-adds (M): 1.57\n",
       "==========================================================================================\n",
       "Input size (MB): 0.63\n",
       "Forward/backward pass size (MB): 0.02\n",
       "Params size (MB): 0.03\n",
       "Estimated Total Size (MB): 0.67\n",
       "=========================================================================================="
      ]
     },
     "execution_count": 18,
     "metadata": {},
     "output_type": "execute_result"
    }
   ],
   "source": [
    "# 모델 생성\n",
    "small_model = SmallSizeModel()\n",
    "torchinfo.summary(small_model, (BATCH_SIZE, 1, 28, 28))"
   ]
  },
  {
   "cell_type": "code",
   "execution_count": 21,
   "metadata": {
    "tags": []
   },
   "outputs": [],
   "source": [
    "# loss\n",
    "loss_fn = nn.CrossEntropyLoss()\n",
    "# optimizer \n",
    "optimizer = torch.optim.Adam(small_model.parameters(), lr=LR)"
   ]
  },
  {
   "cell_type": "code",
   "execution_count": 22,
   "metadata": {
    "tags": []
   },
   "outputs": [
    {
     "name": "stdout",
     "output_type": "stream",
     "text": [
      "Epoch[1/10] - Train loss: 0.45090 Train Accucracy: 0.88703 || Validation Loss: 0.43233 Validation Accuracy: 0.89270\n",
      "====================================================================================================\n",
      "저장: 1 - 이전 : inf, 현재: 0.4323274044692516\n",
      "Epoch[2/10] - Train loss: 0.35859 Train Accucracy: 0.90545 || Validation Loss: 0.34490 Validation Accuracy: 0.91010\n",
      "====================================================================================================\n",
      "저장: 2 - 이전 : 0.4323274044692516, 현재: 0.34489686325192453\n",
      "Epoch[3/10] - Train loss: 0.32440 Train Accucracy: 0.91168 || Validation Loss: 0.31490 Validation Accuracy: 0.91500\n",
      "====================================================================================================\n",
      "저장: 3 - 이전 : 0.34489686325192453, 현재: 0.31490348652005196\n",
      "Epoch[4/10] - Train loss: 0.30446 Train Accucracy: 0.91690 || Validation Loss: 0.29667 Validation Accuracy: 0.91740\n",
      "====================================================================================================\n",
      "저장: 4 - 이전 : 0.31490348652005196, 현재: 0.2966679636389017\n",
      "Epoch[5/10] - Train loss: 0.29310 Train Accucracy: 0.92030 || Validation Loss: 0.28840 Validation Accuracy: 0.91960\n",
      "====================================================================================================\n",
      "저장: 5 - 이전 : 0.2966679636389017, 현재: 0.28839827120304107\n",
      "Epoch[6/10] - Train loss: 0.28382 Train Accucracy: 0.92153 || Validation Loss: 0.28116 Validation Accuracy: 0.92290\n",
      "====================================================================================================\n",
      "저장: 6 - 이전 : 0.28839827120304107, 현재: 0.2811605618521571\n",
      "Epoch[7/10] - Train loss: 0.27800 Train Accucracy: 0.92290 || Validation Loss: 0.27809 Validation Accuracy: 0.92290\n",
      "====================================================================================================\n",
      "저장: 7 - 이전 : 0.2811605618521571, 현재: 0.27809061363339427\n",
      "Epoch[8/10] - Train loss: 0.27255 Train Accucracy: 0.92398 || Validation Loss: 0.27449 Validation Accuracy: 0.92400\n",
      "====================================================================================================\n",
      "저장: 8 - 이전 : 0.27809061363339427, 현재: 0.27449097391217947\n",
      "Epoch[9/10] - Train loss: 0.26865 Train Accucracy: 0.92465 || Validation Loss: 0.26971 Validation Accuracy: 0.92520\n",
      "====================================================================================================\n",
      "저장: 9 - 이전 : 0.27449097391217947, 현재: 0.2697148125246167\n",
      "Epoch[10/10] - Train loss: 0.26535 Train Accucracy: 0.92635 || Validation Loss: 0.26991 Validation Accuracy: 0.92510\n",
      "====================================================================================================\n",
      "105.36294102668762 초\n"
     ]
    }
   ],
   "source": [
    "# train -> module.fit()\n",
    "train_loss_list, train_acc_list, valid_loss_list, valid_acc_list = train.fit(train_loader, test_loader, small_model, \n",
    "                                                                             loss_fn, optimizer, N_EPOCH, \n",
    "                                                                             save_best_model=True,\n",
    "                                                                             save_model_path=os.path.join(MODEL_SAVE_ROOT_PATH, 'small_model.pth'),\n",
    "                                                                             device=device,\n",
    "                                                                             mode='multi')"
   ]
  },
  {
   "cell_type": "code",
   "execution_count": 26,
   "metadata": {
    "tags": []
   },
   "outputs": [
    {
     "data": {
      "image/png": "[encoded data removed]",
      "text/plain": [
       "<Figure size 1000x500 with 2 Axes>"
      ]
     },
     "metadata": {},
     "output_type": "display_data"
    }
   ],
   "source": [
    "plt.figure(figsize=(10, 5))\n",
    "plt.subplot(1, 2, 1)\n",
    "plt.plot(train_loss_list, label='trainset')\n",
    "plt.plot(valid_loss_list, label='validationset')\n",
    "plt.title('loss')\n",
    "plt.legend()\n",
    "\n",
    "plt.subplot(1, 2, 2)\n",
    "plt.plot(train_acc_list, label='trainset')\n",
    "plt.plot(valid_acc_list, label='validationset')\n",
    "plt.title('accuracy')\n",
    "plt.legend()\n",
    "\n",
    "plt.tight_layout()\n",
    "plt.show()"
   ]
  },
  {
   "cell_type": "code",
   "execution_count": 28,
   "metadata": {
    "tags": []
   },
   "outputs": [
    {
     "data": {
      "text/plain": [
       "tensor([[0.7594, 0.0000, 0.4594, 0.2435, 0.3034, 0.5405, 0.2882, 0.1748, 0.0000,\n",
       "         0.0000, 0.5102, 0.1158, 0.4099, 0.0631, 0.0000, 0.0000, 0.5513, 0.0000,\n",
       "         0.3535, 0.0000, 0.0000, 0.0000, 0.0000, 0.0000, 0.0000, 0.3317, 0.0000,\n",
       "         0.0027, 0.0000, 1.3257]], grad_fn=<ReluBackward0>)"
      ]
     },
     "execution_count": 28,
     "metadata": {},
     "output_type": "execute_result"
    }
   ],
   "source": [
    "# nn.Sequential()을 이용해 Layer block 정의하기\n",
    "## 여러 Layer들을 묶어줌\n",
    "layer_block = nn.Sequential(\n",
    "    nn.Linear(20, 30),\n",
    "    nn.ReLU()\n",
    ")\n",
    "a = torch.ones(1, 20)\n",
    "r = layer_block(a)\n",
    "r.shape\n",
    "r"
   ]
  },
  {
   "cell_type": "code",
   "execution_count": 33,
   "metadata": {
    "tags": []
   },
   "outputs": [],
   "source": [
    "class BigSizeModel(nn.Module):\n",
    "    \n",
    "    def __init__(self):\n",
    "        super().__init__()\n",
    "        self.b1 = nn.Sequential(nn.Linear(784, 2048), nn.ReLU())\n",
    "        self.b2 = nn.Sequential(nn.Linear(2048, 1024), nn.ReLU())\n",
    "        self.b3 = nn.Sequential(nn.Linear(1024, 512), nn.ReLU())\n",
    "        self.b4 = nn.Sequential(nn.Linear(512, 256), nn.ReLU())\n",
    "        self.b5 = nn.Sequential(nn.Linear(256, 128), nn.ReLU())\n",
    "        self.b6 = nn.Sequential(nn.Linear(128, 64), nn.ReLU())\n",
    "        \n",
    "        self.output = nn.Linear(64, 10)\n",
    "                \n",
    "    def forward(self, X):\n",
    "        X = nn.Flatten()(X)\n",
    "        out = self.b1(X)\n",
    "        out = self.b2(out)\n",
    "        out = self.b3(out)\n",
    "        out = self.b4(out)\n",
    "        out = self.b5(out)\n",
    "        out = self.b6(out)\n",
    "        return self.output(out)"
   ]
  },
  {
   "cell_type": "code",
   "execution_count": 34,
   "metadata": {
    "tags": []
   },
   "outputs": [
    {
     "data": {
      "text/plain": [
       "==========================================================================================\n",
       "Layer (type:depth-idx)                   Output Shape              Param #\n",
       "==========================================================================================\n",
       "BigSizeModel                             [200, 10]                 --\n",
       "├─Sequential: 1-1                        [200, 2048]               --\n",
       "│    └─Linear: 2-1                       [200, 2048]               1,607,680\n",
       "│    └─ReLU: 2-2                         [200, 2048]               --\n",
       "├─Sequential: 1-2                        [200, 1024]               --\n",
       "│    └─Linear: 2-3                       [200, 1024]               2,098,176\n",
       "│    └─ReLU: 2-4                         [200, 1024]               --\n",
       "├─Sequential: 1-3                        [200, 512]                --\n",
       "│    └─Linear: 2-5                       [200, 512]                524,800\n",
       "│    └─ReLU: 2-6                         [200, 512]                --\n",
       "├─Sequential: 1-4                        [200, 256]                --\n",
       "│    └─Linear: 2-7                       [200, 256]                131,328\n",
       "│    └─ReLU: 2-8                         [200, 256]                --\n",
       "├─Sequential: 1-5                        [200, 128]                --\n",
       "│    └─Linear: 2-9                       [200, 128]                32,896\n",
       "│    └─ReLU: 2-10                        [200, 128]                --\n",
       "├─Sequential: 1-6                        [200, 64]                 --\n",
       "│    └─Linear: 2-11                      [200, 64]                 8,256\n",
       "│    └─ReLU: 2-12                        [200, 64]                 --\n",
       "├─Linear: 1-7                            [200, 10]                 650\n",
       "==========================================================================================\n",
       "Total params: 4,403,786\n",
       "Trainable params: 4,403,786\n",
       "Non-trainable params: 0\n",
       "Total mult-adds (M): 880.76\n",
       "==========================================================================================\n",
       "Input size (MB): 0.63\n",
       "Forward/backward pass size (MB): 6.47\n",
       "Params size (MB): 17.62\n",
       "Estimated Total Size (MB): 24.71\n",
       "=========================================================================================="
      ]
     },
     "execution_count": 34,
     "metadata": {},
     "output_type": "execute_result"
    }
   ],
   "source": [
    "big_model = BigSizeModel()\n",
    "torchinfo.summary(big_model, (BATCH_SIZE, 1, 28, 28))"
   ]
  },
  {
   "cell_type": "code",
   "execution_count": 35,
   "metadata": {
    "tags": []
   },
   "outputs": [],
   "source": [
    "loss_fn = nn.CrossEntropyLoss()\n",
    "optimizer = torch.optim.Adam(big_model.parameters(), lr=LR)"
   ]
  },
  {
   "cell_type": "code",
   "execution_count": 36,
   "metadata": {
    "tags": []
   },
   "outputs": [
    {
     "name": "stdout",
     "output_type": "stream",
     "text": [
      "Epoch[1/10] - Train loss: 0.15285 Train Accucracy: 0.95433 || Validation Loss: 0.16224 Validation Accuracy: 0.95250\n",
      "====================================================================================================\n",
      "저장: 1 - 이전 : inf, 현재: 0.16224292090162634\n",
      "Epoch[2/10] - Train loss: 0.06926 Train Accucracy: 0.98003 || Validation Loss: 0.10096 Validation Accuracy: 0.96820\n",
      "====================================================================================================\n",
      "저장: 2 - 이전 : 0.16224292090162634, 현재: 0.10095863480586559\n",
      "Epoch[3/10] - Train loss: 0.04391 Train Accucracy: 0.98753 || Validation Loss: 0.07622 Validation Accuracy: 0.97690\n",
      "====================================================================================================\n",
      "저장: 3 - 이전 : 0.10095863480586559, 현재: 0.07622471875045449\n",
      "Epoch[4/10] - Train loss: 0.03679 Train Accucracy: 0.98893 || Validation Loss: 0.08103 Validation Accuracy: 0.97640\n",
      "====================================================================================================\n",
      "Epoch[5/10] - Train loss: 0.04910 Train Accucracy: 0.98673 || Validation Loss: 0.11044 Validation Accuracy: 0.97490\n",
      "====================================================================================================\n",
      "Epoch[6/10] - Train loss: 0.02745 Train Accucracy: 0.99182 || Validation Loss: 0.07948 Validation Accuracy: 0.97870\n",
      "====================================================================================================\n",
      "Epoch[7/10] - Train loss: 0.02106 Train Accucracy: 0.99418 || Validation Loss: 0.08098 Validation Accuracy: 0.98040\n",
      "====================================================================================================\n",
      "Epoch[8/10] - Train loss: 0.02613 Train Accucracy: 0.99137 || Validation Loss: 0.09492 Validation Accuracy: 0.97710\n",
      "====================================================================================================\n",
      "Epoch[9/10] - Train loss: 0.01413 Train Accucracy: 0.99575 || Validation Loss: 0.08170 Validation Accuracy: 0.98000\n",
      "====================================================================================================\n",
      "Epoch[10/10] - Train loss: 0.01400 Train Accucracy: 0.99610 || Validation Loss: 0.07590 Validation Accuracy: 0.98060\n",
      "====================================================================================================\n",
      "저장: 10 - 이전 : 0.07622471875045449, 현재: 0.07589849876967492\n",
      "167.72744488716125 초\n"
     ]
    }
   ],
   "source": [
    "# train -> module.fit()\n",
    "train_loss_list2, train_acc_list2, valid_loss_list2, valid_acc_list2 = train.fit(train_loader, test_loader, big_model, \n",
    "                                                                             loss_fn, optimizer, N_EPOCH, \n",
    "                                                                             save_best_model=True,\n",
    "                                                                             save_model_path=os.path.join(MODEL_SAVE_ROOT_PATH, 'big_model.pth'),\n",
    "                                                                             device=device,\n",
    "                                                                             mode='multi')"
   ]
  },
  {
   "cell_type": "code",
   "execution_count": 37,
   "metadata": {
    "tags": []
   },
   "outputs": [
    {
     "data": {
      "image/png": "[encoded data removed]",
      "text/plain": [
       "<Figure size 1000x500 with 2 Axes>"
      ]
     },
     "metadata": {},
     "output_type": "display_data"
    }
   ],
   "source": [
    "plt.figure(figsize=(10, 5))\n",
    "plt.subplot(1, 2, 1)\n",
    "plt.plot(train_loss_list2, label='trainset')\n",
    "plt.plot(valid_loss_list2, label='validationset')\n",
    "plt.title('loss')\n",
    "plt.legend()\n",
    "\n",
    "plt.subplot(1, 2, 2)\n",
    "plt.plot(train_acc_list2, label='trainset')\n",
    "plt.plot(valid_acc_list2, label='validationset')\n",
    "plt.title('accuracy')\n",
    "plt.legend()\n",
    "\n",
    "plt.tight_layout()\n",
    "plt.show()"
   ]
  },
  {
   "cell_type": "markdown",
   "metadata": {},
   "source": [
    "# Dropout 예제\n",
    "- dropout 각 레이어에 적용\n",
    "    - dropout은 nn.Dropout 객체를 사용\n",
    "    - 객체 생성시 dropout_rate 설정: 0.2 ~ 0.5\n",
    "    - Drop시킬 노드를 가진 Layer 뒤에 추가한다."
   ]
  },
  {
   "cell_type": "code",
   "execution_count": null,
   "metadata": {},
   "outputs": [],
   "source": []
  },
  {
   "cell_type": "code",
   "execution_count": null,
   "metadata": {},
   "outputs": [],
   "source": []
  },
  {
   "cell_type": "code",
   "execution_count": null,
   "metadata": {
    "scrolled": true
   },
   "outputs": [],
   "source": []
  },
  {
   "cell_type": "markdown",
   "metadata": {},
   "source": [
    "# Batch Normalization\n",
    "- Dense => BN => Activation"
   ]
  },
  {
   "cell_type": "code",
   "execution_count": null,
   "metadata": {},
   "outputs": [],
   "source": []
  },
  {
   "cell_type": "code",
   "execution_count": null,
   "metadata": {},
   "outputs": [],
   "source": []
  },
  {
   "cell_type": "code",
   "execution_count": null,
   "metadata": {},
   "outputs": [],
   "source": []
  },
  {
   "cell_type": "markdown",
   "metadata": {},
   "source": [
    "# Learning rate decay"
   ]
  },
  {
   "cell_type": "markdown",
   "metadata": {},
   "source": [
    "### Optimizer와 Learning rate scheduler의 속성, 메소드 확인\n",
    "- 파이토치는 `torch.optim` 모듈에서 다양한 Learning rate 알고리즘을 제공한다."
   ]
  },
  {
   "cell_type": "code",
   "execution_count": null,
   "metadata": {},
   "outputs": [],
   "source": []
  },
  {
   "cell_type": "markdown",
   "metadata": {},
   "source": [
    "#### StepLR"
   ]
  },
  {
   "cell_type": "code",
   "execution_count": null,
   "metadata": {},
   "outputs": [],
   "source": []
  },
  {
   "cell_type": "markdown",
   "metadata": {},
   "source": [
    "#### CosineAnnealingLR\n",
    "cosine 그래프를 그리면서 learning rate를 변경 하는 방식.  \n",
    "최근에는 learning rate를 단순히 감소시키기 보다는 감소와 증가를 반복하여 진동하는 방식으로 최적점을 찾아가는 알고리즘을 많이 사용한다. 이러한 방법 중 가장 간단하면서도 많이 사용되는 방법이 CosineAnnealingLR이다."
   ]
  },
  {
   "cell_type": "code",
   "execution_count": null,
   "metadata": {},
   "outputs": [],
   "source": []
  },
  {
   "cell_type": "markdown",
   "metadata": {},
   "source": [
    "#### CosineAnnealingWarmRestarts\n",
    "\n",
    "cosine annealing의 스케쥴링에 cosine 주기의 에폭을 점점 늘리거나 줄일 수 있다. (보통 늘린다.)"
   ]
  },
  {
   "cell_type": "code",
   "execution_count": null,
   "metadata": {},
   "outputs": [],
   "source": []
  }
 ],
 "metadata": {
  "kernelspec": {
   "display_name": "Python 3 (ipykernel)",
   "language": "python",
   "name": "python3"
  },
  "language_info": {
   "codemirror_mode": {
    "name": "ipython",
    "version": 3
   },
   "file_extension": ".py",
   "mimetype": "text/x-python",
   "name": "python",
   "nbconvert_exporter": "python",
   "pygments_lexer": "ipython3",
   "version": "3.10.13"
  },
  "toc": {
   "base_numbering": 1,
   "nav_menu": {},
   "number_sections": false,
   "sideBar": true,
   "skip_h1_title": false,
   "title_cell": "Table of Contents",
   "title_sidebar": "Contents",
   "toc_cell": false,
   "toc_position": {},
   "toc_section_display": true,
   "toc_window_display": false
  },
  "varInspector": {
   "cols": {
    "lenName": 16,
    "lenType": 16,
    "lenVar": 40
   },
   "kernels_config": {
    "python": {
     "delete_cmd_postfix": "",
     "delete_cmd_prefix": "del ",
     "library": "var_list.py",
     "varRefreshCmd": "print(var_dic_list())"
    },
    "r": {
     "delete_cmd_postfix": ") ",
     "delete_cmd_prefix": "rm(",
     "library": "var_list.r",
     "varRefreshCmd": "cat(var_dic_list()) "
    }
   },
   "types_to_exclude": [
    "module",
    "function",
    "builtin_function_or_method",
    "instance",
    "_Feature"
   ],
   "window_display": false
  }
 },
 "nbformat": 4,
 "nbformat_minor": 4
}
