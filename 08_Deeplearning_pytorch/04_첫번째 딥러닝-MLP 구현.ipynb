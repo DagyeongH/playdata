{
 "cells": [
  {
   "cell_type": "markdown",
   "metadata": {
    "slideshow": {
     "slide_type": "slide"
    }
   },
   "source": [
    "# Pytorch 개발 Process"
   ]
  },
  {
   "cell_type": "markdown",
   "metadata": {
    "slideshow": {
     "slide_type": "fragment"
    }
   },
   "source": [
    "1. **데이터 준비**\n",
    "    - Dataset 준비\n",
    "    - Dataloader 생성"
   ]
  },
  {
   "cell_type": "markdown",
   "metadata": {
    "slideshow": {
     "slide_type": "fragment"
    }
   },
   "source": [
    "2. **입력과 출력을 연결하는 Layer(층)으로 이뤄진 네트워크(모델)을 정의**\n",
    "    - **Sequential 방식**: 순서대로 쌓아올린 네트워크로 이뤄진 모델을 생성하는 방식\n",
    "        - layer를 순서대로 쌓은 모델을 구현할때 간단히 모델을 정의할 수 있다.\n",
    "        - layer block을 정의하는데 사용할 수 있다.\n",
    "    - **Subclass 방식**: 네트워크를 정의하는 클래스를 구현.\n",
    "        - 다양한 구조의 모델을 정의할 수 있다.\n",
    "        - inializer에서 필요한 layer들을 생성한다.\n",
    "        - forward(self, X) 메소드에 forward propagation 계산을 구현한다.\n",
    "    "
   ]
  },
  {
   "cell_type": "markdown",
   "metadata": {
    "slideshow": {
     "slide_type": "fragment"
    }
   },
   "source": [
    "3. **train**\n",
    "    - train 함수, test 함수 정의"
   ]
  },
  {
   "cell_type": "markdown",
   "metadata": {
    "slideshow": {
     "slide_type": "fragment"
    }
   },
   "source": [
    "4. test set 최종평가"
   ]
  },
  {
   "cell_type": "markdown",
   "metadata": {
    "slideshow": {
     "slide_type": "slide"
    }
   },
   "source": [
    "# MNIST 이미지 분류 \n",
    "- **[MNIST](https://ko.wikipedia.org/wiki/MNIST_%EB%8D%B0%EC%9D%B4%ED%84%B0%EB%B2%A0%EC%9D%B4%EC%8A%A4) (Modified National Institute of Standards and Technology) database**\n",
    "- 흑백 손글씨 숫자 0-9까지 10개의 범주로 구분해놓은 데이터셋\n",
    "- 하나의 이미지는 28 * 28 pixel 의 크기\n",
    "- 6만개의 Train 이미지와 1만개의 Test 이미지로 구성됨."
   ]
  },
  {
   "cell_type": "markdown",
   "metadata": {},
   "source": [
    "## import"
   ]
  },
  {
   "cell_type": "code",
   "execution_count": 2,
   "metadata": {
    "tags": []
   },
   "outputs": [
    {
     "name": "stdout",
     "output_type": "stream",
     "text": [
      "파이토치 버전: 2.1.0\n"
     ]
    }
   ],
   "source": [
    "# torch: 공통 구현체\n",
    "# torch.vision: 영상처리위한 구현체\n",
    "import torch\n",
    "import torch.nn as nn  # 딥러닝 모델을 궝하는 함수들의 모듈\n",
    "from torch.utils.data import DataLoader\n",
    "from torchvision import datasets, transforms\n",
    "\n",
    "import matplotlib.pyplot as plt\n",
    "import numpy as np\n",
    "\n",
    "print('파이토치 버전:', torch.__version__)"
   ]
  },
  {
   "cell_type": "markdown",
   "metadata": {},
   "source": [
    "### device 설정"
   ]
  },
  {
   "cell_type": "code",
   "execution_count": 3,
   "metadata": {
    "tags": []
   },
   "outputs": [
    {
     "name": "stdout",
     "output_type": "stream",
     "text": [
      "device: mps\n"
     ]
    }
   ],
   "source": [
    "# 처리를 cpu를 이용할지 gpu를 이용할지 설정\n",
    "device = 'mps' if torch.backends.mps.is_available() else 'cpu'\n",
    "print('device:', device)"
   ]
  },
  {
   "cell_type": "markdown",
   "metadata": {},
   "source": [
    "### 변수 설정"
   ]
  },
  {
   "cell_type": "code",
   "execution_count": 4,
   "metadata": {
    "tags": []
   },
   "outputs": [],
   "source": [
    "import os"
   ]
  },
  {
   "cell_type": "code",
   "execution_count": 5,
   "metadata": {
    "tags": []
   },
   "outputs": [],
   "source": [
    "# 뒤에서 여러번 사용할 값들을 저장할 변수 \n",
    "# + 모델에 설정할 값(모델자체, 학습할 때 필요한값 등등)으로 성능에 영햐을 주는 값들을 저장할 변수\n",
    "#        === 하이퍼 파라미터 (hyper parameter)\n",
    "\n",
    "BATCH_SIZE = 256  # 모델의 파라미터를 업데이트할 때 사용할 데이터이 개수.  데이터 몇개 데이지를 입력할지\n",
    "N_EPOCH = 20  # 전체 train dataset을 한번 학습한 것을 1epoch\n",
    "LR = 0.001  # 학습률. 파라미터를 update할 때 gradient값에 곱해줄 값 (gradient룰 샤로운 파라미터 계산할 때 얼마나 반영할지 비윺)\n",
    "\n",
    "# step: 파라미터를 1번 update하는 단위. 1step 당 학습데이터 수: batch_size\n",
    "# epoch: 전체 학습데이터셋을 한번 학습한 단위, 1epoch 당 step 횟수 = ceil(총 데이터수/batch_size)\n",
    "\n",
    "DATASET_SAVE_PATH ='datasets'  # 데이터셋을 저장할 디렉토리 경로\n",
    "MODEL_SAVE_PATH = 'models'  # 학습-평가가 끝난 모델을 저장할 디렉토리 경로\n",
    "\n",
    "os.makedirs(DATASET_SAVE_PATH, exist_ok=True)\n",
    "os.makedirs(MODEL_SAVE_PATH, exist_ok=True)"
   ]
  },
  {
   "cell_type": "code",
   "execution_count": 6,
   "metadata": {
    "tags": []
   },
   "outputs": [
    {
     "data": {
      "text/plain": [
       "235.0"
      ]
     },
     "execution_count": 6,
     "metadata": {},
     "output_type": "execute_result"
    }
   ],
   "source": [
    "np.ceil(60000/256)"
   ]
  },
  {
   "cell_type": "markdown",
   "metadata": {
    "ExecuteTime": {
     "end_time": "2021-08-30T05:02:52.852140Z",
     "start_time": "2021-08-30T05:02:52.563117Z"
    },
    "slideshow": {
     "slide_type": "slide"
    }
   },
   "source": [
    "## MNIST dataset Loading\n",
    "\n",
    "### Dataset"
   ]
  },
  {
   "cell_type": "code",
   "execution_count": 7,
   "metadata": {
    "tags": []
   },
   "outputs": [],
   "source": [
    "### MNIST Dataset을 다운로드 + Dataset 객체를 생성\n",
    "# train dataset\n",
    "# torchvision.datasets\n",
    "train_set = datasets.MNIST(root=DATASET_SAVE_PATH,  # 데이터셋을 저장할 디렉토리 경로\n",
    "                           train=True,  # trainset(훈련용): True, testset(검증용): False\n",
    "                           download=True, # root에 저장된 데이터파일들이 없을 떼 다운로드 받을지 여부\n",
    "                           transform=transforms.ToTensor() # 데이터 전처리\n",
    "                          )\n",
    "# ToTensor(): ndarray, PIL.Image 객체 -> torch.Tensor로 변환. \n",
    "#             pixcel값 정규화(normalization): 0 ~ 1 실수로 변환\n",
    "test_set = datasets.MNIST(root=DATASET_SAVE_PATH,\n",
    "                          train=False,\n",
    "                          download=True,\n",
    "                          transform=transforms.ToTensor()\n",
    "                         )"
   ]
  },
  {
   "cell_type": "code",
   "execution_count": 8,
   "metadata": {
    "tags": []
   },
   "outputs": [
    {
     "name": "stdout",
     "output_type": "stream",
     "text": [
      "<class 'torchvision.datasets.mnist.MNIST'>\n",
      "Dataset MNIST\n",
      "    Number of datapoints: 60000\n",
      "    Root location: datasets\n",
      "    Split: Train\n",
      "    StandardTransform\n",
      "Transform: ToTensor()\n",
      "Dataset MNIST\n",
      "    Number of datapoints: 10000\n",
      "    Root location: datasets\n",
      "    Split: Test\n",
      "    StandardTransform\n",
      "Transform: ToTensor()\n"
     ]
    }
   ],
   "source": [
    "print(type(train_set))  # Dataset 타입\n",
    "print(train_set)\n",
    "print(test_set)"
   ]
  },
  {
   "cell_type": "code",
   "execution_count": 9,
   "metadata": {
    "tags": []
   },
   "outputs": [
    {
     "name": "stdout",
     "output_type": "stream",
     "text": [
      "60000 10000\n"
     ]
    }
   ],
   "source": [
    "# 데이터 포인트 개수\n",
    "print(len(train_set), len(test_set))"
   ]
  },
  {
   "cell_type": "markdown",
   "metadata": {},
   "source": [
    "### DataLoader"
   ]
  },
  {
   "cell_type": "code",
   "execution_count": 10,
   "metadata": {
    "tags": []
   },
   "outputs": [],
   "source": [
    "# Dataset을 모델에 어떻게 제공할지를 설정 => 학습/평가시 설정된대로 데이터를 Loading\n",
    "# 훈련용 DataLoader\n",
    "train_loader = DataLoader(train_set, # Dataset\n",
    "                          batch_size=BATCH_SIZE,  # batch_size를 설정\n",
    "                          shuffle=True,  # 한 epoch이 끝나면 다음 epoch 전에 데이터를 섞을지 여부\n",
    "                          drop_last=True,  # 마지막 batch의 데이터수가 batch_size보다 적을 경우 버릴지(학습에 사용안함) 여부\n",
    "                         )\n",
    "# 평가용 DataLoader\n",
    "test_loader = DataLoader(test_set, batch_size=BATCH_SIZE)"
   ]
  },
  {
   "cell_type": "code",
   "execution_count": 11,
   "metadata": {
    "tags": []
   },
   "outputs": [
    {
     "name": "stdout",
     "output_type": "stream",
     "text": [
      "1 에폭당 step 수\n",
      "trainset: 234\n",
      "testset: 40\n"
     ]
    }
   ],
   "source": [
    "print('1 에폭당 step 수')\n",
    "print('trainset:', len(train_loader))\n",
    "print('testset:', len(test_loader))"
   ]
  },
  {
   "cell_type": "code",
   "execution_count": 12,
   "metadata": {
    "tags": []
   },
   "outputs": [
    {
     "data": {
      "text/plain": [
       "(234.0, 40.0)"
      ]
     },
     "execution_count": 12,
     "metadata": {},
     "output_type": "execute_result"
    }
   ],
   "source": [
    "np.floor(60000/256), np.ceil(10000/256)"
   ]
  },
  {
   "cell_type": "markdown",
   "metadata": {},
   "source": [
    "- Dataset: input/output data를 묶어서 관리\n",
    "- DataLoader: Dataset의 데이터들을 모델에 어떻게 제공할지를 관리"
   ]
  },
  {
   "cell_type": "markdown",
   "metadata": {
    "slideshow": {
     "slide_type": "slide"
    }
   },
   "source": [
    "## 네트워크(모델) 정의\n",
    "- Network : 전체 모델 구조"
   ]
  },
  {
   "cell_type": "code",
   "execution_count": 13,
   "metadata": {
    "tags": []
   },
   "outputs": [],
   "source": [
    "# class로 정의: nn.Module 을 상속해서 정의\n",
    "class MnistModel(nn.Module):\n",
    "    \n",
    "    def __init__(self):\n",
    "        \"\"\"\n",
    "        모델 객체 생성시 모델을 구현(정의)할 때 필요한 것들을 초기화\n",
    "        필요한 것: Layer들. 등등\n",
    "        \"\"\"\n",
    "        super().__init__()\n",
    "        \n",
    "        # 784(pixcel수) -> 128개로 축소\n",
    "        self.lr1 = nn.Linear(28*28, 128)  # input feature 크기, output size\n",
    "        # 128 feature -> 64 축소\n",
    "        self.lr2 = nn.Linear(128, 64)\n",
    "        # 64 feature -> 출력결과 10 (각 범주의 확률)\n",
    "        self.lr3 = nn.Linear(64, 10)\n",
    "        # Activation(활성) 함수 -> 비선형함수: ReLU\n",
    "        self.relu = nn.ReLU() # f(x) = max(x, 0)\n",
    "        \n",
    "    def forward(self, x):\n",
    "        \"\"\"\n",
    "        input data를 입력 받아서 최종 output 데이터를 만들 때까지의 계산 흐름을 정의\n",
    "        ===> forward propagation\n",
    "        parameter\n",
    "            x: 입력데이터\n",
    "        return\n",
    "            torch.Tensor: 출력데이터(모델 예측결과)\n",
    "        \"\"\"\n",
    "        # init에서 생성한 함수들을 이용해서 계산\n",
    "        ### x -> 1차원으로 변환 -> lr1 -> relu -> lr2 -> relu -> lr3 -> output\n",
    "        # input (batch_size, channel, height, width) => (batch_size, 전체 pixcel)\n",
    "        x = torch.flatten(x, start_dim=1)  # (b, c, h, w) -> (b, c*h*w)\n",
    "        \n",
    "        x = self.lr1(x)\n",
    "        x = self.relu(x)\n",
    "        \n",
    "        x = self.lr2(x)\n",
    "        x = self.relu(x)\n",
    "        \n",
    "        output = self.lr3(x)\n",
    "        return output"
   ]
  },
  {
   "cell_type": "code",
   "execution_count": 14,
   "metadata": {
    "tags": []
   },
   "outputs": [
    {
     "data": {
      "text/plain": [
       "torch.Size([1, 784])"
      ]
     },
     "execution_count": 14,
     "metadata": {},
     "output_type": "execute_result"
    }
   ],
   "source": [
    "i = torch.arange(28*28).reshape(1, 1, 28, 28)\n",
    "i.shape  # [1:데이터개수, 1:channel, 28:height, 28:width]\n",
    "# -> 1차원 => 데이터개수는 유지 [1, 784]\n",
    "## 다차원 텐서 => 1차원 => flatten([start_dim=axis])  # 지정한 axis부터 합침\n",
    "# torch.flatten(i).shape\n",
    "torch.flatten(i, start_dim=1).shape  # axis 0은 유지하고, axis 1부터 나머지를 합침"
   ]
  },
  {
   "cell_type": "code",
   "execution_count": 15,
   "metadata": {
    "tags": []
   },
   "outputs": [
    {
     "name": "stdout",
     "output_type": "stream",
     "text": [
      "MnistModel(\n",
      "  (lr1): Linear(in_features=784, out_features=128, bias=True)\n",
      "  (lr2): Linear(in_features=128, out_features=64, bias=True)\n",
      "  (lr3): Linear(in_features=64, out_features=10, bias=True)\n",
      "  (relu): ReLU()\n",
      ")\n"
     ]
    }
   ],
   "source": [
    "# 정의한 모델 클래스로부터 모델 객체를 생성\n",
    "model = MnistModel()\n",
    "print(model)"
   ]
  },
  {
   "cell_type": "code",
   "execution_count": 16,
   "metadata": {
    "tags": []
   },
   "outputs": [
    {
     "name": "stdout",
     "output_type": "stream",
     "text": [
      "Requirement already satisfied: torchinfo in /Users/hongdagyeong/opt/anaconda3/envs/torch/lib/python3.10/site-packages (1.8.0)\n"
     ]
    }
   ],
   "source": [
    "# 모델의 연산 흐름 및 정보를 확인 => torchinfo 패키지를 사용\n",
    "!pip install torchinfo"
   ]
  },
  {
   "cell_type": "code",
   "execution_count": 17,
   "metadata": {
    "tags": []
   },
   "outputs": [
    {
     "data": {
      "text/plain": [
       "==========================================================================================\n",
       "Layer (type:depth-idx)                   Output Shape              Param #\n",
       "==========================================================================================\n",
       "MnistModel                               [256, 10]                 --\n",
       "├─Linear: 1-1                            [256, 128]                100,480\n",
       "├─ReLU: 1-2                              [256, 128]                --\n",
       "├─Linear: 1-3                            [256, 64]                 8,256\n",
       "├─ReLU: 1-4                              [256, 64]                 --\n",
       "├─Linear: 1-5                            [256, 10]                 650\n",
       "==========================================================================================\n",
       "Total params: 109,386\n",
       "Trainable params: 109,386\n",
       "Non-trainable params: 0\n",
       "Total mult-adds (M): 28.00\n",
       "==========================================================================================\n",
       "Input size (MB): 0.80\n",
       "Forward/backward pass size (MB): 0.41\n",
       "Params size (MB): 0.44\n",
       "Estimated Total Size (MB): 1.65\n",
       "=========================================================================================="
      ]
     },
     "execution_count": 17,
     "metadata": {},
     "output_type": "execute_result"
    }
   ],
   "source": [
    "from torchinfo import summary\n",
    "summary(model, (256, 1, 28, 28)) # summary(모델객체, input shape: tuple)"
   ]
  },
  {
   "cell_type": "code",
   "execution_count": 18,
   "metadata": {
    "tags": []
   },
   "outputs": [
    {
     "name": "stdout",
     "output_type": "stream",
     "text": [
      "torch.Size([256, 1, 28, 28]) torch.Size([256])\n"
     ]
    }
   ],
   "source": [
    "# train dataset의 첫번째 배치를 이용해서 모델에 추론\n",
    "x_batch, y_batch = next(iter(train_loader))  # (input, output)\n",
    "print(x_batch.shape, y_batch.shape)"
   ]
  },
  {
   "cell_type": "code",
   "execution_count": 19,
   "metadata": {
    "tags": []
   },
   "outputs": [
    {
     "data": {
      "text/plain": [
       "torch.Size([256, 10])"
      ]
     },
     "execution_count": 19,
     "metadata": {},
     "output_type": "execute_result"
    }
   ],
   "source": [
    "# 추론\n",
    "pred_batch = model(x_batch)  # model의 forward() 메소드가 실행\n",
    "pred_batch.shape"
   ]
  },
  {
   "cell_type": "code",
   "execution_count": 20,
   "metadata": {
    "tags": []
   },
   "outputs": [
    {
     "data": {
      "text/plain": [
       "tensor(7)"
      ]
     },
     "execution_count": 20,
     "metadata": {},
     "output_type": "execute_result"
    }
   ],
   "source": [
    "# 첫번째 이미지에 대한 추론결과 -> class별 확률 => 가장 큰 확률의 index를 조회\n",
    "pred_batch[0].argmax()"
   ]
  },
  {
   "cell_type": "code",
   "execution_count": 21,
   "metadata": {
    "tags": []
   },
   "outputs": [
    {
     "data": {
      "text/plain": [
       "tensor(0)"
      ]
     },
     "execution_count": 21,
     "metadata": {},
     "output_type": "execute_result"
    }
   ],
   "source": [
    "y_batch[0]"
   ]
  },
  {
   "cell_type": "code",
   "execution_count": 22,
   "metadata": {
    "tags": []
   },
   "outputs": [
    {
     "data": {
      "text/plain": [
       "tensor(36)"
      ]
     },
     "execution_count": 22,
     "metadata": {},
     "output_type": "execute_result"
    }
   ],
   "source": [
    "torch.sum(pred_batch.argmax(dim=1) == y_batch)  # 맞은 개수"
   ]
  },
  {
   "cell_type": "code",
   "execution_count": 24,
   "metadata": {
    "tags": []
   },
   "outputs": [
    {
     "data": {
      "text/plain": [
       "0.140625"
      ]
     },
     "execution_count": 24,
     "metadata": {},
     "output_type": "execute_result"
    }
   ],
   "source": [
    "36/256"
   ]
  },
  {
   "cell_type": "markdown",
   "metadata": {},
   "source": [
    "## train"
   ]
  },
  {
   "cell_type": "markdown",
   "metadata": {},
   "source": [
    "### 모델, loss function, optimizer 생성"
   ]
  },
  {
   "cell_type": "code",
   "execution_count": 25,
   "metadata": {},
   "outputs": [],
   "source": [
    "# 모델을 device로 옮긴다 (모델을 이용한 계산을 CPU에서 할지 GPU에서 할지)\n",
    "# 참고: device로 옮기는 것 => model, 학습시킬 input data, output data\n",
    "# model = MnistModel()\n",
    "model = model.to(device)\n",
    "\n",
    "# Loss function\n",
    "# 다중분류문자: crossentropy, 이진분류문제: binary crossentropy ==> log loss\n",
    "# 다중분류: label이 여러개, 이진분류: yes/no 분류\n",
    "loss_fn = nn.CrossEntropyLoss()  # 객체, or nn.functional.cross_entropy() 함수\n",
    "\n",
    "# Optimizer ==> 모델 파라미터들 최적화\n",
    "optimizer = torch.optim.Adam(model.parameters(),  # 최적화 대상 파라미터들\n",
    "                             lr=LR  # 학습률\n",
    "                            )"
   ]
  },
  {
   "cell_type": "code",
   "execution_count": 27,
   "metadata": {
    "tags": []
   },
   "outputs": [
    {
     "data": {
      "text/plain": [
       "Parameter containing:\n",
       "tensor([[ 0.0228, -0.0309,  0.0165,  ..., -0.0341, -0.0219, -0.0196],\n",
       "        [ 0.0056, -0.0076,  0.0255,  ..., -0.0051,  0.0335,  0.0352],\n",
       "        [-0.0278,  0.0293, -0.0228,  ...,  0.0035, -0.0019,  0.0049],\n",
       "        ...,\n",
       "        [-0.0232, -0.0185, -0.0105,  ..., -0.0350, -0.0197, -0.0171],\n",
       "        [ 0.0067, -0.0295,  0.0115,  ...,  0.0018,  0.0293, -0.0303],\n",
       "        [-0.0264, -0.0226, -0.0085,  ..., -0.0025, -0.0218,  0.0119]],\n",
       "       device='mps:0', requires_grad=True)"
      ]
     },
     "execution_count": 27,
     "metadata": {},
     "output_type": "execute_result"
    }
   ],
   "source": [
    "# model.parameters(): generator\n",
    "a = next(model.parameters())\n",
    "a.shape\n",
    "a"
   ]
  },
  {
   "cell_type": "markdown",
   "metadata": {},
   "source": [
    "### 학습 및 검증"
   ]
  },
  {
   "cell_type": "code",
   "execution_count": 33,
   "metadata": {},
   "outputs": [
    {
     "name": "stdout",
     "output_type": "stream",
     "text": [
      "[ 1/20] Train Loss: 0.16540350144108137, Val Loss: 0.14331169608049094, Val Accuracy: 0.9558\n",
      "[ 2/20] Train Loss: 0.1292990474269176, Val Loss: 0.11894981649238616, Val Accuracy: 0.9633\n",
      "[ 3/20] Train Loss: 0.10276322038127826, Val Loss: 0.10410003084689379, Val Accuracy: 0.9673\n",
      "[ 4/20] Train Loss: 0.08474545890035537, Val Loss: 0.09638020556885749, Val Accuracy: 0.9712\n",
      "[ 5/20] Train Loss: 0.07256505152799635, Val Loss: 0.08544376238714904, Val Accuracy: 0.9734\n",
      "[ 6/20] Train Loss: 0.06062347308183328, Val Loss: 0.08174916822172236, Val Accuracy: 0.974\n",
      "[ 7/20] Train Loss: 0.053069183435768656, Val Loss: 0.07563119677652139, Val Accuracy: 0.9778\n",
      "[ 8/20] Train Loss: 0.04488583093779719, Val Loss: 0.07732527888001642, Val Accuracy: 0.9757\n",
      "[ 9/20] Train Loss: 0.03817503108109674, Val Loss: 0.08674959026684519, Val Accuracy: 0.9743\n",
      "[10/20] Train Loss: 0.03318552632266895, Val Loss: 0.07525212255495717, Val Accuracy: 0.9765\n",
      "[11/20] Train Loss: 0.028266284340180647, Val Loss: 0.07862604238762287, Val Accuracy: 0.9741\n",
      "[12/20] Train Loss: 0.025062701041993294, Val Loss: 0.07411541719338857, Val Accuracy: 0.9774\n",
      "[13/20] Train Loss: 0.020363368501918565, Val Loss: 0.08295607168693095, Val Accuracy: 0.9773\n",
      "[14/20] Train Loss: 0.017968705696109522, Val Loss: 0.08030140487535391, Val Accuracy: 0.9769\n",
      "[15/20] Train Loss: 0.015174775607247129, Val Loss: 0.08698117715539411, Val Accuracy: 0.9759\n",
      "[16/20] Train Loss: 0.013618206422234703, Val Loss: 0.08207402285306671, Val Accuracy: 0.9765\n",
      "[17/20] Train Loss: 0.011385755414445685, Val Loss: 0.09173325716074032, Val Accuracy: 0.9755\n",
      "[18/20] Train Loss: 0.0108379976113494, Val Loss: 0.08867706356832059, Val Accuracy: 0.9762\n",
      "[19/20] Train Loss: 0.009272822385363312, Val Loss: 0.09388818043062201, Val Accuracy: 0.9758\n",
      "[20/20] Train Loss: 0.007419554359462653, Val Loss: 0.09269839894332108, Val Accuracy: 0.9754\n",
      "학습에 걸린시간: 71.46997594833374초\n"
     ]
    }
   ],
   "source": [
    "import time # 학습시간체크\n",
    "\n",
    "# 학습 => train(훈련) + validation(1 epoch 학습한 모델성능 검증)\n",
    "# 에폭(epoch)별 학습결과를 저장할 리스트들\n",
    "train_loss_list = []    # train set으로 검증했을 때 loss(loss_fn 계산값)\n",
    "val_loss_list = []      # test set으로 검증했을 때 loss\n",
    "val_accuracy_list = []  # test set으로 검증했을 때 accuracy(정확도)-전체 중 맞은 비율\n",
    "\n",
    "start = time.time()\n",
    "# Train\n",
    "for epoch in range(N_EPOCH):\n",
    "    ################################\n",
    "    # Train\n",
    "    ################################\n",
    "    model.train()  # 모델을 train모드로 변경\n",
    "    train_loss = 0.0  # 현재 epoch의 학습 결과 loss를 저장할 변수\n",
    "    # 배치단위로 학습\n",
    "    for X_train, y_train in train_loader:  # batch 단위 (input, output) 튜플로 반환\n",
    "        # 1. X, y를 device로 옮긴다 (model, X, y는 같은 device상에 위치해야 함)\n",
    "        X_train, y_train = X_train.to(device), y_train.to(device)\n",
    "        \n",
    "        # 2. 추론\n",
    "        pred = model(X_train)\n",
    "        \n",
    "        # 3. Loss 계산\n",
    "        loss = loss_fn(pred, y_train)  # args 순서: (모델예측값, 정답)\n",
    "        \n",
    "        # 4. 모델의 파라미터 업데이트(최적화)\n",
    "        ## 1. 파라미터의 graddient값들을 초기화\n",
    "        optimizer.zero_grad()\n",
    "        ## 2. graddient 계산 ==> 계산결과는 파라미터.grad 속성에 저장\n",
    "        loss.backward()\n",
    "        ## 3. 파라미터(weight, bias) 업데이트 (파라미터 - 학습률*grad)\n",
    "        optimizer.step()\n",
    "        \n",
    "        # 현재 batch의 loss값을 train_loss변수에 누적\n",
    "        train_loss += loss.item()  # Tensor -> 파이썬 값\n",
    "        \n",
    "    # 1epoch학습 종료\n",
    "    # epoch의 평균 loss를 계산해서 저장 (train_loss: step별 loss를 누적)\n",
    "    train_loss_list.append(train_loss / len(train_loader)) # step수 나눔\n",
    "    \n",
    "    \n",
    "    ################################\n",
    "    # validation(검증) - test(validation) set (학습할 때 사용하지 않았던 데이터셋)\n",
    "    ################################\n",
    "    model.eval()  # 모델을 검증(평가) 모드로 전환\n",
    "    # 현재 epoch에 대한 검증결과(loss, accuracy)를 저장할 변수\n",
    "    val_loss = 0.0\n",
    "    val_acc = 0.0\n",
    "    # 모델 추정을 위한 연산 - forward propagation\n",
    "    ## 검증/평가/서비스 - gradient계산이 필요없다 => 도함수를 계산할 필요 없다\n",
    "    with torch.no_grad():\n",
    "        ## batch 단위로 검증\n",
    "        for X_val, y_val in test_loader:\n",
    "            # 1. device로 옮기기\n",
    "            X_val, y_val = X_val.to(device), y_val.to(device)\n",
    "            # 2. 모델을 이용해 추론\n",
    "            pred_val = model(X_val)\n",
    "            # 3. 검증 \n",
    "            ## 1. loss 계산 + val_loss에 누적\n",
    "            val_loss = val_loss + loss_fn(pred_val, y_val).item()\n",
    "            ## 2. 정확도(accuracy): 맞은 것 개수 / 전체 개수\n",
    "            val_acc = val_acc + torch.sum(pred_val.argmax(axis=-1) == y_val).item()\n",
    "        # test set 전체에 대한 검증이 완료 => 현 epoch에 대한 검증 완료\n",
    "        ## val_loss, val_acc 값을 리스트에 저장\n",
    "        val_loss_list.append(val_loss / len(test_loader))  # loss는 step수(len(test_loader))로 나눔\n",
    "        val_accuracy_list.append(val_acc / len(test_loader.dataset))  # 전체 데이터 개수로 나눈다\n",
    "    ## 현재 eopch train 결과를 출력\n",
    "    print(f'[{epoch+1:2d}/{N_EPOCH:2d}] Train Loss: {train_loss_list[-1]}, Val Loss: {val_loss_list[-1]}, Val Accuracy: {val_accuracy_list[-1]}')\n",
    "    \n",
    "    \n",
    "end = time.time()\n",
    "print(f'학습에 걸린시간: {end-start}초')"
   ]
  },
  {
   "cell_type": "markdown",
   "metadata": {},
   "source": [
    "### 학습 로그 시각화"
   ]
  },
  {
   "cell_type": "code",
   "execution_count": 35,
   "metadata": {},
   "outputs": [
    {
     "data": {
      "image/png": "[encoded data removed]",
      "text/plain": [
       "<Figure size 1000x500 with 2 Axes>"
      ]
     },
     "metadata": {},
     "output_type": "display_data"
    }
   ],
   "source": [
    "# acc보다 loss값이 더 작은게 좋은 것\n",
    "# epoch별 loss, accuracy의 변화의 흐름을 시각화\n",
    "plt.figure(figsize=(10, 5))\n",
    "plt.subplot(1, 2, 1)\n",
    "plt.plot(range(N_EPOCH), train_loss_list, label='train')\n",
    "plt.plot(range(N_EPOCH), val_loss_list, label='Validation')\n",
    "plt.title('Loss')\n",
    "plt.legend()\n",
    "\n",
    "plt.subplot(1, 2, 2)\n",
    "plt.plot(range(N_EPOCH), val_accuracy_list)\n",
    "plt.title('Validation accuracy')\n",
    "\n",
    "plt.tight_layout()\n",
    "plt.show()"
   ]
  },
  {
   "cell_type": "markdown",
   "metadata": {},
   "source": [
    "## 학습된 모델 저장 및 불러오기"
   ]
  },
  {
   "cell_type": "code",
   "execution_count": 38,
   "metadata": {
    "tags": []
   },
   "outputs": [
    {
     "name": "stdout",
     "output_type": "stream",
     "text": [
      "models/mnist/mnist_mlp.pth\n"
     ]
    }
   ],
   "source": [
    "save_path = os.path.join(MODEL_SAVE_PATH, \"mnist\")\n",
    "os.makedirs(save_path, exist_ok=True)\n",
    "\n",
    "save_file_path = os.path.join(save_path, 'mnist_mlp.pth')\n",
    "print(save_file_path)"
   ]
  },
  {
   "cell_type": "code",
   "execution_count": 39,
   "metadata": {
    "tags": []
   },
   "outputs": [],
   "source": [
    "torch.save(model, save_file_path)"
   ]
  },
  {
   "cell_type": "code",
   "execution_count": 41,
   "metadata": {},
   "outputs": [
    {
     "data": {
      "text/plain": [
       "MnistModel(\n",
       "  (lr1): Linear(in_features=784, out_features=128, bias=True)\n",
       "  (lr2): Linear(in_features=128, out_features=64, bias=True)\n",
       "  (lr3): Linear(in_features=64, out_features=10, bias=True)\n",
       "  (relu): ReLU()\n",
       ")"
      ]
     },
     "execution_count": 41,
     "metadata": {},
     "output_type": "execute_result"
    }
   ],
   "source": [
    "# 모델 불러오기\n",
    "load_model = torch.load(save_file_path)\n",
    "load_model"
   ]
  },
  {
   "cell_type": "code",
   "execution_count": 43,
   "metadata": {
    "tags": []
   },
   "outputs": [
    {
     "data": {
      "text/plain": [
       "==========================================================================================\n",
       "Layer (type:depth-idx)                   Output Shape              Param #\n",
       "==========================================================================================\n",
       "MnistModel                               [256, 10]                 --\n",
       "├─Linear: 1-1                            [256, 128]                100,480\n",
       "├─ReLU: 1-2                              [256, 128]                --\n",
       "├─Linear: 1-3                            [256, 64]                 8,256\n",
       "├─ReLU: 1-4                              [256, 64]                 --\n",
       "├─Linear: 1-5                            [256, 10]                 650\n",
       "==========================================================================================\n",
       "Total params: 109,386\n",
       "Trainable params: 109,386\n",
       "Non-trainable params: 0\n",
       "Total mult-adds (M): 28.00\n",
       "==========================================================================================\n",
       "Input size (MB): 0.80\n",
       "Forward/backward pass size (MB): 0.41\n",
       "Params size (MB): 0.44\n",
       "Estimated Total Size (MB): 1.65\n",
       "=========================================================================================="
      ]
     },
     "execution_count": 43,
     "metadata": {},
     "output_type": "execute_result"
    }
   ],
   "source": [
    "from torchinfo import summary\n",
    "summary(load_model, (BATCH_SIZE, 1, 28, 28))"
   ]
  },
  {
   "cell_type": "markdown",
   "metadata": {},
   "source": [
    "## 모델 평가"
   ]
  },
  {
   "cell_type": "code",
   "execution_count": 53,
   "metadata": {},
   "outputs": [
    {
     "name": "stdout",
     "output_type": "stream",
     "text": [
      "Test loss: 0.09269838035106659, Test accuracy: 0.9754\n"
     ]
    }
   ],
   "source": [
    "# device로 옮기기\n",
    "load_model = load_model.to(device)\n",
    "# 평가모드로 변환\n",
    "load_model.eval()\n",
    "\n",
    "test_loss, test_acc =0.0, 0.0\n",
    "with torch.no_grad():\n",
    "    for X, y in test_loader:\n",
    "        # device 옮기기\n",
    "        X, y = X.to(device), y.to(device)\n",
    "        # 추정\n",
    "        pred = load_model(X)\n",
    "        # 평가- loss, accuraccy\n",
    "        test_loss += loss_fn(pred, y)\n",
    "        test_acc += torch.sum(pred.argmax(axis=-1) == y).item()\n",
    "    test_loss /= len(test_loader)  # step 수로 나누기\n",
    "    test_acc /= len(test_loader.dataset)  # 총 데이터 수로 나누기\n",
    "print(f\"Test loss: {test_loss}, Test accuracy: {test_acc}\")"
   ]
  },
  {
   "cell_type": "markdown",
   "metadata": {
    "slideshow": {
     "slide_type": "slide"
    }
   },
   "source": [
    "## 새로운 데이터 추론"
   ]
  },
  {
   "cell_type": "code",
   "execution_count": 55,
   "metadata": {
    "tags": []
   },
   "outputs": [
    {
     "name": "stdout",
     "output_type": "stream",
     "text": [
      "Collecting opencv-contrib-python\n",
      "  Obtaining dependency information for opencv-contrib-python from https://files.pythonhosted.org/packages/d7/c1/8807b1145c89f64734517ab18f0acc11e021059cd8fdf5c765f4633ae0bc/opencv_contrib_python-4.8.1.78-cp37-abi3-macosx_10_16_x86_64.whl.metadata\n",
      "  Using cached opencv_contrib_python-4.8.1.78-cp37-abi3-macosx_10_16_x86_64.whl.metadata (19 kB)\n",
      "Requirement already satisfied: numpy>=1.21.2 in /Users/hongdagyeong/opt/anaconda3/envs/torch/lib/python3.10/site-packages (from opencv-contrib-python) (1.26.0)\n",
      "Using cached opencv_contrib_python-4.8.1.78-cp37-abi3-macosx_10_16_x86_64.whl (64.4 MB)\n",
      "Installing collected packages: opencv-contrib-python\n",
      "Successfully installed opencv-contrib-python-4.8.1.78\n"
     ]
    }
   ],
   "source": [
    "!pip install opencv-contrib-python"
   ]
  },
  {
   "cell_type": "code",
   "execution_count": 56,
   "metadata": {},
   "outputs": [],
   "source": [
    "from glob import glob\n",
    "import cv2"
   ]
  },
  {
   "cell_type": "code",
   "execution_count": 57,
   "metadata": {
    "collapsed": true,
    "jupyter": {
     "outputs_hidden": true
    },
    "tags": []
   },
   "outputs": [
    {
     "data": {
      "text/plain": [
       "['test_img/num/three.png',\n",
       " 'test_img/num/eight2.png',\n",
       " 'test_img/num/three2.png',\n",
       " 'test_img/num/two.png',\n",
       " 'test_img/num/four.png',\n",
       " 'test_img/num/eight.png',\n",
       " 'test_img/num/five.png',\n",
       " 'test_img/num/one.png',\n",
       " 'test_img/num/seven.png',\n",
       " 'test_img/num/seven2.png']"
      ]
     },
     "execution_count": 57,
     "metadata": {},
     "output_type": "execute_result"
    }
   ],
   "source": [
    "img_file_list = glob('test_img/num/*.png')\n",
    "img_file_list"
   ]
  },
  {
   "cell_type": "code",
   "execution_count": 59,
   "metadata": {
    "tags": []
   },
   "outputs": [
    {
     "name": "stdout",
     "output_type": "stream",
     "text": [
      "개수: 10\n"
     ]
    }
   ],
   "source": [
    "file_cnt = len(img_file_list)\n",
    "print('개수:', file_cnt)\n",
    "input_tensor = torch.zeros((file_cnt, 28, 28))  # 분류할 이미지를 저장할 변수\n",
    "\n",
    "for i in range(file_cnt):\n",
    "    # image읽기\n",
    "    test_img = cv2.imread(img_file_list[i], cv2.IMREAD_GRAYSCALE)\n",
    "    # 28 x 28 리사이즈\n",
    "    test_img = cv2.resize(test_img, (28, 28))\n",
    "    # ndarray -> torch.Tensor + 정규화 (0 ~ 1) => input_tensor에 추가\n",
    "    input_tensor[i] = transforms.ToTensor()(test_img)"
   ]
  },
  {
   "cell_type": "code",
   "execution_count": 62,
   "metadata": {
    "tags": []
   },
   "outputs": [
    {
     "name": "stdout",
     "output_type": "stream",
     "text": [
      "<class 'torch.Tensor'>\n",
      "torch.Size([10, 28, 28])\n",
      "tensor(0.) tensor(1.)\n"
     ]
    }
   ],
   "source": [
    "print(type(input_tensor))\n",
    "print(input_tensor.shape)\n",
    "print(input_tensor.min(), input_tensor.max())"
   ]
  },
  {
   "cell_type": "code",
   "execution_count": 65,
   "metadata": {
    "tags": []
   },
   "outputs": [
    {
     "name": "stdout",
     "output_type": "stream",
     "text": [
      "torch.Size([10, 10]) torch.Size([10, 10])\n"
     ]
    }
   ],
   "source": [
    "# 추론\n",
    "load_model.to(device)\n",
    "load_model.eval()\n",
    "\n",
    "input_tensor = input_tensor.to(device)\n",
    "\n",
    "pred_new = load_model(input_tensor)\n",
    "# 모델이 예측한 값을 확률로 변환 => softmax 함수\n",
    "pred_proba = nn.Softmax(dim=-1)(pred_new)\n",
    "\n",
    "print(pred_new.shape, pred_proba.shape)"
   ]
  },
  {
   "cell_type": "code",
   "execution_count": 66,
   "metadata": {},
   "outputs": [
    {
     "data": {
      "text/plain": [
       "tensor([[6.4749e-04, 4.6835e-06, 6.2576e-03, 9.9287e-01, 7.3143e-08, 1.7512e-04,\n",
       "         2.7681e-06, 3.5523e-05, 4.9818e-06, 7.9879e-08],\n",
       "        [1.4644e-15, 2.3468e-06, 1.1189e-14, 7.0506e-06, 1.8316e-20, 9.9999e-01,\n",
       "         1.0554e-07, 1.7142e-14, 1.6461e-07, 1.4467e-18],\n",
       "        [8.9983e-06, 1.3682e-06, 1.7748e-07, 9.9147e-01, 8.2948e-09, 1.5060e-03,\n",
       "         2.2873e-06, 8.7354e-10, 6.9513e-03, 5.8103e-05],\n",
       "        [1.1107e-11, 6.0517e-08, 9.9996e-01, 1.0368e-06, 1.1132e-16, 3.8773e-10,\n",
       "         4.5630e-15, 5.6460e-09, 3.5059e-05, 3.5731e-13],\n",
       "        [9.8169e-07, 2.2659e-09, 1.1015e-02, 1.4919e-07, 9.8895e-01, 5.7494e-07,\n",
       "         5.4027e-07, 2.6804e-05, 2.0390e-08, 8.9531e-06],\n",
       "        [2.5762e-04, 7.1522e-03, 8.9154e-01, 1.2840e-02, 1.3810e-07, 1.1921e-04,\n",
       "         1.8287e-02, 2.4624e-06, 6.9806e-02, 3.0110e-11],\n",
       "        [6.2802e-12, 7.1680e-07, 5.9539e-08, 1.6878e-04, 4.2609e-10, 9.9966e-01,\n",
       "         3.4840e-09, 2.8528e-10, 1.6850e-04, 1.1675e-06],\n",
       "        [6.5480e-02, 2.0449e-01, 6.9029e-02, 7.1129e-05, 5.3798e-01, 3.2269e-03,\n",
       "         2.0976e-02, 2.8545e-02, 7.0192e-02, 4.5990e-06],\n",
       "        [8.3028e-10, 3.9301e-04, 4.5833e-06, 3.8702e-06, 4.5324e-07, 2.6672e-06,\n",
       "         1.4813e-10, 9.9958e-01, 3.8284e-06, 8.1618e-06],\n",
       "        [8.0366e-21, 7.2147e-05, 5.4201e-01, 4.5775e-01, 1.9691e-22, 1.6055e-09,\n",
       "         6.4005e-19, 1.5476e-04, 1.5648e-05, 1.1763e-19]], device='mps:0',\n",
       "       grad_fn=<SoftmaxBackward0>)"
      ]
     },
     "execution_count": 66,
     "metadata": {},
     "output_type": "execute_result"
    }
   ],
   "source": [
    "pred_proba"
   ]
  },
  {
   "cell_type": "code",
   "execution_count": 67,
   "metadata": {
    "tags": []
   },
   "outputs": [
    {
     "data": {
      "text/plain": [
       "tensor([1.0000, 1.0000, 1.0000, 1.0000, 1.0000, 1.0000, 1.0000, 1.0000, 1.0000,\n",
       "        1.0000], device='mps:0', grad_fn=<SumBackward1>)"
      ]
     },
     "execution_count": 67,
     "metadata": {},
     "output_type": "execute_result"
    }
   ],
   "source": [
    "# pred_proba.sum(axis=-1)"
   ]
  },
  {
   "cell_type": "code",
   "execution_count": 86,
   "metadata": {
    "tags": []
   },
   "outputs": [
    {
     "data": {
      "text/plain": [
       "tensor([0.9929, 1.0000, 0.9915, 1.0000, 0.9889, 0.8915, 0.9997, 0.5380, 0.9996,\n",
       "        0.5420], device='mps:0', grad_fn=<MaxBackward0>)"
      ]
     },
     "execution_count": 86,
     "metadata": {},
     "output_type": "execute_result"
    }
   ],
   "source": [
    "pred_label_proba = pred_proba.max(dim=-1).values\n",
    "pred_label_proba"
   ]
  },
  {
   "cell_type": "code",
   "execution_count": 87,
   "metadata": {
    "tags": []
   },
   "outputs": [
    {
     "data": {
      "image/png": "[encoded data removed]",
      "text/plain": [
       "<Figure size 1500x700 with 10 Axes>"
      ]
     },
     "metadata": {},
     "output_type": "display_data"
    }
   ],
   "source": [
    "plt.figure(figsize=(15, 7))\n",
    "for i in range(file_cnt):\n",
    "    plt.subplot(3, 4, i+1)\n",
    "    plt.imshow(input_tensor[i].to('cpu').numpy(), cmap='gray')\n",
    "    plt.title(f'{pred_label[i].item()} - {pred_label_proba[i].item():.2}')\n",
    "    \n",
    "plt.tight_layout()\n",
    "plt.show()"
   ]
  },
  {
   "cell_type": "code",
   "execution_count": null,
   "metadata": {},
   "outputs": [],
   "source": []
  }
 ],
 "metadata": {
  "kernelspec": {
   "display_name": "Python 3 (ipykernel)",
   "language": "python",
   "name": "python3"
  },
  "language_info": {
   "codemirror_mode": {
    "name": "ipython",
    "version": 3
   },
   "file_extension": ".py",
   "mimetype": "text/x-python",
   "name": "python",
   "nbconvert_exporter": "python",
   "pygments_lexer": "ipython3",
   "version": "3.10.13"
  },
  "toc": {
   "base_numbering": 1,
   "nav_menu": {},
   "number_sections": false,
   "sideBar": true,
   "skip_h1_title": false,
   "title_cell": "Table of Contents",
   "title_sidebar": "Contents",
   "toc_cell": false,
   "toc_position": {},
   "toc_section_display": true,
   "toc_window_display": false
  },
  "varInspector": {
   "cols": {
    "lenName": 16,
    "lenType": 16,
    "lenVar": 40
   },
   "kernels_config": {
    "python": {
     "delete_cmd_postfix": "",
     "delete_cmd_prefix": "del ",
     "library": "var_list.py",
     "varRefreshCmd": "print(var_dic_list())"
    },
    "r": {
     "delete_cmd_postfix": ") ",
     "delete_cmd_prefix": "rm(",
     "library": "var_list.r",
     "varRefreshCmd": "cat(var_dic_list()) "
    }
   },
   "position": {
    "height": "347.844px",
    "left": "1891px",
    "right": "20px",
    "top": "361px",
    "width": "486px"
   },
   "types_to_exclude": [
    "module",
    "function",
    "builtin_function_or_method",
    "instance",
    "_Feature"
   ],
   "window_display": false
  }
 },
 "nbformat": 4,
 "nbformat_minor": 4
}
