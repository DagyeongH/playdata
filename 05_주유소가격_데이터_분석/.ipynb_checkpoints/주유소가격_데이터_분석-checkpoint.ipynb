{
 "cells": [
  {
   "cell_type": "markdown",
   "metadata": {},
   "source": [
    "kgmyh@naver.com 으로 `이름_주유소가격 데이터 분석.html` 로 제출\n",
    "- html 파일로 변환\n",
    "    - File > Download as > HTML (.html) 선택"
   ]
  },
  {
   "cell_type": "markdown",
   "metadata": {},
   "source": [
    "# 데이터 불러오기"
   ]
  },
  {
   "cell_type": "markdown",
   "metadata": {
    "ExecuteTime": {
     "end_time": "2021-03-12T05:10:15.329775Z",
     "start_time": "2021-03-12T05:10:15.314775Z"
    }
   },
   "source": [
    "- 2022년 주유소들의 일자별 가격 데이터\n",
    "- https://www.opinet.co.kr/user/opdown/opDownload.do"
   ]
  },
  {
   "cell_type": "code",
   "execution_count": 2,
   "metadata": {},
   "outputs": [],
   "source": [
    "import pandas as pd\n",
    "import matplotlib.pyplot as plt\n",
    "import numpy as np\n",
    "import seaborn as sns"
   ]
  },
  {
   "cell_type": "code",
   "execution_count": 3,
   "metadata": {},
   "outputs": [],
   "source": [
    "fh = pd.read_csv('data/2022년_서울_상반기_일별_가격.csv', encoding='CP949')\n",
    "sh = pd.read_csv('data/2022년_서울_하반기_일별_가격.csv', encoding='CP949')"
   ]
  },
  {
   "cell_type": "code",
   "execution_count": 4,
   "metadata": {
    "ExecuteTime": {
     "end_time": "2022-06-17T04:38:27.371953Z",
     "start_time": "2022-06-17T04:38:27.353003Z"
    }
   },
   "outputs": [
    {
     "data": {
      "text/html": [
       "<div>\n",
       "<style scoped>\n",
       "    .dataframe tbody tr th:only-of-type {\n",
       "        vertical-align: middle;\n",
       "    }\n",
       "\n",
       "    .dataframe tbody tr th {\n",
       "        vertical-align: top;\n",
       "    }\n",
       "\n",
       "    .dataframe thead th {\n",
       "        text-align: right;\n",
       "    }\n",
       "</style>\n",
       "<table border=\"1\" class=\"dataframe\">\n",
       "  <thead>\n",
       "    <tr style=\"text-align: right;\">\n",
       "      <th></th>\n",
       "      <th>번호</th>\n",
       "      <th>지역</th>\n",
       "      <th>상호</th>\n",
       "      <th>주소</th>\n",
       "      <th>기간</th>\n",
       "      <th>상표</th>\n",
       "      <th>셀프여부</th>\n",
       "      <th>고급휘발유</th>\n",
       "      <th>휘발유</th>\n",
       "      <th>경유</th>\n",
       "      <th>실내등유</th>\n",
       "    </tr>\n",
       "  </thead>\n",
       "  <tbody>\n",
       "    <tr>\n",
       "      <th>0</th>\n",
       "      <td>A0006039</td>\n",
       "      <td>서울 강남구</td>\n",
       "      <td>(유)동하석유 힐탑셀프주유소</td>\n",
       "      <td>서울 강남구 논현로 640</td>\n",
       "      <td>20220101</td>\n",
       "      <td>SK에너지</td>\n",
       "      <td>셀프</td>\n",
       "      <td>1887</td>\n",
       "      <td>1737</td>\n",
       "      <td>1587</td>\n",
       "      <td>0</td>\n",
       "    </tr>\n",
       "    <tr>\n",
       "      <th>1</th>\n",
       "      <td>A0006039</td>\n",
       "      <td>서울 강남구</td>\n",
       "      <td>(유)동하석유 힐탑셀프주유소</td>\n",
       "      <td>서울 강남구 논현로 640</td>\n",
       "      <td>20220102</td>\n",
       "      <td>SK에너지</td>\n",
       "      <td>셀프</td>\n",
       "      <td>1887</td>\n",
       "      <td>1737</td>\n",
       "      <td>1587</td>\n",
       "      <td>0</td>\n",
       "    </tr>\n",
       "    <tr>\n",
       "      <th>2</th>\n",
       "      <td>A0006039</td>\n",
       "      <td>서울 강남구</td>\n",
       "      <td>(유)동하석유 힐탑셀프주유소</td>\n",
       "      <td>서울 강남구 논현로 640</td>\n",
       "      <td>20220103</td>\n",
       "      <td>SK에너지</td>\n",
       "      <td>셀프</td>\n",
       "      <td>1887</td>\n",
       "      <td>1737</td>\n",
       "      <td>1587</td>\n",
       "      <td>0</td>\n",
       "    </tr>\n",
       "    <tr>\n",
       "      <th>3</th>\n",
       "      <td>A0006039</td>\n",
       "      <td>서울 강남구</td>\n",
       "      <td>(유)동하석유 힐탑셀프주유소</td>\n",
       "      <td>서울 강남구 논현로 640</td>\n",
       "      <td>20220104</td>\n",
       "      <td>SK에너지</td>\n",
       "      <td>셀프</td>\n",
       "      <td>1887</td>\n",
       "      <td>1737</td>\n",
       "      <td>1587</td>\n",
       "      <td>0</td>\n",
       "    </tr>\n",
       "    <tr>\n",
       "      <th>4</th>\n",
       "      <td>A0006039</td>\n",
       "      <td>서울 강남구</td>\n",
       "      <td>(유)동하석유 힐탑셀프주유소</td>\n",
       "      <td>서울 강남구 논현로 640</td>\n",
       "      <td>20220105</td>\n",
       "      <td>SK에너지</td>\n",
       "      <td>셀프</td>\n",
       "      <td>1887</td>\n",
       "      <td>1737</td>\n",
       "      <td>1587</td>\n",
       "      <td>0</td>\n",
       "    </tr>\n",
       "  </tbody>\n",
       "</table>\n",
       "</div>"
      ],
      "text/plain": [
       "         번호      지역               상호              주소        기간     상표 셀프여부  \\\n",
       "0  A0006039  서울 강남구  (유)동하석유 힐탑셀프주유소  서울 강남구 논현로 640  20220101  SK에너지   셀프   \n",
       "1  A0006039  서울 강남구  (유)동하석유 힐탑셀프주유소  서울 강남구 논현로 640  20220102  SK에너지   셀프   \n",
       "2  A0006039  서울 강남구  (유)동하석유 힐탑셀프주유소  서울 강남구 논현로 640  20220103  SK에너지   셀프   \n",
       "3  A0006039  서울 강남구  (유)동하석유 힐탑셀프주유소  서울 강남구 논현로 640  20220104  SK에너지   셀프   \n",
       "4  A0006039  서울 강남구  (유)동하석유 힐탑셀프주유소  서울 강남구 논현로 640  20220105  SK에너지   셀프   \n",
       "\n",
       "   고급휘발유   휘발유    경유  실내등유  \n",
       "0   1887  1737  1587     0  \n",
       "1   1887  1737  1587     0  \n",
       "2   1887  1737  1587     0  \n",
       "3   1887  1737  1587     0  \n",
       "4   1887  1737  1587     0  "
      ]
     },
     "execution_count": 4,
     "metadata": {},
     "output_type": "execute_result"
    }
   ],
   "source": [
    "# 상반기, 하반기 주유소 가격 데이터 조회\n",
    "fh.head()"
   ]
  },
  {
   "cell_type": "code",
   "execution_count": 5,
   "metadata": {},
   "outputs": [
    {
     "data": {
      "text/html": [
       "<div>\n",
       "<style scoped>\n",
       "    .dataframe tbody tr th:only-of-type {\n",
       "        vertical-align: middle;\n",
       "    }\n",
       "\n",
       "    .dataframe tbody tr th {\n",
       "        vertical-align: top;\n",
       "    }\n",
       "\n",
       "    .dataframe thead th {\n",
       "        text-align: right;\n",
       "    }\n",
       "</style>\n",
       "<table border=\"1\" class=\"dataframe\">\n",
       "  <thead>\n",
       "    <tr style=\"text-align: right;\">\n",
       "      <th></th>\n",
       "      <th>번호</th>\n",
       "      <th>지역</th>\n",
       "      <th>상호</th>\n",
       "      <th>주소</th>\n",
       "      <th>기간</th>\n",
       "      <th>상표</th>\n",
       "      <th>셀프여부</th>\n",
       "      <th>고급휘발유</th>\n",
       "      <th>휘발유</th>\n",
       "      <th>경유</th>\n",
       "      <th>실내등유</th>\n",
       "    </tr>\n",
       "  </thead>\n",
       "  <tbody>\n",
       "    <tr>\n",
       "      <th>0</th>\n",
       "      <td>A0006039</td>\n",
       "      <td>서울 강남구</td>\n",
       "      <td>(유)동하석유 힐탑셀프주유소</td>\n",
       "      <td>서울 강남구 논현로 640</td>\n",
       "      <td>20220701</td>\n",
       "      <td>SK에너지</td>\n",
       "      <td>셀프</td>\n",
       "      <td>2487</td>\n",
       "      <td>2287</td>\n",
       "      <td>2297</td>\n",
       "      <td>0</td>\n",
       "    </tr>\n",
       "    <tr>\n",
       "      <th>1</th>\n",
       "      <td>A0006039</td>\n",
       "      <td>서울 강남구</td>\n",
       "      <td>(유)동하석유 힐탑셀프주유소</td>\n",
       "      <td>서울 강남구 논현로 640</td>\n",
       "      <td>20220702</td>\n",
       "      <td>SK에너지</td>\n",
       "      <td>셀프</td>\n",
       "      <td>2447</td>\n",
       "      <td>2247</td>\n",
       "      <td>2277</td>\n",
       "      <td>0</td>\n",
       "    </tr>\n",
       "    <tr>\n",
       "      <th>2</th>\n",
       "      <td>A0006039</td>\n",
       "      <td>서울 강남구</td>\n",
       "      <td>(유)동하석유 힐탑셀프주유소</td>\n",
       "      <td>서울 강남구 논현로 640</td>\n",
       "      <td>20220703</td>\n",
       "      <td>SK에너지</td>\n",
       "      <td>셀프</td>\n",
       "      <td>2447</td>\n",
       "      <td>2247</td>\n",
       "      <td>2277</td>\n",
       "      <td>0</td>\n",
       "    </tr>\n",
       "    <tr>\n",
       "      <th>3</th>\n",
       "      <td>A0006039</td>\n",
       "      <td>서울 강남구</td>\n",
       "      <td>(유)동하석유 힐탑셀프주유소</td>\n",
       "      <td>서울 강남구 논현로 640</td>\n",
       "      <td>20220704</td>\n",
       "      <td>SK에너지</td>\n",
       "      <td>셀프</td>\n",
       "      <td>2447</td>\n",
       "      <td>2247</td>\n",
       "      <td>2277</td>\n",
       "      <td>0</td>\n",
       "    </tr>\n",
       "    <tr>\n",
       "      <th>4</th>\n",
       "      <td>A0006039</td>\n",
       "      <td>서울 강남구</td>\n",
       "      <td>(유)동하석유 힐탑셀프주유소</td>\n",
       "      <td>서울 강남구 논현로 640</td>\n",
       "      <td>20220705</td>\n",
       "      <td>SK에너지</td>\n",
       "      <td>셀프</td>\n",
       "      <td>2447</td>\n",
       "      <td>2247</td>\n",
       "      <td>2277</td>\n",
       "      <td>0</td>\n",
       "    </tr>\n",
       "  </tbody>\n",
       "</table>\n",
       "</div>"
      ],
      "text/plain": [
       "         번호      지역               상호              주소        기간     상표 셀프여부  \\\n",
       "0  A0006039  서울 강남구  (유)동하석유 힐탑셀프주유소  서울 강남구 논현로 640  20220701  SK에너지   셀프   \n",
       "1  A0006039  서울 강남구  (유)동하석유 힐탑셀프주유소  서울 강남구 논현로 640  20220702  SK에너지   셀프   \n",
       "2  A0006039  서울 강남구  (유)동하석유 힐탑셀프주유소  서울 강남구 논현로 640  20220703  SK에너지   셀프   \n",
       "3  A0006039  서울 강남구  (유)동하석유 힐탑셀프주유소  서울 강남구 논현로 640  20220704  SK에너지   셀프   \n",
       "4  A0006039  서울 강남구  (유)동하석유 힐탑셀프주유소  서울 강남구 논현로 640  20220705  SK에너지   셀프   \n",
       "\n",
       "   고급휘발유   휘발유    경유  실내등유  \n",
       "0   2487  2287  2297     0  \n",
       "1   2447  2247  2277     0  \n",
       "2   2447  2247  2277     0  \n",
       "3   2447  2247  2277     0  \n",
       "4   2447  2247  2277     0  "
      ]
     },
     "execution_count": 5,
     "metadata": {},
     "output_type": "execute_result"
    }
   ],
   "source": [
    "sh.head()"
   ]
  },
  {
   "cell_type": "code",
   "execution_count": 6,
   "metadata": {
    "ExecuteTime": {
     "end_time": "2022-06-17T04:38:27.387910Z",
     "start_time": "2022-06-17T04:38:27.374908Z"
    }
   },
   "outputs": [],
   "source": [
    "# 상반기, 하반기 DataFrame 합치기\n",
    "df = pd.concat([fh, sh], axis=0).reset_index()"
   ]
  },
  {
   "cell_type": "code",
   "execution_count": 7,
   "metadata": {
    "ExecuteTime": {
     "end_time": "2022-06-17T04:38:27.403867Z",
     "start_time": "2022-06-17T04:38:27.390875Z"
    }
   },
   "outputs": [
    {
     "name": "stdout",
     "output_type": "stream",
     "text": [
      "<class 'pandas.core.frame.DataFrame'>\n",
      "RangeIndex: 164482 entries, 0 to 164481\n",
      "Data columns (total 12 columns):\n",
      " #   Column  Non-Null Count   Dtype \n",
      "---  ------  --------------   ----- \n",
      " 0   index   164482 non-null  int64 \n",
      " 1   번호      164482 non-null  object\n",
      " 2   지역      164482 non-null  object\n",
      " 3   상호      164482 non-null  object\n",
      " 4   주소      164482 non-null  object\n",
      " 5   기간      164482 non-null  int64 \n",
      " 6   상표      164482 non-null  object\n",
      " 7   셀프여부    164482 non-null  object\n",
      " 8   고급휘발유   164482 non-null  int64 \n",
      " 9   휘발유     164482 non-null  int64 \n",
      " 10  경유      164482 non-null  int64 \n",
      " 11  실내등유    164482 non-null  int64 \n",
      "dtypes: int64(6), object(6)\n",
      "memory usage: 15.1+ MB\n"
     ]
    }
   ],
   "source": [
    "# DataFrame 기본 정보 조회\n",
    "df.info()"
   ]
  },
  {
   "cell_type": "code",
   "execution_count": 8,
   "metadata": {
    "ExecuteTime": {
     "end_time": "2022-06-17T04:38:27.419791Z",
     "start_time": "2022-06-17T04:38:27.407821Z"
    }
   },
   "outputs": [
    {
     "data": {
      "text/plain": [
       "array(['SK에너지', 'GS칼텍스', '현대오일뱅크', 'S-OIL', '알뜰주유소', '자가상표', '알뜰(ex)'],\n",
       "      dtype=object)"
      ]
     },
     "execution_count": 8,
     "metadata": {},
     "output_type": "execute_result"
    }
   ],
   "source": [
    "# 상표 컬럼의 고유값 조회\n",
    "df['상표'].unique()"
   ]
  },
  {
   "cell_type": "code",
   "execution_count": 9,
   "metadata": {
    "ExecuteTime": {
     "end_time": "2022-06-17T04:38:27.435783Z",
     "start_time": "2022-06-17T04:38:27.422780Z"
    }
   },
   "outputs": [
    {
     "data": {
      "text/plain": [
       "array(['서울 강남구', '서울 강동구', '서울 강북구', '서울 강서구', '서울 관악구', '서울 광진구',\n",
       "       '서울 구로구', '서울 금천구', '서울 노원구', '서울 도봉구', '서울 동대문구', '서울 동작구',\n",
       "       '서울 마포구', '서울 서대문구', '서울 서초구', '서울 성동구', '서울 성북구', '서울 송파구',\n",
       "       '서울 양천구', '서울 영등포구', '서울 용산구', '서울 은평구', '서울 종로구', '서울 중구',\n",
       "       '서울 중랑구'], dtype=object)"
      ]
     },
     "execution_count": 9,
     "metadata": {},
     "output_type": "execute_result"
    }
   ],
   "source": [
    "# 지역 컬럼의 고유값 조회\n",
    "df['지역'].unique()"
   ]
  },
  {
   "cell_type": "markdown",
   "metadata": {},
   "source": [
    "> ### str accessor\n",
    "> - `Series.str.String메소드()`\n",
    "> - 문자열 타입 Series에 String 메소드들을 사용하여 일괄처리 할 수 있도록 한다.\n",
    "> - str accessor 메소드 : https://pandas.pydata.org/pandas-docs/stable/reference/series.html#api-series-str\n",
    "\n",
    "> ### datetime으로 변환\n",
    "> - `pd.to_datetime(변환할 Series, format=\"날짜형식\")`\n",
    "> - x 또는 y 축이 날짜 일 경우 datetime 타입으로 처리하는 것이 좋다.\n",
    "> - format: 년월일의 형식을 strftime 형식문자열로 지정한다. \n",
    ">      - [strftime 형식](https://docs.python.org/3/library/datetime.html#strftime-and-strptime-format-codes)  \n",
    "> - datetime을 변환하면 날짜만의 기능을 다룰 수 있다.\n",
    ">     - dt accessor를 이용해 datetime의 속성값들을(년, 월, 일 등) 추출할 수 있다.\n",
    ">     - https://pandas.pydata.org/pandas-docs/stable/reference/api/pandas.Series.dt.html\n"
   ]
  },
  {
   "cell_type": "code",
   "execution_count": 10,
   "metadata": {
    "ExecuteTime": {
     "end_time": "2022-06-17T04:38:27.451702Z",
     "start_time": "2022-06-17T04:38:27.438737Z"
    }
   },
   "outputs": [],
   "source": [
    "# 지역 컬럼의 값을 이용하여 \"구\" 컬럼 생성 (지역에서 구만 추출해서 파생변수컬럼 생성)\n",
    "df['구'] = df['지역'].str.split(' ').str.get(1)"
   ]
  },
  {
   "cell_type": "code",
   "execution_count": 11,
   "metadata": {
    "ExecuteTime": {
     "end_time": "2022-06-17T04:38:27.467660Z",
     "start_time": "2022-06-17T04:38:27.454702Z"
    }
   },
   "outputs": [],
   "source": [
    "# 기간 컬럼을 datetime 타입으로 변경\n",
    "df['기간'] = pd.to_datetime(df['기간'], format='%Y%m%d')"
   ]
  },
  {
   "cell_type": "code",
   "execution_count": 12,
   "metadata": {
    "ExecuteTime": {
     "end_time": "2022-06-17T04:38:27.483617Z",
     "start_time": "2022-06-17T04:38:27.470653Z"
    }
   },
   "outputs": [],
   "source": [
    "# 기간 컬럼을 이용해 \"월\", \"일\", \"요일\" 컬럼 생성 (dt accessor 이용)\n",
    "# 요일 - 0:월, 1:화, 2:수, 3:목, 4:금, 5:토, 6:일 로 변경\n",
    "df['월'] = df['기간'].dt.month\n",
    "df['일'] = df['기간'].dt.day\n",
    "df['요일'] = df['기간'].dt.weekday"
   ]
  },
  {
   "cell_type": "code",
   "execution_count": 13,
   "metadata": {
    "ExecuteTime": {
     "end_time": "2022-06-17T04:38:27.515547Z",
     "start_time": "2022-06-17T04:38:27.505561Z"
    }
   },
   "outputs": [
    {
     "data": {
      "text/html": [
       "<div>\n",
       "<style scoped>\n",
       "    .dataframe tbody tr th:only-of-type {\n",
       "        vertical-align: middle;\n",
       "    }\n",
       "\n",
       "    .dataframe tbody tr th {\n",
       "        vertical-align: top;\n",
       "    }\n",
       "\n",
       "    .dataframe thead th {\n",
       "        text-align: right;\n",
       "    }\n",
       "</style>\n",
       "<table border=\"1\" class=\"dataframe\">\n",
       "  <thead>\n",
       "    <tr style=\"text-align: right;\">\n",
       "      <th></th>\n",
       "      <th>index</th>\n",
       "      <th>번호</th>\n",
       "      <th>지역</th>\n",
       "      <th>상호</th>\n",
       "      <th>주소</th>\n",
       "      <th>기간</th>\n",
       "      <th>상표</th>\n",
       "      <th>셀프여부</th>\n",
       "      <th>고급휘발유</th>\n",
       "      <th>휘발유</th>\n",
       "      <th>경유</th>\n",
       "      <th>실내등유</th>\n",
       "      <th>구</th>\n",
       "      <th>월</th>\n",
       "      <th>일</th>\n",
       "      <th>요일</th>\n",
       "    </tr>\n",
       "  </thead>\n",
       "  <tbody>\n",
       "    <tr>\n",
       "      <th>78935</th>\n",
       "      <td>78935</td>\n",
       "      <td>A0000767</td>\n",
       "      <td>서울 중구</td>\n",
       "      <td>서남주유소</td>\n",
       "      <td>서울 중구 통일로 30</td>\n",
       "      <td>2022-06-22</td>\n",
       "      <td>SK에너지</td>\n",
       "      <td>일반</td>\n",
       "      <td>3496</td>\n",
       "      <td>3096</td>\n",
       "      <td>3223</td>\n",
       "      <td>2719</td>\n",
       "      <td>중구</td>\n",
       "      <td>6</td>\n",
       "      <td>22</td>\n",
       "      <td>2</td>\n",
       "    </tr>\n",
       "    <tr>\n",
       "      <th>78939</th>\n",
       "      <td>78939</td>\n",
       "      <td>A0000767</td>\n",
       "      <td>서울 중구</td>\n",
       "      <td>서남주유소</td>\n",
       "      <td>서울 중구 통일로 30</td>\n",
       "      <td>2022-06-26</td>\n",
       "      <td>SK에너지</td>\n",
       "      <td>일반</td>\n",
       "      <td>3496</td>\n",
       "      <td>3096</td>\n",
       "      <td>3223</td>\n",
       "      <td>2719</td>\n",
       "      <td>중구</td>\n",
       "      <td>6</td>\n",
       "      <td>26</td>\n",
       "      <td>6</td>\n",
       "    </tr>\n",
       "    <tr>\n",
       "      <th>78937</th>\n",
       "      <td>78937</td>\n",
       "      <td>A0000767</td>\n",
       "      <td>서울 중구</td>\n",
       "      <td>서남주유소</td>\n",
       "      <td>서울 중구 통일로 30</td>\n",
       "      <td>2022-06-24</td>\n",
       "      <td>SK에너지</td>\n",
       "      <td>일반</td>\n",
       "      <td>3496</td>\n",
       "      <td>3096</td>\n",
       "      <td>3223</td>\n",
       "      <td>2719</td>\n",
       "      <td>중구</td>\n",
       "      <td>6</td>\n",
       "      <td>24</td>\n",
       "      <td>4</td>\n",
       "    </tr>\n",
       "    <tr>\n",
       "      <th>78936</th>\n",
       "      <td>78936</td>\n",
       "      <td>A0000767</td>\n",
       "      <td>서울 중구</td>\n",
       "      <td>서남주유소</td>\n",
       "      <td>서울 중구 통일로 30</td>\n",
       "      <td>2022-06-23</td>\n",
       "      <td>SK에너지</td>\n",
       "      <td>일반</td>\n",
       "      <td>3496</td>\n",
       "      <td>3096</td>\n",
       "      <td>3223</td>\n",
       "      <td>2719</td>\n",
       "      <td>중구</td>\n",
       "      <td>6</td>\n",
       "      <td>23</td>\n",
       "      <td>3</td>\n",
       "    </tr>\n",
       "    <tr>\n",
       "      <th>78940</th>\n",
       "      <td>78940</td>\n",
       "      <td>A0000767</td>\n",
       "      <td>서울 중구</td>\n",
       "      <td>서남주유소</td>\n",
       "      <td>서울 중구 통일로 30</td>\n",
       "      <td>2022-06-27</td>\n",
       "      <td>SK에너지</td>\n",
       "      <td>일반</td>\n",
       "      <td>3496</td>\n",
       "      <td>3096</td>\n",
       "      <td>3223</td>\n",
       "      <td>2719</td>\n",
       "      <td>중구</td>\n",
       "      <td>6</td>\n",
       "      <td>27</td>\n",
       "      <td>0</td>\n",
       "    </tr>\n",
       "  </tbody>\n",
       "</table>\n",
       "</div>"
      ],
      "text/plain": [
       "       index        번호     지역     상호            주소         기간     상표 셀프여부  \\\n",
       "78935  78935  A0000767  서울 중구  서남주유소  서울 중구 통일로 30 2022-06-22  SK에너지   일반   \n",
       "78939  78939  A0000767  서울 중구  서남주유소  서울 중구 통일로 30 2022-06-26  SK에너지   일반   \n",
       "78937  78937  A0000767  서울 중구  서남주유소  서울 중구 통일로 30 2022-06-24  SK에너지   일반   \n",
       "78936  78936  A0000767  서울 중구  서남주유소  서울 중구 통일로 30 2022-06-23  SK에너지   일반   \n",
       "78940  78940  A0000767  서울 중구  서남주유소  서울 중구 통일로 30 2022-06-27  SK에너지   일반   \n",
       "\n",
       "       고급휘발유   휘발유    경유  실내등유   구  월   일  요일  \n",
       "78935   3496  3096  3223  2719  중구  6  22   2  \n",
       "78939   3496  3096  3223  2719  중구  6  26   6  \n",
       "78937   3496  3096  3223  2719  중구  6  24   4  \n",
       "78936   3496  3096  3223  2719  중구  6  23   3  \n",
       "78940   3496  3096  3223  2719  중구  6  27   0  "
      ]
     },
     "execution_count": 13,
     "metadata": {},
     "output_type": "execute_result"
    }
   ],
   "source": [
    "# 휘발유 가격이 가장 비싼 5개 행 조회\n",
    "df.sort_values('휘발유', ascending=False).head(5)"
   ]
  },
  {
   "cell_type": "code",
   "execution_count": 14,
   "metadata": {
    "ExecuteTime": {
     "end_time": "2022-06-17T04:38:27.531491Z",
     "start_time": "2022-06-17T04:38:27.520519Z"
    }
   },
   "outputs": [
    {
     "data": {
      "text/html": [
       "<div>\n",
       "<style scoped>\n",
       "    .dataframe tbody tr th:only-of-type {\n",
       "        vertical-align: middle;\n",
       "    }\n",
       "\n",
       "    .dataframe tbody tr th {\n",
       "        vertical-align: top;\n",
       "    }\n",
       "\n",
       "    .dataframe thead th {\n",
       "        text-align: right;\n",
       "    }\n",
       "</style>\n",
       "<table border=\"1\" class=\"dataframe\">\n",
       "  <thead>\n",
       "    <tr style=\"text-align: right;\">\n",
       "      <th></th>\n",
       "      <th>index</th>\n",
       "      <th>번호</th>\n",
       "      <th>지역</th>\n",
       "      <th>상호</th>\n",
       "      <th>주소</th>\n",
       "      <th>기간</th>\n",
       "      <th>상표</th>\n",
       "      <th>셀프여부</th>\n",
       "      <th>고급휘발유</th>\n",
       "      <th>휘발유</th>\n",
       "      <th>경유</th>\n",
       "      <th>실내등유</th>\n",
       "      <th>구</th>\n",
       "      <th>월</th>\n",
       "      <th>일</th>\n",
       "      <th>요일</th>\n",
       "    </tr>\n",
       "  </thead>\n",
       "  <tbody>\n",
       "    <tr>\n",
       "      <th>99498</th>\n",
       "      <td>16809</td>\n",
       "      <td>A0000519</td>\n",
       "      <td>서울 강서구</td>\n",
       "      <td>화곡역주유소</td>\n",
       "      <td>서울 강서구 강서로 154 (화곡동)</td>\n",
       "      <td>2022-12-27</td>\n",
       "      <td>알뜰주유소</td>\n",
       "      <td>셀프</td>\n",
       "      <td>0</td>\n",
       "      <td>1410</td>\n",
       "      <td>1660</td>\n",
       "      <td>0</td>\n",
       "      <td>강서구</td>\n",
       "      <td>12</td>\n",
       "      <td>27</td>\n",
       "      <td>1</td>\n",
       "    </tr>\n",
       "    <tr>\n",
       "      <th>97839</th>\n",
       "      <td>15150</td>\n",
       "      <td>A0000549</td>\n",
       "      <td>서울 강서구</td>\n",
       "      <td>이케이에너지(주) 강서주유소</td>\n",
       "      <td>서울 강서구 화곡로 273 (화곡동)</td>\n",
       "      <td>2022-12-24</td>\n",
       "      <td>현대오일뱅크</td>\n",
       "      <td>셀프</td>\n",
       "      <td>0</td>\n",
       "      <td>1410</td>\n",
       "      <td>1660</td>\n",
       "      <td>0</td>\n",
       "      <td>강서구</td>\n",
       "      <td>12</td>\n",
       "      <td>24</td>\n",
       "      <td>5</td>\n",
       "    </tr>\n",
       "    <tr>\n",
       "      <th>97840</th>\n",
       "      <td>15151</td>\n",
       "      <td>A0000549</td>\n",
       "      <td>서울 강서구</td>\n",
       "      <td>이케이에너지(주) 강서주유소</td>\n",
       "      <td>서울 강서구 화곡로 273 (화곡동)</td>\n",
       "      <td>2022-12-25</td>\n",
       "      <td>현대오일뱅크</td>\n",
       "      <td>셀프</td>\n",
       "      <td>0</td>\n",
       "      <td>1410</td>\n",
       "      <td>1660</td>\n",
       "      <td>0</td>\n",
       "      <td>강서구</td>\n",
       "      <td>12</td>\n",
       "      <td>25</td>\n",
       "      <td>6</td>\n",
       "    </tr>\n",
       "    <tr>\n",
       "      <th>148433</th>\n",
       "      <td>65744</td>\n",
       "      <td>A0001005</td>\n",
       "      <td>서울 양천구</td>\n",
       "      <td>현대주유소</td>\n",
       "      <td>서울 양천구 남부순환로 372 (신월동)</td>\n",
       "      <td>2022-12-26</td>\n",
       "      <td>S-OIL</td>\n",
       "      <td>셀프</td>\n",
       "      <td>0</td>\n",
       "      <td>1410</td>\n",
       "      <td>1660</td>\n",
       "      <td>0</td>\n",
       "      <td>양천구</td>\n",
       "      <td>12</td>\n",
       "      <td>26</td>\n",
       "      <td>0</td>\n",
       "    </tr>\n",
       "    <tr>\n",
       "      <th>97838</th>\n",
       "      <td>15149</td>\n",
       "      <td>A0000549</td>\n",
       "      <td>서울 강서구</td>\n",
       "      <td>이케이에너지(주) 강서주유소</td>\n",
       "      <td>서울 강서구 화곡로 273 (화곡동)</td>\n",
       "      <td>2022-12-23</td>\n",
       "      <td>현대오일뱅크</td>\n",
       "      <td>셀프</td>\n",
       "      <td>0</td>\n",
       "      <td>1410</td>\n",
       "      <td>1660</td>\n",
       "      <td>0</td>\n",
       "      <td>강서구</td>\n",
       "      <td>12</td>\n",
       "      <td>23</td>\n",
       "      <td>4</td>\n",
       "    </tr>\n",
       "  </tbody>\n",
       "</table>\n",
       "</div>"
      ],
      "text/plain": [
       "        index        번호      지역               상호                      주소  \\\n",
       "99498   16809  A0000519  서울 강서구           화곡역주유소    서울 강서구 강서로 154 (화곡동)   \n",
       "97839   15150  A0000549  서울 강서구  이케이에너지(주) 강서주유소    서울 강서구 화곡로 273 (화곡동)   \n",
       "97840   15151  A0000549  서울 강서구  이케이에너지(주) 강서주유소    서울 강서구 화곡로 273 (화곡동)   \n",
       "148433  65744  A0001005  서울 양천구            현대주유소  서울 양천구 남부순환로 372 (신월동)   \n",
       "97838   15149  A0000549  서울 강서구  이케이에너지(주) 강서주유소    서울 강서구 화곡로 273 (화곡동)   \n",
       "\n",
       "               기간      상표 셀프여부  고급휘발유   휘발유    경유  실내등유    구   월   일  요일  \n",
       "99498  2022-12-27   알뜰주유소   셀프      0  1410  1660     0  강서구  12  27   1  \n",
       "97839  2022-12-24  현대오일뱅크   셀프      0  1410  1660     0  강서구  12  24   5  \n",
       "97840  2022-12-25  현대오일뱅크   셀프      0  1410  1660     0  강서구  12  25   6  \n",
       "148433 2022-12-26   S-OIL   셀프      0  1410  1660     0  양천구  12  26   0  \n",
       "97838  2022-12-23  현대오일뱅크   셀프      0  1410  1660     0  강서구  12  23   4  "
      ]
     },
     "execution_count": 14,
     "metadata": {},
     "output_type": "execute_result"
    }
   ],
   "source": [
    "# 휘발유 가격이 가장 저렴한 5개 행 조회 (단 0원인 주유소 제외)\n",
    "df.loc[df['휘발유']!=0, ].sort_values('휘발유').head(5)"
   ]
  },
  {
   "cell_type": "code",
   "execution_count": 15,
   "metadata": {
    "ExecuteTime": {
     "end_time": "2022-06-17T04:38:27.547464Z",
     "start_time": "2022-06-17T04:38:27.535482Z"
    }
   },
   "outputs": [
    {
     "data": {
      "text/html": [
       "<div>\n",
       "<style scoped>\n",
       "    .dataframe tbody tr th:only-of-type {\n",
       "        vertical-align: middle;\n",
       "    }\n",
       "\n",
       "    .dataframe tbody tr th {\n",
       "        vertical-align: top;\n",
       "    }\n",
       "\n",
       "    .dataframe thead th {\n",
       "        text-align: right;\n",
       "    }\n",
       "</style>\n",
       "<table border=\"1\" class=\"dataframe\">\n",
       "  <thead>\n",
       "    <tr style=\"text-align: right;\">\n",
       "      <th></th>\n",
       "      <th>index</th>\n",
       "      <th>번호</th>\n",
       "      <th>지역</th>\n",
       "      <th>상호</th>\n",
       "      <th>주소</th>\n",
       "      <th>기간</th>\n",
       "      <th>상표</th>\n",
       "      <th>셀프여부</th>\n",
       "      <th>고급휘발유</th>\n",
       "      <th>휘발유</th>\n",
       "      <th>경유</th>\n",
       "      <th>실내등유</th>\n",
       "      <th>구</th>\n",
       "      <th>월</th>\n",
       "      <th>일</th>\n",
       "      <th>요일</th>\n",
       "    </tr>\n",
       "  </thead>\n",
       "  <tbody>\n",
       "    <tr>\n",
       "      <th>78940</th>\n",
       "      <td>78940</td>\n",
       "      <td>A0000767</td>\n",
       "      <td>서울 중구</td>\n",
       "      <td>서남주유소</td>\n",
       "      <td>서울 중구 통일로 30</td>\n",
       "      <td>2022-06-27</td>\n",
       "      <td>SK에너지</td>\n",
       "      <td>일반</td>\n",
       "      <td>3496</td>\n",
       "      <td>3096</td>\n",
       "      <td>3223</td>\n",
       "      <td>2719</td>\n",
       "      <td>중구</td>\n",
       "      <td>6</td>\n",
       "      <td>27</td>\n",
       "      <td>0</td>\n",
       "    </tr>\n",
       "    <tr>\n",
       "      <th>78939</th>\n",
       "      <td>78939</td>\n",
       "      <td>A0000767</td>\n",
       "      <td>서울 중구</td>\n",
       "      <td>서남주유소</td>\n",
       "      <td>서울 중구 통일로 30</td>\n",
       "      <td>2022-06-26</td>\n",
       "      <td>SK에너지</td>\n",
       "      <td>일반</td>\n",
       "      <td>3496</td>\n",
       "      <td>3096</td>\n",
       "      <td>3223</td>\n",
       "      <td>2719</td>\n",
       "      <td>중구</td>\n",
       "      <td>6</td>\n",
       "      <td>26</td>\n",
       "      <td>6</td>\n",
       "    </tr>\n",
       "    <tr>\n",
       "      <th>78938</th>\n",
       "      <td>78938</td>\n",
       "      <td>A0000767</td>\n",
       "      <td>서울 중구</td>\n",
       "      <td>서남주유소</td>\n",
       "      <td>서울 중구 통일로 30</td>\n",
       "      <td>2022-06-25</td>\n",
       "      <td>SK에너지</td>\n",
       "      <td>일반</td>\n",
       "      <td>3496</td>\n",
       "      <td>3096</td>\n",
       "      <td>3223</td>\n",
       "      <td>2719</td>\n",
       "      <td>중구</td>\n",
       "      <td>6</td>\n",
       "      <td>25</td>\n",
       "      <td>5</td>\n",
       "    </tr>\n",
       "    <tr>\n",
       "      <th>78937</th>\n",
       "      <td>78937</td>\n",
       "      <td>A0000767</td>\n",
       "      <td>서울 중구</td>\n",
       "      <td>서남주유소</td>\n",
       "      <td>서울 중구 통일로 30</td>\n",
       "      <td>2022-06-24</td>\n",
       "      <td>SK에너지</td>\n",
       "      <td>일반</td>\n",
       "      <td>3496</td>\n",
       "      <td>3096</td>\n",
       "      <td>3223</td>\n",
       "      <td>2719</td>\n",
       "      <td>중구</td>\n",
       "      <td>6</td>\n",
       "      <td>24</td>\n",
       "      <td>4</td>\n",
       "    </tr>\n",
       "    <tr>\n",
       "      <th>78936</th>\n",
       "      <td>78936</td>\n",
       "      <td>A0000767</td>\n",
       "      <td>서울 중구</td>\n",
       "      <td>서남주유소</td>\n",
       "      <td>서울 중구 통일로 30</td>\n",
       "      <td>2022-06-23</td>\n",
       "      <td>SK에너지</td>\n",
       "      <td>일반</td>\n",
       "      <td>3496</td>\n",
       "      <td>3096</td>\n",
       "      <td>3223</td>\n",
       "      <td>2719</td>\n",
       "      <td>중구</td>\n",
       "      <td>6</td>\n",
       "      <td>23</td>\n",
       "      <td>3</td>\n",
       "    </tr>\n",
       "  </tbody>\n",
       "</table>\n",
       "</div>"
      ],
      "text/plain": [
       "       index        번호     지역     상호            주소         기간     상표 셀프여부  \\\n",
       "78940  78940  A0000767  서울 중구  서남주유소  서울 중구 통일로 30 2022-06-27  SK에너지   일반   \n",
       "78939  78939  A0000767  서울 중구  서남주유소  서울 중구 통일로 30 2022-06-26  SK에너지   일반   \n",
       "78938  78938  A0000767  서울 중구  서남주유소  서울 중구 통일로 30 2022-06-25  SK에너지   일반   \n",
       "78937  78937  A0000767  서울 중구  서남주유소  서울 중구 통일로 30 2022-06-24  SK에너지   일반   \n",
       "78936  78936  A0000767  서울 중구  서남주유소  서울 중구 통일로 30 2022-06-23  SK에너지   일반   \n",
       "\n",
       "       고급휘발유   휘발유    경유  실내등유   구  월   일  요일  \n",
       "78940   3496  3096  3223  2719  중구  6  27   0  \n",
       "78939   3496  3096  3223  2719  중구  6  26   6  \n",
       "78938   3496  3096  3223  2719  중구  6  25   5  \n",
       "78937   3496  3096  3223  2719  중구  6  24   4  \n",
       "78936   3496  3096  3223  2719  중구  6  23   3  "
      ]
     },
     "execution_count": 15,
     "metadata": {},
     "output_type": "execute_result"
    }
   ],
   "source": [
    "# 고급휘발유 가격이 가장 비싼 5개 행 조회\n",
    "df.sort_values('고급휘발유', ascending=False).head(5)"
   ]
  },
  {
   "cell_type": "code",
   "execution_count": 16,
   "metadata": {
    "ExecuteTime": {
     "end_time": "2022-06-17T04:38:27.563404Z",
     "start_time": "2022-06-17T04:38:27.557420Z"
    }
   },
   "outputs": [
    {
     "data": {
      "text/html": [
       "<div>\n",
       "<style scoped>\n",
       "    .dataframe tbody tr th:only-of-type {\n",
       "        vertical-align: middle;\n",
       "    }\n",
       "\n",
       "    .dataframe tbody tr th {\n",
       "        vertical-align: top;\n",
       "    }\n",
       "\n",
       "    .dataframe thead th {\n",
       "        text-align: right;\n",
       "    }\n",
       "</style>\n",
       "<table border=\"1\" class=\"dataframe\">\n",
       "  <thead>\n",
       "    <tr style=\"text-align: right;\">\n",
       "      <th></th>\n",
       "      <th>index</th>\n",
       "      <th>번호</th>\n",
       "      <th>지역</th>\n",
       "      <th>상호</th>\n",
       "      <th>주소</th>\n",
       "      <th>기간</th>\n",
       "      <th>상표</th>\n",
       "      <th>셀프여부</th>\n",
       "      <th>고급휘발유</th>\n",
       "      <th>휘발유</th>\n",
       "      <th>경유</th>\n",
       "      <th>실내등유</th>\n",
       "      <th>구</th>\n",
       "      <th>월</th>\n",
       "      <th>일</th>\n",
       "      <th>요일</th>\n",
       "    </tr>\n",
       "  </thead>\n",
       "  <tbody>\n",
       "    <tr>\n",
       "      <th>98571</th>\n",
       "      <td>15882</td>\n",
       "      <td>A0000520</td>\n",
       "      <td>서울 강서구</td>\n",
       "      <td>하이웨이주유소</td>\n",
       "      <td>서울특별시 강서구 공항대로 432(화곡동)</td>\n",
       "      <td>2022-12-20</td>\n",
       "      <td>S-OIL</td>\n",
       "      <td>셀프</td>\n",
       "      <td>1599</td>\n",
       "      <td>1527</td>\n",
       "      <td>1787</td>\n",
       "      <td>0</td>\n",
       "      <td>강서구</td>\n",
       "      <td>12</td>\n",
       "      <td>20</td>\n",
       "      <td>1</td>\n",
       "    </tr>\n",
       "    <tr>\n",
       "      <th>98572</th>\n",
       "      <td>15883</td>\n",
       "      <td>A0000520</td>\n",
       "      <td>서울 강서구</td>\n",
       "      <td>하이웨이주유소</td>\n",
       "      <td>서울특별시 강서구 공항대로 432(화곡동)</td>\n",
       "      <td>2022-12-21</td>\n",
       "      <td>S-OIL</td>\n",
       "      <td>셀프</td>\n",
       "      <td>1599</td>\n",
       "      <td>1499</td>\n",
       "      <td>1759</td>\n",
       "      <td>0</td>\n",
       "      <td>강서구</td>\n",
       "      <td>12</td>\n",
       "      <td>21</td>\n",
       "      <td>2</td>\n",
       "    </tr>\n",
       "    <tr>\n",
       "      <th>98573</th>\n",
       "      <td>15884</td>\n",
       "      <td>A0000520</td>\n",
       "      <td>서울 강서구</td>\n",
       "      <td>하이웨이주유소</td>\n",
       "      <td>서울특별시 강서구 공항대로 432(화곡동)</td>\n",
       "      <td>2022-12-22</td>\n",
       "      <td>S-OIL</td>\n",
       "      <td>셀프</td>\n",
       "      <td>1599</td>\n",
       "      <td>1499</td>\n",
       "      <td>1759</td>\n",
       "      <td>0</td>\n",
       "      <td>강서구</td>\n",
       "      <td>12</td>\n",
       "      <td>22</td>\n",
       "      <td>3</td>\n",
       "    </tr>\n",
       "    <tr>\n",
       "      <th>98574</th>\n",
       "      <td>15885</td>\n",
       "      <td>A0000520</td>\n",
       "      <td>서울 강서구</td>\n",
       "      <td>하이웨이주유소</td>\n",
       "      <td>서울특별시 강서구 공항대로 432(화곡동)</td>\n",
       "      <td>2022-12-23</td>\n",
       "      <td>S-OIL</td>\n",
       "      <td>셀프</td>\n",
       "      <td>1599</td>\n",
       "      <td>1499</td>\n",
       "      <td>1729</td>\n",
       "      <td>0</td>\n",
       "      <td>강서구</td>\n",
       "      <td>12</td>\n",
       "      <td>23</td>\n",
       "      <td>4</td>\n",
       "    </tr>\n",
       "    <tr>\n",
       "      <th>98575</th>\n",
       "      <td>15886</td>\n",
       "      <td>A0000520</td>\n",
       "      <td>서울 강서구</td>\n",
       "      <td>하이웨이주유소</td>\n",
       "      <td>서울특별시 강서구 공항대로 432(화곡동)</td>\n",
       "      <td>2022-12-24</td>\n",
       "      <td>S-OIL</td>\n",
       "      <td>셀프</td>\n",
       "      <td>1599</td>\n",
       "      <td>1499</td>\n",
       "      <td>1729</td>\n",
       "      <td>0</td>\n",
       "      <td>강서구</td>\n",
       "      <td>12</td>\n",
       "      <td>24</td>\n",
       "      <td>5</td>\n",
       "    </tr>\n",
       "  </tbody>\n",
       "</table>\n",
       "</div>"
      ],
      "text/plain": [
       "       index        번호      지역       상호                       주소         기간  \\\n",
       "98571  15882  A0000520  서울 강서구  하이웨이주유소  서울특별시 강서구 공항대로 432(화곡동) 2022-12-20   \n",
       "98572  15883  A0000520  서울 강서구  하이웨이주유소  서울특별시 강서구 공항대로 432(화곡동) 2022-12-21   \n",
       "98573  15884  A0000520  서울 강서구  하이웨이주유소  서울특별시 강서구 공항대로 432(화곡동) 2022-12-22   \n",
       "98574  15885  A0000520  서울 강서구  하이웨이주유소  서울특별시 강서구 공항대로 432(화곡동) 2022-12-23   \n",
       "98575  15886  A0000520  서울 강서구  하이웨이주유소  서울특별시 강서구 공항대로 432(화곡동) 2022-12-24   \n",
       "\n",
       "          상표 셀프여부  고급휘발유   휘발유    경유  실내등유    구   월   일  요일  \n",
       "98571  S-OIL   셀프   1599  1527  1787     0  강서구  12  20   1  \n",
       "98572  S-OIL   셀프   1599  1499  1759     0  강서구  12  21   2  \n",
       "98573  S-OIL   셀프   1599  1499  1759     0  강서구  12  22   3  \n",
       "98574  S-OIL   셀프   1599  1499  1729     0  강서구  12  23   4  \n",
       "98575  S-OIL   셀프   1599  1499  1729     0  강서구  12  24   5  "
      ]
     },
     "execution_count": 16,
     "metadata": {},
     "output_type": "execute_result"
    }
   ],
   "source": [
    "# 고급휘발유 가격이 가장 저렴한 5개 행 조회 (단 0원인 주유소 제외)\n",
    "df.loc[df['고급휘발유']!=0, ].sort_values('고급휘발유').head(5)"
   ]
  },
  {
   "cell_type": "code",
   "execution_count": 17,
   "metadata": {
    "ExecuteTime": {
     "end_time": "2022-06-17T04:38:27.579370Z",
     "start_time": "2022-06-17T04:38:27.566396Z"
    }
   },
   "outputs": [
    {
     "data": {
      "text/html": [
       "<div>\n",
       "<style scoped>\n",
       "    .dataframe tbody tr th:only-of-type {\n",
       "        vertical-align: middle;\n",
       "    }\n",
       "\n",
       "    .dataframe tbody tr th {\n",
       "        vertical-align: top;\n",
       "    }\n",
       "\n",
       "    .dataframe thead th {\n",
       "        text-align: right;\n",
       "    }\n",
       "</style>\n",
       "<table border=\"1\" class=\"dataframe\">\n",
       "  <thead>\n",
       "    <tr style=\"text-align: right;\">\n",
       "      <th></th>\n",
       "      <th>index</th>\n",
       "      <th>번호</th>\n",
       "      <th>지역</th>\n",
       "      <th>상호</th>\n",
       "      <th>주소</th>\n",
       "      <th>기간</th>\n",
       "      <th>상표</th>\n",
       "      <th>셀프여부</th>\n",
       "      <th>고급휘발유</th>\n",
       "      <th>휘발유</th>\n",
       "      <th>경유</th>\n",
       "      <th>실내등유</th>\n",
       "      <th>구</th>\n",
       "      <th>월</th>\n",
       "      <th>일</th>\n",
       "      <th>요일</th>\n",
       "    </tr>\n",
       "  </thead>\n",
       "  <tbody>\n",
       "    <tr>\n",
       "      <th>78942</th>\n",
       "      <td>78942</td>\n",
       "      <td>A0000767</td>\n",
       "      <td>서울 중구</td>\n",
       "      <td>서남주유소</td>\n",
       "      <td>서울 중구 통일로 30</td>\n",
       "      <td>2022-06-29</td>\n",
       "      <td>SK에너지</td>\n",
       "      <td>일반</td>\n",
       "      <td>3481</td>\n",
       "      <td>3081</td>\n",
       "      <td>3230</td>\n",
       "      <td>2703</td>\n",
       "      <td>중구</td>\n",
       "      <td>6</td>\n",
       "      <td>29</td>\n",
       "      <td>2</td>\n",
       "    </tr>\n",
       "    <tr>\n",
       "      <th>160618</th>\n",
       "      <td>77929</td>\n",
       "      <td>A0000767</td>\n",
       "      <td>서울 중구</td>\n",
       "      <td>서남주유소</td>\n",
       "      <td>서울 중구 통일로 30</td>\n",
       "      <td>2022-07-01</td>\n",
       "      <td>SK에너지</td>\n",
       "      <td>일반</td>\n",
       "      <td>3481</td>\n",
       "      <td>3081</td>\n",
       "      <td>3230</td>\n",
       "      <td>2703</td>\n",
       "      <td>중구</td>\n",
       "      <td>7</td>\n",
       "      <td>1</td>\n",
       "      <td>4</td>\n",
       "    </tr>\n",
       "    <tr>\n",
       "      <th>78941</th>\n",
       "      <td>78941</td>\n",
       "      <td>A0000767</td>\n",
       "      <td>서울 중구</td>\n",
       "      <td>서남주유소</td>\n",
       "      <td>서울 중구 통일로 30</td>\n",
       "      <td>2022-06-28</td>\n",
       "      <td>SK에너지</td>\n",
       "      <td>일반</td>\n",
       "      <td>3481</td>\n",
       "      <td>3081</td>\n",
       "      <td>3230</td>\n",
       "      <td>2703</td>\n",
       "      <td>중구</td>\n",
       "      <td>6</td>\n",
       "      <td>28</td>\n",
       "      <td>1</td>\n",
       "    </tr>\n",
       "    <tr>\n",
       "      <th>78943</th>\n",
       "      <td>78943</td>\n",
       "      <td>A0000767</td>\n",
       "      <td>서울 중구</td>\n",
       "      <td>서남주유소</td>\n",
       "      <td>서울 중구 통일로 30</td>\n",
       "      <td>2022-06-30</td>\n",
       "      <td>SK에너지</td>\n",
       "      <td>일반</td>\n",
       "      <td>3481</td>\n",
       "      <td>3081</td>\n",
       "      <td>3230</td>\n",
       "      <td>2703</td>\n",
       "      <td>중구</td>\n",
       "      <td>6</td>\n",
       "      <td>30</td>\n",
       "      <td>3</td>\n",
       "    </tr>\n",
       "    <tr>\n",
       "      <th>160621</th>\n",
       "      <td>77932</td>\n",
       "      <td>A0000767</td>\n",
       "      <td>서울 중구</td>\n",
       "      <td>서남주유소</td>\n",
       "      <td>서울 중구 통일로 30</td>\n",
       "      <td>2022-07-04</td>\n",
       "      <td>SK에너지</td>\n",
       "      <td>일반</td>\n",
       "      <td>3481</td>\n",
       "      <td>3081</td>\n",
       "      <td>3230</td>\n",
       "      <td>2703</td>\n",
       "      <td>중구</td>\n",
       "      <td>7</td>\n",
       "      <td>4</td>\n",
       "      <td>0</td>\n",
       "    </tr>\n",
       "  </tbody>\n",
       "</table>\n",
       "</div>"
      ],
      "text/plain": [
       "        index        번호     지역     상호            주소         기간     상표 셀프여부  \\\n",
       "78942   78942  A0000767  서울 중구  서남주유소  서울 중구 통일로 30 2022-06-29  SK에너지   일반   \n",
       "160618  77929  A0000767  서울 중구  서남주유소  서울 중구 통일로 30 2022-07-01  SK에너지   일반   \n",
       "78941   78941  A0000767  서울 중구  서남주유소  서울 중구 통일로 30 2022-06-28  SK에너지   일반   \n",
       "78943   78943  A0000767  서울 중구  서남주유소  서울 중구 통일로 30 2022-06-30  SK에너지   일반   \n",
       "160621  77932  A0000767  서울 중구  서남주유소  서울 중구 통일로 30 2022-07-04  SK에너지   일반   \n",
       "\n",
       "        고급휘발유   휘발유    경유  실내등유   구  월   일  요일  \n",
       "78942    3481  3081  3230  2703  중구  6  29   2  \n",
       "160618   3481  3081  3230  2703  중구  7   1   4  \n",
       "78941    3481  3081  3230  2703  중구  6  28   1  \n",
       "78943    3481  3081  3230  2703  중구  6  30   3  \n",
       "160621   3481  3081  3230  2703  중구  7   4   0  "
      ]
     },
     "execution_count": 17,
     "metadata": {},
     "output_type": "execute_result"
    }
   ],
   "source": [
    "# 경유 가격이 가장 비싼 5개 행 조회\n",
    "df.sort_values('경유', ascending=False).head(5)"
   ]
  },
  {
   "cell_type": "code",
   "execution_count": 18,
   "metadata": {
    "ExecuteTime": {
     "end_time": "2022-06-17T04:38:27.595319Z",
     "start_time": "2022-06-17T04:38:27.582353Z"
    }
   },
   "outputs": [
    {
     "data": {
      "text/html": [
       "<div>\n",
       "<style scoped>\n",
       "    .dataframe tbody tr th:only-of-type {\n",
       "        vertical-align: middle;\n",
       "    }\n",
       "\n",
       "    .dataframe tbody tr th {\n",
       "        vertical-align: top;\n",
       "    }\n",
       "\n",
       "    .dataframe thead th {\n",
       "        text-align: right;\n",
       "    }\n",
       "</style>\n",
       "<table border=\"1\" class=\"dataframe\">\n",
       "  <thead>\n",
       "    <tr style=\"text-align: right;\">\n",
       "      <th></th>\n",
       "      <th>index</th>\n",
       "      <th>번호</th>\n",
       "      <th>지역</th>\n",
       "      <th>상호</th>\n",
       "      <th>주소</th>\n",
       "      <th>기간</th>\n",
       "      <th>상표</th>\n",
       "      <th>셀프여부</th>\n",
       "      <th>고급휘발유</th>\n",
       "      <th>휘발유</th>\n",
       "      <th>경유</th>\n",
       "      <th>실내등유</th>\n",
       "      <th>구</th>\n",
       "      <th>월</th>\n",
       "      <th>일</th>\n",
       "      <th>요일</th>\n",
       "    </tr>\n",
       "  </thead>\n",
       "  <tbody>\n",
       "    <tr>\n",
       "      <th>45209</th>\n",
       "      <td>45209</td>\n",
       "      <td>A0011826</td>\n",
       "      <td>서울 서초구</td>\n",
       "      <td>만남의광장주유소</td>\n",
       "      <td>서울 서초구 양재대로12길 73-71</td>\n",
       "      <td>2022-01-16</td>\n",
       "      <td>알뜰(ex)</td>\n",
       "      <td>셀프</td>\n",
       "      <td>0</td>\n",
       "      <td>1565</td>\n",
       "      <td>1367</td>\n",
       "      <td>0</td>\n",
       "      <td>서초구</td>\n",
       "      <td>1</td>\n",
       "      <td>16</td>\n",
       "      <td>6</td>\n",
       "    </tr>\n",
       "    <tr>\n",
       "      <th>12343</th>\n",
       "      <td>12343</td>\n",
       "      <td>A0004657</td>\n",
       "      <td>서울 강서구</td>\n",
       "      <td>뉴신정주유소</td>\n",
       "      <td>서울 강서구 곰달래로 207 (화곡동)</td>\n",
       "      <td>2022-01-11</td>\n",
       "      <td>알뜰주유소</td>\n",
       "      <td>일반</td>\n",
       "      <td>0</td>\n",
       "      <td>1547</td>\n",
       "      <td>1377</td>\n",
       "      <td>0</td>\n",
       "      <td>강서구</td>\n",
       "      <td>1</td>\n",
       "      <td>11</td>\n",
       "      <td>1</td>\n",
       "    </tr>\n",
       "    <tr>\n",
       "      <th>12344</th>\n",
       "      <td>12344</td>\n",
       "      <td>A0004657</td>\n",
       "      <td>서울 강서구</td>\n",
       "      <td>뉴신정주유소</td>\n",
       "      <td>서울 강서구 곰달래로 207 (화곡동)</td>\n",
       "      <td>2022-01-12</td>\n",
       "      <td>알뜰주유소</td>\n",
       "      <td>일반</td>\n",
       "      <td>0</td>\n",
       "      <td>1547</td>\n",
       "      <td>1377</td>\n",
       "      <td>0</td>\n",
       "      <td>강서구</td>\n",
       "      <td>1</td>\n",
       "      <td>12</td>\n",
       "      <td>2</td>\n",
       "    </tr>\n",
       "    <tr>\n",
       "      <th>12345</th>\n",
       "      <td>12345</td>\n",
       "      <td>A0004657</td>\n",
       "      <td>서울 강서구</td>\n",
       "      <td>뉴신정주유소</td>\n",
       "      <td>서울 강서구 곰달래로 207 (화곡동)</td>\n",
       "      <td>2022-01-13</td>\n",
       "      <td>알뜰주유소</td>\n",
       "      <td>일반</td>\n",
       "      <td>0</td>\n",
       "      <td>1547</td>\n",
       "      <td>1377</td>\n",
       "      <td>0</td>\n",
       "      <td>강서구</td>\n",
       "      <td>1</td>\n",
       "      <td>13</td>\n",
       "      <td>3</td>\n",
       "    </tr>\n",
       "    <tr>\n",
       "      <th>16318</th>\n",
       "      <td>16318</td>\n",
       "      <td>A0000519</td>\n",
       "      <td>서울 강서구</td>\n",
       "      <td>화곡역주유소</td>\n",
       "      <td>서울 강서구 강서로 154 (화곡동)</td>\n",
       "      <td>2022-01-06</td>\n",
       "      <td>알뜰주유소</td>\n",
       "      <td>셀프</td>\n",
       "      <td>0</td>\n",
       "      <td>1547</td>\n",
       "      <td>1377</td>\n",
       "      <td>0</td>\n",
       "      <td>강서구</td>\n",
       "      <td>1</td>\n",
       "      <td>6</td>\n",
       "      <td>3</td>\n",
       "    </tr>\n",
       "  </tbody>\n",
       "</table>\n",
       "</div>"
      ],
      "text/plain": [
       "       index        번호      지역        상호                     주소         기간  \\\n",
       "45209  45209  A0011826  서울 서초구  만남의광장주유소   서울 서초구 양재대로12길 73-71 2022-01-16   \n",
       "12343  12343  A0004657  서울 강서구    뉴신정주유소  서울 강서구 곰달래로 207 (화곡동) 2022-01-11   \n",
       "12344  12344  A0004657  서울 강서구    뉴신정주유소  서울 강서구 곰달래로 207 (화곡동) 2022-01-12   \n",
       "12345  12345  A0004657  서울 강서구    뉴신정주유소  서울 강서구 곰달래로 207 (화곡동) 2022-01-13   \n",
       "16318  16318  A0000519  서울 강서구    화곡역주유소   서울 강서구 강서로 154 (화곡동) 2022-01-06   \n",
       "\n",
       "           상표 셀프여부  고급휘발유   휘발유    경유  실내등유    구  월   일  요일  \n",
       "45209  알뜰(ex)   셀프      0  1565  1367     0  서초구  1  16   6  \n",
       "12343   알뜰주유소   일반      0  1547  1377     0  강서구  1  11   1  \n",
       "12344   알뜰주유소   일반      0  1547  1377     0  강서구  1  12   2  \n",
       "12345   알뜰주유소   일반      0  1547  1377     0  강서구  1  13   3  \n",
       "16318   알뜰주유소   셀프      0  1547  1377     0  강서구  1   6   3  "
      ]
     },
     "execution_count": 18,
     "metadata": {},
     "output_type": "execute_result"
    }
   ],
   "source": [
    "# 경유 가격이 가장 저렴한 5개 행 조회 (단 0원인 주유소 제외)\n",
    "df.loc[df['경유']!=0, ].sort_values('경유').head(5)"
   ]
  },
  {
   "cell_type": "code",
   "execution_count": 19,
   "metadata": {
    "ExecuteTime": {
     "end_time": "2022-06-17T04:38:27.611277Z",
     "start_time": "2022-06-17T04:38:27.598311Z"
    }
   },
   "outputs": [
    {
     "data": {
      "text/html": [
       "<div>\n",
       "<style scoped>\n",
       "    .dataframe tbody tr th:only-of-type {\n",
       "        vertical-align: middle;\n",
       "    }\n",
       "\n",
       "    .dataframe tbody tr th {\n",
       "        vertical-align: top;\n",
       "    }\n",
       "\n",
       "    .dataframe thead th {\n",
       "        text-align: right;\n",
       "    }\n",
       "</style>\n",
       "<table border=\"1\" class=\"dataframe\">\n",
       "  <thead>\n",
       "    <tr style=\"text-align: right;\">\n",
       "      <th></th>\n",
       "      <th>상표</th>\n",
       "      <th>휘발유</th>\n",
       "    </tr>\n",
       "  </thead>\n",
       "  <tbody>\n",
       "    <tr>\n",
       "      <th>0</th>\n",
       "      <td>GS칼텍스</td>\n",
       "      <td>1904.899429</td>\n",
       "    </tr>\n",
       "    <tr>\n",
       "      <th>1</th>\n",
       "      <td>S-OIL</td>\n",
       "      <td>1859.282595</td>\n",
       "    </tr>\n",
       "    <tr>\n",
       "      <th>2</th>\n",
       "      <td>SK에너지</td>\n",
       "      <td>1908.900823</td>\n",
       "    </tr>\n",
       "    <tr>\n",
       "      <th>3</th>\n",
       "      <td>알뜰(ex)</td>\n",
       "      <td>1759.884932</td>\n",
       "    </tr>\n",
       "    <tr>\n",
       "      <th>4</th>\n",
       "      <td>알뜰주유소</td>\n",
       "      <td>1767.914672</td>\n",
       "    </tr>\n",
       "    <tr>\n",
       "      <th>5</th>\n",
       "      <td>자가상표</td>\n",
       "      <td>1823.622795</td>\n",
       "    </tr>\n",
       "    <tr>\n",
       "      <th>6</th>\n",
       "      <td>현대오일뱅크</td>\n",
       "      <td>1839.447215</td>\n",
       "    </tr>\n",
       "  </tbody>\n",
       "</table>\n",
       "</div>"
      ],
      "text/plain": [
       "       상표          휘발유\n",
       "0   GS칼텍스  1904.899429\n",
       "1   S-OIL  1859.282595\n",
       "2   SK에너지  1908.900823\n",
       "3  알뜰(ex)  1759.884932\n",
       "4   알뜰주유소  1767.914672\n",
       "5    자가상표  1823.622795\n",
       "6  현대오일뱅크  1839.447215"
      ]
     },
     "execution_count": 19,
     "metadata": {},
     "output_type": "execute_result"
    }
   ],
   "source": [
    "# 상표별 휘발유 평균가격 조회\n",
    "brand_mean = df.groupby('상표')['휘발유'].mean()\n",
    "brand_mean = brand_mean.reset_index()\n",
    "brand_mean"
   ]
  },
  {
   "cell_type": "code",
   "execution_count": 20,
   "metadata": {
    "ExecuteTime": {
     "end_time": "2022-06-17T04:38:27.628231Z",
     "start_time": "2022-06-17T04:38:27.614268Z"
    }
   },
   "outputs": [
    {
     "data": {
      "image/png": "[encoded data removed]",
      "text/plain": [
       "<Figure size 640x480 with 1 Axes>"
      ]
     },
     "metadata": {},
     "output_type": "display_data"
    }
   ],
   "source": [
    "# 상표별 휘발유 평균가격 시각화\n",
    "brand_mean.plot(kind='bar')\n",
    "plt.show()"
   ]
  },
  {
   "cell_type": "code",
   "execution_count": 21,
   "metadata": {
    "ExecuteTime": {
     "end_time": "2022-06-17T04:38:27.643201Z",
     "start_time": "2022-06-17T04:38:27.632220Z"
    }
   },
   "outputs": [
    {
     "data": {
      "text/plain": [
       "셀프여부\n",
       "셀프    92478\n",
       "일반    72004\n",
       "Name: count, dtype: int64"
      ]
     },
     "execution_count": 21,
     "metadata": {},
     "output_type": "execute_result"
    }
   ],
   "source": [
    "# 셀프주유소와 일반주유소 개수 확인\n",
    "df['셀프여부'].value_counts()"
   ]
  },
  {
   "cell_type": "code",
   "execution_count": 22,
   "metadata": {
    "ExecuteTime": {
     "end_time": "2022-06-17T04:38:27.659148Z",
     "start_time": "2022-06-17T04:38:27.647180Z"
    }
   },
   "outputs": [
    {
     "data": {
      "text/plain": [
       "셀프여부\n",
       "셀프    1818.216376\n",
       "일반    1953.870993\n",
       "Name: 휘발유, dtype: float64"
      ]
     },
     "execution_count": 22,
     "metadata": {},
     "output_type": "execute_result"
    }
   ],
   "source": [
    "# 셀프 여부에 따른 휘발유 평균 가격 비교 \n",
    "df.groupby('셀프여부')['휘발유'].mean()"
   ]
  },
  {
   "cell_type": "code",
   "execution_count": 23,
   "metadata": {
    "ExecuteTime": {
     "end_time": "2022-06-17T04:38:27.675104Z",
     "start_time": "2022-06-17T04:38:27.664136Z"
    },
    "scrolled": true
   },
   "outputs": [
    {
     "data": {
      "text/html": [
       "<div>\n",
       "<style scoped>\n",
       "    .dataframe tbody tr th:only-of-type {\n",
       "        vertical-align: middle;\n",
       "    }\n",
       "\n",
       "    .dataframe tbody tr th {\n",
       "        vertical-align: top;\n",
       "    }\n",
       "\n",
       "    .dataframe thead th {\n",
       "        text-align: right;\n",
       "    }\n",
       "</style>\n",
       "<table border=\"1\" class=\"dataframe\">\n",
       "  <thead>\n",
       "    <tr style=\"text-align: right;\">\n",
       "      <th></th>\n",
       "      <th>셀프여부</th>\n",
       "      <th>상표</th>\n",
       "      <th>휘발유</th>\n",
       "    </tr>\n",
       "  </thead>\n",
       "  <tbody>\n",
       "    <tr>\n",
       "      <th>0</th>\n",
       "      <td>셀프</td>\n",
       "      <td>GS칼텍스</td>\n",
       "      <td>1825.849350</td>\n",
       "    </tr>\n",
       "    <tr>\n",
       "      <th>1</th>\n",
       "      <td>셀프</td>\n",
       "      <td>S-OIL</td>\n",
       "      <td>1820.122748</td>\n",
       "    </tr>\n",
       "    <tr>\n",
       "      <th>2</th>\n",
       "      <td>셀프</td>\n",
       "      <td>SK에너지</td>\n",
       "      <td>1826.717027</td>\n",
       "    </tr>\n",
       "    <tr>\n",
       "      <th>3</th>\n",
       "      <td>셀프</td>\n",
       "      <td>알뜰(ex)</td>\n",
       "      <td>1759.884932</td>\n",
       "    </tr>\n",
       "    <tr>\n",
       "      <th>4</th>\n",
       "      <td>셀프</td>\n",
       "      <td>알뜰주유소</td>\n",
       "      <td>1754.261378</td>\n",
       "    </tr>\n",
       "    <tr>\n",
       "      <th>5</th>\n",
       "      <td>셀프</td>\n",
       "      <td>자가상표</td>\n",
       "      <td>2017.000000</td>\n",
       "    </tr>\n",
       "    <tr>\n",
       "      <th>6</th>\n",
       "      <td>셀프</td>\n",
       "      <td>현대오일뱅크</td>\n",
       "      <td>1807.265898</td>\n",
       "    </tr>\n",
       "    <tr>\n",
       "      <th>7</th>\n",
       "      <td>일반</td>\n",
       "      <td>GS칼텍스</td>\n",
       "      <td>2001.420217</td>\n",
       "    </tr>\n",
       "    <tr>\n",
       "      <th>8</th>\n",
       "      <td>일반</td>\n",
       "      <td>S-OIL</td>\n",
       "      <td>1932.115939</td>\n",
       "    </tr>\n",
       "    <tr>\n",
       "      <th>9</th>\n",
       "      <td>일반</td>\n",
       "      <td>SK에너지</td>\n",
       "      <td>2003.229520</td>\n",
       "    </tr>\n",
       "    <tr>\n",
       "      <th>10</th>\n",
       "      <td>일반</td>\n",
       "      <td>알뜰주유소</td>\n",
       "      <td>1796.201557</td>\n",
       "    </tr>\n",
       "    <tr>\n",
       "      <th>11</th>\n",
       "      <td>일반</td>\n",
       "      <td>자가상표</td>\n",
       "      <td>1821.768493</td>\n",
       "    </tr>\n",
       "    <tr>\n",
       "      <th>12</th>\n",
       "      <td>일반</td>\n",
       "      <td>현대오일뱅크</td>\n",
       "      <td>1877.606059</td>\n",
       "    </tr>\n",
       "  </tbody>\n",
       "</table>\n",
       "</div>"
      ],
      "text/plain": [
       "   셀프여부      상표          휘발유\n",
       "0    셀프   GS칼텍스  1825.849350\n",
       "1    셀프   S-OIL  1820.122748\n",
       "2    셀프   SK에너지  1826.717027\n",
       "3    셀프  알뜰(ex)  1759.884932\n",
       "4    셀프   알뜰주유소  1754.261378\n",
       "5    셀프    자가상표  2017.000000\n",
       "6    셀프  현대오일뱅크  1807.265898\n",
       "7    일반   GS칼텍스  2001.420217\n",
       "8    일반   S-OIL  1932.115939\n",
       "9    일반   SK에너지  2003.229520\n",
       "10   일반   알뜰주유소  1796.201557\n",
       "11   일반    자가상표  1821.768493\n",
       "12   일반  현대오일뱅크  1877.606059"
      ]
     },
     "execution_count": 23,
     "metadata": {},
     "output_type": "execute_result"
    }
   ],
   "source": [
    "# 상표별 일반/셀프 주유소의 휘발유 가격 평균 비교\n",
    "self_brand_mean = df.groupby(['셀프여부', '상표'])['휘발유'].mean()\n",
    "self_brand_mean = self_brand_mean.reset_index()\n",
    "self_brand_mean"
   ]
  },
  {
   "cell_type": "code",
   "execution_count": 24,
   "metadata": {},
   "outputs": [],
   "source": [
    "# 경고 안뜨게\n",
    "import warnings\n",
    "warnings.filterwarnings(action='ignore')"
   ]
  },
  {
   "cell_type": "code",
   "execution_count": 25,
   "metadata": {},
   "outputs": [
    {
     "data": {
      "image/png": "[encoded data removed]",
      "text/plain": [
       "<Figure size 640x480 with 1 Axes>"
      ]
     },
     "metadata": {},
     "output_type": "display_data"
    }
   ],
   "source": [
    "sns.set_palette(\"Paired\")\n",
    "sns.barplot(x=\"상표\", \n",
    "            y=\"휘발유\", \n",
    "            data=self_brand_mean, \n",
    "            hue='셀프여부',\n",
    "           ) \n",
    "plt.legend(bbox_to_anchor=(1,1), loc='upper left')\n",
    "plt.show()"
   ]
  },
  {
   "cell_type": "code",
   "execution_count": 26,
   "metadata": {},
   "outputs": [
    {
     "data": {
      "text/html": [
       "<div>\n",
       "<style scoped>\n",
       "    .dataframe tbody tr th:only-of-type {\n",
       "        vertical-align: middle;\n",
       "    }\n",
       "\n",
       "    .dataframe tbody tr th {\n",
       "        vertical-align: top;\n",
       "    }\n",
       "\n",
       "    .dataframe thead th {\n",
       "        text-align: right;\n",
       "    }\n",
       "</style>\n",
       "<table border=\"1\" class=\"dataframe\">\n",
       "  <thead>\n",
       "    <tr style=\"text-align: right;\">\n",
       "      <th></th>\n",
       "      <th>상표</th>\n",
       "      <th>휘발유</th>\n",
       "    </tr>\n",
       "  </thead>\n",
       "  <tbody>\n",
       "    <tr>\n",
       "      <th>0</th>\n",
       "      <td>GS칼텍스</td>\n",
       "      <td>1904.899429</td>\n",
       "    </tr>\n",
       "    <tr>\n",
       "      <th>1</th>\n",
       "      <td>S-OIL</td>\n",
       "      <td>1859.282595</td>\n",
       "    </tr>\n",
       "    <tr>\n",
       "      <th>2</th>\n",
       "      <td>SK에너지</td>\n",
       "      <td>1908.900823</td>\n",
       "    </tr>\n",
       "    <tr>\n",
       "      <th>3</th>\n",
       "      <td>알뜰(ex)</td>\n",
       "      <td>1759.884932</td>\n",
       "    </tr>\n",
       "    <tr>\n",
       "      <th>4</th>\n",
       "      <td>알뜰주유소</td>\n",
       "      <td>1767.914672</td>\n",
       "    </tr>\n",
       "    <tr>\n",
       "      <th>5</th>\n",
       "      <td>자가상표</td>\n",
       "      <td>1823.622795</td>\n",
       "    </tr>\n",
       "    <tr>\n",
       "      <th>6</th>\n",
       "      <td>현대오일뱅크</td>\n",
       "      <td>1839.447215</td>\n",
       "    </tr>\n",
       "  </tbody>\n",
       "</table>\n",
       "</div>"
      ],
      "text/plain": [
       "       상표          휘발유\n",
       "0   GS칼텍스  1904.899429\n",
       "1   S-OIL  1859.282595\n",
       "2   SK에너지  1908.900823\n",
       "3  알뜰(ex)  1759.884932\n",
       "4   알뜰주유소  1767.914672\n",
       "5    자가상표  1823.622795\n",
       "6  현대오일뱅크  1839.447215"
      ]
     },
     "execution_count": 26,
     "metadata": {},
     "output_type": "execute_result"
    }
   ],
   "source": [
    "brand_mean"
   ]
  },
  {
   "cell_type": "code",
   "execution_count": 27,
   "metadata": {},
   "outputs": [
    {
     "data": {
      "text/plain": [
       "array(['SK에너지', 'GS칼텍스', '현대오일뱅크', 'S-OIL', '알뜰주유소', '자가상표', '알뜰(ex)'],\n",
       "      dtype=object)"
      ]
     },
     "execution_count": 27,
     "metadata": {},
     "output_type": "execute_result"
    }
   ],
   "source": [
    "df['상표'].unique()"
   ]
  },
  {
   "cell_type": "code",
   "execution_count": 29,
   "metadata": {
    "ExecuteTime": {
     "end_time": "2022-06-17T04:38:27.722976Z",
     "start_time": "2022-06-17T04:38:27.710012Z"
    }
   },
   "outputs": [
    {
     "data": {
      "image/png": "[encoded data removed]",
      "text/plain": [
       "<Figure size 640x480 with 1 Axes>"
      ]
     },
     "metadata": {},
     "output_type": "display_data"
    }
   ],
   "source": [
    "# 상표별 일반/셀프 주유소의 휘발유 가격에 대한 분포 확인 - boxplot으로 시각화\n",
    "sns.boxplot(x='상표', y='휘발유', hue='셀프여부', data=df.loc[df['휘발유']!=0,])\n",
    "\n",
    "plt.show()"
   ]
  },
  {
   "cell_type": "code",
   "execution_count": 30,
   "metadata": {
    "ExecuteTime": {
     "end_time": "2022-06-17T04:38:27.738935Z",
     "start_time": "2022-06-17T04:38:27.725970Z"
    },
    "scrolled": true
   },
   "outputs": [
    {
     "data": {
      "text/plain": [
       "구\n",
       "강남구     2024.210946\n",
       "강동구     1910.691977\n",
       "강북구     1787.319507\n",
       "강서구     1829.297928\n",
       "관악구     1851.051724\n",
       "광진구     1818.287644\n",
       "구로구     1864.676733\n",
       "금천구     1799.263339\n",
       "노원구     1845.411765\n",
       "도봉구     1800.197597\n",
       "동대문구    1825.329176\n",
       "동작구     1836.980792\n",
       "마포구     1880.027429\n",
       "서대문구    1818.858735\n",
       "서초구     1902.345027\n",
       "성동구     1923.009324\n",
       "성북구     1805.115935\n",
       "송파구     1843.436830\n",
       "양천구     1799.875541\n",
       "영등포구    1863.848380\n",
       "용산구     2203.392495\n",
       "은평구     1821.937317\n",
       "종로구     2129.215029\n",
       "중구      2149.957178\n",
       "중랑구     1805.788631\n",
       "Name: 휘발유, dtype: float64"
      ]
     },
     "execution_count": 30,
     "metadata": {},
     "output_type": "execute_result"
    }
   ],
   "source": [
    "# 구별 휘발유 가격의 평균\n",
    "gu_mean = df.groupby('구')['휘발유'].mean()\n",
    "gu_mean"
   ]
  },
  {
   "cell_type": "code",
   "execution_count": 31,
   "metadata": {
    "ExecuteTime": {
     "end_time": "2022-06-17T04:38:27.753894Z",
     "start_time": "2022-06-17T04:38:27.740929Z"
    },
    "scrolled": true
   },
   "outputs": [
    {
     "data": {
      "text/plain": [
       "상표\n",
       "GS칼텍스     2386.086653\n",
       "SK에너지     2245.048402\n",
       "현대오일뱅크    2013.058905\n",
       "Name: 휘발유, dtype: float64"
      ]
     },
     "execution_count": 31,
     "metadata": {},
     "output_type": "execute_result"
    }
   ],
   "source": [
    "# 평균 가격이 가장 높은 구의 상표별 휘발유 평균가격\n",
    "gu = gu_mean.sort_values(ascending=False).index[0]\n",
    "df[df['구']==gu].groupby('상표')['휘발유'].mean()"
   ]
  },
  {
   "cell_type": "code",
   "execution_count": 32,
   "metadata": {
    "ExecuteTime": {
     "end_time": "2022-06-17T04:38:27.768853Z",
     "start_time": "2022-06-17T04:38:27.756886Z"
    }
   },
   "outputs": [
    {
     "data": {
      "text/plain": [
       "월\n",
       "1     1704.975625\n",
       "2     1781.803959\n",
       "3     2007.941288\n",
       "4     2030.140766\n",
       "5     2027.255552\n",
       "6     2151.490272\n",
       "7     2082.667822\n",
       "8     1858.737602\n",
       "9     1799.546203\n",
       "10    1737.285143\n",
       "11    1715.447874\n",
       "12    1627.068857\n",
       "Name: 휘발유, dtype: float64"
      ]
     },
     "execution_count": 32,
     "metadata": {},
     "output_type": "execute_result"
    }
   ],
   "source": [
    "# 월 평균 휘발유 가격\n",
    "df.groupby('월')['휘발유'].mean()"
   ]
  },
  {
   "cell_type": "code",
   "execution_count": 33,
   "metadata": {
    "ExecuteTime": {
     "end_time": "2022-06-17T04:38:27.784812Z",
     "start_time": "2022-06-17T04:38:27.771846Z"
    }
   },
   "outputs": [
    {
     "data": {
      "text/html": [
       "<div>\n",
       "<style scoped>\n",
       "    .dataframe tbody tr th:only-of-type {\n",
       "        vertical-align: middle;\n",
       "    }\n",
       "\n",
       "    .dataframe tbody tr th {\n",
       "        vertical-align: top;\n",
       "    }\n",
       "\n",
       "    .dataframe thead th {\n",
       "        text-align: right;\n",
       "    }\n",
       "</style>\n",
       "<table border=\"1\" class=\"dataframe\">\n",
       "  <thead>\n",
       "    <tr style=\"text-align: right;\">\n",
       "      <th></th>\n",
       "      <th>구</th>\n",
       "      <th>월</th>\n",
       "      <th>휘발유</th>\n",
       "    </tr>\n",
       "  </thead>\n",
       "  <tbody>\n",
       "    <tr>\n",
       "      <th>0</th>\n",
       "      <td>강남구</td>\n",
       "      <td>1</td>\n",
       "      <td>1845.037951</td>\n",
       "    </tr>\n",
       "    <tr>\n",
       "      <th>1</th>\n",
       "      <td>강남구</td>\n",
       "      <td>2</td>\n",
       "      <td>1914.714286</td>\n",
       "    </tr>\n",
       "    <tr>\n",
       "      <th>2</th>\n",
       "      <td>강남구</td>\n",
       "      <td>3</td>\n",
       "      <td>2109.476510</td>\n",
       "    </tr>\n",
       "    <tr>\n",
       "      <th>3</th>\n",
       "      <td>강남구</td>\n",
       "      <td>4</td>\n",
       "      <td>2138.078788</td>\n",
       "    </tr>\n",
       "    <tr>\n",
       "      <th>4</th>\n",
       "      <td>강남구</td>\n",
       "      <td>5</td>\n",
       "      <td>2137.114674</td>\n",
       "    </tr>\n",
       "    <tr>\n",
       "      <th>...</th>\n",
       "      <td>...</td>\n",
       "      <td>...</td>\n",
       "      <td>...</td>\n",
       "    </tr>\n",
       "    <tr>\n",
       "      <th>295</th>\n",
       "      <td>중랑구</td>\n",
       "      <td>8</td>\n",
       "      <td>1773.062035</td>\n",
       "    </tr>\n",
       "    <tr>\n",
       "      <th>296</th>\n",
       "      <td>중랑구</td>\n",
       "      <td>9</td>\n",
       "      <td>1717.466667</td>\n",
       "    </tr>\n",
       "    <tr>\n",
       "      <th>297</th>\n",
       "      <td>중랑구</td>\n",
       "      <td>10</td>\n",
       "      <td>1654.116625</td>\n",
       "    </tr>\n",
       "    <tr>\n",
       "      <th>298</th>\n",
       "      <td>중랑구</td>\n",
       "      <td>11</td>\n",
       "      <td>1629.458974</td>\n",
       "    </tr>\n",
       "    <tr>\n",
       "      <th>299</th>\n",
       "      <td>중랑구</td>\n",
       "      <td>12</td>\n",
       "      <td>1566.585608</td>\n",
       "    </tr>\n",
       "  </tbody>\n",
       "</table>\n",
       "<p>300 rows × 3 columns</p>\n",
       "</div>"
      ],
      "text/plain": [
       "       구   월          휘발유\n",
       "0    강남구   1  1845.037951\n",
       "1    강남구   2  1914.714286\n",
       "2    강남구   3  2109.476510\n",
       "3    강남구   4  2138.078788\n",
       "4    강남구   5  2137.114674\n",
       "..   ...  ..          ...\n",
       "295  중랑구   8  1773.062035\n",
       "296  중랑구   9  1717.466667\n",
       "297  중랑구  10  1654.116625\n",
       "298  중랑구  11  1629.458974\n",
       "299  중랑구  12  1566.585608\n",
       "\n",
       "[300 rows x 3 columns]"
      ]
     },
     "execution_count": 33,
     "metadata": {},
     "output_type": "execute_result"
    }
   ],
   "source": [
    "# 각 구의 월별 평균 휘발유 가격 \n",
    "gu_month = df.groupby(['구', '월'])['휘발유'].mean().reset_index()\n",
    "gu_month"
   ]
  },
  {
   "cell_type": "code",
   "execution_count": 34,
   "metadata": {
    "ExecuteTime": {
     "end_time": "2022-06-17T04:38:27.800771Z",
     "start_time": "2022-06-17T04:38:27.790796Z"
    }
   },
   "outputs": [
    {
     "data": {
      "image/png": "[encoded data removed]",
      "text/plain": [
       "<Figure size 640x480 with 1 Axes>"
      ]
     },
     "metadata": {},
     "output_type": "display_data"
    }
   ],
   "source": [
    "# 각 구의 월별 평균가격의 변화추이 시각화\n",
    "sns.lineplot(x='월', y='휘발유', data=gu_month, hue='구')\n",
    "plt.legend(bbox_to_anchor=(1,1), loc='upper left')\n",
    "plt.show()"
   ]
  },
  {
   "cell_type": "code",
   "execution_count": 35,
   "metadata": {
    "ExecuteTime": {
     "end_time": "2022-06-17T04:38:27.815729Z",
     "start_time": "2022-06-17T04:38:27.803762Z"
    },
    "scrolled": true
   },
   "outputs": [
    {
     "data": {
      "text/plain": [
       "상호\n",
       "서남주유소     3096\n",
       "서계주유소     3050\n",
       "필동주유소     2789\n",
       "동자동주유소    2690\n",
       "한석주유소     2681\n",
       "Name: 휘발유, dtype: int64"
      ]
     },
     "execution_count": 35,
     "metadata": {},
     "output_type": "execute_result"
    }
   ],
   "source": [
    "# 가장 휘발유가격이 비싼 주유소 상위 5 - (같은 주유소가 여러개 나오므로 가장 비싼 가격을 기준으로 집계)\n",
    "df.groupby('상호')['휘발유'].max().sort_values(ascending=False).head(5)"
   ]
  },
  {
   "cell_type": "code",
   "execution_count": 36,
   "metadata": {
    "ExecuteTime": {
     "end_time": "2022-06-17T04:38:27.830866Z",
     "start_time": "2022-06-17T04:38:27.818721Z"
    },
    "scrolled": true
   },
   "outputs": [
    {
     "data": {
      "text/plain": [
       "상호\n",
       "(주)동원석유              1654\n",
       "송파알찬주유소              1690\n",
       "(주)명보에너지             1755\n",
       "정다운셀프주유소             1759\n",
       "오션네트웍스(주) 서울식물원지점    1940\n",
       "Name: 휘발유, dtype: int64"
      ]
     },
     "execution_count": 36,
     "metadata": {},
     "output_type": "execute_result"
    }
   ],
   "source": [
    "# 가장 휘발유가격이 저렴한 주유소 상위 5 - (같은 주유소가 여러개 나오므로 가장 비싼 가격을 기준으로 집계)\n",
    "df.groupby('상호')['휘발유'].max().sort_values().head(5)"
   ]
  },
  {
   "cell_type": "code",
   "execution_count": 37,
   "metadata": {
    "ExecuteTime": {
     "end_time": "2022-06-17T04:38:27.847021Z",
     "start_time": "2022-06-17T04:38:27.834852Z"
    }
   },
   "outputs": [
    {
     "data": {
      "text/html": [
       "<div>\n",
       "<style scoped>\n",
       "    .dataframe tbody tr th:only-of-type {\n",
       "        vertical-align: middle;\n",
       "    }\n",
       "\n",
       "    .dataframe tbody tr th {\n",
       "        vertical-align: top;\n",
       "    }\n",
       "\n",
       "    .dataframe thead th {\n",
       "        text-align: right;\n",
       "    }\n",
       "</style>\n",
       "<table border=\"1\" class=\"dataframe\">\n",
       "  <thead>\n",
       "    <tr style=\"text-align: right;\">\n",
       "      <th></th>\n",
       "      <th>상호</th>\n",
       "      <th>휘발유</th>\n",
       "      <th>주소</th>\n",
       "      <th>상표</th>\n",
       "      <th>셀프여부</th>\n",
       "    </tr>\n",
       "  </thead>\n",
       "  <tbody>\n",
       "    <tr>\n",
       "      <th>0</th>\n",
       "      <td>서남주유소</td>\n",
       "      <td>3096</td>\n",
       "      <td>서울 중구 통일로 30</td>\n",
       "      <td>SK에너지</td>\n",
       "      <td>일반</td>\n",
       "    </tr>\n",
       "    <tr>\n",
       "      <th>362</th>\n",
       "      <td>서계주유소</td>\n",
       "      <td>3050</td>\n",
       "      <td>서울 용산구  청파로 367 (청파동)</td>\n",
       "      <td>GS칼텍스</td>\n",
       "      <td>일반</td>\n",
       "    </tr>\n",
       "    <tr>\n",
       "      <th>725</th>\n",
       "      <td>필동주유소</td>\n",
       "      <td>2789</td>\n",
       "      <td>서울 중구 퇴계로 196 (필동2가)</td>\n",
       "      <td>GS칼텍스</td>\n",
       "      <td>일반</td>\n",
       "    </tr>\n",
       "    <tr>\n",
       "      <th>1090</th>\n",
       "      <td>동자동주유소</td>\n",
       "      <td>2690</td>\n",
       "      <td>서울 용산구 한강대로104길 6 (동자동)</td>\n",
       "      <td>SK에너지</td>\n",
       "      <td>일반</td>\n",
       "    </tr>\n",
       "    <tr>\n",
       "      <th>1455</th>\n",
       "      <td>한석주유소</td>\n",
       "      <td>2681</td>\n",
       "      <td>서울 용산구 이촌로 164</td>\n",
       "      <td>SK에너지</td>\n",
       "      <td>일반</td>\n",
       "    </tr>\n",
       "  </tbody>\n",
       "</table>\n",
       "</div>"
      ],
      "text/plain": [
       "          상호   휘발유                       주소     상표 셀프여부\n",
       "0      서남주유소  3096             서울 중구 통일로 30  SK에너지   일반\n",
       "362    서계주유소  3050    서울 용산구  청파로 367 (청파동)  GS칼텍스   일반\n",
       "725    필동주유소  2789     서울 중구 퇴계로 196 (필동2가)  GS칼텍스   일반\n",
       "1090  동자동주유소  2690  서울 용산구 한강대로104길 6 (동자동)  SK에너지   일반\n",
       "1455   한석주유소  2681           서울 용산구 이촌로 164  SK에너지   일반"
      ]
     },
     "execution_count": 37,
     "metadata": {},
     "output_type": "execute_result"
    }
   ],
   "source": [
    "# 휘발유 비싼 주유소의 상위 5개의 상호, 주소, 상표, 셀프여부,  조회 - 위에서 조회한 결과에 추가 정보(상표, 셀프여부 등) 조회 (중복제거-drop_duplicates)\n",
    "df2 = df.groupby('상호')['휘발유'].max().sort_values(ascending=False).reset_index()\n",
    "pd.merge(df2, df[['상호', '주소', '상표', '셀프여부']], how='left').drop_duplicates().head(5)"
   ]
  },
  {
   "cell_type": "code",
   "execution_count": 38,
   "metadata": {
    "ExecuteTime": {
     "end_time": "2022-06-17T04:38:27.877936Z",
     "start_time": "2022-06-17T04:38:27.858987Z"
    }
   },
   "outputs": [
    {
     "data": {
      "text/html": [
       "<div>\n",
       "<style scoped>\n",
       "    .dataframe tbody tr th:only-of-type {\n",
       "        vertical-align: middle;\n",
       "    }\n",
       "\n",
       "    .dataframe tbody tr th {\n",
       "        vertical-align: top;\n",
       "    }\n",
       "\n",
       "    .dataframe thead th {\n",
       "        text-align: right;\n",
       "    }\n",
       "</style>\n",
       "<table border=\"1\" class=\"dataframe\">\n",
       "  <thead>\n",
       "    <tr style=\"text-align: right;\">\n",
       "      <th></th>\n",
       "      <th>상호</th>\n",
       "      <th>휘발유</th>\n",
       "      <th>주소</th>\n",
       "      <th>상표</th>\n",
       "      <th>셀프여부</th>\n",
       "    </tr>\n",
       "  </thead>\n",
       "  <tbody>\n",
       "    <tr>\n",
       "      <th>0</th>\n",
       "      <td>(주)동원석유</td>\n",
       "      <td>1654</td>\n",
       "      <td>경기도 부천시 원미구  부흥로 182 (중동)</td>\n",
       "      <td>S-OIL</td>\n",
       "      <td>셀프</td>\n",
       "    </tr>\n",
       "    <tr>\n",
       "      <th>2</th>\n",
       "      <td>송파알찬주유소</td>\n",
       "      <td>1690</td>\n",
       "      <td>서울 송파구 백제고분로 229 (삼전동)</td>\n",
       "      <td>S-OIL</td>\n",
       "      <td>셀프</td>\n",
       "    </tr>\n",
       "    <tr>\n",
       "      <th>20</th>\n",
       "      <td>(주)명보에너지</td>\n",
       "      <td>1755</td>\n",
       "      <td>경기도 시흥시  수인로 2186 (목감동)</td>\n",
       "      <td>알뜰주유소</td>\n",
       "      <td>일반</td>\n",
       "    </tr>\n",
       "    <tr>\n",
       "      <th>81</th>\n",
       "      <td>정다운셀프주유소</td>\n",
       "      <td>1759</td>\n",
       "      <td>서울 도봉구 도봉로 635</td>\n",
       "      <td>SK에너지</td>\n",
       "      <td>셀프</td>\n",
       "    </tr>\n",
       "    <tr>\n",
       "      <th>143</th>\n",
       "      <td>오션네트웍스(주) 서울식물원지점</td>\n",
       "      <td>1940</td>\n",
       "      <td>서울 강서구 양천로 300</td>\n",
       "      <td>SK에너지</td>\n",
       "      <td>셀프</td>\n",
       "    </tr>\n",
       "  </tbody>\n",
       "</table>\n",
       "</div>"
      ],
      "text/plain": [
       "                    상호   휘발유                         주소     상표 셀프여부\n",
       "0              (주)동원석유  1654  경기도 부천시 원미구  부흥로 182 (중동)  S-OIL   셀프\n",
       "2              송파알찬주유소  1690     서울 송파구 백제고분로 229 (삼전동)  S-OIL   셀프\n",
       "20            (주)명보에너지  1755    경기도 시흥시  수인로 2186 (목감동)  알뜰주유소   일반\n",
       "81            정다운셀프주유소  1759             서울 도봉구 도봉로 635  SK에너지   셀프\n",
       "143  오션네트웍스(주) 서울식물원지점  1940             서울 강서구 양천로 300  SK에너지   셀프"
      ]
     },
     "execution_count": 38,
     "metadata": {},
     "output_type": "execute_result"
    }
   ],
   "source": [
    "# 휘발유 저렴한 주유소의 상위 5개의 상호, 주소, 상표, 셀프여부,  조회 - 위에서 조회한 결과에 추가 정보(상표, 셀프여부 등) 조회 (중복제거-drop_duplicates)\n",
    "df3 = df.groupby('상호')['휘발유'].max().sort_values().reset_index()\n",
    "pd.merge(df3, df[['상호', '주소', '상표', '셀프여부']], how='left').drop_duplicates().head(5)"
   ]
  },
  {
   "cell_type": "code",
   "execution_count": 39,
   "metadata": {
    "ExecuteTime": {
     "end_time": "2021-03-15T00:08:33.086454Z",
     "start_time": "2021-03-15T00:08:33.041006Z"
    }
   },
   "outputs": [
    {
     "data": {
      "text/plain": [
       "'강남구'"
      ]
     },
     "execution_count": 39,
     "metadata": {},
     "output_type": "execute_result"
    }
   ],
   "source": [
    "# 고급 휘발유를 가장 많이 파는 구 조회\n",
    "df.loc[df['고급휘발유']!=0, ].groupby('구')['고급휘발유'].count().index[0]"
   ]
  },
  {
   "cell_type": "code",
   "execution_count": 43,
   "metadata": {},
   "outputs": [
    {
     "data": {
      "text/plain": [
       "구\n",
       "강남구     30\n",
       "서초구     26\n",
       "송파구     18\n",
       "성북구     15\n",
       "강서구     13\n",
       "용산구     13\n",
       "영등포구    13\n",
       "성동구     11\n",
       "종로구      9\n",
       "양천구      9\n",
       "은평구      8\n",
       "중구       8\n",
       "광진구      7\n",
       "노원구      7\n",
       "서대문구     7\n",
       "동작구      6\n",
       "강동구      6\n",
       "도봉구      6\n",
       "마포구      5\n",
       "동대문구     5\n",
       "금천구      5\n",
       "구로구      5\n",
       "관악구      5\n",
       "강북구      5\n",
       "중랑구      4\n",
       "Name: 상호, dtype: int64"
      ]
     },
     "execution_count": 43,
     "metadata": {},
     "output_type": "execute_result"
    }
   ],
   "source": [
    "# 고급 휘발유를 가장 많이 파는 구 조회 => 실제 주유소가 몇개인지\n",
    "df.query('고급휘발유!=0')[['구', '상호', '주소']].drop_duplicates().groupby('구')['상호'].count().sort_values(ascending=False)"
   ]
  },
  {
   "cell_type": "code",
   "execution_count": null,
   "metadata": {},
   "outputs": [],
   "source": []
  }
 ],
 "metadata": {
  "kernelspec": {
   "display_name": "Python 3 (ipykernel)",
   "language": "python",
   "name": "python3"
  },
  "language_info": {
   "codemirror_mode": {
    "name": "ipython",
    "version": 3
   },
   "file_extension": ".py",
   "mimetype": "text/x-python",
   "name": "python",
   "nbconvert_exporter": "python",
   "pygments_lexer": "ipython3",
   "version": "3.11.4"
  },
  "toc": {
   "base_numbering": 1,
   "nav_menu": {},
   "number_sections": true,
   "sideBar": true,
   "skip_h1_title": false,
   "title_cell": "Table of Contents",
   "title_sidebar": "Contents",
   "toc_cell": false,
   "toc_position": {},
   "toc_section_display": true,
   "toc_window_display": false
  },
  "varInspector": {
   "cols": {
    "lenName": 16,
    "lenType": 16,
    "lenVar": 40
   },
   "kernels_config": {
    "python": {
     "delete_cmd_postfix": "",
     "delete_cmd_prefix": "del ",
     "library": "var_list.py",
     "varRefreshCmd": "print(var_dic_list())"
    },
    "r": {
     "delete_cmd_postfix": ") ",
     "delete_cmd_prefix": "rm(",
     "library": "var_list.r",
     "varRefreshCmd": "cat(var_dic_list()) "
    }
   },
   "types_to_exclude": [
    "module",
    "function",
    "builtin_function_or_method",
    "instance",
    "_Feature"
   ],
   "window_display": false
  }
 },
 "nbformat": 4,
 "nbformat_minor": 4
}
