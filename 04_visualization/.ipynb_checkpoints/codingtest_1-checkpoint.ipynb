{
 "cells": [
  {
   "cell_type": "markdown",
   "id": "d330d0ac-7484-4d10-af69-f16fdbda4c8b",
   "metadata": {},
   "source": [
    "## 모두의 알고리즘\n",
    "**Chapter.1 - Chapter.5**\n"
   ]
  },
  {
   "cell_type": "markdown",
   "id": "c3bf8e24-7339-4c7d-bcf8-017536101e4a",
   "metadata": {},
   "source": [
    "### 연습문제 1-1 \n",
    "1부터 n까지 연속한 숫자의 제곱의 합을 구하는 프로그램"
   ]
  },
  {
   "cell_type": "code",
   "execution_count": 3,
   "id": "ad6efe4f-d2c6-4f5f-a63a-7b62a19eab2f",
   "metadata": {},
   "outputs": [
    {
     "name": "stdin",
     "output_type": "stream",
     "text": [
      ">  10\n"
     ]
    },
    {
     "name": "stdout",
     "output_type": "stream",
     "text": [
      "385\n"
     ]
    }
   ],
   "source": [
    "n = int(input('> '))\n",
    "sum = 0\n",
    "for num in range(1, n+1):\n",
    "    sum += (num ** 2)\n",
    "print(sum)"
   ]
  },
  {
   "cell_type": "markdown",
   "id": "e690fe96-be99-4837-99c9-48bbdb031193",
   "metadata": {},
   "source": [
    "### 연습문제 1-2\n",
    "연습문제 1-1의 계산복잡도는? **O(n)**"
   ]
  },
  {
   "cell_type": "markdown",
   "id": "158d00ec-988f-4102-bcad-34f6dbee9459",
   "metadata": {},
   "source": [
    "### 연습문제 1-3\n",
    "1부터 n까지 연속한 숫자의 제곱의 합을 구하는 공식 이용해서 계산하면 시간 복잡도는? **O(1)**  \n",
    "$$\\frac{n(n+1)(2n+1)}{6}$$"
   ]
  },
  {
   "cell_type": "markdown",
   "id": "dfb093d5-9cfd-4b69-93ef-5e5fad3c2d6e",
   "metadata": {},
   "source": [
    "### 연습문제 2-1\n",
    "숫자 n개를 리스트에 입력받아 최솟값을 구하는 프로그램"
   ]
  },
  {
   "cell_type": "code",
   "execution_count": 5,
   "id": "20d1fb36-35f8-4235-8556-df7ddb3702e8",
   "metadata": {},
   "outputs": [
    {
     "data": {
      "text/plain": [
       "2"
      ]
     },
     "execution_count": 5,
     "metadata": {},
     "output_type": "execute_result"
    }
   ],
   "source": [
    "def find_min(lst):\n",
    "    n = lst[0]\n",
    "    for num in lst:\n",
    "        if n > num:\n",
    "            n = num\n",
    "    return n\n",
    "\n",
    "l = [11n, 3, 5, 2, 5, 8, 9, 3]\n",
    "find_min(l)"
   ]
  },
  {
   "cell_type": "markdown",
   "id": "556328b0-cea8-4b35-b78c-fc208b4b55b6",
   "metadata": {},
   "source": [
    "### 연습문제 3-1\n",
    "n명 중 두 명을 뽑아 짝을 짓는다고 할 때 짝을 지을 수 있는 모든 조합 출력하는 알고리즘"
   ]
  },
  {
   "cell_type": "code",
   "execution_count": 6,
   "id": "2f124b73-fa87-42b2-bfa0-e189466f85cc",
   "metadata": {},
   "outputs": [
    {
     "data": {
      "text/plain": [
       "[['Tom', 'Jerry'], ['Tom', 'Mike'], ['Jerry', 'Mike']]"
      ]
     },
     "execution_count": 6,
     "metadata": {},
     "output_type": "execute_result"
    }
   ],
   "source": [
    "def make_jjack(lst):\n",
    "    jjack = []\n",
    "    for i in range(len(lst)):\n",
    "        for j in range(i+1, len(lst)):\n",
    "            jjack.append([lst[i], lst[j]])\n",
    "    return jjack\n",
    "\n",
    "l = ['Tom', 'Jerry', 'Mike']\n",
    "make_jjack(l)"
   ]
  },
  {
   "cell_type": "markdown",
   "id": "a201c384-44c3-408b-9f59-7a6527a4db7e",
   "metadata": {},
   "source": [
    "### 연습문제 3-2\n",
    "A **O(1)**  \n",
    "B **O(n)**  \n",
    "C **O(n^2)**   \n",
    "D **O(n^4)**"
   ]
  },
  {
   "cell_type": "markdown",
   "id": "66363ce1-aa4b-4fd6-911c-832c6696ec8f",
   "metadata": {},
   "source": [
    "### 연습문제 4-1\n",
    "1부터 n까지의 합 구하기를 재귀호출로 구현\n"
   ]
  },
  {
   "cell_type": "code",
   "execution_count": 10,
   "id": "7d0a8e5e-33b2-4a1d-b587-d02945ea3816",
   "metadata": {},
   "outputs": [
    {
     "data": {
      "text/plain": [
       "55"
      ]
     },
     "execution_count": 10,
     "metadata": {},
     "output_type": "execute_result"
    }
   ],
   "source": [
    "def sum_rec(n):\n",
    "    if n < 1:\n",
    "        return 0\n",
    "    return n + sum_rec(n-1)\n",
    "\n",
    "sum_rec(10)"
   ]
  },
  {
   "cell_type": "markdown",
   "id": "0a6b48f9-9670-46a6-9840-9ba96bc70861",
   "metadata": {},
   "source": [
    "### 연습문제 4-2\n",
    "숫자 n개 중에서 최댓값 찾기를 재귀호출로 구현"
   ]
  },
  {
   "cell_type": "code",
   "execution_count": 17,
   "id": "494e7353-c4a8-4d12-8d7f-73f4b9dbc2d0",
   "metadata": {},
   "outputs": [
    {
     "data": {
      "text/plain": [
       "59"
      ]
     },
     "execution_count": 17,
     "metadata": {},
     "output_type": "execute_result"
    }
   ],
   "source": [
    "def find_max(lst, n):\n",
    "    if n < 1:\n",
    "        return lst[0]\n",
    "    m = find_max(lst, n-1)\n",
    "    return m if lst[n-1] < m else lst[n-1]\n",
    "\n",
    "find_max([57, 2, 5, 3, 4, 1,9, 59, 10, 3, 4, 2, 1, 56], len([57, 2, 5, 3, 4, 1,9, 59, 10, 3, 4, 2, 1, 56]))"
   ]
  },
  {
   "cell_type": "markdown",
   "id": "ff904682-6b6a-4ae2-81f0-36359824ebd9",
   "metadata": {},
   "source": [
    "### 연습문제 5-1\n",
    "0과 1부터 시작해서 바로 앞의 두 수를 더한 값을 다음 값으로 추가하는 방식으로 만든 수열을 피보나치 수열이라고 합니다.  \n",
    "즉, 0+1=1, 1+1=2, 1+2=3이므로 피보나치 수열은 다음과 같다.   \n",
    "0, 1, 1, 2, 3, 5, 8, 13, 21, 34, 55  \n",
    "피보나치 수열이 파이썬이 리스트처럼 0번부터 시작한다고 가정할 때 n번째 피보나치 수를 구하는 알고리즘을 재귀 호출을 이용해서 구현"
   ]
  },
  {
   "cell_type": "code",
   "execution_count": 31,
   "id": "b97ee0df-fdf0-4f21-a80f-5d77ff0e1ccd",
   "metadata": {},
   "outputs": [
    {
     "name": "stdin",
     "output_type": "stream",
     "text": [
      ">  11\n"
     ]
    },
    {
     "data": {
      "text/plain": [
       "89"
      ]
     },
     "execution_count": 31,
     "metadata": {},
     "output_type": "execute_result"
    }
   ],
   "source": [
    "def fibo(n):\n",
    "    if n == 0:\n",
    "        return 0\n",
    "    elif n <= 2:\n",
    "        return 1\n",
    "    return fibo(n-2) + fibo(n-1)\n",
    "\n",
    "n = int(input('> '))\n",
    "fibo(n)"
   ]
  },
  {
   "cell_type": "code",
   "execution_count": null,
   "id": "eef2e012-93df-439e-b70a-5f54901fc3ff",
   "metadata": {},
   "outputs": [],
   "source": []
  }
 ],
 "metadata": {
  "kernelspec": {
   "display_name": "Python 3 (ipykernel)",
   "language": "python",
   "name": "python3"
  },
  "language_info": {
   "codemirror_mode": {
    "name": "ipython",
    "version": 3
   },
   "file_extension": ".py",
   "mimetype": "text/x-python",
   "name": "python",
   "nbconvert_exporter": "python",
   "pygments_lexer": "ipython3",
   "version": "3.11.4"
  }
 },
 "nbformat": 4,
 "nbformat_minor": 5
}
