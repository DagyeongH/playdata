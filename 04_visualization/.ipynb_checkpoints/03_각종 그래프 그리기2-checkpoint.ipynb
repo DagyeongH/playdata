{
 "cells": [
  {
   "cell_type": "markdown",
   "metadata": {},
   "source": [
    "# 4. 파이차트 그리기\n",
    "## 4.1 파이차트\n",
    "- 각 범주(Category)가 데이터에서 차지하는 비율을 나타내는데 사용\n",
    "- `pie(x, labels)` 이용\n",
    "    - x: 값 (값들을 100을 기준으로 비율을 계산해 크기 설정)\n",
    "    - labels : 값들의 label\n",
    "    - autopct: 조각내에 표시될 비율의 문자열 형식. '%fmt문자' \n",
    "        - fmt문자: f(실수), d(정수), %% (%)\n",
    "            "
   ]
  },
  {
   "cell_type": "code",
   "execution_count": 7,
   "metadata": {},
   "outputs": [
    {
     "data": {
      "text/plain": [
       "'키: 167.20'"
      ]
     },
     "execution_count": 7,
     "metadata": {},
     "output_type": "execute_result"
    }
   ],
   "source": [
    "# %타입, %s: 문자열, %d: 정수, %f: 실수, %%: %\n",
    "'%s: %.2f' % ('키', 167.2)"
   ]
  },
  {
   "cell_type": "code",
   "execution_count": 12,
   "metadata": {},
   "outputs": [
    {
     "data": {
      "image/png": "[encoded data removed]",
      "text/plain": [
       "<Figure size 640x480 with 1 Axes>"
      ]
     },
     "metadata": {},
     "output_type": "display_data"
    }
   ],
   "source": [
    "import matplotlib.pyplot as plt\n",
    "label = ['사과', '베', '복숭아', '귤']\n",
    "amount = [20, 10, 50, 20]\n",
    "\n",
    "plt.pie(amount,\n",
    "        labels=label,\n",
    "        autopct='%.2f%%',\n",
    "        textprops={'fontsize':10},\n",
    "        explode = [0.1, 0, 0, 0],  # : '파이조각'들을 지정한 크기만큼 뽑아준다\n",
    "        shadow=True\n",
    "       )\n",
    "\n",
    "plt.show()"
   ]
  },
  {
   "cell_type": "markdown",
   "metadata": {},
   "source": [
    "## 4.2 파이차트 활용\n",
    "- 한국 웹브라우저 점유율을 파이차트로 작성\n",
    "    - https://www.koreahtml5.kr/front/stats/browser/browserUseStats.do"
   ]
  },
  {
   "cell_type": "code",
   "execution_count": 16,
   "metadata": {},
   "outputs": [
    {
     "name": "stdout",
     "output_type": "stream",
     "text": [
      "Collecting xlrd\n",
      "  Downloading xlrd-2.0.1-py2.py3-none-any.whl (96 kB)\n",
      "\u001b[2K     \u001b[90m━━━━━━━━━━━━━━━━━━━━━━━━━━━━━━━━━━━━━━━━\u001b[0m \u001b[32m96.5/96.5 kB\u001b[0m \u001b[31m5.2 MB/s\u001b[0m eta \u001b[36m0:00:00\u001b[0m\n",
      "\u001b[?25hInstalling collected packages: xlrd\n",
      "Successfully installed xlrd-2.0.1\n"
     ]
    }
   ],
   "source": [
    "# !pip install xlrd"
   ]
  },
  {
   "cell_type": "code",
   "execution_count": 13,
   "metadata": {},
   "outputs": [],
   "source": [
    "import pandas as pd\n",
    "import matplotlib.pyplot as plt"
   ]
  },
  {
   "cell_type": "code",
   "execution_count": 20,
   "metadata": {},
   "outputs": [],
   "source": [
    "pd.options.display.max_columns = 25"
   ]
  },
  {
   "cell_type": "code",
   "execution_count": 27,
   "metadata": {},
   "outputs": [
    {
     "data": {
      "text/plain": [
       "(12, 21)"
      ]
     },
     "execution_count": 27,
     "metadata": {},
     "output_type": "execute_result"
    }
   ],
   "source": [
    "df = pd.read_excel('data/webbrowser_share.xls', \n",
    "                   index_col='date',\n",
    "                   converters={'date':str},  # 특정 컬럼을 어떤 타입으로 읽을지 설정 (생략: 알아서 타입을 변환)\n",
    "                  )\n",
    "df.shape"
   ]
  },
  {
   "cell_type": "code",
   "execution_count": 28,
   "metadata": {
    "scrolled": true
   },
   "outputs": [
    {
     "name": "stdout",
     "output_type": "stream",
     "text": [
      "<class 'pandas.core.frame.DataFrame'>\n",
      "Index: 12 entries, 2018.08 to 2019.07\n",
      "Data columns (total 21 columns):\n",
      " #   Column            Non-Null Count  Dtype  \n",
      "---  ------            --------------  -----  \n",
      " 0   Chrome            12 non-null     float64\n",
      " 1   IE                12 non-null     float64\n",
      " 2   Edge              12 non-null     float64\n",
      " 3   Safari            12 non-null     float64\n",
      " 4   Whale Browser     12 non-null     float64\n",
      " 5   Firefox           12 non-null     float64\n",
      " 6   Opera             12 non-null     float64\n",
      " 7   Swing             12 non-null     float64\n",
      " 8   Phantom           12 non-null     float64\n",
      " 9   UC Browser        12 non-null     float64\n",
      " 10  Chromium          12 non-null     float64\n",
      " 11  QQ Browser        12 non-null     float64\n",
      " 12  Vivaldi           12 non-null     float64\n",
      " 13  360 Safe Browser  12 non-null     float64\n",
      " 14  Maxthon           12 non-null     float64\n",
      " 15  Coc Coc           12 non-null     float64\n",
      " 16  Puffin            12 non-null     float64\n",
      " 17  Yandex Browser    12 non-null     float64\n",
      " 18  Sogou Explorer    12 non-null     float64\n",
      " 19  Mozilla           12 non-null     float64\n",
      " 20  Whale             12 non-null     float64\n",
      "dtypes: float64(21)\n",
      "memory usage: 2.1+ KB\n"
     ]
    }
   ],
   "source": [
    "df.info()"
   ]
  },
  {
   "cell_type": "code",
   "execution_count": 29,
   "metadata": {},
   "outputs": [
    {
     "data": {
      "text/html": [
       "<div>\n",
       "<style scoped>\n",
       "    .dataframe tbody tr th:only-of-type {\n",
       "        vertical-align: middle;\n",
       "    }\n",
       "\n",
       "    .dataframe tbody tr th {\n",
       "        vertical-align: top;\n",
       "    }\n",
       "\n",
       "    .dataframe thead th {\n",
       "        text-align: right;\n",
       "    }\n",
       "</style>\n",
       "<table border=\"1\" class=\"dataframe\">\n",
       "  <thead>\n",
       "    <tr style=\"text-align: right;\">\n",
       "      <th></th>\n",
       "      <th>Chrome</th>\n",
       "      <th>IE</th>\n",
       "      <th>Edge</th>\n",
       "      <th>Safari</th>\n",
       "      <th>Whale Browser</th>\n",
       "      <th>Firefox</th>\n",
       "      <th>Opera</th>\n",
       "      <th>Swing</th>\n",
       "      <th>Phantom</th>\n",
       "      <th>UC Browser</th>\n",
       "      <th>Chromium</th>\n",
       "      <th>QQ Browser</th>\n",
       "      <th>Vivaldi</th>\n",
       "      <th>360 Safe Browser</th>\n",
       "      <th>Maxthon</th>\n",
       "      <th>Coc Coc</th>\n",
       "      <th>Puffin</th>\n",
       "      <th>Yandex Browser</th>\n",
       "      <th>Sogou Explorer</th>\n",
       "      <th>Mozilla</th>\n",
       "      <th>Whale</th>\n",
       "    </tr>\n",
       "    <tr>\n",
       "      <th>date</th>\n",
       "      <th></th>\n",
       "      <th></th>\n",
       "      <th></th>\n",
       "      <th></th>\n",
       "      <th></th>\n",
       "      <th></th>\n",
       "      <th></th>\n",
       "      <th></th>\n",
       "      <th></th>\n",
       "      <th></th>\n",
       "      <th></th>\n",
       "      <th></th>\n",
       "      <th></th>\n",
       "      <th></th>\n",
       "      <th></th>\n",
       "      <th></th>\n",
       "      <th></th>\n",
       "      <th></th>\n",
       "      <th></th>\n",
       "      <th></th>\n",
       "      <th></th>\n",
       "    </tr>\n",
       "  </thead>\n",
       "  <tbody>\n",
       "    <tr>\n",
       "      <th>2018.08</th>\n",
       "      <td>59.12</td>\n",
       "      <td>31.06</td>\n",
       "      <td>2.97</td>\n",
       "      <td>2.52</td>\n",
       "      <td>1.36</td>\n",
       "      <td>1.26</td>\n",
       "      <td>0.88</td>\n",
       "      <td>0.39</td>\n",
       "      <td>0.25</td>\n",
       "      <td>0.03</td>\n",
       "      <td>0.03</td>\n",
       "      <td>0.02</td>\n",
       "      <td>0.02</td>\n",
       "      <td>0.02</td>\n",
       "      <td>0.02</td>\n",
       "      <td>0.00</td>\n",
       "      <td>0.00</td>\n",
       "      <td>0.01</td>\n",
       "      <td>0.01</td>\n",
       "      <td>0.00</td>\n",
       "      <td>0.0</td>\n",
       "    </tr>\n",
       "    <tr>\n",
       "      <th>2018.09</th>\n",
       "      <td>61.95</td>\n",
       "      <td>27.84</td>\n",
       "      <td>3.16</td>\n",
       "      <td>2.19</td>\n",
       "      <td>1.27</td>\n",
       "      <td>2.57</td>\n",
       "      <td>0.40</td>\n",
       "      <td>0.37</td>\n",
       "      <td>0.00</td>\n",
       "      <td>0.03</td>\n",
       "      <td>0.02</td>\n",
       "      <td>0.03</td>\n",
       "      <td>0.02</td>\n",
       "      <td>0.06</td>\n",
       "      <td>0.02</td>\n",
       "      <td>0.00</td>\n",
       "      <td>0.00</td>\n",
       "      <td>0.02</td>\n",
       "      <td>0.03</td>\n",
       "      <td>0.00</td>\n",
       "      <td>0.0</td>\n",
       "    </tr>\n",
       "    <tr>\n",
       "      <th>2018.10</th>\n",
       "      <td>62.05</td>\n",
       "      <td>28.36</td>\n",
       "      <td>3.35</td>\n",
       "      <td>2.43</td>\n",
       "      <td>1.28</td>\n",
       "      <td>1.36</td>\n",
       "      <td>0.59</td>\n",
       "      <td>0.35</td>\n",
       "      <td>0.00</td>\n",
       "      <td>0.03</td>\n",
       "      <td>0.03</td>\n",
       "      <td>0.02</td>\n",
       "      <td>0.02</td>\n",
       "      <td>0.02</td>\n",
       "      <td>0.02</td>\n",
       "      <td>0.01</td>\n",
       "      <td>0.00</td>\n",
       "      <td>0.01</td>\n",
       "      <td>0.03</td>\n",
       "      <td>0.01</td>\n",
       "      <td>0.0</td>\n",
       "    </tr>\n",
       "    <tr>\n",
       "      <th>2018.11</th>\n",
       "      <td>65.31</td>\n",
       "      <td>26.29</td>\n",
       "      <td>3.06</td>\n",
       "      <td>2.09</td>\n",
       "      <td>1.16</td>\n",
       "      <td>1.10</td>\n",
       "      <td>0.55</td>\n",
       "      <td>0.26</td>\n",
       "      <td>0.00</td>\n",
       "      <td>0.02</td>\n",
       "      <td>0.02</td>\n",
       "      <td>0.02</td>\n",
       "      <td>0.02</td>\n",
       "      <td>0.02</td>\n",
       "      <td>0.02</td>\n",
       "      <td>0.01</td>\n",
       "      <td>0.01</td>\n",
       "      <td>0.00</td>\n",
       "      <td>0.02</td>\n",
       "      <td>0.01</td>\n",
       "      <td>0.0</td>\n",
       "    </tr>\n",
       "    <tr>\n",
       "      <th>2018.12</th>\n",
       "      <td>68.34</td>\n",
       "      <td>22.31</td>\n",
       "      <td>2.99</td>\n",
       "      <td>2.02</td>\n",
       "      <td>1.11</td>\n",
       "      <td>2.04</td>\n",
       "      <td>0.63</td>\n",
       "      <td>0.25</td>\n",
       "      <td>0.00</td>\n",
       "      <td>0.03</td>\n",
       "      <td>0.07</td>\n",
       "      <td>0.04</td>\n",
       "      <td>0.01</td>\n",
       "      <td>0.02</td>\n",
       "      <td>0.02</td>\n",
       "      <td>0.03</td>\n",
       "      <td>0.01</td>\n",
       "      <td>0.04</td>\n",
       "      <td>0.02</td>\n",
       "      <td>0.00</td>\n",
       "      <td>0.0</td>\n",
       "    </tr>\n",
       "  </tbody>\n",
       "</table>\n",
       "</div>"
      ],
      "text/plain": [
       "         Chrome     IE  Edge  Safari  Whale Browser  Firefox  Opera  Swing  \\\n",
       "date                                                                         \n",
       "2018.08   59.12  31.06  2.97    2.52           1.36     1.26   0.88   0.39   \n",
       "2018.09   61.95  27.84  3.16    2.19           1.27     2.57   0.40   0.37   \n",
       "2018.10   62.05  28.36  3.35    2.43           1.28     1.36   0.59   0.35   \n",
       "2018.11   65.31  26.29  3.06    2.09           1.16     1.10   0.55   0.26   \n",
       "2018.12   68.34  22.31  2.99    2.02           1.11     2.04   0.63   0.25   \n",
       "\n",
       "         Phantom  UC Browser  Chromium  QQ Browser  Vivaldi  360 Safe Browser  \\\n",
       "date                                                                            \n",
       "2018.08     0.25        0.03      0.03        0.02     0.02              0.02   \n",
       "2018.09     0.00        0.03      0.02        0.03     0.02              0.06   \n",
       "2018.10     0.00        0.03      0.03        0.02     0.02              0.02   \n",
       "2018.11     0.00        0.02      0.02        0.02     0.02              0.02   \n",
       "2018.12     0.00        0.03      0.07        0.04     0.01              0.02   \n",
       "\n",
       "         Maxthon  Coc Coc  Puffin  Yandex Browser  Sogou Explorer  Mozilla  \\\n",
       "date                                                                         \n",
       "2018.08     0.02     0.00    0.00            0.01            0.01     0.00   \n",
       "2018.09     0.02     0.00    0.00            0.02            0.03     0.00   \n",
       "2018.10     0.02     0.01    0.00            0.01            0.03     0.01   \n",
       "2018.11     0.02     0.01    0.01            0.00            0.02     0.01   \n",
       "2018.12     0.02     0.03    0.01            0.04            0.02     0.00   \n",
       "\n",
       "         Whale  \n",
       "date            \n",
       "2018.08    0.0  \n",
       "2018.09    0.0  \n",
       "2018.10    0.0  \n",
       "2018.11    0.0  \n",
       "2018.12    0.0  "
      ]
     },
     "execution_count": 29,
     "metadata": {},
     "output_type": "execute_result"
    }
   ],
   "source": [
    "df.head()"
   ]
  },
  {
   "cell_type": "code",
   "execution_count": 31,
   "metadata": {},
   "outputs": [
    {
     "data": {
      "text/html": [
       "<div>\n",
       "<style scoped>\n",
       "    .dataframe tbody tr th:only-of-type {\n",
       "        vertical-align: middle;\n",
       "    }\n",
       "\n",
       "    .dataframe tbody tr th {\n",
       "        vertical-align: top;\n",
       "    }\n",
       "\n",
       "    .dataframe thead th {\n",
       "        text-align: right;\n",
       "    }\n",
       "</style>\n",
       "<table border=\"1\" class=\"dataframe\">\n",
       "  <thead>\n",
       "    <tr style=\"text-align: right;\">\n",
       "      <th></th>\n",
       "      <th>Chrome</th>\n",
       "      <th>IE</th>\n",
       "      <th>Edge</th>\n",
       "      <th>Safari</th>\n",
       "      <th>Whale Browser</th>\n",
       "      <th>Firefox</th>\n",
       "    </tr>\n",
       "    <tr>\n",
       "      <th>date</th>\n",
       "      <th></th>\n",
       "      <th></th>\n",
       "      <th></th>\n",
       "      <th></th>\n",
       "      <th></th>\n",
       "      <th></th>\n",
       "    </tr>\n",
       "  </thead>\n",
       "  <tbody>\n",
       "    <tr>\n",
       "      <th>2018.08</th>\n",
       "      <td>59.12</td>\n",
       "      <td>31.06</td>\n",
       "      <td>2.97</td>\n",
       "      <td>2.52</td>\n",
       "      <td>1.36</td>\n",
       "      <td>1.26</td>\n",
       "    </tr>\n",
       "    <tr>\n",
       "      <th>2018.09</th>\n",
       "      <td>61.95</td>\n",
       "      <td>27.84</td>\n",
       "      <td>3.16</td>\n",
       "      <td>2.19</td>\n",
       "      <td>1.27</td>\n",
       "      <td>2.57</td>\n",
       "    </tr>\n",
       "    <tr>\n",
       "      <th>2018.10</th>\n",
       "      <td>62.05</td>\n",
       "      <td>28.36</td>\n",
       "      <td>3.35</td>\n",
       "      <td>2.43</td>\n",
       "      <td>1.28</td>\n",
       "      <td>1.36</td>\n",
       "    </tr>\n",
       "    <tr>\n",
       "      <th>2018.11</th>\n",
       "      <td>65.31</td>\n",
       "      <td>26.29</td>\n",
       "      <td>3.06</td>\n",
       "      <td>2.09</td>\n",
       "      <td>1.16</td>\n",
       "      <td>1.10</td>\n",
       "    </tr>\n",
       "    <tr>\n",
       "      <th>2018.12</th>\n",
       "      <td>68.34</td>\n",
       "      <td>22.31</td>\n",
       "      <td>2.99</td>\n",
       "      <td>2.02</td>\n",
       "      <td>1.11</td>\n",
       "      <td>2.04</td>\n",
       "    </tr>\n",
       "  </tbody>\n",
       "</table>\n",
       "</div>"
      ],
      "text/plain": [
       "         Chrome     IE  Edge  Safari  Whale Browser  Firefox\n",
       "date                                                        \n",
       "2018.08   59.12  31.06  2.97    2.52           1.36     1.26\n",
       "2018.09   61.95  27.84  3.16    2.19           1.27     2.57\n",
       "2018.10   62.05  28.36  3.35    2.43           1.28     1.36\n",
       "2018.11   65.31  26.29  3.06    2.09           1.16     1.10\n",
       "2018.12   68.34  22.31  2.99    2.02           1.11     2.04"
      ]
     },
     "execution_count": 31,
     "metadata": {},
     "output_type": "execute_result"
    }
   ],
   "source": [
    "# 점유율이 미미한 브라우져들은 묶어서 기타로 만들어 줌\n",
    "cols = df.columns\n",
    "web_df = df[cols[:6]].copy()\n",
    "web_df.head()"
   ]
  },
  {
   "cell_type": "code",
   "execution_count": 33,
   "metadata": {},
   "outputs": [],
   "source": [
    "web_df['etc'] = df[cols[6:]].sum(axis=1)"
   ]
  },
  {
   "cell_type": "code",
   "execution_count": 34,
   "metadata": {},
   "outputs": [
    {
     "data": {
      "text/html": [
       "<div>\n",
       "<style scoped>\n",
       "    .dataframe tbody tr th:only-of-type {\n",
       "        vertical-align: middle;\n",
       "    }\n",
       "\n",
       "    .dataframe tbody tr th {\n",
       "        vertical-align: top;\n",
       "    }\n",
       "\n",
       "    .dataframe thead th {\n",
       "        text-align: right;\n",
       "    }\n",
       "</style>\n",
       "<table border=\"1\" class=\"dataframe\">\n",
       "  <thead>\n",
       "    <tr style=\"text-align: right;\">\n",
       "      <th></th>\n",
       "      <th>Chrome</th>\n",
       "      <th>IE</th>\n",
       "      <th>Edge</th>\n",
       "      <th>Safari</th>\n",
       "      <th>Whale Browser</th>\n",
       "      <th>Firefox</th>\n",
       "      <th>etc</th>\n",
       "    </tr>\n",
       "    <tr>\n",
       "      <th>date</th>\n",
       "      <th></th>\n",
       "      <th></th>\n",
       "      <th></th>\n",
       "      <th></th>\n",
       "      <th></th>\n",
       "      <th></th>\n",
       "      <th></th>\n",
       "    </tr>\n",
       "  </thead>\n",
       "  <tbody>\n",
       "    <tr>\n",
       "      <th>2018.08</th>\n",
       "      <td>59.12</td>\n",
       "      <td>31.06</td>\n",
       "      <td>2.97</td>\n",
       "      <td>2.52</td>\n",
       "      <td>1.36</td>\n",
       "      <td>1.26</td>\n",
       "      <td>1.68</td>\n",
       "    </tr>\n",
       "    <tr>\n",
       "      <th>2018.09</th>\n",
       "      <td>61.95</td>\n",
       "      <td>27.84</td>\n",
       "      <td>3.16</td>\n",
       "      <td>2.19</td>\n",
       "      <td>1.27</td>\n",
       "      <td>2.57</td>\n",
       "      <td>1.00</td>\n",
       "    </tr>\n",
       "    <tr>\n",
       "      <th>2018.10</th>\n",
       "      <td>62.05</td>\n",
       "      <td>28.36</td>\n",
       "      <td>3.35</td>\n",
       "      <td>2.43</td>\n",
       "      <td>1.28</td>\n",
       "      <td>1.36</td>\n",
       "      <td>1.14</td>\n",
       "    </tr>\n",
       "    <tr>\n",
       "      <th>2018.11</th>\n",
       "      <td>65.31</td>\n",
       "      <td>26.29</td>\n",
       "      <td>3.06</td>\n",
       "      <td>2.09</td>\n",
       "      <td>1.16</td>\n",
       "      <td>1.10</td>\n",
       "      <td>0.98</td>\n",
       "    </tr>\n",
       "    <tr>\n",
       "      <th>2018.12</th>\n",
       "      <td>68.34</td>\n",
       "      <td>22.31</td>\n",
       "      <td>2.99</td>\n",
       "      <td>2.02</td>\n",
       "      <td>1.11</td>\n",
       "      <td>2.04</td>\n",
       "      <td>1.17</td>\n",
       "    </tr>\n",
       "    <tr>\n",
       "      <th>2019.01</th>\n",
       "      <td>70.46</td>\n",
       "      <td>21.05</td>\n",
       "      <td>2.99</td>\n",
       "      <td>2.07</td>\n",
       "      <td>1.14</td>\n",
       "      <td>1.15</td>\n",
       "      <td>1.10</td>\n",
       "    </tr>\n",
       "    <tr>\n",
       "      <th>2019.02</th>\n",
       "      <td>70.63</td>\n",
       "      <td>20.71</td>\n",
       "      <td>2.68</td>\n",
       "      <td>2.53</td>\n",
       "      <td>1.22</td>\n",
       "      <td>1.21</td>\n",
       "      <td>1.00</td>\n",
       "    </tr>\n",
       "    <tr>\n",
       "      <th>2019.03</th>\n",
       "      <td>63.35</td>\n",
       "      <td>25.42</td>\n",
       "      <td>3.81</td>\n",
       "      <td>3.16</td>\n",
       "      <td>1.65</td>\n",
       "      <td>1.49</td>\n",
       "      <td>1.11</td>\n",
       "    </tr>\n",
       "    <tr>\n",
       "      <th>2019.04</th>\n",
       "      <td>63.63</td>\n",
       "      <td>24.65</td>\n",
       "      <td>4.08</td>\n",
       "      <td>3.11</td>\n",
       "      <td>1.64</td>\n",
       "      <td>1.61</td>\n",
       "      <td>1.27</td>\n",
       "    </tr>\n",
       "    <tr>\n",
       "      <th>2019.05</th>\n",
       "      <td>63.42</td>\n",
       "      <td>24.03</td>\n",
       "      <td>4.51</td>\n",
       "      <td>2.75</td>\n",
       "      <td>1.60</td>\n",
       "      <td>1.90</td>\n",
       "      <td>1.75</td>\n",
       "    </tr>\n",
       "    <tr>\n",
       "      <th>2019.06</th>\n",
       "      <td>65.71</td>\n",
       "      <td>21.46</td>\n",
       "      <td>4.11</td>\n",
       "      <td>2.77</td>\n",
       "      <td>1.67</td>\n",
       "      <td>2.03</td>\n",
       "      <td>2.23</td>\n",
       "    </tr>\n",
       "    <tr>\n",
       "      <th>2019.07</th>\n",
       "      <td>67.93</td>\n",
       "      <td>19.04</td>\n",
       "      <td>4.04</td>\n",
       "      <td>2.71</td>\n",
       "      <td>1.86</td>\n",
       "      <td>1.74</td>\n",
       "      <td>2.65</td>\n",
       "    </tr>\n",
       "  </tbody>\n",
       "</table>\n",
       "</div>"
      ],
      "text/plain": [
       "         Chrome     IE  Edge  Safari  Whale Browser  Firefox   etc\n",
       "date                                                              \n",
       "2018.08   59.12  31.06  2.97    2.52           1.36     1.26  1.68\n",
       "2018.09   61.95  27.84  3.16    2.19           1.27     2.57  1.00\n",
       "2018.10   62.05  28.36  3.35    2.43           1.28     1.36  1.14\n",
       "2018.11   65.31  26.29  3.06    2.09           1.16     1.10  0.98\n",
       "2018.12   68.34  22.31  2.99    2.02           1.11     2.04  1.17\n",
       "2019.01   70.46  21.05  2.99    2.07           1.14     1.15  1.10\n",
       "2019.02   70.63  20.71  2.68    2.53           1.22     1.21  1.00\n",
       "2019.03   63.35  25.42  3.81    3.16           1.65     1.49  1.11\n",
       "2019.04   63.63  24.65  4.08    3.11           1.64     1.61  1.27\n",
       "2019.05   63.42  24.03  4.51    2.75           1.60     1.90  1.75\n",
       "2019.06   65.71  21.46  4.11    2.77           1.67     2.03  2.23\n",
       "2019.07   67.93  19.04  4.04    2.71           1.86     1.74  2.65"
      ]
     },
     "execution_count": 34,
     "metadata": {},
     "output_type": "execute_result"
    }
   ],
   "source": [
    "web_df"
   ]
  },
  {
   "cell_type": "code",
   "execution_count": 51,
   "metadata": {},
   "outputs": [
    {
     "data": {
      "image/png": "[encoded data removed]",
      "text/plain": [
       "<Figure size 1000x1000 with 1 Axes>"
      ]
     },
     "metadata": {},
     "output_type": "display_data"
    }
   ],
   "source": [
    "# 2018.08 점유율\n",
    "plt.figure(figsize=(10, 10))\n",
    "plt.pie(web_df.loc['2018.08'], \n",
    "        labels=web_df.columns,\n",
    "        autopct = '%0.2f%%',\n",
    "        textprops={'fontsize':10},\n",
    "        pctdistance=0.85,  # 퍼센트 text의 위치. 중심점: 0, 경계선: 1\n",
    "        labeldistance=1.05 # 라벨 text의 위치. 중심점: 0, 경계선: 1\n",
    "       )\n",
    "\n",
    "plt.show()"
   ]
  },
  {
   "cell_type": "code",
   "execution_count": 39,
   "metadata": {},
   "outputs": [
    {
     "data": {
      "text/plain": [
       "Chrome           59.12\n",
       "IE               31.06\n",
       "Edge              2.97\n",
       "Safari            2.52\n",
       "Whale Browser     1.36\n",
       "Firefox           1.26\n",
       "etc               1.68\n",
       "Name: 2018.08, dtype: float64"
      ]
     },
     "execution_count": 39,
     "metadata": {},
     "output_type": "execute_result"
    }
   ],
   "source": [
    "web_df.loc['2018.08']"
   ]
  },
  {
   "cell_type": "code",
   "execution_count": 60,
   "metadata": {
    "scrolled": true
   },
   "outputs": [
    {
     "data": {
      "image/png": "[encoded data removed]",
      "text/plain": [
       "<Figure size 700x700 with 1 Axes>"
      ]
     },
     "metadata": {},
     "output_type": "display_data"
    }
   ],
   "source": [
    "# label을 legendfh cjfl\n",
    "plt.figure(figsize=(7, 7))\n",
    "# wedge: 파이조각객체들,\n",
    "# texts: 라벨과 그 위치 -> text객체\n",
    "# autotext: 퍼센트 문자열들과 위치 -> Text객체\n",
    "\n",
    "wedge, tests, autotexts = plt.pie(web_df.loc['2018.08'], \n",
    "                                  autopct = '%0.2f%%',\n",
    "                                  textprops={'fontsize':10},\n",
    "                                 )\n",
    "plt.legend(wedge, web_df.columns,\n",
    "           bbox_to_anchor=(1, 0.9), loc='upper left',\n",
    "           title='웹 브라우저', fontsize=10) # \n",
    "plt.show()"
   ]
  },
  {
   "cell_type": "markdown",
   "metadata": {},
   "source": [
    "# 5 히스토그램(Histogram) 그리기\n",
    "## 5.1 히스토그램\n",
    "\n",
    "- 도수 분포표를 그래프로 나타낸 것.\n",
    "    - 도수분포표: 연속형 자료를 특정 구간(bin)으로 나눠 그 빈도를 나타낸 표\n",
    "        - 빈도 확인이나 **분포**를 볼때 사용한다.\n",
    "    - X축: 계급(변수구간)의 대표값, Y축: 빈도수\n",
    "- `hist(data [, bins=계급개수)` 메소드를 사용\n",
    "    - data: 리스트형의 객체를 전달한다."
   ]
  },
  {
   "cell_type": "code",
   "execution_count": null,
   "metadata": {},
   "outputs": [],
   "source": []
  },
  {
   "cell_type": "code",
   "execution_count": null,
   "metadata": {},
   "outputs": [],
   "source": []
  },
  {
   "cell_type": "code",
   "execution_count": null,
   "metadata": {},
   "outputs": [],
   "source": []
  },
  {
   "cell_type": "code",
   "execution_count": null,
   "metadata": {},
   "outputs": [],
   "source": []
  },
  {
   "cell_type": "code",
   "execution_count": null,
   "metadata": {},
   "outputs": [],
   "source": []
  },
  {
   "cell_type": "markdown",
   "metadata": {},
   "source": [
    "## 5.2 히스토그램 활용\n",
    "- tips.csv\n",
    "    - 식당에서 팁을 지불한 손님의 정보를 모아둔 데이터 셋    "
   ]
  },
  {
   "cell_type": "code",
   "execution_count": null,
   "metadata": {},
   "outputs": [],
   "source": []
  },
  {
   "cell_type": "code",
   "execution_count": null,
   "metadata": {},
   "outputs": [],
   "source": []
  },
  {
   "cell_type": "markdown",
   "metadata": {},
   "source": [
    "### total_bill 의 분포를 시각화"
   ]
  },
  {
   "cell_type": "code",
   "execution_count": null,
   "metadata": {},
   "outputs": [],
   "source": []
  },
  {
   "cell_type": "code",
   "execution_count": null,
   "metadata": {},
   "outputs": [],
   "source": []
  },
  {
   "cell_type": "code",
   "execution_count": null,
   "metadata": {},
   "outputs": [],
   "source": []
  },
  {
   "cell_type": "code",
   "execution_count": null,
   "metadata": {},
   "outputs": [],
   "source": []
  },
  {
   "cell_type": "code",
   "execution_count": null,
   "metadata": {},
   "outputs": [],
   "source": []
  },
  {
   "cell_type": "markdown",
   "metadata": {},
   "source": [
    "# 6. 상자그래프(Boxplot) 그리기\n",
    "## 6.1 상자그래프란\n",
    "- 연속형 값들의 사분위수, 극단값들을 이용해 값들의 분포를 시각화한다.\n",
    "- boxplot(x, whis=1.5)\n",
    "    - x: 데이터셋\n",
    "    - whis: 극단치 계산시 사용할 값(기본 1.5)\n",
    "        - IQR을 이용해 극단치 계산하기\n",
    "            - IQR(Inter Quatile Range): $3분위수 - 1분위수$ 로 중간 50%값의 범위\n",
    "            - 극단적으로 작은값: 1분위 - $IQR(3분위수-1분위수) * whis$   보다 작은 값들\n",
    "            - 극단적으로 큰값: 3분위 + $IQR(3분위수-1분위수) * whis$  보다 큰 값들"
   ]
  },
  {
   "cell_type": "code",
   "execution_count": null,
   "metadata": {},
   "outputs": [],
   "source": []
  },
  {
   "cell_type": "code",
   "execution_count": null,
   "metadata": {},
   "outputs": [],
   "source": []
  },
  {
   "cell_type": "markdown",
   "metadata": {},
   "source": [
    "## 상자그래프 활용\n",
    "- tips_df 에서 tip의 분포를 상자그래프로 확인"
   ]
  },
  {
   "cell_type": "code",
   "execution_count": null,
   "metadata": {},
   "outputs": [],
   "source": []
  },
  {
   "cell_type": "code",
   "execution_count": null,
   "metadata": {},
   "outputs": [],
   "source": []
  },
  {
   "cell_type": "markdown",
   "metadata": {
    "ExecuteTime": {
     "end_time": "2019-06-04T20:34:30.368466Z",
     "start_time": "2019-06-04T20:34:30.363449Z"
    }
   },
   "source": [
    "- 남녀별 tip의 분포를 하나의 boxplot에서 그려 비교\n",
    "- 한 그래프에서 여러 데이터셋의 boxplot을 그리기.\n",
    "    - 2차원 배열형태의 구조로로 데이터를 제공\n",
    "    - 행(axis=0) 별로 그래프를 그린다."
   ]
  },
  {
   "cell_type": "code",
   "execution_count": null,
   "metadata": {},
   "outputs": [],
   "source": []
  },
  {
   "cell_type": "code",
   "execution_count": null,
   "metadata": {},
   "outputs": [],
   "source": []
  },
  {
   "cell_type": "code",
   "execution_count": null,
   "metadata": {},
   "outputs": [],
   "source": []
  },
  {
   "cell_type": "code",
   "execution_count": null,
   "metadata": {},
   "outputs": [],
   "source": []
  },
  {
   "cell_type": "code",
   "execution_count": null,
   "metadata": {},
   "outputs": [],
   "source": []
  },
  {
   "cell_type": "code",
   "execution_count": null,
   "metadata": {},
   "outputs": [],
   "source": []
  },
  {
   "cell_type": "code",
   "execution_count": null,
   "metadata": {},
   "outputs": [],
   "source": []
  }
 ],
 "metadata": {
  "kernelspec": {
   "display_name": "Python 3 (ipykernel)",
   "language": "python",
   "name": "python3"
  },
  "language_info": {
   "codemirror_mode": {
    "name": "ipython",
    "version": 3
   },
   "file_extension": ".py",
   "mimetype": "text/x-python",
   "name": "python",
   "nbconvert_exporter": "python",
   "pygments_lexer": "ipython3",
   "version": "3.11.4"
  },
  "toc": {
   "base_numbering": 1,
   "nav_menu": {},
   "number_sections": false,
   "sideBar": false,
   "skip_h1_title": false,
   "title_cell": "Table of Contents",
   "title_sidebar": "Contents",
   "toc_cell": false,
   "toc_position": {},
   "toc_section_display": true,
   "toc_window_display": false
  },
  "varInspector": {
   "cols": {
    "lenName": 16,
    "lenType": 16,
    "lenVar": 40
   },
   "kernels_config": {
    "python": {
     "delete_cmd_postfix": "",
     "delete_cmd_prefix": "del ",
     "library": "var_list.py",
     "varRefreshCmd": "print(var_dic_list())"
    },
    "r": {
     "delete_cmd_postfix": ") ",
     "delete_cmd_prefix": "rm(",
     "library": "var_list.r",
     "varRefreshCmd": "cat(var_dic_list()) "
    }
   },
   "types_to_exclude": [
    "module",
    "function",
    "builtin_function_or_method",
    "instance",
    "_Feature"
   ],
   "window_display": false
  }
 },
 "nbformat": 4,
 "nbformat_minor": 4
}
